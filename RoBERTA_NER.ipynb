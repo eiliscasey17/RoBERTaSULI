{
 "cells": [
  {
   "cell_type": "raw",
   "metadata": {
    "id": "ePokOkwMP9rm"
   },
   "source": [
    "# Install and import libraries"
   ]
  },
  {
   "cell_type": "code",
   "execution_count": 1,
   "metadata": {
    "id": "huXbO1hpiBfz"
   },
   "outputs": [
    {
     "name": "stderr",
     "output_type": "stream",
     "text": [
      "2023-07-18 11:20:17.046435: I tensorflow/core/platform/cpu_feature_guard.cc:182] This TensorFlow binary is optimized to use available CPU instructions in performance-critical operations.\n",
      "To enable the following instructions: AVX2 AVX512F FMA, in other operations, rebuild TensorFlow with the appropriate compiler flags.\n",
      "2023-07-18 11:20:17.566706: W tensorflow/compiler/tf2tensorrt/utils/py_utils.cc:38] TF-TRT Warning: Could not find TensorRT\n"
     ]
    }
   ],
   "source": [
    "import pandas as pd\n",
    "import numpy as np\n",
    "from tqdm import tqdm, trange\n",
    "import csv\n",
    "import matplotlib.pyplot as plt\n",
    "%matplotlib inline\n",
    "import seaborn as sns\n",
    "import statistics\n",
    "\n",
    "import torch\n",
    "from torch.utils.data import TensorDataset, DataLoader, RandomSampler, SequentialSampler\n",
    "\n",
    "\n",
    "from keras_preprocessing.sequence import pad_sequences\n",
    "from sklearn.model_selection import train_test_split\n",
    "\n",
    "import transformers\n",
    "from transformers import get_linear_schedule_with_warmup\n",
    "from seqeval.metrics import f1_score, accuracy_score\n",
    "\n",
    "# from transformers import BertTokenizer, BertConfig\n",
    "# from transformers import BertForTokenClassification, AdamW\n",
    "\n",
    "from transformers import RobertaConfig, RobertaModel\n",
    "from transformers import RobertaTokenizer, RobertaForTokenClassification, AutoTokenizer, AdamW\n"
   ]
  },
  {
   "cell_type": "markdown",
   "metadata": {
    "id": "RitZN9B6RdGR"
   },
   "source": [
    "# Check GPU availability"
   ]
  },
  {
   "cell_type": "code",
   "execution_count": 2,
   "metadata": {
    "colab": {
     "base_uri": "https://localhost:8080/",
     "height": 35
    },
    "id": "bqXRG3DM10am",
    "outputId": "a09e99a5-a6f5-4a23-9e70-91b450061ee6"
   },
   "outputs": [
    {
     "data": {
      "text/plain": [
       "'NVIDIA GeForce RTX 2080 Ti'"
      ]
     },
     "execution_count": 2,
     "metadata": {},
     "output_type": "execute_result"
    }
   ],
   "source": [
    "device = torch.device(\"cuda\" if torch.cuda.is_available() else \"cpu\")\n",
    "n_gpu = torch.cuda.device_count()\n",
    "torch.cuda.get_device_name(0)"
   ]
  },
  {
   "cell_type": "markdown",
   "metadata": {
    "id": "oE4OVxV1LLH1"
   },
   "source": [
    "# **Preprocessing data**"
   ]
  },
  {
   "cell_type": "code",
   "execution_count": 3,
   "metadata": {
    "colab": {
     "base_uri": "https://localhost:8080/"
    },
    "id": "UwdutbL7A3zt",
    "outputId": "e1f76707-19c3-47d3-db09-4705663a4702",
    "scrolled": false
   },
   "outputs": [],
   "source": [
    "# Reading data\n",
    "import json\n",
    "\n",
    "\n",
    "#open the file, and format correctly\n",
    "f =open('dataset.jsonl', 'r')\n",
    "json_object = json.dumps(f.readlines(), indent=4)\n",
    "f.close()\n",
    "\n",
    "#save better format into file\n",
    "p = open('sample.txt', 'w')\n",
    "for i in json_object:\n",
    "    p.write(i)\n",
    "p.close()\n",
    "\n",
    "#open new file, and save each \n",
    "j = open('sample.txt', 'r')\n",
    "text = json.loads(j.read())\n",
    "j.close()\n",
    "\n",
    "#compile all json dicts into a list\n",
    "info = []\n",
    "for i in text:\n",
    "    info.append(json.loads(str(i)))\n",
    "    "
   ]
  },
  {
   "cell_type": "code",
   "execution_count": 4,
   "metadata": {
    "colab": {
     "base_uri": "https://localhost:8080/",
     "height": 66,
     "referenced_widgets": [
      "90bfea074fb74029988d843be156887d",
      "a73c84059bc649f8b21c25f32662de32",
      "2042a2bd748246de8e33be4c188715ca",
      "79e1052f1ce14de09b93b29f36fcdf26",
      "b14647f6aae14ecc8a519df754f03037",
      "d1144a9b389f47df90b5c127031bfd3a",
      "5cd5dba2aea04e8ab8f4d6571e1d8ad7",
      "f8753b1167d24669982f270213629a70"
     ]
    },
    "id": "qhpKOKSr136j",
    "outputId": "3d599ff1-d06d-43ec-cf91-053d8f241bdf"
   },
   "outputs": [],
   "source": [
    "# To use the BERT, you must use the BERT Tokenizer\n",
    "tokenizer = AutoTokenizer.from_pretrained(\"Jean-Baptiste/roberta-large-ner-english\")\n"
   ]
  },
  {
   "cell_type": "code",
   "execution_count": 5,
   "metadata": {},
   "outputs": [],
   "source": [
    "def degreekify(char):\n",
    "    #char will be a character\n",
    "    greek = {'α': '[alpha]', 'β':'[beta]', 'γ': '[gamma]', 'δ':'[delta]', 'ε': '[epsilon]', 'ζ':'[zeta]', 'η': '[eta]',\n",
    "            'θ':'[theta]', 'ι': '[iota]', 'κ':'[kappa]', 'λ':'[lambda]', 'μ': '[mu]', 'ν':'[nu]', 'ξ':'[xi]', 'ο':'[omicron]', 'π':'[pi]', 'ρ':'[rho]',\n",
    "            'σ': '[sigma]', 'τ': '[tau]', 'υ':'[upsilon]', 'φ':'[phi]', 'χ':'[chi]', 'ψ':'[psi]', 'ω':'[omega]' }\n",
    "    if char in greek:\n",
    "        return greek[char]\n",
    "    else:\n",
    "        return char"
   ]
  },
  {
   "cell_type": "code",
   "execution_count": 6,
   "metadata": {},
   "outputs": [],
   "source": [
    "def pre_process(text, annotations):\n",
    "    #text will be the straight sentence, info[i]['text']\n",
    "    #annotations will be the list of labels, must be info[i]['annotations']\n",
    "    \n",
    "    text_dict = []\n",
    "    \n",
    "    for i in range(len(text)):\n",
    "        text_dict.append(degreekify(text[i]))\n",
    "    \n",
    "    \n",
    "    \n",
    "    ann_indices = []\n",
    "    def fun(x):\n",
    "        return x['start_offset']\n",
    "    annotations.sort(key=fun)\n",
    "    \n",
    "    \n",
    "    \n",
    "    if len(annotations)==0:\n",
    "        ann_indices.append([[0, len(text)],0])\n",
    "    else:\n",
    "        ann_indices.append([[0, annotations[0]['start_offset']], 0])\n",
    "        for i in range(len(annotations)-1):\n",
    "            ann_indices.append([[annotations[i]['start_offset'], annotations[i]['end_offset']], annotations[i]['label']])\n",
    "            ann_indices.append([[annotations[i]['end_offset'], annotations[i+1]['start_offset']], 0])\n",
    "            \n",
    "        ann_indices.append([[annotations[-1]['start_offset'], annotations[-1]['end_offset']], annotations[-1]['label']])\n",
    "        ann_indices.append([[annotations[-1]['end_offset'], len(text)], 0])\n",
    "         \n",
    "    \n",
    "    labels = []\n",
    "    sentences = []\n",
    "    for a in ann_indices:\n",
    "        \n",
    "        if a[0][1]-a[0][0] !=0:\n",
    "            together = ''\n",
    "            for i in range(a[0][0], a[0][1]):\n",
    "                together += text_dict[i]\n",
    "                \n",
    "            toke = together.split()\n",
    "            sentences.extend(toke)\n",
    "            t = len(toke)\n",
    "            if t != 0:\n",
    "                temp = [data_tags[2 * a[1]]] * t\n",
    "                if a[1] != 0:\n",
    "                    temp[0] = data_tags[2 * a[1]-1]\n",
    "                labels.extend(temp)\n",
    " \n",
    "    return labels, sentences"
   ]
  },
  {
   "cell_type": "code",
   "execution_count": 7,
   "metadata": {},
   "outputs": [],
   "source": [
    "#create labels\n",
    "data_tags = ['0','C', 'C-cont' , 'M', 'M-cont', 'Q', 'Q-cont', 'T' , 'T-cont', 'A' , 'A-cont', 'R', 'R-cont']\n",
    "\n",
    "sentences, labels = [], []\n",
    "\n",
    "for i in range(len(info)):\n",
    "    l,s = pre_process(info[i]['text'], info[i]['annotations'])\n",
    "    if len(l) != len(s):\n",
    "        print('fuck')\n",
    "    else:\n",
    "        labels.append(l)\n",
    "        sentences.append(s)"
   ]
  },
  {
   "cell_type": "code",
   "execution_count": 8,
   "metadata": {
    "colab": {
     "base_uri": "https://localhost:8080/"
    },
    "id": "kXahgP-Vao7q",
    "outputId": "1b6313f7-b619-4a2b-e714-8f585a8f3b50"
   },
   "outputs": [
    {
     "name": "stdout",
     "output_type": "stream",
     "text": [
      "0 The\n",
      "0 influence\n",
      "0 of\n",
      "R [gamma]-radiation\n",
      "0 on\n",
      "0 the\n",
      "0 physical\n",
      "0 characteristics\n",
      "0 and\n",
      "0 sorption\n",
      "0 properties\n",
      "0 for\n",
      "M Am\n",
      "0 of\n",
      "0 the\n",
      "0 solid\n",
      "0 extractant\n",
      "C AXIONIT\n",
      "C-cont MND\n",
      "C-cont 40T\n",
      "0 (\n",
      "C TVEX\n",
      "0 )\n",
      "0 synthesized\n",
      "0 by\n",
      "0 Axion-Rare\n",
      "0 and\n",
      "0 Noble\n",
      "0 Metals\n",
      "0 JSC\n",
      "0 (Perm)\n",
      "0 was\n",
      "0 studied.\n",
      "0 With\n",
      "0 an\n",
      "0 increase\n",
      "0 of\n",
      "0 the\n",
      "0 absorbed\n",
      "0 dose\n",
      "0 of\n",
      "R [gamma]-radiation\n",
      "0 ,\n",
      "0 the\n",
      "0 granulometric\n",
      "0 composition,\n",
      "0 bulk\n",
      "0 density,\n",
      "0 and\n",
      "0 specific\n",
      "0 volume\n",
      "0 of\n",
      "C TVEX\n",
      "0 change\n",
      "0 insignificantly.\n",
      "0 The\n",
      "0 IR\n",
      "0 spectra\n",
      "0 of\n",
      "C TVEX\n",
      "0 demonstrate\n",
      "0 significant\n",
      "0 radiation\n",
      "0 degradation\n",
      "0 at\n",
      "0 an\n",
      "0 absorbed\n",
      "0 radiation\n",
      "0 dose\n",
      "0 from\n",
      "Q 1.4\n",
      "Q-cont to\n",
      "Q-cont 2.5\n",
      "Q-cont MGy\n",
      "0 .\n",
      "C TVEX\n",
      "0 is\n",
      "0 an\n",
      "0 effective\n",
      "M Am\n",
      "0 sorbent\n",
      "0 when\n",
      "0 irradiated\n",
      "0 to\n",
      "0 an\n",
      "0 absorbed\n",
      "R [gamma]-radiation\n",
      "0 dose\n",
      "0 of\n",
      "0 no\n",
      "0 more\n",
      "0 than\n",
      "Q 0.6\n",
      "Q-cont MGy\n",
      "0 .\n",
      "0 At\n",
      "0 an\n",
      "0 irradiation\n",
      "0 dose\n",
      "0 of\n",
      "Q 2.5\n",
      "Q-cont MGy\n",
      "0 sorption\n",
      "0 capacity\n",
      "0 is\n",
      "0 significantly\n",
      "0 reduced.\n",
      "0 Basic\n",
      "0 physicochemical\n",
      "0 properties\n",
      "0 of\n",
      "0 the\n",
      "C TVEX\n",
      "0 sample\n",
      "0 used\n",
      "0 in\n",
      "0 the\n",
      "0 work\n",
      "0 are\n",
      "0 given\n",
      "0 in\n",
      "0 Table\n",
      "0 1.\n",
      "C TVEX\n",
      "0 was\n",
      "0 synthesized\n",
      "0 by\n",
      "0 copolymerization\n",
      "0 of\n",
      "C styrene\n",
      "0 with\n",
      "C divinylbenzene\n",
      "0 in\n",
      "0 the\n",
      "0 presence\n",
      "0 of\n",
      "0 the\n",
      "0 active\n",
      "0 component\n",
      "0 (extractant)\n",
      "A N,N,Nꞌ,Nꞌ-tetra-n-octylamide\n",
      "A-cont diglycolic\n",
      "A-cont acid\n",
      "Q (40\n",
      "Q-cont wt%)\n",
      "0 and\n",
      "0 solvent.\n",
      "0 Before\n",
      "0 irradiation,\n",
      "C TVEX\n",
      "0 samples\n",
      "0 were\n",
      "0 kept\n",
      "0 in\n",
      "C distilled\n",
      "C-cont water\n",
      "0 until\n",
      "0 complete\n",
      "0 swelling\n",
      "0 and\n",
      "0 then\n",
      "0 in\n",
      "0 a\n",
      "Q 5.0\n",
      "Q-cont M\n",
      "A HNO3\n",
      "0 solution\n",
      "0 for\n",
      "T 24\n",
      "T-cont h\n",
      "0 .\n",
      "0 To\n",
      "0 study\n",
      "0 the\n",
      "0 radiation\n",
      "0 resistance,\n",
      "0 the\n",
      "0 prepared\n",
      "C TVEX\n",
      "0 samples\n",
      "0 were\n",
      "0 irradiated\n",
      "0 on\n",
      "0 the\n",
      "0 Issledovatel’\n",
      "0 unit\n",
      "0 with\n",
      "0 a\n",
      "M 60Co\n",
      "0 -radiation\n",
      "0 source\n",
      "0 at\n",
      "0 a\n",
      "0 dose\n",
      "0 rate\n",
      "0 of\n",
      "Q 0.14\n",
      "Q-cont Gy/s\n",
      "0 at\n",
      "0 room\n",
      "0 temperature\n",
      "0 until\n",
      "0 the\n",
      "0 absorbed\n",
      "0 dose\n",
      "Q 0.6,\n",
      "Q-cont 1.4,\n",
      "Q-cont and\n",
      "Q-cont 2.5\n",
      "Q-cont MGy\n",
      "0 was\n",
      "0 received.\n",
      "0 The\n",
      "0 irradiation\n",
      "0 of\n",
      "C TVEX\n",
      "0 samples\n",
      "0 was\n",
      "0 performed\n",
      "0 in\n",
      "0 a\n",
      "Q 5.0\n",
      "Q-cont M\n",
      "A HNO3\n",
      "0 solution,\n",
      "0 since\n",
      "0 under\n",
      "0 real\n",
      "0 production\n",
      "0 conditions,\n",
      "0 the\n",
      "0 radiation\n",
      "0 field\n",
      "0 affects\n",
      "0 not\n",
      "0 only\n",
      "0 the\n",
      "0 sorbent,\n",
      "0 but\n",
      "0 also\n",
      "0 the\n",
      "0 sorbent–solution\n",
      "0 system.\n",
      "0 Upon\n",
      "0 irradiation\n",
      "0 of\n",
      "0 such\n",
      "0 a\n",
      "0 complex\n",
      "0 heterogeneous\n",
      "0 system,\n",
      "0 in\n",
      "0 addition\n",
      "0 to\n",
      "0 the\n",
      "0 direct\n",
      "0 radiation\n",
      "0 effect\n",
      "0 on\n",
      "0 the\n",
      "0 sorbent,\n",
      "0 an\n",
      "0 indirect\n",
      "0 effect\n",
      "0 is\n",
      "0 also\n",
      "0 observed,\n",
      "0 which\n",
      "0 consists\n",
      "0 in\n",
      "0 the\n",
      "0 fact\n",
      "0 that\n",
      "0 the\n",
      "0 interaction\n",
      "0 of\n",
      "0 the\n",
      "0 products\n",
      "0 of\n",
      "0 radiolysis\n",
      "0 of\n",
      "0 an\n",
      "0 aqueous\n",
      "0 solution\n",
      "0 with\n",
      "0 the\n",
      "0 sorbent,\n",
      "0 as\n",
      "0 a\n",
      "0 rule,\n",
      "0 enhances\n",
      "0 radiation-chemical\n",
      "0 damage\n",
      "0 and\n",
      "0 leads\n",
      "0 to\n",
      "0 a\n",
      "0 significant\n",
      "0 decrease\n",
      "0 in\n",
      "0 the\n",
      "0 radiation\n",
      "0 resistance\n",
      "0 of\n",
      "0 the\n",
      "0 sorbent\n",
      "0 compared\n",
      "0 to\n",
      "0 irradiation\n",
      "0 in\n",
      "0 the\n",
      "0 dry\n",
      "0 state\n",
      "0 [7].\n"
     ]
    }
   ],
   "source": [
    "\n",
    "for i in range(5):\n",
    "    s, l = sentences[i], labels[i]\n",
    "    if len(l) != len(s):\n",
    "        print('fuck')\n",
    "    else:\n",
    "        for j in range(len(l)):\n",
    "            print(l[j],s[j])\n",
    "    "
   ]
  },
  {
   "cell_type": "code",
   "execution_count": 9,
   "metadata": {
    "id": "iipz8_yRZ39E"
   },
   "outputs": [
    {
     "name": "stdout",
     "output_type": "stream",
     "text": [
      "['0', 'C', 'C-cont', 'M', 'M-cont', 'Q', 'Q-cont', 'T', 'T-cont', 'A', 'A-cont', 'R', 'R-cont']\n",
      "['0', 'C', 'C-cont', 'M', 'M-cont', 'Q', 'Q-cont', 'T', 'T-cont', 'A', 'A-cont', 'R', 'R-cont', 'PAD']\n",
      "{'0': 0, 'C': 1, 'C-cont': 2, 'M': 3, 'M-cont': 4, 'Q': 5, 'Q-cont': 6, 'T': 7, 'T-cont': 8, 'A': 9, 'A-cont': 10, 'R': 11, 'R-cont': 12, 'PAD': 13}\n"
     ]
    }
   ],
   "source": [
    "\n",
    "# Determine the list of tags\n",
    "tag_values = data_tags\n",
    "print(tag_values)\n",
    "\n",
    "tag_values.append(\"PAD\")\n",
    "print(tag_values)\n",
    "\n",
    "tag2idx = {t: i for i, t in enumerate(tag_values)}\n",
    "print(tag2idx)\n",
    "     "
   ]
  },
  {
   "cell_type": "code",
   "execution_count": 10,
   "metadata": {
    "id": "4UEvE5GD19Yp"
   },
   "outputs": [],
   "source": [
    "def tokenize_and_preserve_labels(sentence, text_labels):\n",
    "    tokenized_sentence = []\n",
    "    labels = []\n",
    "\n",
    "    for word, label in zip(sentence, text_labels):\n",
    "\n",
    "        # Tokenize the word and count # of subwords the word is broken into\n",
    "        tokenized_word = tokenizer.tokenize(word)\n",
    "        n_subwords = len(tokenized_word)\n",
    "\n",
    "        # Add the tokenized word to the final tokenized word list\n",
    "        tokenized_sentence.extend(tokenized_word)\n",
    "\n",
    "        # Add the same label to the new list of labels `n_subwords` times\n",
    "        labels.extend([label] * n_subwords)\n",
    "\n",
    "    return tokenized_sentence, labels\n"
   ]
  },
  {
   "cell_type": "code",
   "execution_count": 11,
   "metadata": {
    "id": "SOZqX8q52BOr"
   },
   "outputs": [],
   "source": [
    "tokenized_texts_and_labels = [ tokenize_and_preserve_labels(sent, labs) for sent, labs in zip(sentences, labels)]\n",
    "\n",
    "tokenized_texts = [token_label_pair[0] for token_label_pair in tokenized_texts_and_labels]\n",
    "labels = [token_label_pair[1] for token_label_pair in tokenized_texts_and_labels]"
   ]
  },
  {
   "cell_type": "code",
   "execution_count": 12,
   "metadata": {
    "id": "7pJxaAwrXMCr"
   },
   "outputs": [],
   "source": [
    "# MAX_LEN is the maximum length of a sequence\n",
    "MAX_LEN = 128 # 64 or 128 or ...\n",
    "bs = 6 # batch size\n"
   ]
  },
  {
   "cell_type": "code",
   "execution_count": 13,
   "metadata": {
    "id": "ACWaTEQ12T_q"
   },
   "outputs": [],
   "source": [
    "# Use Padding to equalize the length of sentences\n",
    "input_ids = pad_sequences([tokenizer.convert_tokens_to_ids(txt) for txt in tokenized_texts],\n",
    "                          maxlen=MAX_LEN, dtype=\"long\", value=0.0,\n",
    "                          truncating=\"post\", padding=\"post\")\n",
    "\n",
    "tags = pad_sequences([[tag2idx.get(l) for l in lab] for lab in labels],\n",
    "                     maxlen=MAX_LEN, value=tag2idx[\"PAD\"], padding=\"post\",\n",
    "                     dtype=\"long\", truncating=\"post\")\n",
    "     "
   ]
  },
  {
   "cell_type": "code",
   "execution_count": 14,
   "metadata": {
    "id": "HK8j0_fU2Xc7"
   },
   "outputs": [],
   "source": [
    "# Do not mask values that are zero\n",
    "attention_masks = [[float(i != 0.0) for i in ii] for ii in input_ids]"
   ]
  },
  {
   "cell_type": "code",
   "execution_count": 15,
   "metadata": {
    "id": "8MgKNvMf2e4x"
   },
   "outputs": [
    {
     "name": "stdout",
     "output_type": "stream",
     "text": [
      "<torch.utils.data.sampler.RandomSampler object at 0x7f3cf5386c70>\n"
     ]
    }
   ],
   "source": [
    "# Split data to train and validation. %90 for train and %10 for validation\n",
    "tr_inputs, val_inputs, tr_tags, val_tags = train_test_split(input_ids, tags,\n",
    "                                                            random_state=2018, test_size=0.1)\n",
    "\n",
    "# Each mask contains 10% of a sentence\n",
    "tr_masks, val_masks, _, _ = train_test_split(attention_masks, input_ids,\n",
    "                                             random_state=2018, test_size=0.1)\n",
    "\n",
    "# The input of the BERT should be the tensors produced using PyTorch\n",
    "# So convert all inputs and labels into torch tensors\n",
    "tr_inputs = torch.tensor(tr_inputs)\n",
    "val_inputs = torch.tensor(val_inputs)\n",
    "\n",
    "tr_tags = torch.tensor(tr_tags)\n",
    "val_tags = torch.tensor(val_tags)\n",
    "\n",
    "tr_masks = torch.tensor(tr_masks)\n",
    "val_masks = torch.tensor(val_masks)\n",
    "\n",
    "# Create the DataLoader for our training set\n",
    "train_data = TensorDataset(tr_inputs, tr_masks, tr_tags)\n",
    "train_sampler = RandomSampler(train_data)\n",
    "train_dataloader = DataLoader(train_data, sampler=train_sampler, batch_size=bs)\n",
    "\n",
    "print(train_sampler)\n",
    "\n",
    "# Create the DataLoader for our validation set\n",
    "valid_data = TensorDataset(val_inputs, val_masks, val_tags)\n",
    "valid_sampler = SequentialSampler(valid_data)\n",
    "valid_dataloader = DataLoader(valid_data, sampler=valid_sampler, batch_size=bs)\n"
   ]
  },
  {
   "cell_type": "markdown",
   "metadata": {
    "id": "fIlayjaxK1ac"
   },
   "source": [
    "# **Build model**"
   ]
  },
  {
   "cell_type": "code",
   "execution_count": 16,
   "metadata": {
    "colab": {
     "base_uri": "https://localhost:8080/",
     "height": 218,
     "referenced_widgets": [
      "185d34a6bb6b4439814040da0f2853dc",
      "c1cd492626094c28a241545b0fd13a58",
      "04bec66c474c43b2abf55df9493c1ad3",
      "28c5ada5e413494d875958479bce1bf8",
      "153c7c4195394cd987cd27224c076792",
      "0aa2f68932aa46e08d79b503cdb066d5",
      "e8ccc221de014f9589d4c01db1576bee",
      "a21058481d204b6a98739c21527b9b53",
      "3a57498cc92f475289ed438778ad901a",
      "339741a64cde4ae781225b14a9c2cb76",
      "53b2be4adc4e42879082de9dc5e7e288",
      "93df6238747f46a687b94eaa17a756f2",
      "0e77fed9e8004154922761880363a58f",
      "e51c5802ddc848b68a80aa74f8ac7c81",
      "cf5ab30e45634ad8834f8ba8130e11ad",
      "8c7006c2c348458d881cd0f82191e03c"
     ]
    },
    "id": "wruwJ-wz4HxW",
    "outputId": "193933c8-307c-4f72-92c0-98cabc3f134b",
    "scrolled": true
   },
   "outputs": [
    {
     "name": "stderr",
     "output_type": "stream",
     "text": [
      "Some weights of the model checkpoint at roberta-base were not used when initializing RobertaForTokenClassification: ['lm_head.layer_norm.bias', 'lm_head.dense.bias', 'lm_head.bias', 'lm_head.layer_norm.weight', 'lm_head.dense.weight']\n",
      "- This IS expected if you are initializing RobertaForTokenClassification from the checkpoint of a model trained on another task or with another architecture (e.g. initializing a BertForSequenceClassification model from a BertForPreTraining model).\n",
      "- This IS NOT expected if you are initializing RobertaForTokenClassification from the checkpoint of a model that you expect to be exactly identical (initializing a BertForSequenceClassification model from a BertForSequenceClassification model).\n",
      "Some weights of RobertaForTokenClassification were not initialized from the model checkpoint at roberta-base and are newly initialized: ['classifier.bias', 'classifier.weight']\n",
      "You should probably TRAIN this model on a down-stream task to be able to use it for predictions and inference.\n"
     ]
    }
   ],
   "source": [
    "# Load RoBERTa Model\n",
    "from transformers import AutoTokenizer, AutoModelForTokenClassification\n",
    "model = AutoModelForTokenClassification.from_pretrained(\n",
    "    \"roberta-base\",\n",
    "    num_labels=len(tag2idx), # The number of output labels\n",
    "    output_attentions = False, # Whether the model returns attention weights.\n",
    "    output_hidden_states = False # Whether the model returns all hidden-states.\n",
    "    \n",
    ")"
   ]
  },
  {
   "cell_type": "code",
   "execution_count": 17,
   "metadata": {
    "id": "WybQNyPM4Ks0"
   },
   "outputs": [],
   "source": [
    "# Tell PyTorch to run this model on the GPU\n",
    "model.cuda();"
   ]
  },
  {
   "cell_type": "code",
   "execution_count": 18,
   "metadata": {
    "id": "dhWWhnfV4Vl-"
   },
   "outputs": [
    {
     "name": "stderr",
     "output_type": "stream",
     "text": [
      "/home/ecasey/anaconda3/envs/torch/lib/python3.8/site-packages/transformers/optimization.py:411: FutureWarning: This implementation of AdamW is deprecated and will be removed in a future version. Use the PyTorch implementation torch.optim.AdamW instead, or set `no_deprecation_warning=True` to disable this warning\n",
      "  warnings.warn(\n"
     ]
    }
   ],
   "source": [
    "FULL_FINETUNING = True\n",
    "if FULL_FINETUNING:\n",
    "    param_optimizer = list(model.named_parameters())\n",
    "    no_decay = ['bias', 'gamma', 'beta']\n",
    "    optimizer_grouped_parameters = [\n",
    "        {'params': [p for n, p in param_optimizer if not any(nd in n for nd in no_decay)],\n",
    "         'weight_decay_rate': 0.01},\n",
    "        {'params': [p for n, p in param_optimizer if any(nd in n for nd in no_decay)],\n",
    "         'weight_decay_rate': 0.0}\n",
    "    ]\n",
    "else:\n",
    "    param_optimizer = list(model.classifier.named_parameters())\n",
    "    optimizer_grouped_parameters = [{\"params\": [p for n, p in param_optimizer]}]\n",
    "\n",
    "optimizer = AdamW(\n",
    "    optimizer_grouped_parameters,\n",
    "    lr= 2e-6, # learning-rate default is 3e-5\n",
    "    eps=1e-8 # adam-epsilon default is 1e-8\n",
    ")\n"
   ]
  },
  {
   "cell_type": "code",
   "execution_count": 19,
   "metadata": {
    "id": "oKuYyYbY4dJP"
   },
   "outputs": [],
   "source": [
    "epochs = 150\n",
    "\n",
    "max_grad_norm = 1.0\n",
    "\n",
    "# Total number of training steps is number of batches * number of epochs.\n",
    "total_steps = len(train_dataloader) * epochs\n",
    "\n",
    "# Create the learning rate scheduler.\n",
    "scheduler = get_linear_schedule_with_warmup(\n",
    "    optimizer,\n",
    "    num_warmup_steps=30,\n",
    "    num_training_steps=total_steps\n",
    ")"
   ]
  },
  {
   "cell_type": "markdown",
   "metadata": {
    "id": "POhQTWIpJwlb"
   },
   "source": [
    "# **Training**"
   ]
  },
  {
   "cell_type": "code",
   "execution_count": 30,
   "metadata": {
    "id": "74x245VwbjzK"
   },
   "outputs": [],
   "source": [
    "def acc(print_labels, special):\n",
    "    accuracy_list = []\n",
    "    max_a = 0\n",
    "    index_a = 1000000\n",
    "    \n",
    "    for i in range(len(sentences)):\n",
    "       \n",
    "        temp = []\n",
    "        for j in range(len(sentences[i])):\n",
    "            temp.extend(tokenizer.tokenize(sentences[i][j]))\n",
    "        \n",
    "        temp1 = []\n",
    "     \n",
    "        for j in range(len(temp)):\n",
    "            t = tokenizer.convert_tokens_to_ids(temp[j])\n",
    "            temp1.append(t)\n",
    "            \n",
    "        tokenized_sentence = temp1\n",
    "        input_ids = torch.tensor([tokenized_sentence]).cuda()\n",
    "\n",
    "        with torch.no_grad():\n",
    "            output = model(input_ids)\n",
    "\n",
    "        label_indices = np.argmax(output[0].to('cpu').numpy(), axis=2)\n",
    "\n",
    "        # join bpe split tokens\n",
    "        tokens = tokenizer.convert_ids_to_tokens(input_ids.to('cpu').numpy()[0])\n",
    "        new_tokens, new_labels = [], []\n",
    "        for token, label_idx in zip(tokens, label_indices[0]):\n",
    "            if token.startswith(\"##\"):\n",
    "                new_tokens[-1] = new_tokens[-1] + token[2:]\n",
    "            else:\n",
    "                new_labels.append(tag_values[label_idx])\n",
    "                new_tokens.append(token)\n",
    "\n",
    "        new_labels = new_labels[1:-1]\n",
    "        a = accuracy_score(new_labels, labels[i])\n",
    "        if a  >= max_a and i !=4:\n",
    "            max_a = a\n",
    "            index_a = i\n",
    "          \n",
    "        accuracy_list.append(a)\n",
    "        if print_labels == True:\n",
    "            print(\"___________________\"+ str(i)+\"___________________\")\n",
    "            print(\"\\nPredict labels: \",new_labels)\n",
    "            print(\"Actual labels: \",labels[i])\n",
    "            print()\n",
    "            print()\n",
    "            if special == i:\n",
    "                for j in range(len(sentences[i])):\n",
    "                    print(sentences[i][j], new_labels[j])\n",
    "    print(index_a, max_a)\n",
    "    return statistics.mean(accuracy_list)\n",
    "        \n"
   ]
  },
  {
   "cell_type": "code",
   "execution_count": 21,
   "metadata": {
    "colab": {
     "base_uri": "https://localhost:8080/"
    },
    "id": "7I9lOiM94kKg",
    "outputId": "eac63c54-d19d-4261-8de8-1ef85d09fb77"
   },
   "outputs": [
    {
     "name": "stderr",
     "output_type": "stream",
     "text": [
      "Epoch:   1%|▌                                                                                        | 1/150 [00:02<05:08,  2.07s/it]"
     ]
    },
    {
     "name": "stdout",
     "output_type": "stream",
     "text": [
      "\n",
      "Average train loss: 2.568579969406128\n",
      "\n",
      "Validation loss: 2.4837438265482583\n",
      "Validation Accuracy: 0.22230889235569423\n",
      "\n"
     ]
    },
    {
     "name": "stderr",
     "output_type": "stream",
     "text": [
      "\r",
      "Epoch:   1%|█▏                                                                                       | 2/150 [00:03<04:28,  1.81s/it]"
     ]
    },
    {
     "name": "stdout",
     "output_type": "stream",
     "text": [
      "\n",
      "Average train loss: 2.3340539169311523\n",
      "\n",
      "Validation loss: 2.18564772605896\n",
      "Validation Accuracy: 0.6794071762870515\n",
      "\n"
     ]
    },
    {
     "name": "stderr",
     "output_type": "stream",
     "text": [
      "\r",
      "Epoch:   2%|█▊                                                                                       | 3/150 [00:05<04:14,  1.73s/it]"
     ]
    },
    {
     "name": "stdout",
     "output_type": "stream",
     "text": [
      "\n",
      "Average train loss: 1.8972214937210083\n",
      "\n",
      "Validation loss: 1.712647835413615\n",
      "Validation Accuracy: 0.6786271450858035\n",
      "\n"
     ]
    },
    {
     "name": "stderr",
     "output_type": "stream",
     "text": [
      "\r",
      "Epoch:   3%|██▎                                                                                      | 4/150 [00:06<04:07,  1.70s/it]"
     ]
    },
    {
     "name": "stdout",
     "output_type": "stream",
     "text": [
      "\n",
      "Average train loss: 1.4212381362915039\n",
      "\n",
      "Validation loss: 1.1120134790738423\n",
      "Validation Accuracy: 0.6489859594383776\n",
      "\n"
     ]
    },
    {
     "name": "stderr",
     "output_type": "stream",
     "text": [
      "\r",
      "Epoch:   3%|██▉                                                                                      | 5/150 [00:08<04:02,  1.67s/it]"
     ]
    },
    {
     "name": "stdout",
     "output_type": "stream",
     "text": [
      "\n",
      "Average train loss: 1.0183690094947815\n",
      "\n",
      "Validation loss: 0.7102320591608683\n",
      "Validation Accuracy: 0.6482059282371295\n",
      "\n"
     ]
    },
    {
     "name": "stderr",
     "output_type": "stream",
     "text": [
      "\r",
      "Epoch:   4%|███▌                                                                                     | 6/150 [00:10<03:59,  1.66s/it]"
     ]
    },
    {
     "name": "stdout",
     "output_type": "stream",
     "text": [
      "\n",
      "Average train loss: 0.8010900235176086\n",
      "\n",
      "Validation loss: 0.5983279347419739\n",
      "Validation Accuracy: 0.6864274570982839\n",
      "\n"
     ]
    },
    {
     "name": "stderr",
     "output_type": "stream",
     "text": [
      "\r",
      "Epoch:   5%|████▏                                                                                    | 7/150 [00:11<03:56,  1.65s/it]"
     ]
    },
    {
     "name": "stdout",
     "output_type": "stream",
     "text": [
      "\n",
      "Average train loss: 0.6852968513965607\n",
      "\n",
      "Validation loss: 0.5211707651615143\n",
      "Validation Accuracy: 0.7636505460218409\n",
      "\n"
     ]
    },
    {
     "name": "stderr",
     "output_type": "stream",
     "text": [
      "\r",
      "Epoch:   5%|████▋                                                                                    | 8/150 [00:13<03:54,  1.65s/it]"
     ]
    },
    {
     "name": "stdout",
     "output_type": "stream",
     "text": [
      "\n",
      "Average train loss: 0.5804267930984497\n",
      "\n",
      "Validation loss: 0.45453078548113507\n",
      "Validation Accuracy: 0.7940717628705148\n",
      "\n"
     ]
    },
    {
     "name": "stderr",
     "output_type": "stream",
     "text": [
      "\r",
      "Epoch:   6%|█████▎                                                                                   | 9/150 [00:15<03:52,  1.65s/it]"
     ]
    },
    {
     "name": "stdout",
     "output_type": "stream",
     "text": [
      "\n",
      "Average train loss: 0.5355248117446899\n",
      "\n",
      "Validation loss: 0.4099598328272502\n",
      "Validation Accuracy: 0.8073322932917316\n",
      "\n"
     ]
    },
    {
     "name": "stderr",
     "output_type": "stream",
     "text": [
      "\r",
      "Epoch:   7%|█████▊                                                                                  | 10/150 [00:16<03:50,  1.65s/it]"
     ]
    },
    {
     "name": "stdout",
     "output_type": "stream",
     "text": [
      "\n",
      "Average train loss: 0.4498290014266968\n",
      "\n",
      "Validation loss: 0.3763286719719569\n",
      "Validation Accuracy: 0.8120124804992199\n",
      "\n"
     ]
    },
    {
     "name": "stderr",
     "output_type": "stream",
     "text": [
      "\r",
      "Epoch:   7%|██████▍                                                                                 | 11/150 [00:18<03:48,  1.65s/it]"
     ]
    },
    {
     "name": "stdout",
     "output_type": "stream",
     "text": [
      "\n",
      "Average train loss: 0.4193257701396942\n",
      "\n",
      "Validation loss: 0.3521505494912465\n",
      "Validation Accuracy: 0.8198127925117005\n",
      "\n"
     ]
    },
    {
     "name": "stderr",
     "output_type": "stream",
     "text": [
      "\r",
      "Epoch:   8%|███████                                                                                 | 12/150 [00:20<03:46,  1.64s/it]"
     ]
    },
    {
     "name": "stdout",
     "output_type": "stream",
     "text": [
      "\n",
      "Average train loss: 0.4085522383451462\n",
      "\n",
      "Validation loss: 0.3285818099975586\n",
      "Validation Accuracy: 0.8369734789391575\n",
      "\n"
     ]
    },
    {
     "name": "stderr",
     "output_type": "stream",
     "text": [
      "\r",
      "Epoch:   9%|███████▋                                                                                | 13/150 [00:21<03:45,  1.64s/it]"
     ]
    },
    {
     "name": "stdout",
     "output_type": "stream",
     "text": [
      "\n",
      "Average train loss: 0.3562753856182098\n",
      "\n",
      "Validation loss: 0.3118108759323756\n",
      "Validation Accuracy: 0.8416536661466458\n",
      "\n"
     ]
    },
    {
     "name": "stderr",
     "output_type": "stream",
     "text": [
      "\r",
      "Epoch:   9%|████████▏                                                                               | 14/150 [00:23<03:43,  1.64s/it]"
     ]
    },
    {
     "name": "stdout",
     "output_type": "stream",
     "text": [
      "\n",
      "Average train loss: 0.3484062159061432\n",
      "\n",
      "Validation loss: 0.2950112372636795\n",
      "Validation Accuracy: 0.8564742589703588\n",
      "\n"
     ]
    },
    {
     "name": "stderr",
     "output_type": "stream",
     "text": [
      "\r",
      "Epoch:  10%|████████▊                                                                               | 15/150 [00:25<03:41,  1.64s/it]"
     ]
    },
    {
     "name": "stdout",
     "output_type": "stream",
     "text": [
      "\n",
      "Average train loss: 0.35179773151874544\n",
      "\n",
      "Validation loss: 0.2843092729647954\n",
      "Validation Accuracy: 0.858034321372855\n",
      "\n"
     ]
    },
    {
     "name": "stderr",
     "output_type": "stream",
     "text": [
      "\r",
      "Epoch:  11%|█████████▍                                                                              | 16/150 [00:26<03:40,  1.64s/it]"
     ]
    },
    {
     "name": "stdout",
     "output_type": "stream",
     "text": [
      "\n",
      "Average train loss: 0.3053028601408005\n",
      "\n",
      "Validation loss: 0.27333658436934155\n",
      "Validation Accuracy: 0.858034321372855\n",
      "\n"
     ]
    },
    {
     "name": "stderr",
     "output_type": "stream",
     "text": [
      "\r",
      "Epoch:  11%|█████████▉                                                                              | 17/150 [00:28<03:38,  1.64s/it]"
     ]
    },
    {
     "name": "stdout",
     "output_type": "stream",
     "text": [
      "\n",
      "Average train loss: 0.29593505650758745\n",
      "\n",
      "Validation loss: 0.26667584975560504\n",
      "Validation Accuracy: 0.859594383775351\n",
      "\n"
     ]
    },
    {
     "name": "stderr",
     "output_type": "stream",
     "text": [
      "\r",
      "Epoch:  12%|██████████▌                                                                             | 18/150 [00:29<03:37,  1.64s/it]"
     ]
    },
    {
     "name": "stdout",
     "output_type": "stream",
     "text": [
      "\n",
      "Average train loss: 0.2807025623321533\n",
      "\n",
      "Validation loss: 0.25992659231026966\n",
      "Validation Accuracy: 0.8619344773790951\n",
      "\n"
     ]
    },
    {
     "name": "stderr",
     "output_type": "stream",
     "text": [
      "\r",
      "Epoch:  13%|███████████▏                                                                            | 19/150 [00:31<03:35,  1.65s/it]"
     ]
    },
    {
     "name": "stdout",
     "output_type": "stream",
     "text": [
      "\n",
      "Average train loss: 0.27387726098299026\n",
      "\n",
      "Validation loss: 0.25670064489046734\n",
      "Validation Accuracy: 0.8627145085803433\n",
      "\n"
     ]
    },
    {
     "name": "stderr",
     "output_type": "stream",
     "text": [
      "\r",
      "Epoch:  13%|███████████▋                                                                            | 20/150 [00:33<03:34,  1.65s/it]"
     ]
    },
    {
     "name": "stdout",
     "output_type": "stream",
     "text": [
      "\n",
      "Average train loss: 0.25335166960954664\n",
      "\n",
      "Validation loss: 0.2466250086824099\n",
      "Validation Accuracy: 0.8666146645865834\n",
      "\n"
     ]
    },
    {
     "name": "stderr",
     "output_type": "stream",
     "text": [
      "\r",
      "Epoch:  14%|████████████▎                                                                           | 21/150 [00:34<03:31,  1.64s/it]"
     ]
    },
    {
     "name": "stdout",
     "output_type": "stream",
     "text": [
      "\n",
      "Average train loss: 0.2517577451467514\n",
      "\n",
      "Validation loss: 0.23815766225258508\n",
      "Validation Accuracy: 0.8705148205928237\n",
      "\n"
     ]
    },
    {
     "name": "stderr",
     "output_type": "stream",
     "text": [
      "\r",
      "Epoch:  15%|████████████▉                                                                           | 22/150 [00:36<03:29,  1.64s/it]"
     ]
    },
    {
     "name": "stdout",
     "output_type": "stream",
     "text": [
      "\n",
      "Average train loss: 0.2535327351093292\n",
      "\n",
      "Validation loss: 0.23514583458503088\n",
      "Validation Accuracy: 0.8697347893915757\n",
      "\n"
     ]
    },
    {
     "name": "stderr",
     "output_type": "stream",
     "text": [
      "\r",
      "Epoch:  15%|█████████████▍                                                                          | 23/150 [00:38<03:27,  1.63s/it]"
     ]
    },
    {
     "name": "stdout",
     "output_type": "stream",
     "text": [
      "\n",
      "Average train loss: 0.23653726220130922\n",
      "\n",
      "Validation loss: 0.23091437170902887\n",
      "Validation Accuracy: 0.8705148205928237\n",
      "\n"
     ]
    },
    {
     "name": "stderr",
     "output_type": "stream",
     "text": [
      "\r",
      "Epoch:  16%|██████████████                                                                          | 24/150 [00:39<03:25,  1.63s/it]"
     ]
    },
    {
     "name": "stdout",
     "output_type": "stream",
     "text": [
      "\n",
      "Average train loss: 0.22713248789310456\n",
      "\n",
      "Validation loss: 0.22790576765934625\n",
      "Validation Accuracy: 0.8728549141965679\n",
      "\n"
     ]
    },
    {
     "name": "stderr",
     "output_type": "stream",
     "text": [
      "\r",
      "Epoch:  17%|██████████████▋                                                                         | 25/150 [00:41<03:23,  1.63s/it]"
     ]
    },
    {
     "name": "stdout",
     "output_type": "stream",
     "text": [
      "\n",
      "Average train loss: 0.21788596987724304\n",
      "\n",
      "Validation loss: 0.22360478093226752\n",
      "Validation Accuracy: 0.8767550702028081\n",
      "\n"
     ]
    },
    {
     "name": "stderr",
     "output_type": "stream",
     "text": [
      "\r",
      "Epoch:  17%|███████████████▎                                                                        | 26/150 [00:43<03:21,  1.63s/it]"
     ]
    },
    {
     "name": "stdout",
     "output_type": "stream",
     "text": [
      "\n",
      "Average train loss: 0.2071676644682884\n",
      "\n",
      "Validation loss: 0.21607442696889242\n",
      "Validation Accuracy: 0.8814352574102964\n",
      "\n"
     ]
    },
    {
     "name": "stderr",
     "output_type": "stream",
     "text": [
      "\r",
      "Epoch:  18%|███████████████▊                                                                        | 27/150 [00:44<03:20,  1.63s/it]"
     ]
    },
    {
     "name": "stdout",
     "output_type": "stream",
     "text": [
      "\n",
      "Average train loss: 0.21405773967504502\n",
      "\n",
      "Validation loss: 0.2199520394206047\n",
      "Validation Accuracy: 0.8806552262090483\n",
      "\n"
     ]
    },
    {
     "name": "stderr",
     "output_type": "stream",
     "text": [
      "\r",
      "Epoch:  19%|████████████████▍                                                                       | 28/150 [00:46<03:19,  1.64s/it]"
     ]
    },
    {
     "name": "stdout",
     "output_type": "stream",
     "text": [
      "\n",
      "Average train loss: 0.2016009745001793\n",
      "\n",
      "Validation loss: 0.219886414706707\n",
      "Validation Accuracy: 0.8790951638065523\n",
      "\n"
     ]
    },
    {
     "name": "stderr",
     "output_type": "stream",
     "text": [
      "\r",
      "Epoch:  19%|█████████████████                                                                       | 29/150 [00:47<03:18,  1.64s/it]"
     ]
    },
    {
     "name": "stdout",
     "output_type": "stream",
     "text": [
      "\n",
      "Average train loss: 0.18940951377153398\n",
      "\n",
      "Validation loss: 0.21269793808460236\n",
      "Validation Accuracy: 0.8853354134165367\n",
      "\n"
     ]
    },
    {
     "name": "stderr",
     "output_type": "stream",
     "text": [
      "\r",
      "Epoch:  20%|█████████████████▌                                                                      | 30/150 [00:49<03:17,  1.65s/it]"
     ]
    },
    {
     "name": "stdout",
     "output_type": "stream",
     "text": [
      "\n",
      "Average train loss: 0.17736027419567107\n",
      "\n",
      "Validation loss: 0.21327281246582666\n",
      "Validation Accuracy: 0.8853354134165367\n",
      "\n"
     ]
    },
    {
     "name": "stderr",
     "output_type": "stream",
     "text": [
      "\r",
      "Epoch:  21%|██████████████████▏                                                                     | 31/150 [00:51<03:16,  1.65s/it]"
     ]
    },
    {
     "name": "stdout",
     "output_type": "stream",
     "text": [
      "\n",
      "Average train loss: 0.17910895079374314\n",
      "\n",
      "Validation loss: 0.2098736191789309\n",
      "Validation Accuracy: 0.8861154446177847\n",
      "\n"
     ]
    },
    {
     "name": "stderr",
     "output_type": "stream",
     "text": [
      "\r",
      "Epoch:  21%|██████████████████▊                                                                     | 32/150 [00:52<03:14,  1.65s/it]"
     ]
    },
    {
     "name": "stdout",
     "output_type": "stream",
     "text": [
      "\n",
      "Average train loss: 0.1862320140004158\n",
      "\n",
      "Validation loss: 0.20529203365246454\n",
      "Validation Accuracy: 0.8884555382215289\n",
      "\n"
     ]
    },
    {
     "name": "stderr",
     "output_type": "stream",
     "text": [
      "\r",
      "Epoch:  22%|███████████████████▎                                                                    | 33/150 [00:54<03:13,  1.65s/it]"
     ]
    },
    {
     "name": "stdout",
     "output_type": "stream",
     "text": [
      "\n",
      "Average train loss: 0.16083523571491243\n",
      "\n",
      "Validation loss: 0.20766281833251318\n",
      "Validation Accuracy: 0.8892355694227769\n",
      "\n"
     ]
    },
    {
     "name": "stderr",
     "output_type": "stream",
     "text": [
      "\r",
      "Epoch:  23%|███████████████████▉                                                                    | 34/150 [00:56<03:11,  1.65s/it]"
     ]
    },
    {
     "name": "stdout",
     "output_type": "stream",
     "text": [
      "\n",
      "Average train loss: 0.16365471303462983\n",
      "\n",
      "Validation loss: 0.20182796319325766\n",
      "Validation Accuracy: 0.890795631825273\n",
      "\n"
     ]
    },
    {
     "name": "stderr",
     "output_type": "stream",
     "text": [
      "\r",
      "Epoch:  23%|████████████████████▌                                                                   | 35/150 [00:57<03:09,  1.65s/it]"
     ]
    },
    {
     "name": "stdout",
     "output_type": "stream",
     "text": [
      "\n",
      "Average train loss: 0.15949222713708877\n",
      "\n",
      "Validation loss: 0.20148521413405737\n",
      "Validation Accuracy: 0.890015600624025\n",
      "\n"
     ]
    },
    {
     "name": "stderr",
     "output_type": "stream",
     "text": [
      "\r",
      "Epoch:  24%|█████████████████████                                                                   | 36/150 [00:59<03:08,  1.65s/it]"
     ]
    },
    {
     "name": "stdout",
     "output_type": "stream",
     "text": [
      "\n",
      "Average train loss: 0.1489245080947876\n",
      "\n",
      "Validation loss: 0.20352348188559213\n",
      "Validation Accuracy: 0.8931357254290172\n",
      "\n"
     ]
    },
    {
     "name": "stderr",
     "output_type": "stream",
     "text": [
      "\r",
      "Epoch:  25%|█████████████████████▋                                                                  | 37/150 [01:01<03:06,  1.65s/it]"
     ]
    },
    {
     "name": "stdout",
     "output_type": "stream",
     "text": [
      "\n",
      "Average train loss: 0.14700980186462403\n",
      "\n",
      "Validation loss: 0.19829141100247702\n",
      "Validation Accuracy: 0.8970358814352574\n",
      "\n"
     ]
    },
    {
     "name": "stderr",
     "output_type": "stream",
     "text": [
      "\r",
      "Epoch:  25%|██████████████████████▎                                                                 | 38/150 [01:02<03:05,  1.65s/it]"
     ]
    },
    {
     "name": "stdout",
     "output_type": "stream",
     "text": [
      "\n",
      "Average train loss: 0.1397753168642521\n",
      "\n",
      "Validation loss: 0.20534949253002802\n",
      "Validation Accuracy: 0.8985959438377535\n",
      "\n"
     ]
    },
    {
     "name": "stderr",
     "output_type": "stream",
     "text": [
      "\r",
      "Epoch:  26%|██████████████████████▉                                                                 | 39/150 [01:04<03:03,  1.65s/it]"
     ]
    },
    {
     "name": "stdout",
     "output_type": "stream",
     "text": [
      "\n",
      "Average train loss: 0.13218694016337396\n",
      "\n",
      "Validation loss: 0.20251909146706262\n",
      "Validation Accuracy: 0.8970358814352574\n",
      "\n"
     ]
    },
    {
     "name": "stderr",
     "output_type": "stream",
     "text": [
      "\r",
      "Epoch:  27%|███████████████████████▍                                                                | 40/150 [01:06<03:01,  1.65s/it]"
     ]
    },
    {
     "name": "stdout",
     "output_type": "stream",
     "text": [
      "\n",
      "Average train loss: 0.13713517531752586\n",
      "\n",
      "Validation loss: 0.19190985833605131\n",
      "Validation Accuracy: 0.8978159126365055\n",
      "\n"
     ]
    },
    {
     "name": "stderr",
     "output_type": "stream",
     "text": [
      "\r",
      "Epoch:  27%|████████████████████████                                                                | 41/150 [01:07<03:00,  1.66s/it]"
     ]
    },
    {
     "name": "stdout",
     "output_type": "stream",
     "text": [
      "\n",
      "Average train loss: 0.13119914323091508\n",
      "\n",
      "Validation loss: 0.20330577964584032\n",
      "Validation Accuracy: 0.9009360374414976\n",
      "\n"
     ]
    },
    {
     "name": "stderr",
     "output_type": "stream",
     "text": [
      "\r",
      "Epoch:  28%|████████████████████████▋                                                               | 42/150 [01:09<02:58,  1.66s/it]"
     ]
    },
    {
     "name": "stdout",
     "output_type": "stream",
     "text": [
      "\n",
      "Average train loss: 0.12991786137223243\n",
      "\n",
      "Validation loss: 0.19696017603079477\n",
      "Validation Accuracy: 0.8993759750390016\n",
      "\n"
     ]
    },
    {
     "name": "stderr",
     "output_type": "stream",
     "text": [
      "\r",
      "Epoch:  29%|█████████████████████████▏                                                              | 43/150 [01:11<02:57,  1.66s/it]"
     ]
    },
    {
     "name": "stdout",
     "output_type": "stream",
     "text": [
      "\n",
      "Average train loss: 0.1185625983774662\n",
      "\n",
      "Validation loss: 0.19281881426771483\n",
      "Validation Accuracy: 0.9040561622464899\n",
      "\n"
     ]
    },
    {
     "name": "stderr",
     "output_type": "stream",
     "text": [
      "\r",
      "Epoch:  29%|█████████████████████████▊                                                              | 44/150 [01:12<02:55,  1.66s/it]"
     ]
    },
    {
     "name": "stdout",
     "output_type": "stream",
     "text": [
      "\n",
      "Average train loss: 0.11987092092633247\n",
      "\n",
      "Validation loss: 0.20388724903265634\n",
      "Validation Accuracy: 0.9017160686427457\n",
      "\n"
     ]
    },
    {
     "name": "stderr",
     "output_type": "stream",
     "text": [
      "\r",
      "Epoch:  30%|██████████████████████████▍                                                             | 45/150 [01:14<02:53,  1.65s/it]"
     ]
    },
    {
     "name": "stdout",
     "output_type": "stream",
     "text": [
      "\n",
      "Average train loss: 0.12664378091692924\n",
      "\n",
      "Validation loss: 0.19849182044466337\n",
      "Validation Accuracy: 0.9024960998439937\n",
      "\n"
     ]
    },
    {
     "name": "stderr",
     "output_type": "stream",
     "text": [
      "\r",
      "Epoch:  31%|██████████████████████████▉                                                             | 46/150 [01:16<02:51,  1.65s/it]"
     ]
    },
    {
     "name": "stdout",
     "output_type": "stream",
     "text": [
      "\n",
      "Average train loss: 0.11926700994372368\n",
      "\n",
      "Validation loss: 0.19953880086541176\n",
      "Validation Accuracy: 0.905616224648986\n",
      "\n"
     ]
    },
    {
     "name": "stderr",
     "output_type": "stream",
     "text": [
      "\r",
      "Epoch:  31%|███████████████████████████▌                                                            | 47/150 [01:17<02:49,  1.64s/it]"
     ]
    },
    {
     "name": "stdout",
     "output_type": "stream",
     "text": [
      "\n",
      "Average train loss: 0.10440577387809753\n",
      "\n",
      "Validation loss: 0.1935324321190516\n",
      "Validation Accuracy: 0.9024960998439937\n",
      "\n"
     ]
    },
    {
     "name": "stderr",
     "output_type": "stream",
     "text": [
      "\r",
      "Epoch:  32%|████████████████████████████▏                                                           | 48/150 [01:19<02:47,  1.64s/it]"
     ]
    },
    {
     "name": "stdout",
     "output_type": "stream",
     "text": [
      "\n",
      "Average train loss: 0.10083743296563626\n",
      "\n",
      "Validation loss: 0.20196696246663728\n",
      "Validation Accuracy: 0.905616224648986\n",
      "\n"
     ]
    },
    {
     "name": "stderr",
     "output_type": "stream",
     "text": [
      "\r",
      "Epoch:  33%|████████████████████████████▋                                                           | 49/150 [01:20<02:46,  1.65s/it]"
     ]
    },
    {
     "name": "stdout",
     "output_type": "stream",
     "text": [
      "\n",
      "Average train loss: 0.10174088209867477\n",
      "\n",
      "Validation loss: 0.20062029361724854\n",
      "Validation Accuracy: 0.9024960998439937\n",
      "\n"
     ]
    },
    {
     "name": "stderr",
     "output_type": "stream",
     "text": [
      "\r",
      "Epoch:  33%|█████████████████████████████▎                                                          | 50/150 [01:22<02:44,  1.65s/it]"
     ]
    },
    {
     "name": "stdout",
     "output_type": "stream",
     "text": [
      "\n",
      "Average train loss: 0.10029292330145836\n",
      "\n",
      "Validation loss: 0.20294109483559927\n",
      "Validation Accuracy: 0.9024960998439937\n",
      "\n"
     ]
    },
    {
     "name": "stderr",
     "output_type": "stream",
     "text": [
      "\r",
      "Epoch:  34%|█████████████████████████████▉                                                          | 51/150 [01:24<02:43,  1.65s/it]"
     ]
    },
    {
     "name": "stdout",
     "output_type": "stream",
     "text": [
      "\n",
      "Average train loss: 0.09450397104024887\n",
      "\n",
      "Validation loss: 0.20484714085857073\n",
      "Validation Accuracy: 0.906396255850234\n",
      "\n"
     ]
    },
    {
     "name": "stderr",
     "output_type": "stream",
     "text": [
      "\r",
      "Epoch:  35%|██████████████████████████████▌                                                         | 52/150 [01:25<02:42,  1.65s/it]"
     ]
    },
    {
     "name": "stdout",
     "output_type": "stream",
     "text": [
      "\n",
      "Average train loss: 0.09276459768414497\n",
      "\n",
      "Validation loss: 0.20744608342647552\n",
      "Validation Accuracy: 0.905616224648986\n",
      "\n"
     ]
    },
    {
     "name": "stderr",
     "output_type": "stream",
     "text": [
      "\r",
      "Epoch:  35%|███████████████████████████████                                                         | 53/150 [01:27<02:39,  1.65s/it]"
     ]
    },
    {
     "name": "stdout",
     "output_type": "stream",
     "text": [
      "\n",
      "Average train loss: 0.08923893675208092\n",
      "\n",
      "Validation loss: 0.20180545623103777\n",
      "Validation Accuracy: 0.907176287051482\n",
      "\n"
     ]
    },
    {
     "name": "stderr",
     "output_type": "stream",
     "text": [
      "\r",
      "Epoch:  36%|███████████████████████████████▋                                                        | 54/150 [01:29<02:38,  1.65s/it]"
     ]
    },
    {
     "name": "stdout",
     "output_type": "stream",
     "text": [
      "\n",
      "Average train loss: 0.08362676501274109\n",
      "\n",
      "Validation loss: 0.20858214298884073\n",
      "Validation Accuracy: 0.905616224648986\n",
      "\n"
     ]
    },
    {
     "name": "stderr",
     "output_type": "stream",
     "text": [
      "\r",
      "Epoch:  37%|████████████████████████████████▎                                                       | 55/150 [01:30<02:37,  1.66s/it]"
     ]
    },
    {
     "name": "stdout",
     "output_type": "stream",
     "text": [
      "\n",
      "Average train loss: 0.07966637436300517\n",
      "\n",
      "Validation loss: 0.2077267368634542\n",
      "Validation Accuracy: 0.9040561622464899\n",
      "\n"
     ]
    },
    {
     "name": "stderr",
     "output_type": "stream",
     "text": [
      "\r",
      "Epoch:  37%|████████████████████████████████▊                                                       | 56/150 [01:32<02:35,  1.66s/it]"
     ]
    },
    {
     "name": "stdout",
     "output_type": "stream",
     "text": [
      "\n",
      "Average train loss: 0.08093541711568833\n",
      "\n",
      "Validation loss: 0.2043374925851822\n",
      "Validation Accuracy: 0.906396255850234\n",
      "\n"
     ]
    },
    {
     "name": "stderr",
     "output_type": "stream",
     "text": [
      "\r",
      "Epoch:  38%|█████████████████████████████████▍                                                      | 57/150 [01:34<02:34,  1.66s/it]"
     ]
    },
    {
     "name": "stdout",
     "output_type": "stream",
     "text": [
      "\n",
      "Average train loss: 0.07841725096106529\n",
      "\n",
      "Validation loss: 0.21389401083191237\n",
      "Validation Accuracy: 0.9040561622464899\n",
      "\n"
     ]
    },
    {
     "name": "stderr",
     "output_type": "stream",
     "text": [
      "\r",
      "Epoch:  39%|██████████████████████████████████                                                      | 58/150 [01:35<02:32,  1.66s/it]"
     ]
    },
    {
     "name": "stdout",
     "output_type": "stream",
     "text": [
      "\n",
      "Average train loss: 0.08765316352248192\n",
      "\n",
      "Validation loss: 0.20425856734315553\n",
      "Validation Accuracy: 0.9040561622464899\n",
      "\n"
     ]
    },
    {
     "name": "stderr",
     "output_type": "stream",
     "text": [
      "\r",
      "Epoch:  39%|██████████████████████████████████▌                                                     | 59/150 [01:37<02:30,  1.65s/it]"
     ]
    },
    {
     "name": "stdout",
     "output_type": "stream",
     "text": [
      "\n",
      "Average train loss: 0.07530159575864673\n",
      "\n",
      "Validation loss: 0.20869820937514305\n",
      "Validation Accuracy: 0.9079563182527302\n",
      "\n"
     ]
    },
    {
     "name": "stderr",
     "output_type": "stream",
     "text": [
      "\r",
      "Epoch:  40%|███████████████████████████████████▏                                                    | 60/150 [01:39<02:28,  1.65s/it]"
     ]
    },
    {
     "name": "stdout",
     "output_type": "stream",
     "text": [
      "\n",
      "Average train loss: 0.07294592775404453\n",
      "\n",
      "Validation loss: 0.20826105400919914\n",
      "Validation Accuracy: 0.907176287051482\n",
      "\n"
     ]
    },
    {
     "name": "stderr",
     "output_type": "stream",
     "text": [
      "\r",
      "Epoch:  41%|███████████████████████████████████▊                                                    | 61/150 [01:40<02:26,  1.65s/it]"
     ]
    },
    {
     "name": "stdout",
     "output_type": "stream",
     "text": [
      "\n",
      "Average train loss: 0.07362632751464844\n",
      "\n",
      "Validation loss: 0.2066142645974954\n",
      "Validation Accuracy: 0.907176287051482\n",
      "\n"
     ]
    },
    {
     "name": "stderr",
     "output_type": "stream",
     "text": [
      "\r",
      "Epoch:  41%|████████████████████████████████████▎                                                   | 62/150 [01:42<02:25,  1.65s/it]"
     ]
    },
    {
     "name": "stdout",
     "output_type": "stream",
     "text": [
      "\n",
      "Average train loss: 0.07065585374832153\n",
      "\n",
      "Validation loss: 0.21304520592093468\n",
      "Validation Accuracy: 0.9032761310452418\n",
      "\n"
     ]
    },
    {
     "name": "stderr",
     "output_type": "stream",
     "text": [
      "\r",
      "Epoch:  42%|████████████████████████████████████▉                                                   | 63/150 [01:44<02:24,  1.66s/it]"
     ]
    },
    {
     "name": "stdout",
     "output_type": "stream",
     "text": [
      "\n",
      "Average train loss: 0.0702388546615839\n",
      "\n",
      "Validation loss: 0.2173494944969813\n",
      "Validation Accuracy: 0.9048361934477379\n",
      "\n"
     ]
    },
    {
     "name": "stderr",
     "output_type": "stream",
     "text": [
      "\r",
      "Epoch:  43%|█████████████████████████████████████▌                                                  | 64/150 [01:45<02:22,  1.66s/it]"
     ]
    },
    {
     "name": "stdout",
     "output_type": "stream",
     "text": [
      "\n",
      "Average train loss: 0.06498955316841602\n",
      "\n",
      "Validation loss: 0.21539530530571938\n",
      "Validation Accuracy: 0.9087363494539782\n",
      "\n"
     ]
    },
    {
     "name": "stderr",
     "output_type": "stream",
     "text": [
      "\r",
      "Epoch:  43%|██████████████████████████████████████▏                                                 | 65/150 [01:47<02:20,  1.66s/it]"
     ]
    },
    {
     "name": "stdout",
     "output_type": "stream",
     "text": [
      "\n",
      "Average train loss: 0.07025626748800277\n",
      "\n",
      "Validation loss: 0.20966567719976106\n",
      "Validation Accuracy: 0.9079563182527302\n",
      "\n"
     ]
    },
    {
     "name": "stderr",
     "output_type": "stream",
     "text": [
      "\r",
      "Epoch:  44%|██████████████████████████████████████▋                                                 | 66/150 [01:49<02:19,  1.66s/it]"
     ]
    },
    {
     "name": "stdout",
     "output_type": "stream",
     "text": [
      "\n",
      "Average train loss: 0.06586458057165145\n",
      "\n",
      "Validation loss: 0.21376967802643776\n",
      "Validation Accuracy: 0.907176287051482\n",
      "\n"
     ]
    },
    {
     "name": "stderr",
     "output_type": "stream",
     "text": [
      "\r",
      "Epoch:  45%|███████████████████████████████████████▎                                                | 67/150 [01:50<02:17,  1.66s/it]"
     ]
    },
    {
     "name": "stdout",
     "output_type": "stream",
     "text": [
      "\n",
      "Average train loss: 0.059423273354768755\n",
      "\n",
      "Validation loss: 0.2149669515589873\n",
      "Validation Accuracy: 0.905616224648986\n",
      "\n"
     ]
    },
    {
     "name": "stderr",
     "output_type": "stream",
     "text": [
      "\r",
      "Epoch:  45%|███████████████████████████████████████▉                                                | 68/150 [01:52<02:16,  1.66s/it]"
     ]
    },
    {
     "name": "stdout",
     "output_type": "stream",
     "text": [
      "\n",
      "Average train loss: 0.0591089641302824\n",
      "\n",
      "Validation loss: 0.20670099183917046\n",
      "Validation Accuracy: 0.9040561622464899\n",
      "\n"
     ]
    },
    {
     "name": "stderr",
     "output_type": "stream",
     "text": [
      "\r",
      "Epoch:  46%|████████████████████████████████████████▍                                               | 69/150 [01:54<02:14,  1.66s/it]"
     ]
    },
    {
     "name": "stdout",
     "output_type": "stream",
     "text": [
      "\n",
      "Average train loss: 0.05907054603099823\n",
      "\n",
      "Validation loss: 0.21197473630309105\n",
      "Validation Accuracy: 0.9095163806552262\n",
      "\n"
     ]
    },
    {
     "name": "stderr",
     "output_type": "stream",
     "text": [
      "\r",
      "Epoch:  47%|█████████████████████████████████████████                                               | 70/150 [01:55<02:13,  1.66s/it]"
     ]
    },
    {
     "name": "stdout",
     "output_type": "stream",
     "text": [
      "\n",
      "Average train loss: 0.057102442532777783\n",
      "\n",
      "Validation loss: 0.210310826698939\n",
      "Validation Accuracy: 0.9040561622464899\n",
      "\n"
     ]
    },
    {
     "name": "stderr",
     "output_type": "stream",
     "text": [
      "\r",
      "Epoch:  47%|█████████████████████████████████████████▋                                              | 71/150 [01:57<02:11,  1.66s/it]"
     ]
    },
    {
     "name": "stdout",
     "output_type": "stream",
     "text": [
      "\n",
      "Average train loss: 0.05714770779013634\n",
      "\n",
      "Validation loss: 0.2187103865047296\n",
      "Validation Accuracy: 0.9110764430577223\n",
      "\n"
     ]
    },
    {
     "name": "stderr",
     "output_type": "stream",
     "text": [
      "\r",
      "Epoch:  48%|██████████████████████████████████████████▏                                             | 72/150 [01:59<02:09,  1.66s/it]"
     ]
    },
    {
     "name": "stdout",
     "output_type": "stream",
     "text": [
      "\n",
      "Average train loss: 0.05645892456173897\n",
      "\n",
      "Validation loss: 0.21238703529040018\n",
      "Validation Accuracy: 0.9102964118564743\n",
      "\n"
     ]
    },
    {
     "name": "stderr",
     "output_type": "stream",
     "text": [
      "\r",
      "Epoch:  49%|██████████████████████████████████████████▊                                             | 73/150 [02:00<02:07,  1.66s/it]"
     ]
    },
    {
     "name": "stdout",
     "output_type": "stream",
     "text": [
      "\n",
      "Average train loss: 0.055974969267845155\n",
      "\n",
      "Validation loss: 0.2110717880229155\n",
      "Validation Accuracy: 0.9095163806552262\n",
      "\n"
     ]
    },
    {
     "name": "stderr",
     "output_type": "stream",
     "text": [
      "\r",
      "Epoch:  49%|███████████████████████████████████████████▍                                            | 74/150 [02:02<02:06,  1.66s/it]"
     ]
    },
    {
     "name": "stdout",
     "output_type": "stream",
     "text": [
      "\n",
      "Average train loss: 0.05156603153795004\n",
      "\n",
      "Validation loss: 0.2111283876001835\n",
      "Validation Accuracy: 0.9110764430577223\n",
      "\n"
     ]
    },
    {
     "name": "stderr",
     "output_type": "stream",
     "text": [
      "\r",
      "Epoch:  50%|████████████████████████████████████████████                                            | 75/150 [02:04<02:04,  1.66s/it]"
     ]
    },
    {
     "name": "stdout",
     "output_type": "stream",
     "text": [
      "\n",
      "Average train loss: 0.05290477767586708\n",
      "\n",
      "Validation loss: 0.21616563325126967\n",
      "Validation Accuracy: 0.9110764430577223\n",
      "\n"
     ]
    },
    {
     "name": "stderr",
     "output_type": "stream",
     "text": [
      "\r",
      "Epoch:  51%|████████████████████████████████████████████▌                                           | 76/150 [02:05<02:02,  1.66s/it]"
     ]
    },
    {
     "name": "stdout",
     "output_type": "stream",
     "text": [
      "\n",
      "Average train loss: 0.051507211551070214\n",
      "\n",
      "Validation loss: 0.20395345985889435\n",
      "Validation Accuracy: 0.9165366614664586\n",
      "\n"
     ]
    },
    {
     "name": "stderr",
     "output_type": "stream",
     "text": [
      "\r",
      "Epoch:  51%|█████████████████████████████████████████████▏                                          | 77/150 [02:07<02:01,  1.66s/it]"
     ]
    },
    {
     "name": "stdout",
     "output_type": "stream",
     "text": [
      "\n",
      "Average train loss: 0.04950835831463337\n",
      "\n",
      "Validation loss: 0.21488705401619276\n",
      "Validation Accuracy: 0.9141965678627145\n",
      "\n"
     ]
    },
    {
     "name": "stderr",
     "output_type": "stream",
     "text": [
      "\r",
      "Epoch:  52%|█████████████████████████████████████████████▊                                          | 78/150 [02:09<01:59,  1.66s/it]"
     ]
    },
    {
     "name": "stdout",
     "output_type": "stream",
     "text": [
      "\n",
      "Average train loss: 0.04688521638512611\n",
      "\n",
      "Validation loss: 0.21440330147743225\n",
      "Validation Accuracy: 0.9134165366614665\n",
      "\n"
     ]
    },
    {
     "name": "stderr",
     "output_type": "stream",
     "text": [
      "\r",
      "Epoch:  53%|██████████████████████████████████████████████▎                                         | 79/150 [02:10<01:57,  1.66s/it]"
     ]
    },
    {
     "name": "stdout",
     "output_type": "stream",
     "text": [
      "\n",
      "Average train loss: 0.04710272656753659\n",
      "\n",
      "Validation loss: 0.21794814243912697\n",
      "Validation Accuracy: 0.9165366614664586\n",
      "\n"
     ]
    },
    {
     "name": "stderr",
     "output_type": "stream",
     "text": [
      "\r",
      "Epoch:  53%|██████████████████████████████████████████████▉                                         | 80/150 [02:12<01:56,  1.66s/it]"
     ]
    },
    {
     "name": "stdout",
     "output_type": "stream",
     "text": [
      "\n",
      "Average train loss: 0.04846114654093981\n",
      "\n",
      "Validation loss: 0.2136292407910029\n",
      "Validation Accuracy: 0.9141965678627145\n",
      "\n"
     ]
    },
    {
     "name": "stderr",
     "output_type": "stream",
     "text": [
      "\r",
      "Epoch:  54%|███████████████████████████████████████████████▌                                        | 81/150 [02:14<01:54,  1.66s/it]"
     ]
    },
    {
     "name": "stdout",
     "output_type": "stream",
     "text": [
      "\n",
      "Average train loss: 0.04596616003662348\n",
      "\n",
      "Validation loss: 0.2141840656598409\n",
      "Validation Accuracy: 0.9157566302652106\n",
      "\n"
     ]
    },
    {
     "name": "stderr",
     "output_type": "stream",
     "text": [
      "\r",
      "Epoch:  55%|████████████████████████████████████████████████                                        | 82/150 [02:15<01:52,  1.65s/it]"
     ]
    },
    {
     "name": "stdout",
     "output_type": "stream",
     "text": [
      "\n",
      "Average train loss: 0.0429985960572958\n",
      "\n",
      "Validation loss: 0.21814454471071562\n",
      "Validation Accuracy: 0.9134165366614665\n",
      "\n"
     ]
    },
    {
     "name": "stderr",
     "output_type": "stream",
     "text": [
      "\r",
      "Epoch:  55%|████████████████████████████████████████████████▋                                       | 83/150 [02:17<01:51,  1.66s/it]"
     ]
    },
    {
     "name": "stdout",
     "output_type": "stream",
     "text": [
      "\n",
      "Average train loss: 0.043907771818339825\n",
      "\n",
      "Validation loss: 0.21624177197615305\n",
      "Validation Accuracy: 0.9126365054602185\n",
      "\n"
     ]
    },
    {
     "name": "stderr",
     "output_type": "stream",
     "text": [
      "\r",
      "Epoch:  56%|█████████████████████████████████████████████████▎                                      | 84/150 [02:19<01:49,  1.66s/it]"
     ]
    },
    {
     "name": "stdout",
     "output_type": "stream",
     "text": [
      "\n",
      "Average train loss: 0.04246813915669918\n",
      "\n",
      "Validation loss: 0.21629189824064574\n",
      "Validation Accuracy: 0.9149765990639626\n",
      "\n"
     ]
    },
    {
     "name": "stderr",
     "output_type": "stream",
     "text": [
      "\r",
      "Epoch:  57%|█████████████████████████████████████████████████▊                                      | 85/150 [02:20<01:47,  1.66s/it]"
     ]
    },
    {
     "name": "stdout",
     "output_type": "stream",
     "text": [
      "\n",
      "Average train loss: 0.04466436561197042\n",
      "\n",
      "Validation loss: 0.22391692300637564\n",
      "Validation Accuracy: 0.9149765990639626\n",
      "\n"
     ]
    },
    {
     "name": "stderr",
     "output_type": "stream",
     "text": [
      "\r",
      "Epoch:  57%|██████████████████████████████████████████████████▍                                     | 86/150 [02:22<01:45,  1.66s/it]"
     ]
    },
    {
     "name": "stdout",
     "output_type": "stream",
     "text": [
      "\n",
      "Average train loss: 0.04404762901365757\n",
      "\n",
      "Validation loss: 0.21560335780183473\n",
      "Validation Accuracy: 0.9180967238689548\n",
      "\n"
     ]
    },
    {
     "name": "stderr",
     "output_type": "stream",
     "text": [
      "\r",
      "Epoch:  58%|███████████████████████████████████████████████████                                     | 87/150 [02:23<01:44,  1.65s/it]"
     ]
    },
    {
     "name": "stdout",
     "output_type": "stream",
     "text": [
      "\n",
      "Average train loss: 0.04024875160306692\n",
      "\n",
      "Validation loss: 0.22262064988414446\n",
      "Validation Accuracy: 0.9173166926677067\n",
      "\n"
     ]
    },
    {
     "name": "stderr",
     "output_type": "stream",
     "text": [
      "\r",
      "Epoch:  59%|███████████████████████████████████████████████████▋                                    | 88/150 [02:25<01:42,  1.65s/it]"
     ]
    },
    {
     "name": "stdout",
     "output_type": "stream",
     "text": [
      "\n",
      "Average train loss: 0.04030821157619357\n",
      "\n",
      "Validation loss: 0.21696936587492624\n",
      "Validation Accuracy: 0.9188767550702028\n",
      "\n"
     ]
    },
    {
     "name": "stderr",
     "output_type": "stream",
     "text": [
      "\r",
      "Epoch:  59%|████████████████████████████████████████████████████▏                                   | 89/150 [02:27<01:40,  1.65s/it]"
     ]
    },
    {
     "name": "stdout",
     "output_type": "stream",
     "text": [
      "\n",
      "Average train loss: 0.03841540418565273\n",
      "\n",
      "Validation loss: 0.21790645147363344\n",
      "Validation Accuracy: 0.9173166926677067\n",
      "\n"
     ]
    },
    {
     "name": "stderr",
     "output_type": "stream",
     "text": [
      "\r",
      "Epoch:  60%|████████████████████████████████████████████████████▊                                   | 90/150 [02:28<01:39,  1.65s/it]"
     ]
    },
    {
     "name": "stdout",
     "output_type": "stream",
     "text": [
      "\n",
      "Average train loss: 0.03883328683674336\n",
      "\n",
      "Validation loss: 0.2241304119427999\n",
      "Validation Accuracy: 0.9180967238689548\n",
      "\n"
     ]
    },
    {
     "name": "stderr",
     "output_type": "stream",
     "text": [
      "\r",
      "Epoch:  61%|█████████████████████████████████████████████████████▍                                  | 91/150 [02:30<01:37,  1.66s/it]"
     ]
    },
    {
     "name": "stdout",
     "output_type": "stream",
     "text": [
      "\n",
      "Average train loss: 0.039031713046133516\n",
      "\n",
      "Validation loss: 0.22265530501802763\n",
      "Validation Accuracy: 0.9188767550702028\n",
      "\n"
     ]
    },
    {
     "name": "stderr",
     "output_type": "stream",
     "text": [
      "\r",
      "Epoch:  61%|█████████████████████████████████████████████████████▉                                  | 92/150 [02:32<01:36,  1.66s/it]"
     ]
    },
    {
     "name": "stdout",
     "output_type": "stream",
     "text": [
      "\n",
      "Average train loss: 0.038293396458029746\n",
      "\n",
      "Validation loss: 0.21950344617168108\n",
      "Validation Accuracy: 0.9165366614664586\n",
      "\n"
     ]
    },
    {
     "name": "stderr",
     "output_type": "stream",
     "text": [
      "\r",
      "Epoch:  62%|██████████████████████████████████████████████████████▌                                 | 93/150 [02:33<01:34,  1.66s/it]"
     ]
    },
    {
     "name": "stdout",
     "output_type": "stream",
     "text": [
      "\n",
      "Average train loss: 0.03633377956226468\n",
      "\n",
      "Validation loss: 0.22998210166891417\n",
      "Validation Accuracy: 0.9180967238689548\n",
      "\n"
     ]
    },
    {
     "name": "stderr",
     "output_type": "stream",
     "text": [
      "\r",
      "Epoch:  63%|███████████████████████████████████████████████████████▏                                | 94/150 [02:35<01:33,  1.66s/it]"
     ]
    },
    {
     "name": "stdout",
     "output_type": "stream",
     "text": [
      "\n",
      "Average train loss: 0.03510768122971058\n",
      "\n",
      "Validation loss: 0.22259646281599998\n",
      "Validation Accuracy: 0.9188767550702028\n",
      "\n"
     ]
    },
    {
     "name": "stderr",
     "output_type": "stream",
     "text": [
      "\r",
      "Epoch:  63%|███████████████████████████████████████████████████████▋                                | 95/150 [02:37<01:31,  1.66s/it]"
     ]
    },
    {
     "name": "stdout",
     "output_type": "stream",
     "text": [
      "\n",
      "Average train loss: 0.035575650185346606\n",
      "\n",
      "Validation loss: 0.2215599206586679\n",
      "Validation Accuracy: 0.9204368174726989\n",
      "\n"
     ]
    },
    {
     "name": "stderr",
     "output_type": "stream",
     "text": [
      "\r",
      "Epoch:  64%|████████████████████████████████████████████████████████▎                               | 96/150 [02:38<01:29,  1.66s/it]"
     ]
    },
    {
     "name": "stdout",
     "output_type": "stream",
     "text": [
      "\n",
      "Average train loss: 0.034345246478915216\n",
      "\n",
      "Validation loss: 0.22365787252783775\n",
      "Validation Accuracy: 0.9196567862714509\n",
      "\n"
     ]
    },
    {
     "name": "stderr",
     "output_type": "stream",
     "text": [
      "\r",
      "Epoch:  65%|████████████████████████████████████████████████████████▉                               | 97/150 [02:40<01:28,  1.66s/it]"
     ]
    },
    {
     "name": "stdout",
     "output_type": "stream",
     "text": [
      "\n",
      "Average train loss: 0.03265205178409815\n",
      "\n",
      "Validation loss: 0.22081087032953897\n",
      "Validation Accuracy: 0.9157566302652106\n",
      "\n"
     ]
    },
    {
     "name": "stderr",
     "output_type": "stream",
     "text": [
      "\r",
      "Epoch:  65%|█████████████████████████████████████████████████████████▍                              | 98/150 [02:42<01:26,  1.66s/it]"
     ]
    },
    {
     "name": "stdout",
     "output_type": "stream",
     "text": [
      "\n",
      "Average train loss: 0.03442514255642891\n",
      "\n",
      "Validation loss: 0.2181419382492701\n",
      "Validation Accuracy: 0.9180967238689548\n",
      "\n"
     ]
    },
    {
     "name": "stderr",
     "output_type": "stream",
     "text": [
      "\r",
      "Epoch:  66%|██████████████████████████████████████████████████████████                              | 99/150 [02:43<01:24,  1.66s/it]"
     ]
    },
    {
     "name": "stdout",
     "output_type": "stream",
     "text": [
      "\n",
      "Average train loss: 0.03321946430951357\n",
      "\n",
      "Validation loss: 0.21695801988244057\n",
      "Validation Accuracy: 0.9173166926677067\n",
      "\n"
     ]
    },
    {
     "name": "stderr",
     "output_type": "stream",
     "text": [
      "\r",
      "Epoch:  67%|██████████████████████████████████████████████████████████                             | 100/150 [02:45<01:23,  1.66s/it]"
     ]
    },
    {
     "name": "stdout",
     "output_type": "stream",
     "text": [
      "\n",
      "Average train loss: 0.03167382940649986\n",
      "\n",
      "Validation loss: 0.21811447416742644\n",
      "Validation Accuracy: 0.9196567862714509\n",
      "\n"
     ]
    },
    {
     "name": "stderr",
     "output_type": "stream",
     "text": [
      "\r",
      "Epoch:  67%|██████████████████████████████████████████████████████████▌                            | 101/150 [02:47<01:21,  1.66s/it]"
     ]
    },
    {
     "name": "stdout",
     "output_type": "stream",
     "text": [
      "\n",
      "Average train loss: 0.0322783874720335\n",
      "\n",
      "Validation loss: 0.2217300347983837\n",
      "Validation Accuracy: 0.9165366614664586\n",
      "\n"
     ]
    },
    {
     "name": "stderr",
     "output_type": "stream",
     "text": [
      "\r",
      "Epoch:  68%|███████████████████████████████████████████████████████████▏                           | 102/150 [02:48<01:19,  1.66s/it]"
     ]
    },
    {
     "name": "stdout",
     "output_type": "stream",
     "text": [
      "\n",
      "Average train loss: 0.030464356876909734\n",
      "\n",
      "Validation loss: 0.2215598983069261\n",
      "Validation Accuracy: 0.9173166926677067\n",
      "\n"
     ]
    },
    {
     "name": "stderr",
     "output_type": "stream",
     "text": [
      "\r",
      "Epoch:  69%|███████████████████████████████████████████████████████████▋                           | 103/150 [02:50<01:18,  1.66s/it]"
     ]
    },
    {
     "name": "stdout",
     "output_type": "stream",
     "text": [
      "\n",
      "Average train loss: 0.03192737294360995\n",
      "\n",
      "Validation loss: 0.23194504405061403\n",
      "Validation Accuracy: 0.9196567862714509\n",
      "\n"
     ]
    },
    {
     "name": "stderr",
     "output_type": "stream",
     "text": [
      "\r",
      "Epoch:  69%|████████████████████████████████████████████████████████████▎                          | 104/150 [02:52<01:16,  1.67s/it]"
     ]
    },
    {
     "name": "stdout",
     "output_type": "stream",
     "text": [
      "\n",
      "Average train loss: 0.03171227222308517\n",
      "\n",
      "Validation loss: 0.2301976072291533\n",
      "Validation Accuracy: 0.9180967238689548\n",
      "\n"
     ]
    },
    {
     "name": "stderr",
     "output_type": "stream",
     "text": [
      "\r",
      "Epoch:  70%|████████████████████████████████████████████████████████████▉                          | 105/150 [02:53<01:14,  1.67s/it]"
     ]
    },
    {
     "name": "stdout",
     "output_type": "stream",
     "text": [
      "\n",
      "Average train loss: 0.030507003515958787\n",
      "\n",
      "Validation loss: 0.22590026631951332\n",
      "Validation Accuracy: 0.9165366614664586\n",
      "\n"
     ]
    },
    {
     "name": "stderr",
     "output_type": "stream",
     "text": [
      "\r",
      "Epoch:  71%|█████████████████████████████████████████████████████████████▍                         | 106/150 [02:55<01:13,  1.66s/it]"
     ]
    },
    {
     "name": "stdout",
     "output_type": "stream",
     "text": [
      "\n",
      "Average train loss: 0.029211692921817304\n",
      "\n",
      "Validation loss: 0.2216905156771342\n",
      "Validation Accuracy: 0.9204368174726989\n",
      "\n"
     ]
    },
    {
     "name": "stderr",
     "output_type": "stream",
     "text": [
      "\r",
      "Epoch:  71%|██████████████████████████████████████████████████████████████                         | 107/150 [02:57<01:11,  1.67s/it]"
     ]
    },
    {
     "name": "stdout",
     "output_type": "stream",
     "text": [
      "\n",
      "Average train loss: 0.030741963870823383\n",
      "\n",
      "Validation loss: 0.2223238262037436\n",
      "Validation Accuracy: 0.9196567862714509\n",
      "\n"
     ]
    },
    {
     "name": "stderr",
     "output_type": "stream",
     "text": [
      "\r",
      "Epoch:  72%|██████████████████████████████████████████████████████████████▋                        | 108/150 [02:58<01:09,  1.67s/it]"
     ]
    },
    {
     "name": "stdout",
     "output_type": "stream",
     "text": [
      "\n",
      "Average train loss: 0.031740479841828345\n",
      "\n",
      "Validation loss: 0.22937624156475067\n",
      "Validation Accuracy: 0.9212168486739469\n",
      "\n"
     ]
    },
    {
     "name": "stderr",
     "output_type": "stream",
     "text": [
      "\r",
      "Epoch:  73%|███████████████████████████████████████████████████████████████▏                       | 109/150 [03:00<01:08,  1.67s/it]"
     ]
    },
    {
     "name": "stdout",
     "output_type": "stream",
     "text": [
      "\n",
      "Average train loss: 0.029585897773504257\n",
      "\n",
      "Validation loss: 0.22804900631308556\n",
      "Validation Accuracy: 0.9204368174726989\n",
      "\n"
     ]
    },
    {
     "name": "stderr",
     "output_type": "stream",
     "text": [
      "\r",
      "Epoch:  73%|███████████████████████████████████████████████████████████████▊                       | 110/150 [03:02<01:06,  1.66s/it]"
     ]
    },
    {
     "name": "stdout",
     "output_type": "stream",
     "text": [
      "\n",
      "Average train loss: 0.02950531680136919\n",
      "\n",
      "Validation loss: 0.22884340460101762\n",
      "Validation Accuracy: 0.9204368174726989\n",
      "\n"
     ]
    },
    {
     "name": "stderr",
     "output_type": "stream",
     "text": [
      "\r",
      "Epoch:  74%|████████████████████████████████████████████████████████████████▍                      | 111/150 [03:03<01:04,  1.66s/it]"
     ]
    },
    {
     "name": "stdout",
     "output_type": "stream",
     "text": [
      "\n",
      "Average train loss: 0.02847962088882923\n",
      "\n",
      "Validation loss: 0.22819923857847849\n",
      "Validation Accuracy: 0.9196567862714509\n",
      "\n"
     ]
    },
    {
     "name": "stderr",
     "output_type": "stream",
     "text": [
      "\r",
      "Epoch:  75%|████████████████████████████████████████████████████████████████▉                      | 112/150 [03:05<01:03,  1.67s/it]"
     ]
    },
    {
     "name": "stdout",
     "output_type": "stream",
     "text": [
      "\n",
      "Average train loss: 0.027842036560177804\n",
      "\n",
      "Validation loss: 0.22530624642968178\n",
      "Validation Accuracy: 0.9188767550702028\n",
      "\n"
     ]
    },
    {
     "name": "stderr",
     "output_type": "stream",
     "text": [
      "\r",
      "Epoch:  75%|█████████████████████████████████████████████████████████████████▌                     | 113/150 [03:07<01:01,  1.67s/it]"
     ]
    },
    {
     "name": "stdout",
     "output_type": "stream",
     "text": [
      "\n",
      "Average train loss: 0.029108739160001278\n",
      "\n",
      "Validation loss: 0.2263884407778581\n",
      "Validation Accuracy: 0.9204368174726989\n",
      "\n"
     ]
    },
    {
     "name": "stderr",
     "output_type": "stream",
     "text": [
      "\r",
      "Epoch:  76%|██████████████████████████████████████████████████████████████████                     | 114/150 [03:08<00:59,  1.67s/it]"
     ]
    },
    {
     "name": "stdout",
     "output_type": "stream",
     "text": [
      "\n",
      "Average train loss: 0.025764151830226182\n",
      "\n",
      "Validation loss: 0.22618405520915985\n",
      "Validation Accuracy: 0.9251170046801872\n",
      "\n"
     ]
    },
    {
     "name": "stderr",
     "output_type": "stream",
     "text": [
      "\r",
      "Epoch:  77%|██████████████████████████████████████████████████████████████████▋                    | 115/150 [03:10<00:58,  1.67s/it]"
     ]
    },
    {
     "name": "stdout",
     "output_type": "stream",
     "text": [
      "\n",
      "Average train loss: 0.024657932743430137\n",
      "\n",
      "Validation loss: 0.23016749694943428\n",
      "Validation Accuracy: 0.9204368174726989\n",
      "\n"
     ]
    },
    {
     "name": "stderr",
     "output_type": "stream",
     "text": [
      "\r",
      "Epoch:  77%|███████████████████████████████████████████████████████████████████▎                   | 116/150 [03:12<00:56,  1.67s/it]"
     ]
    },
    {
     "name": "stdout",
     "output_type": "stream",
     "text": [
      "\n",
      "Average train loss: 0.029344631247222423\n",
      "\n",
      "Validation loss: 0.2286977916955948\n",
      "Validation Accuracy: 0.9204368174726989\n",
      "\n"
     ]
    },
    {
     "name": "stderr",
     "output_type": "stream",
     "text": [
      "\r",
      "Epoch:  78%|███████████████████████████████████████████████████████████████████▊                   | 117/150 [03:13<00:54,  1.67s/it]"
     ]
    },
    {
     "name": "stdout",
     "output_type": "stream",
     "text": [
      "\n",
      "Average train loss: 0.027047790642827748\n",
      "\n",
      "Validation loss: 0.22949058189988136\n",
      "Validation Accuracy: 0.9173166926677067\n",
      "\n"
     ]
    },
    {
     "name": "stderr",
     "output_type": "stream",
     "text": [
      "\r",
      "Epoch:  79%|████████████████████████████████████████████████████████████████████▍                  | 118/150 [03:15<00:53,  1.67s/it]"
     ]
    },
    {
     "name": "stdout",
     "output_type": "stream",
     "text": [
      "\n",
      "Average train loss: 0.025935949538834394\n",
      "\n",
      "Validation loss: 0.23045369486014047\n",
      "Validation Accuracy: 0.9196567862714509\n",
      "\n"
     ]
    },
    {
     "name": "stderr",
     "output_type": "stream",
     "text": [
      "\r",
      "Epoch:  79%|█████████████████████████████████████████████████████████████████████                  | 119/150 [03:17<00:51,  1.67s/it]"
     ]
    },
    {
     "name": "stdout",
     "output_type": "stream",
     "text": [
      "\n",
      "Average train loss: 0.024946022173389794\n",
      "\n",
      "Validation loss: 0.22784730419516563\n",
      "Validation Accuracy: 0.9196567862714509\n",
      "\n"
     ]
    },
    {
     "name": "stderr",
     "output_type": "stream",
     "text": [
      "\r",
      "Epoch:  80%|█████████████████████████████████████████████████████████████████████▌                 | 120/150 [03:18<00:49,  1.67s/it]"
     ]
    },
    {
     "name": "stdout",
     "output_type": "stream",
     "text": [
      "\n",
      "Average train loss: 0.02398345812689513\n",
      "\n",
      "Validation loss: 0.22696296001474062\n",
      "Validation Accuracy: 0.9212168486739469\n",
      "\n"
     ]
    },
    {
     "name": "stderr",
     "output_type": "stream",
     "text": [
      "\r",
      "Epoch:  81%|██████████████████████████████████████████████████████████████████████▏                | 121/150 [03:20<00:48,  1.67s/it]"
     ]
    },
    {
     "name": "stdout",
     "output_type": "stream",
     "text": [
      "\n",
      "Average train loss: 0.024391946271061896\n",
      "\n",
      "Validation loss: 0.22517136856913567\n",
      "Validation Accuracy: 0.9196567862714509\n",
      "\n"
     ]
    },
    {
     "name": "stderr",
     "output_type": "stream",
     "text": [
      "\r",
      "Epoch:  81%|██████████████████████████████████████████████████████████████████████▊                | 122/150 [03:22<00:46,  1.67s/it]"
     ]
    },
    {
     "name": "stdout",
     "output_type": "stream",
     "text": [
      "\n",
      "Average train loss: 0.026350593641400338\n",
      "\n",
      "Validation loss: 0.2272191842397054\n",
      "Validation Accuracy: 0.9227769110764431\n",
      "\n"
     ]
    },
    {
     "name": "stderr",
     "output_type": "stream",
     "text": [
      "\r",
      "Epoch:  82%|███████████████████████████████████████████████████████████████████████▎               | 123/150 [03:23<00:45,  1.67s/it]"
     ]
    },
    {
     "name": "stdout",
     "output_type": "stream",
     "text": [
      "\n",
      "Average train loss: 0.026073349937796593\n",
      "\n",
      "Validation loss: 0.2299318810304006\n",
      "Validation Accuracy: 0.9235569422776911\n",
      "\n"
     ]
    },
    {
     "name": "stderr",
     "output_type": "stream",
     "text": [
      "\r",
      "Epoch:  83%|███████████████████████████████████████████████████████████████████████▉               | 124/150 [03:25<00:43,  1.67s/it]"
     ]
    },
    {
     "name": "stdout",
     "output_type": "stream",
     "text": [
      "\n",
      "Average train loss: 0.025533839501440524\n",
      "\n",
      "Validation loss: 0.23394761607050896\n",
      "Validation Accuracy: 0.9212168486739469\n",
      "\n"
     ]
    },
    {
     "name": "stderr",
     "output_type": "stream",
     "text": [
      "\r",
      "Epoch:  83%|████████████████████████████████████████████████████████████████████████▌              | 125/150 [03:27<00:41,  1.67s/it]"
     ]
    },
    {
     "name": "stdout",
     "output_type": "stream",
     "text": [
      "\n",
      "Average train loss: 0.025590826049447058\n",
      "\n",
      "Validation loss: 0.2372616579135259\n",
      "Validation Accuracy: 0.921996879875195\n",
      "\n"
     ]
    },
    {
     "name": "stderr",
     "output_type": "stream",
     "text": [
      "\r",
      "Epoch:  84%|█████████████████████████████████████████████████████████████████████████              | 126/150 [03:28<00:39,  1.67s/it]"
     ]
    },
    {
     "name": "stdout",
     "output_type": "stream",
     "text": [
      "\n",
      "Average train loss: 0.0242617894615978\n",
      "\n",
      "Validation loss: 0.23914312198758125\n",
      "Validation Accuracy: 0.9204368174726989\n",
      "\n"
     ]
    },
    {
     "name": "stderr",
     "output_type": "stream",
     "text": [
      "\r",
      "Epoch:  85%|█████████████████████████████████████████████████████████████████████████▋             | 127/150 [03:30<00:38,  1.67s/it]"
     ]
    },
    {
     "name": "stdout",
     "output_type": "stream",
     "text": [
      "\n",
      "Average train loss: 0.024463318660855292\n",
      "\n",
      "Validation loss: 0.23339499036471048\n",
      "Validation Accuracy: 0.9251170046801872\n",
      "\n"
     ]
    },
    {
     "name": "stderr",
     "output_type": "stream",
     "text": [
      "\r",
      "Epoch:  85%|██████████████████████████████████████████████████████████████████████████▏            | 128/150 [03:32<00:36,  1.67s/it]"
     ]
    },
    {
     "name": "stdout",
     "output_type": "stream",
     "text": [
      "\n",
      "Average train loss: 0.024548647068440912\n",
      "\n",
      "Validation loss: 0.23226018870870271\n",
      "Validation Accuracy: 0.921996879875195\n",
      "\n"
     ]
    },
    {
     "name": "stderr",
     "output_type": "stream",
     "text": [
      "\r",
      "Epoch:  86%|██████████████████████████████████████████████████████████████████████████▊            | 129/150 [03:33<00:35,  1.67s/it]"
     ]
    },
    {
     "name": "stdout",
     "output_type": "stream",
     "text": [
      "\n",
      "Average train loss: 0.024704992156475782\n",
      "\n",
      "Validation loss: 0.23171428963541985\n",
      "Validation Accuracy: 0.9243369734789392\n",
      "\n"
     ]
    },
    {
     "name": "stderr",
     "output_type": "stream",
     "text": [
      "\r",
      "Epoch:  87%|███████████████████████████████████████████████████████████████████████████▍           | 130/150 [03:35<00:33,  1.67s/it]"
     ]
    },
    {
     "name": "stdout",
     "output_type": "stream",
     "text": [
      "\n",
      "Average train loss: 0.023613430131226777\n",
      "\n",
      "Validation loss: 0.23199601843953133\n",
      "Validation Accuracy: 0.9235569422776911\n",
      "\n"
     ]
    },
    {
     "name": "stderr",
     "output_type": "stream",
     "text": [
      "\r",
      "Epoch:  87%|███████████████████████████████████████████████████████████████████████████▉           | 131/150 [03:37<00:31,  1.66s/it]"
     ]
    },
    {
     "name": "stdout",
     "output_type": "stream",
     "text": [
      "\n",
      "Average train loss: 0.024160508047789336\n",
      "\n",
      "Validation loss: 0.23396852115790048\n",
      "Validation Accuracy: 0.9243369734789392\n",
      "\n"
     ]
    },
    {
     "name": "stderr",
     "output_type": "stream",
     "text": [
      "\r",
      "Epoch:  88%|████████████████████████████████████████████████████████████████████████████▌          | 132/150 [03:38<00:29,  1.67s/it]"
     ]
    },
    {
     "name": "stdout",
     "output_type": "stream",
     "text": [
      "\n",
      "Average train loss: 0.0232415289664641\n",
      "\n",
      "Validation loss: 0.23534218097726503\n",
      "Validation Accuracy: 0.9227769110764431\n",
      "\n"
     ]
    },
    {
     "name": "stderr",
     "output_type": "stream",
     "text": [
      "\r",
      "Epoch:  89%|█████████████████████████████████████████████████████████████████████████████▏         | 133/150 [03:40<00:28,  1.67s/it]"
     ]
    },
    {
     "name": "stdout",
     "output_type": "stream",
     "text": [
      "\n",
      "Average train loss: 0.0238112972676754\n",
      "\n",
      "Validation loss: 0.234417837113142\n",
      "Validation Accuracy: 0.9243369734789392\n",
      "\n"
     ]
    },
    {
     "name": "stderr",
     "output_type": "stream",
     "text": [
      "\r",
      "Epoch:  89%|█████████████████████████████████████████████████████████████████████████████▋         | 134/150 [03:42<00:26,  1.67s/it]"
     ]
    },
    {
     "name": "stdout",
     "output_type": "stream",
     "text": [
      "\n",
      "Average train loss: 0.022704738564789294\n",
      "\n",
      "Validation loss: 0.2355023187895616\n",
      "Validation Accuracy: 0.9243369734789392\n",
      "\n"
     ]
    },
    {
     "name": "stderr",
     "output_type": "stream",
     "text": [
      "\r",
      "Epoch:  90%|██████████████████████████████████████████████████████████████████████████████▎        | 135/150 [03:43<00:24,  1.67s/it]"
     ]
    },
    {
     "name": "stdout",
     "output_type": "stream",
     "text": [
      "\n",
      "Average train loss: 0.025985995344817638\n",
      "\n",
      "Validation loss: 0.23386907453338304\n",
      "Validation Accuracy: 0.9227769110764431\n",
      "\n"
     ]
    },
    {
     "name": "stderr",
     "output_type": "stream",
     "text": [
      "\r",
      "Epoch:  91%|██████████████████████████████████████████████████████████████████████████████▉        | 136/150 [03:45<00:23,  1.67s/it]"
     ]
    },
    {
     "name": "stdout",
     "output_type": "stream",
     "text": [
      "\n",
      "Average train loss: 0.02386925583705306\n",
      "\n",
      "Validation loss: 0.23577036584417024\n",
      "Validation Accuracy: 0.9235569422776911\n",
      "\n"
     ]
    },
    {
     "name": "stderr",
     "output_type": "stream",
     "text": [
      "\r",
      "Epoch:  91%|███████████████████████████████████████████████████████████████████████████████▍       | 137/150 [03:47<00:21,  1.67s/it]"
     ]
    },
    {
     "name": "stdout",
     "output_type": "stream",
     "text": [
      "\n",
      "Average train loss: 0.02306432768702507\n",
      "\n",
      "Validation loss: 0.23545903091629347\n",
      "Validation Accuracy: 0.9227769110764431\n",
      "\n"
     ]
    },
    {
     "name": "stderr",
     "output_type": "stream",
     "text": [
      "\r",
      "Epoch:  92%|████████████████████████████████████████████████████████████████████████████████       | 138/150 [03:48<00:20,  1.67s/it]"
     ]
    },
    {
     "name": "stdout",
     "output_type": "stream",
     "text": [
      "\n",
      "Average train loss: 0.028179264459758997\n",
      "\n",
      "Validation loss: 0.23399144783616066\n",
      "Validation Accuracy: 0.921996879875195\n",
      "\n"
     ]
    },
    {
     "name": "stderr",
     "output_type": "stream",
     "text": [
      "\r",
      "Epoch:  93%|████████████████████████████████████████████████████████████████████████████████▌      | 139/150 [03:50<00:18,  1.67s/it]"
     ]
    },
    {
     "name": "stdout",
     "output_type": "stream",
     "text": [
      "\n",
      "Average train loss: 0.033419864699244496\n",
      "\n",
      "Validation loss: 0.23408964773019156\n",
      "Validation Accuracy: 0.921996879875195\n",
      "\n"
     ]
    },
    {
     "name": "stderr",
     "output_type": "stream",
     "text": [
      "\r",
      "Epoch:  93%|█████████████████████████████████████████████████████████████████████████████████▏     | 140/150 [03:52<00:16,  1.67s/it]"
     ]
    },
    {
     "name": "stdout",
     "output_type": "stream",
     "text": [
      "\n",
      "Average train loss: 0.030765258185565473\n",
      "\n",
      "Validation loss: 0.23645331586400667\n",
      "Validation Accuracy: 0.9227769110764431\n",
      "\n"
     ]
    },
    {
     "name": "stderr",
     "output_type": "stream",
     "text": [
      "\r",
      "Epoch:  94%|█████████████████████████████████████████████████████████████████████████████████▊     | 141/150 [03:53<00:14,  1.67s/it]"
     ]
    },
    {
     "name": "stdout",
     "output_type": "stream",
     "text": [
      "\n",
      "Average train loss: 0.021123081929981708\n",
      "\n",
      "Validation loss: 0.23668825750549635\n",
      "Validation Accuracy: 0.921996879875195\n",
      "\n"
     ]
    },
    {
     "name": "stderr",
     "output_type": "stream",
     "text": [
      "\r",
      "Epoch:  95%|██████████████████████████████████████████████████████████████████████████████████▎    | 142/150 [03:55<00:13,  1.67s/it]"
     ]
    },
    {
     "name": "stdout",
     "output_type": "stream",
     "text": [
      "\n",
      "Average train loss: 0.022197427544742823\n",
      "\n",
      "Validation loss: 0.23679751281936964\n",
      "Validation Accuracy: 0.9227769110764431\n",
      "\n"
     ]
    },
    {
     "name": "stderr",
     "output_type": "stream",
     "text": [
      "\r",
      "Epoch:  95%|██████████████████████████████████████████████████████████████████████████████████▉    | 143/150 [03:57<00:11,  1.67s/it]"
     ]
    },
    {
     "name": "stdout",
     "output_type": "stream",
     "text": [
      "\n",
      "Average train loss: 0.024205587469041348\n",
      "\n",
      "Validation loss: 0.23779658476511636\n",
      "Validation Accuracy: 0.9235569422776911\n",
      "\n"
     ]
    },
    {
     "name": "stderr",
     "output_type": "stream",
     "text": [
      "\r",
      "Epoch:  96%|███████████████████████████████████████████████████████████████████████████████████▌   | 144/150 [03:58<00:09,  1.67s/it]"
     ]
    },
    {
     "name": "stdout",
     "output_type": "stream",
     "text": [
      "\n",
      "Average train loss: 0.02262835898902267\n",
      "\n",
      "Validation loss: 0.23769578958551088\n",
      "Validation Accuracy: 0.9243369734789392\n",
      "\n"
     ]
    },
    {
     "name": "stderr",
     "output_type": "stream",
     "text": [
      "\r",
      "Epoch:  97%|████████████████████████████████████████████████████████████████████████████████████   | 145/150 [04:00<00:08,  1.67s/it]"
     ]
    },
    {
     "name": "stdout",
     "output_type": "stream",
     "text": [
      "\n",
      "Average train loss: 0.021364662162959576\n",
      "\n",
      "Validation loss: 0.23765146608153978\n",
      "Validation Accuracy: 0.9227769110764431\n",
      "\n"
     ]
    },
    {
     "name": "stderr",
     "output_type": "stream",
     "text": [
      "\r",
      "Epoch:  97%|████████████████████████████████████████████████████████████████████████████████████▋  | 146/150 [04:02<00:06,  1.67s/it]"
     ]
    },
    {
     "name": "stdout",
     "output_type": "stream",
     "text": [
      "\n",
      "Average train loss: 0.021998705379664897\n",
      "\n",
      "Validation loss: 0.23748906577626863\n",
      "Validation Accuracy: 0.9235569422776911\n",
      "\n"
     ]
    },
    {
     "name": "stderr",
     "output_type": "stream",
     "text": [
      "\r",
      "Epoch:  98%|█████████████████████████████████████████████████████████████████████████████████████▎ | 147/150 [04:03<00:04,  1.67s/it]"
     ]
    },
    {
     "name": "stdout",
     "output_type": "stream",
     "text": [
      "\n",
      "Average train loss: 0.022436744552105665\n",
      "\n",
      "Validation loss: 0.23732266947627068\n",
      "Validation Accuracy: 0.921996879875195\n",
      "\n"
     ]
    },
    {
     "name": "stderr",
     "output_type": "stream",
     "text": [
      "\r",
      "Epoch:  99%|█████████████████████████████████████████████████████████████████████████████████████▊ | 148/150 [04:05<00:03,  1.66s/it]"
     ]
    },
    {
     "name": "stdout",
     "output_type": "stream",
     "text": [
      "\n",
      "Average train loss: 0.024782582968473434\n",
      "\n",
      "Validation loss: 0.23726206397016844\n",
      "Validation Accuracy: 0.921996879875195\n",
      "\n"
     ]
    },
    {
     "name": "stderr",
     "output_type": "stream",
     "text": [
      "\r",
      "Epoch:  99%|██████████████████████████████████████████████████████████████████████████████████████▍| 149/150 [04:07<00:01,  1.66s/it]"
     ]
    },
    {
     "name": "stdout",
     "output_type": "stream",
     "text": [
      "\n",
      "Average train loss: 0.02042435945942998\n",
      "\n",
      "Validation loss: 0.2373263289531072\n",
      "Validation Accuracy: 0.9227769110764431\n",
      "\n"
     ]
    },
    {
     "name": "stderr",
     "output_type": "stream",
     "text": [
      "Epoch: 100%|███████████████████████████████████████████████████████████████████████████████████████| 150/150 [04:08<00:00,  1.66s/it]"
     ]
    },
    {
     "name": "stdout",
     "output_type": "stream",
     "text": [
      "\n",
      "Average train loss: 0.023089685812592506\n",
      "\n",
      "Validation loss: 0.23734610403577486\n",
      "Validation Accuracy: 0.9227769110764431\n",
      "\n"
     ]
    },
    {
     "name": "stderr",
     "output_type": "stream",
     "text": [
      "\n"
     ]
    }
   ],
   "source": [
    "## Store the average loss after each epoch so we can plot them.\n",
    "import copy\n",
    "loss_values, validation_loss_values = [], []\n",
    "\n",
    "test_acc = []\n",
    "\n",
    "max_test = 10\n",
    "\n",
    "for e in trange(epochs, desc=\"Epoch\"):\n",
    "    \n",
    "    \n",
    "    \n",
    "    # ========================================\n",
    "    #               Training\n",
    "    # ========================================\n",
    "    # Perform one full pass over the training set.\n",
    "\n",
    "    # Put the model into training mode.\n",
    "    model.train()\n",
    "    # Reset the total loss for this epoch.\n",
    "    total_loss = 0\n",
    "\n",
    "    # Training loop\n",
    "    for step, batch in enumerate(train_dataloader):\n",
    "        # add batch to gpu\n",
    "        batch = tuple(t.to(device) for t in batch)\n",
    "        b_input_ids, b_input_mask, b_labels = batch\n",
    "        # Always clear any previously calculated gradients before performing a backward pass.\n",
    "        model.zero_grad()\n",
    "        # forward pass\n",
    "        # This will return the loss (rather than the model output)\n",
    "        # because we have provided the `labels`.\n",
    "        outputs = model(b_input_ids, token_type_ids=None,\n",
    "                        attention_mask=b_input_mask, labels=b_labels)\n",
    "        # get the loss\n",
    "        loss = outputs[0]\n",
    "        # Perform a backward pass to calculate the gradients.\n",
    "        loss.backward()\n",
    "        # track train loss\n",
    "        total_loss += loss.item()\n",
    "        # Clip the norm of the gradient\n",
    "        # This is to help prevent the \"exploding gradients\" problem.\n",
    "        torch.nn.utils.clip_grad_norm_(parameters=model.parameters(), max_norm=max_grad_norm)\n",
    "        # update parameters\n",
    "        optimizer.step()\n",
    "        # Update the learning rate.\n",
    "        scheduler.step()\n",
    "\n",
    "    # Calculate the average loss over the training data.\n",
    "    avg_train_loss = total_loss / len(train_dataloader)\n",
    "    print(\"\\nAverage train loss: {}\".format(avg_train_loss))\n",
    "\n",
    "    # Store the loss value for plotting the learning curve.\n",
    "    loss_values.append(avg_train_loss)\n",
    "\n",
    "\n",
    "    # ========================================\n",
    "    #               Validation\n",
    "    # ========================================\n",
    "    # After the completion of each training epoch, measure our performance on\n",
    "    # our validation set.\n",
    "\n",
    "    # Put the model into evaluation mode\n",
    "    model.eval()\n",
    "    # Reset the validation loss for this epoch.\n",
    "    eval_loss, eval_accuracy = 0, 0\n",
    "    nb_eval_steps, nb_eval_examples = 0, 0\n",
    "    predictions , true_labels = [], []\n",
    "    for batch in valid_dataloader:\n",
    "        batch = tuple(t.to(device) for t in batch)\n",
    "        b_input_ids, b_input_mask, b_labels = batch\n",
    "\n",
    "        # Telling the model not to compute or store gradients,\n",
    "        # saving memory and speeding up validation\n",
    "        with torch.no_grad():\n",
    "            # Forward pass, calculate logit predictions.\n",
    "            # This will return the logits rather than the loss because we have not provided labels.\n",
    "            outputs = model(b_input_ids, token_type_ids=None,\n",
    "                            attention_mask=b_input_mask, labels=b_labels)\n",
    "        # Move logits and labels to CPU\n",
    "        logits = outputs[1].detach().cpu().numpy()\n",
    "        label_ids = b_labels.to('cpu').numpy()\n",
    "\n",
    "        # Calculate the accuracy for this batch of test sentences.\n",
    "        eval_loss += outputs[0].mean().item()\n",
    "        predictions.extend([list(p) for p in np.argmax(logits, axis=2)])\n",
    "        true_labels.extend(label_ids)\n",
    "\n",
    "    eval_loss = eval_loss / len(valid_dataloader)\n",
    "    validation_loss_values.append(eval_loss)\n",
    "    print(\"\\nValidation loss: {}\".format(eval_loss))\n",
    "    pred_tags = [tag_values[p_i] for p, l in zip(predictions, true_labels)\n",
    "                                 for p_i, l_i in zip(p, l) if tag_values[l_i] != \"PAD\"]\n",
    "    valid_tags = [tag_values[l_i] for l in true_labels\n",
    "                                  for l_i in l if tag_values[l_i] != \"PAD\"]\n",
    "\n",
    "    print(\"Validation Accuracy: {}\".format(accuracy_score(pred_tags, valid_tags)))\n",
    "    #print(\"Validation F1-Score: {}\".format(f1_score(pred_tags, valid_tags)))\n",
    "    print()\n",
    "    a = eval_loss\n",
    "    test_acc.append(a)\n",
    "    if a <= max_test:\n",
    "        max_test = a\n",
    "    elif a * 1.2 == max_test:\n",
    "        f = open(\"text.ck\", \"w\")\n",
    "        torch.save(model, \"test.ck\")\n",
    "        f.close()"
   ]
  },
  {
   "cell_type": "code",
   "execution_count": 22,
   "metadata": {
    "colab": {
     "base_uri": "https://localhost:8080/",
     "height": 427
    },
    "id": "DY0dJeiF5Xao",
    "outputId": "ff5516fd-e7c1-4817-a764-1709cf212126"
   },
   "outputs": [
    {
     "data": {
      "image/png": "[encoded data removed]",
      "text/plain": [
       "<Figure size 1200x600 with 1 Axes>"
      ]
     },
     "metadata": {},
     "output_type": "display_data"
    }
   ],
   "source": [
    "# Use plot styling from seaborn.\n",
    "sns.set(style='darkgrid')\n",
    "\n",
    "# Increase the plot size and font size.\n",
    "sns.set(font_scale=1.5)\n",
    "plt.rcParams[\"figure.figsize\"] = (12,6)\n",
    "\n",
    "# Plot the learning curve.\n",
    "plt.plot(loss_values, 'b-o', label=\"training loss\")\n",
    "plt.plot(validation_loss_values, 'r-o', label=\"validation loss\")\n",
    "\n",
    "# Label the plot.\n",
    "plt.title(\"Learning curve\")\n",
    "plt.xlabel(\"Epoch\")\n",
    "plt.ylabel(\"Loss\")\n",
    "plt.legend()\n",
    "\n",
    "plt.show()"
   ]
  },
  {
   "cell_type": "markdown",
   "metadata": {
    "id": "cOYQWNFEJeHC"
   },
   "source": [
    "# Performance on test data"
   ]
  },
  {
   "cell_type": "code",
   "execution_count": 23,
   "metadata": {
    "colab": {
     "base_uri": "https://localhost:8080/"
    },
    "id": "8WcmlxmjWXz2",
    "outputId": "77aade8e-a9ce-4e06-dfb7-2055864ddc57"
   },
   "outputs": [
    {
     "name": "stdout",
     "output_type": "stream",
     "text": [
      "[2.4837438265482583, 2.18564772605896, 1.712647835413615, 1.1120134790738423, 0.7102320591608683, 0.5983279347419739, 0.5211707651615143, 0.45453078548113507, 0.4099598328272502, 0.3763286719719569, 0.3521505494912465, 0.3285818099975586, 0.3118108759323756, 0.2950112372636795, 0.2843092729647954, 0.27333658436934155, 0.26667584975560504, 0.25992659231026966, 0.25670064489046734, 0.2466250086824099, 0.23815766225258508, 0.23514583458503088, 0.23091437170902887, 0.22790576765934625, 0.22360478093226752, 0.21607442696889242, 0.2199520394206047, 0.219886414706707, 0.21269793808460236, 0.21327281246582666, 0.2098736191789309, 0.20529203365246454, 0.20766281833251318, 0.20182796319325766, 0.20148521413405737, 0.20352348188559213, 0.19829141100247702, 0.20534949253002802, 0.20251909146706262, 0.19190985833605131, 0.20330577964584032, 0.19696017603079477, 0.19281881426771483, 0.20388724903265634, 0.19849182044466337, 0.19953880086541176, 0.1935324321190516, 0.20196696246663728, 0.20062029361724854, 0.20294109483559927, 0.20484714085857073, 0.20744608342647552, 0.20180545623103777, 0.20858214298884073, 0.2077267368634542, 0.2043374925851822, 0.21389401083191237, 0.20425856734315553, 0.20869820937514305, 0.20826105400919914, 0.2066142645974954, 0.21304520592093468, 0.2173494944969813, 0.21539530530571938, 0.20966567719976106, 0.21376967802643776, 0.2149669515589873, 0.20670099183917046, 0.21197473630309105, 0.210310826698939, 0.2187103865047296, 0.21238703529040018, 0.2110717880229155, 0.2111283876001835, 0.21616563325126967, 0.20395345985889435, 0.21488705401619276, 0.21440330147743225, 0.21794814243912697, 0.2136292407910029, 0.2141840656598409, 0.21814454471071562, 0.21624177197615305, 0.21629189824064574, 0.22391692300637564, 0.21560335780183473, 0.22262064988414446, 0.21696936587492624, 0.21790645147363344, 0.2241304119427999, 0.22265530501802763, 0.21950344617168108, 0.22998210166891417, 0.22259646281599998, 0.2215599206586679, 0.22365787252783775, 0.22081087032953897, 0.2181419382492701, 0.21695801988244057, 0.21811447416742644, 0.2217300347983837, 0.2215598983069261, 0.23194504405061403, 0.2301976072291533, 0.22590026631951332, 0.2216905156771342, 0.2223238262037436, 0.22937624156475067, 0.22804900631308556, 0.22884340460101762, 0.22819923857847849, 0.22530624642968178, 0.2263884407778581, 0.22618405520915985, 0.23016749694943428, 0.2286977916955948, 0.22949058189988136, 0.23045369486014047, 0.22784730419516563, 0.22696296001474062, 0.22517136856913567, 0.2272191842397054, 0.2299318810304006, 0.23394761607050896, 0.2372616579135259, 0.23914312198758125, 0.23339499036471048, 0.23226018870870271, 0.23171428963541985, 0.23199601843953133, 0.23396852115790048, 0.23534218097726503, 0.234417837113142, 0.2355023187895616, 0.23386907453338304, 0.23577036584417024, 0.23545903091629347, 0.23399144783616066, 0.23408964773019156, 0.23645331586400667, 0.23668825750549635, 0.23679751281936964, 0.23779658476511636, 0.23769578958551088, 0.23765146608153978, 0.23748906577626863, 0.23732266947627068, 0.23726206397016844, 0.2373263289531072, 0.23734610403577486]\n"
     ]
    }
   ],
   "source": [
    "print(test_acc)"
   ]
  },
  {
   "cell_type": "code",
   "execution_count": 24,
   "metadata": {},
   "outputs": [
    {
     "data": {
      "image/png": "[encoded data removed]",
      "text/plain": [
       "<Figure size 1200x600 with 1 Axes>"
      ]
     },
     "metadata": {},
     "output_type": "display_data"
    }
   ],
   "source": [
    "sns.set(style='darkgrid')\n",
    "\n",
    "# Increase the plot size and font size.\n",
    "sns.set(font_scale=1.5)\n",
    "plt.rcParams[\"figure.figsize\"] = (12,6)\n",
    "\n",
    "# Plot the learning curve.\n",
    "plt.plot(test_acc, 'b-o', label=\"test accuracy\")\n",
    "\n",
    "\n",
    "# Label the plot.\n",
    "plt.title(\"\")\n",
    "plt.xlabel(\"Epoch\")\n",
    "plt.ylabel(\"Test Accuracy\")\n",
    "plt.legend()\n",
    "\n",
    "plt.show()"
   ]
  },
  {
   "cell_type": "code",
   "execution_count": 32,
   "metadata": {},
   "outputs": [
    {
     "name": "stdout",
     "output_type": "stream",
     "text": [
      "94 0.9529411764705882\n",
      "0.7892861188668224\n",
      "___________________0___________________\n",
      "\n",
      "Predict labels:  ['0', '0', 'R', 'R', 'R', 'R', 'R', 'R', '0', '0', '0', '0', '0', '0', '0', '0', '0', 'M', '0', '0', '0', '0', '0', 'C', 'C', 'C', 'C-cont', 'C-cont', 'C-cont', 'C-cont', '0', 'C', 'C', '0', '0', '0', '0', '0', '0', '0', '0', '0', '0', '0', '0', '0', '0', '0', '0', '0', '0', '0', '0', '0', '0', '0', '0', '0', '0', '0', '0', '0', 'R', 'R', 'R', 'R', 'R', 'R', '0', '0', '0', '0', '0', '0', '0', '0', '0', '0', '0', '0', '0', '0', 'C', 'C', '0', '0', '0', '0', '0', '0', '0', '0', '0', 'C', 'C', '0', '0', '0', '0', '0', '0', '0', '0', '0', '0', 'Q', 'Q', 'Q', 'Q-cont', 'Q-cont', 'Q-cont', 'Q-cont', 'Q-cont', 'Q-cont', '0', 'C', 'C', '0', '0', '0', 'M', '0', '0', '0', '0', '0', '0', '0', '0', 'R', 'R', 'R', 'R', 'R', 'R', '0', '0', '0', '0', '0', 'Q', 'Q', 'Q', 'Q-cont', 'Q-cont', '0', '0', '0', '0', '0', '0', '0', 'Q', 'Q', 'Q', 'Q-cont', 'Q-cont', '0', '0', '0', '0', '0', '0']\n",
      "Actual labels:  ['0', '0', '0', 'R', 'R', 'R', 'R', 'R', 'R', '0', '0', '0', '0', '0', '0', '0', '0', '0', 'M', '0', '0', '0', '0', '0', 'C', 'C', 'C', 'C-cont', 'C-cont', 'C-cont', 'C-cont', '0', 'C', 'C', '0', '0', '0', '0', '0', '0', '0', '0', '0', '0', '0', '0', '0', '0', '0', '0', '0', '0', '0', '0', '0', '0', '0', '0', '0', '0', '0', '0', '0', 'R', 'R', 'R', 'R', 'R', 'R', '0', '0', '0', '0', '0', '0', '0', '0', '0', '0', '0', '0', '0', '0', 'C', 'C', '0', '0', '0', '0', '0', '0', '0', '0', '0', 'C', 'C', '0', '0', '0', '0', '0', '0', '0', '0', '0', '0', 'Q', 'Q', 'Q', 'Q-cont', 'Q-cont', 'Q-cont', 'Q-cont', 'Q-cont', 'Q-cont', '0', 'C', 'C', '0', '0', '0', 'M', '0', '0', '0', '0', '0', '0', '0', '0', 'R', 'R', 'R', 'R', 'R', 'R', '0', '0', '0', '0', '0', 'Q', 'Q', 'Q', 'Q-cont', 'Q-cont', '0', '0', '0', '0', '0', '0', '0', 'Q', 'Q', 'Q', 'Q-cont', 'Q-cont', '0', '0', '0', '0', '0', '0', '0']\n",
      "\n",
      "\n",
      "___________________1___________________\n",
      "\n",
      "Predict labels:  ['0', '0', '0', '0', '0', 'C', 'C', '0', '0', '0', '0', '0', '0', '0', '0', '0', '0', '0', 'C', 'C', '0', '0', '0', '0', '0', '0', '0', '0', '0', 'C', 'C', '0', 'C', 'C', 'C', 'C', 'C', '0', '0', '0', '0', '0', '0', '0', '0', '0', '0', '0', '0', 'A', 'A', 'A', 'A', 'A', 'A', 'A', 'A', 'A', 'A', 'A', 'A', 'A', 'A', 'A', 'A', 'A', 'A', 'A', 'A', 'A', 'A', 'A', 'A', 'A-cont', 'A-cont', 'A-cont', 'A-cont', 'A-cont', 'Q', 'Q', 'Q-cont', 'Q-cont', 'Q-cont', '0', '0']\n",
      "Actual labels:  ['0', '0', '0', '0', '0', '0', 'C', 'C', '0', '0', '0', '0', '0', '0', '0', '0', '0', '0', '0', 'C', 'C', '0', '0', '0', '0', '0', '0', '0', '0', '0', 'C', 'C', '0', 'C', 'C', 'C', 'C', 'C', '0', '0', '0', '0', '0', '0', '0', '0', '0', '0', '0', '0', 'A', 'A', 'A', 'A', 'A', 'A', 'A', 'A', 'A', 'A', 'A', 'A', 'A', 'A', 'A', 'A', 'A', 'A', 'A', 'A', 'A', 'A', 'A', 'A', 'A-cont', 'A-cont', 'A-cont', 'A-cont', 'A-cont', 'Q', 'Q', 'Q-cont', 'Q-cont', 'Q-cont', '0', '0', '0']\n",
      "\n",
      "\n",
      "___________________2___________________\n",
      "\n",
      "Predict labels:  ['0', '0', '0', 'C', 'C', '0', '0', '0', '0', 'C', 'C', '0', '0', '0', '0', '0', '0', '0', 'Q', 'Q', 'Q', 'Q-cont', 'A', 'A', 'A', '0', '0', 'T', 'T-cont']\n",
      "Actual labels:  ['0', '0', '0', '0', 'C', 'C', '0', '0', '0', '0', 'C', 'C-cont', '0', '0', '0', '0', '0', '0', '0', 'Q', 'Q', 'Q', 'Q-cont', 'A', 'A', 'A', '0', '0', 'T', 'T-cont', '0']\n",
      "\n",
      "\n",
      "___________________3___________________\n",
      "\n",
      "Predict labels:  ['0', '0', '0', '0', '0', '0', '0', 'C', 'C', '0', '0', '0', '0', '0', '0', '0', '0', '0', '0', '0', '0', '0', '0', '0', 'M', 'M', '0', '0', '0', '0', '0', '0', '0', '0', '0', 'Q', 'Q', 'Q', 'Q-cont', 'Q-cont', 'Q-cont', '0', '0', '0', '0', '0', '0', '0', 'Q', 'Q', 'Q', 'Q', 'Q-cont', 'Q-cont', 'Q-cont', 'Q-cont', 'Q-cont', 'Q-cont', 'Q-cont', 'Q-cont', 'Q-cont', 'Q-cont', '0', '0', '0', '0', '0', '0', '0', 'C', 'C', '0', '0', '0', '0', '0', 'Q', 'Q', 'Q', 'Q-cont', 'A', 'A', 'A', '0', '0', '0', '0', '0', '0', '0', '0', '0', '0', '0', '0', '0', '0', '0', '0', '0', '0', '0', '0', '0', '0', '0', '0', '0', '0', '0']\n",
      "Actual labels:  ['0', '0', '0', '0', '0', '0', '0', '0', 'C', 'C', '0', '0', '0', '0', '0', '0', '0', '0', '0', '0', '0', '0', '0', '0', '0', 'M', 'M', '0', '0', '0', '0', '0', '0', '0', '0', '0', 'Q', 'Q', 'Q', 'Q-cont', 'Q-cont', 'Q-cont', '0', '0', '0', '0', '0', '0', '0', 'Q', 'Q', 'Q', 'Q', 'Q-cont', 'Q-cont', 'Q-cont', 'Q-cont', 'Q-cont', 'Q-cont', 'Q-cont', 'Q-cont', 'Q-cont', 'Q-cont', '0', '0', '0', '0', '0', '0', '0', 'C', 'C', '0', '0', '0', '0', '0', 'Q', 'Q', 'Q', 'Q-cont', 'A', 'A', 'A', '0', '0', '0', '0', '0', '0', '0', '0', '0', '0', '0', '0', '0', '0', '0', '0', '0', '0', '0', '0', '0', '0', '0', '0', '0', '0', '0', '0']\n",
      "\n",
      "\n",
      "___________________4___________________\n",
      "\n",
      "Predict labels:  ['0', '0', '0', '0', '0', '0', '0', '0', '0', '0', '0', '0', '0', '0', '0', '0', '0', '0', '0', '0', '0', '0', '0', '0', '0', '0', '0', '0', '0', '0', '0', '0', '0', '0', '0', '0', '0', '0', '0', '0', '0', '0', '0', '0', '0', '0', '0', '0', '0', '0', '0', '0', '0', '0', '0', '0', '0', '0', '0', '0', '0', '0', '0', '0', '0', '0', '0', '0', '0', '0', '0', '0', '0', '0', '0', '0', '0', '0', '0', '0', '0', '0', '0', '0', '0', '0', '0', '0']\n",
      "Actual labels:  ['0', '0', '0', '0', '0', '0', '0', '0', '0', '0', '0', '0', '0', '0', '0', '0', '0', '0', '0', '0', '0', '0', '0', '0', '0', '0', '0', '0', '0', '0', '0', '0', '0', '0', '0', '0', '0', '0', '0', '0', '0', '0', '0', '0', '0', '0', '0', '0', '0', '0', '0', '0', '0', '0', '0', '0', '0', '0', '0', '0', '0', '0', '0', '0', '0', '0', '0', '0', '0', '0', '0', '0', '0', '0', '0', '0', '0', '0', '0', '0', '0', '0', '0', '0', '0', '0', '0', '0', '0', '0']\n",
      "\n",
      "\n",
      "___________________5___________________\n",
      "\n",
      "Predict labels:  ['0', '0', '0', '0', '0', '0', '0', '0', 'C', 'C', '0', '0', '0', '0', 'C', 'C-cont', '0', '0', '0', '0', '0', '0', '0']\n",
      "Actual labels:  ['0', '0', '0', '0', '0', '0', '0', '0', '0', 'C', 'C', '0', '0', '0', '0', 'C', 'C-cont', '0', '0', '0', '0', '0', '0', '0', '0']\n",
      "\n",
      "\n",
      "___________________6___________________\n",
      "\n",
      "Predict labels:  ['0', '0', '0', '0', '0', '0', '0', '0', '0', '0', '0', '0', '0', '0', '0', '0', '0', '0', '0', '0', '0', '0', '0', '0', '0', '0', '0', '0', '0', '0', '0', '0', '0', 'C', 'C', '0', '0', '0']\n",
      "Actual labels:  ['0', '0', '0', '0', '0', '0', '0', '0', '0', '0', '0', '0', '0', '0', '0', '0', '0', '0', '0', '0', '0', '0', '0', '0', '0', '0', '0', '0', '0', '0', '0', '0', '0', '0', 'C', 'C', '0', '0', '0', '0']\n",
      "\n",
      "\n",
      "___________________7___________________\n",
      "\n",
      "Predict labels:  ['0', '0', '0', '0', '0', 'C', 'C', '0', '0', '0', '0', '0', 'R', 'R', 'R', 'R', 'R', 'R', '0', '0', '0', '0', '0', '0', '0', '0', '0', '0', '0', '0', 'R', 'R', 'R', 'R', 'R', 'R', 'R', '0', '0', '0', '0', '0', '0', '0', '0', '0', '0', '0', '0', '0', '0', '0', '0', '0', '0', '0', '0', '0']\n",
      "Actual labels:  ['0', '0', '0', '0', '0', '0', 'C', 'C', '0', '0', '0', '0', '0', 'R', 'R', 'R', 'R', 'R', 'R', '0', '0', '0', '0', '0', '0', '0', '0', '0', '0', '0', '0', 'R', 'R', 'R', 'R', 'R', 'R', 'R', '0', '0', '0', '0', '0', '0', '0', '0', '0', '0', '0', '0', '0', '0', '0', '0', '0', '0', '0', '0', '0', '0']\n",
      "\n",
      "\n",
      "___________________8___________________\n",
      "\n",
      "Predict labels:  ['0', '0', 'M', '0', '0', '0', '0', 'C', 'C', '0', '0', '0', '0', '0', '0', '0', '0', '0', '0', '0', '0', 'C', 'C', '0', '0', '0', '0', '0', '0', '0', '0', '0', '0', '0', 'M', '0', '0', '0', '0', '0', '0', 'A', 'A', 'A', '0', '0', '0', '0', 'Q', 'Q', 'Q', 'Q-cont', '0', '0', '0', 'M', '0', '0', '0', '0', '0', '0', '0', '0', '0', '0', '0', '0', '0', '0', '0', '0', '0', '0', 'M', '0', 'M', '0', '0', '0', '0', '0', '0', '0', '0', '0', '0', '0', '0', '0', '0', 'R', 'R', 'R', '0', '0', '0', '0', '0', '0', '0', '0', '0', '0', '0', '0', '0', 'A', 'A', 'A', '0', '0', '0', '0', '0', '0', '0', '0', '0']\n",
      "Actual labels:  ['0', '0', '0', 'M', '0', '0', '0', '0', 'C', 'C', '0', '0', '0', '0', '0', '0', '0', '0', '0', '0', '0', '0', 'C', 'C', '0', '0', '0', '0', '0', '0', '0', '0', '0', '0', '0', 'M', '0', '0', '0', '0', '0', '0', 'A', 'A', 'A', '0', '0', '0', '0', 'Q', 'Q', 'Q', 'Q-cont', '0', '0', '0', 'M', '0', '0', '0', '0', '0', '0', '0', '0', '0', '0', '0', '0', '0', '0', '0', '0', '0', '0', 'M', '0', 'M', '0', '0', '0', '0', '0', '0', '0', '0', '0', '0', '0', '0', '0', '0', 'R', 'R', 'R', '0', '0', '0', '0', '0', '0', '0', '0', '0', '0', '0', '0', '0', 'A', 'A', 'A', '0', '0', '0', '0', '0', '0', '0', '0', '0', '0']\n",
      "\n",
      "\n",
      "___________________9___________________\n",
      "\n",
      "Predict labels:  ['0', '0', 'M', '0', '0', '0', '0', '0', '0', '0', '0', '0', '0', '0', '0', '0', '0', '0', '0', '0', 'C', 'C', '0', '0', '0', '0', '0', 'Q', 'Q-cont', 'Q-cont', 'Q-cont', 'Q-cont', 'Q-cont', '0', '0', 'M', '0', '0', '0', '0', '0', '0', '0', '0', '0', '0', '0', '0', '0', '0', '0', '0', '0', '0', '0', '0', '0', '0', '0', '0', 'C', 'C', '0', 'M', '0', 'M', 'M', 'M', '0', '0', '0', '0', '0', '0', 'M', '0', '0', 'C', 'C', '0', '0', '0', '0', '0', 'M', '0', '0', '0', '0', '0', '0', '0', '0', '0', '0', '0', '0', '0', '0', '0', '0', '0', '0', 'C', 'C', '0', '0', '0', '0', '0', '0', '0', '0', '0', 'M', '0', '0', '0', '0', '0', '0', '0', '0', '0', '0', '0', '0', '0', '0', 'M', '0', '0', '0', 'C', 'C', '0', '0', '0', '0', '0', 'M', '0', '0', '0', '0', '0', '0', '0', '0', '0', 'Q', 'Q', 'Q', 'Q-cont', 'Q-cont', 'Q-cont']\n",
      "Actual labels:  ['0', '0', '0', 'M', '0', '0', '0', '0', '0', '0', '0', '0', '0', '0', '0', '0', '0', '0', '0', '0', '0', 'C', 'C', '0', '0', '0', '0', '0', 'Q', 'Q-cont', 'Q-cont', 'Q-cont', 'Q-cont', 'Q-cont', '0', '0', 'M', '0', '0', '0', '0', '0', '0', '0', '0', '0', '0', '0', '0', '0', '0', '0', '0', '0', '0', '0', '0', '0', '0', '0', '0', 'C', 'C', '0', 'M', '0', 'M', 'M', 'M', '0', '0', '0', '0', '0', '0', 'M', '0', '0', 'C', 'C', '0', '0', '0', '0', '0', 'M', '0', '0', '0', '0', '0', '0', '0', '0', '0', '0', '0', '0', '0', '0', '0', '0', '0', '0', 'C', 'C', '0', '0', '0', '0', '0', '0', '0', '0', '0', 'M', '0', '0', '0', '0', '0', '0', '0', '0', '0', '0', '0', '0', '0', '0', 'M', '0', '0', '0', 'C', 'C', '0', '0', '0', '0', '0', 'M', '0', '0', '0', '0', '0', '0', '0', '0', '0', 'Q', 'Q', 'Q', 'Q-cont', 'Q-cont', 'Q-cont', '0']\n",
      "\n",
      "\n",
      "___________________10___________________\n",
      "\n",
      "Predict labels:  ['0', '0', '0', '0', '0', '0', '0', '0', '0', '0', '0', '0', '0', '0', '0', '0', '0', 'M', '0', '0', '0', '0', '0', '0', '0', 'Q', 'Q', 'Q', 'Q-cont', 'Q-cont', 'Q-cont', '0', '0', '0', '0', '0', '0', '0', '0', '0', '0', '0', '0', '0', '0', '0', '0', '0', '0', '0', '0', '0', '0', '0', 'C', 'C', '0', '0', '0', '0', '0', '0', '0', '0', '0', '0', '0', '0', '0', '0', '0', '0', '0', '0', '0', '0', '0']\n",
      "Actual labels:  ['0', '0', '0', '0', '0', '0', '0', '0', '0', '0', '0', '0', '0', '0', '0', '0', '0', '0', 'M', '0', '0', '0', '0', '0', '0', '0', 'Q', 'Q', 'Q', 'Q-cont', 'Q-cont', 'Q-cont', '0', '0', '0', '0', '0', '0', '0', '0', '0', '0', '0', '0', '0', '0', '0', '0', '0', '0', '0', '0', '0', '0', '0', 'C', 'C', '0', '0', '0', '0', '0', '0', '0', '0', '0', '0', '0', '0', '0', '0', '0', '0', '0', '0', '0', '0', '0', '0']\n",
      "\n",
      "\n",
      "___________________11___________________\n",
      "\n",
      "Predict labels:  ['0', '0', '0', '0', 'C', 'C', '0', '0', '0', '0', '0', 'Q', 'Q', 'Q', 'Q-cont', 'A', 'A', 'A', '0', '0', '0', '0', '0', '0', '0', '0', '0', '0', 'M', '0', '0', '0', '0', '0', '0', '0', '0', '0', '0', '0', 'M', '0', '0', 'C', 'C', '0', '0', '0', '0', '0', '0', '0', '0', '0', '0', '0', '0', '0', 'Q', 'Q-cont', 'Q-cont', 'Q-cont', '0', 'Q', 'Q-cont', '0', '0', '0', '0', '0', '0', 'Q', 'Q-cont', 'Q-cont', 'Q-cont', 'Q-cont', 'Q-cont']\n",
      "Actual labels:  ['0', '0', '0', '0', '0', 'C', 'C', '0', '0', '0', '0', '0', 'Q', 'Q', 'Q', 'Q-cont', 'A', 'A', 'A', '0', '0', '0', '0', '0', '0', '0', '0', '0', '0', 'M', '0', '0', '0', '0', '0', '0', '0', '0', '0', '0', '0', 'M', '0', '0', 'C', 'C', '0', '0', '0', '0', '0', '0', '0', '0', '0', '0', '0', '0', '0', 'Q', 'Q-cont', 'Q-cont', 'Q-cont', '0', 'Q', 'Q-cont', '0', '0', '0', '0', '0', '0', 'Q', 'Q-cont', 'Q-cont', 'Q-cont', 'Q-cont', 'Q-cont', '0']\n",
      "\n",
      "\n",
      "___________________12___________________\n",
      "\n",
      "Predict labels:  ['0', '0', '0', '0', '0', '0', '0', 'C', 'C-cont', 'C-cont', 'C-cont', '0', '0', '0', '0', '0', 'M', '0', '0', '0', '0', '0', '0', '0', '0', '0', '0', '0', '0', '0', '0', '0', '0', '0', '0', '0', '0', '0', 'M', '0', '0', '0', '0', '0', '0', '0', '0', '0', '0', '0', '0', '0', '0', '0', '0', '0', '0', '0', '0', '0', '0', '0', '0', '0', '0', '0', '0', '0', '0', '0', '0', 'Q', 'Q-cont', '0', 'Q', 'Q', 'Q', 'Q-cont', 'Q-cont', 'Q-cont', 'Q-cont', '0', '0', '0', '0', '0', '0', '0', '0', '0', '0', '0', '0', 'M', '0', '0', 'Q', 'Q', 'Q', 'Q-cont', 'Q-cont', 'Q-cont', '0', '0', '0', 'M', '0', '0', '0', '0', '0', '0', '0', 'A', 'A', 'A', 'A', 'A', 'A', 'A', '0', 'Q', 'Q-cont', '0', '0', '0', '0', '0', '0', '0', '0', 'C', 'C', 'C-cont', 'C-cont', 'C-cont', '0', '0', '0', '0', '0', '0', '0', '0', '0', '0', '0']\n",
      "Actual labels:  ['0', '0', '0', '0', '0', '0', '0', '0', 'C', 'C-cont', 'C-cont', 'C-cont', '0', '0', '0', '0', '0', 'M', '0', '0', '0', '0', '0', '0', '0', '0', '0', '0', '0', '0', '0', '0', '0', '0', '0', '0', '0', '0', '0', 'M', '0', '0', '0', '0', '0', '0', '0', '0', '0', '0', '0', '0', '0', '0', '0', '0', '0', '0', '0', '0', '0', '0', '0', '0', '0', '0', '0', '0', '0', '0', '0', '0', 'Q', 'Q-cont', '0', 'Q', 'Q', 'Q', 'Q-cont', 'Q-cont', 'Q-cont', 'Q-cont', '0', '0', '0', '0', '0', '0', '0', '0', '0', '0', '0', '0', 'M', '0', '0', 'Q', 'Q', 'Q', 'Q-cont', 'Q-cont', 'Q-cont', '0', '0', '0', 'M', '0', '0', '0', '0', '0', '0', '0', 'A', 'A', 'A', 'A', 'A', 'A', 'A', '0', 'Q', 'Q-cont', '0', '0', '0', '0', '0', '0', '0', '0', 'C', 'C', 'C-cont', 'C-cont', 'C-cont', '0', '0', '0', '0', '0', '0', '0', '0', '0', '0', '0', '0']\n",
      "\n",
      "\n",
      "___________________13___________________\n",
      "\n",
      "Predict labels:  ['0', '0', 'M', '0', '0', '0', '0', '0', '0', '0', '0', '0', '0', '0', '0', '0', 'M', '0', '0', 'Q', 'Q-cont', '0', '0', '0', '0', '0', '0', 'A', 'A', 'A-cont', 'A-cont', '0', '0', '0', 'C', 'C-cont', '0', '0', '0', 'A', 'A', 'A-cont']\n",
      "Actual labels:  ['0', '0', '0', 'M', '0', '0', '0', '0', '0', '0', '0', '0', '0', '0', '0', '0', '0', 'M', '0', '0', 'Q', 'Q-cont', '0', '0', '0', '0', '0', '0', 'A', 'A', 'A-cont', 'A-cont', '0', '0', '0', 'C', 'C-cont', '0', '0', '0', 'A', 'A', 'A-cont', '0']\n",
      "\n",
      "\n",
      "___________________14___________________\n",
      "\n",
      "Predict labels:  ['0', '0', '0', '0', '0', '0', '0', 'Q', '0', '0', '0', 'A', 'A', 'A-cont', '0', '0', '0', '0', '0', '0', '0', '0', '0', '0', '0', '0', '0', '0', 'C', 'C-cont', '0', '0', 'Q', 'Q-cont', '0', '0', '0', '0', '0', '0', '0', '0', '0', '0', '0', '0', '0', '0', 'Q', 'Q-cont', 'M', '0']\n",
      "Actual labels:  ['0', '0', '0', '0', '0', '0', '0', '0', 'Q', '0', '0', '0', 'A', 'A', 'A-cont', '0', '0', '0', '0', '0', '0', '0', '0', '0', '0', '0', '0', '0', '0', 'C', 'C-cont', '0', '0', 'Q', 'Q-cont', '0', '0', '0', '0', '0', '0', '0', '0', '0', '0', '0', '0', '0', '0', 'Q', 'Q-cont', 'M', '0', '0']\n",
      "\n",
      "\n",
      "___________________15___________________\n",
      "\n",
      "Predict labels:  ['0', '0', 'C', 'C-cont', 'C-cont', 'C-cont', '0', '0', 'Q', 'Q', 'Q-cont', '0', '0', 'C', 'C-cont', 'C-cont', '0', '0', '0', '0', 'C', '0', '0', '0', '0', '0', '0', '0', '0', '0', 'A', 'A', 'A', 'A', '0', '0', '0', '0', '0', '0', '0', '0', '0', '0', '0', 'C', 'C-cont', 'C-cont']\n",
      "Actual labels:  ['0', '0', '0', 'C', 'C-cont', 'C-cont', 'C-cont', '0', '0', 'Q', 'Q', 'Q', 'Q-cont', '0', '0', '0', '0', '0', '0', '0', '0', '0', '0', '0', '0', '0', '0', '0', '0', '0', '0', 'C', 'C', 'C', 'C', '0', '0', '0', '0', '0', '0', '0', '0', '0', '0', '0', '0', '0', '0', '0']\n",
      "\n",
      "\n",
      "___________________16___________________\n",
      "\n",
      "Predict labels:  ['0', '0', '0', '0', '0', '0', '0', '0', '0', '0', '0', '0', '0', 'T', 'T-cont', '0', '0', '0', '0', '0', '0', '0', '0', '0', '0', '0', '0', '0', '0', '0', '0', '0', '0', '0', '0', '0', '0', '0', '0', '0', '0', '0', '0', '0', '0', '0', '0', '0', '0', '0', '0', 'T', 'T-cont', 'T-cont', 'T-cont', 'T-cont', '0', '0', '0', '0', '0', '0', '0', '0', '0', 'T-cont', 'T-cont', 'T', 'T-cont']\n",
      "Actual labels:  ['0', '0', '0', '0', '0', '0', '0', '0', '0', '0', '0', '0', '0', '0', 'T', 'T-cont', '0', '0', '0', '0', '0', '0', '0', '0', '0', '0', '0', '0', '0', '0', '0', '0', '0', '0', '0', '0', '0', '0', '0', '0', '0', '0', '0', '0', '0', '0', '0', '0', '0', '0', '0', '0', 'T', 'T-cont', 'T-cont', 'T-cont', 'T-cont', '0', '0', '0', '0', '0', '0', '0', '0', '0', 'T', 'T-cont', 'T-cont', 'T-cont', '0']\n",
      "\n",
      "\n",
      "___________________17___________________\n",
      "\n",
      "Predict labels:  ['0', '0', '0', '0', '0', '0', '0', '0', '0', '0', '0', '0', '0', '0', '0', '0', '0', '0', '0', '0', '0', '0', '0', '0', '0', '0', '0', '0', '0', '0', '0', '0', '0', '0', '0', '0', '0', '0', '0', '0', 'Q', 'Q-cont', '0', 'C', 'C-cont', 'C-cont', 'C-cont', '0', '0', '0', '0', '0', 'Q', 'Q', 'Q', '0', '0', '0', '0', '0', '0', '0', '0', '0', '0', '0', '0', '0', '0', '0', '0', '0', '0', '0', '0', '0', '0', '0']\n",
      "Actual labels:  ['0', '0', '0', '0', '0', '0', '0', '0', '0', '0', '0', '0', '0', '0', '0', '0', '0', '0', '0', '0', '0', '0', '0', '0', '0', '0', '0', '0', '0', '0', '0', '0', '0', '0', '0', '0', '0', '0', '0', '0', '0', 'Q', 'Q-cont', '0', 'C', 'C-cont', 'C-cont', 'C-cont', '0', '0', '0', '0', '0', 'Q', 'Q', 'Q', '0', '0', '0', '0', '0', '0', '0', '0', '0', '0', '0', '0', '0', '0', '0', '0', '0', '0', '0', '0', '0', '0', '0', '0']\n",
      "\n",
      "\n",
      "___________________18___________________\n",
      "\n",
      "Predict labels:  ['M', '0', '0', '0', '0', '0', 'M', '0', '0', 'C', 'C', 'C-cont', '0', '0', '0', '0', '0', '0', '0', '0', 'C', 'C-cont', 'C-cont', 'C-cont', '0', '0', '0', 'C', 'C', 'C', '0', 'Q', 'Q-cont', 'Q-cont', '0', '0', '0', '0', '0', '0', '0', '0', '0', '0', '0', '0', '0', '0', '0', '0', '0', '0', '0', '0', '0', '0', '0', '0', 'M', '0', '0', '0', '0', 'M', '0', '0', '0', '0', '0', '0', '0', '0', '0', '0']\n",
      "Actual labels:  ['M', 'M', '0', '0', '0', '0', '0', 'M', '0', '0', 'C', 'C', 'C-cont', '0', '0', '0', '0', '0', '0', '0', '0', 'C', 'C-cont', 'C-cont', 'C-cont', '0', '0', '0', 'C', 'C', 'C', '0', 'Q', 'Q-cont', 'Q-cont', '0', '0', '0', '0', '0', '0', '0', '0', '0', '0', '0', '0', '0', '0', '0', '0', '0', '0', '0', '0', '0', '0', '0', '0', 'M', '0', '0', '0', '0', 'M', '0', '0', '0', '0', '0', '0', '0', '0', '0', '0', '0']\n",
      "\n",
      "\n",
      "___________________19___________________\n",
      "\n",
      "Predict labels:  ['0', '0', '0', '0', '0', '0', 'M', '0', '0', '0', '0', '0', '0', '0', '0', '0', '0', '0', '0', '0', '0', '0', '0', '0', '0', '0', '0', '0', 'C', 'C-cont', 'C-cont', 'C-cont', '0', '0', '0', '0', '0', '0', '0', '0', '0', '0', '0', '0', '0', '0', '0', '0', '0', '0', '0', '0', '0', '0', '0', '0', '0', '0', '0']\n",
      "Actual labels:  ['0', '0', '0', '0', '0', '0', '0', 'M', '0', '0', '0', '0', '0', '0', '0', '0', '0', '0', '0', '0', '0', '0', '0', '0', '0', '0', '0', '0', '0', 'C', 'C-cont', 'C-cont', 'C-cont', '0', '0', '0', '0', '0', '0', '0', '0', '0', '0', '0', '0', '0', '0', '0', '0', '0', '0', '0', '0', '0', '0', '0', '0', '0', '0', '0', '0']\n",
      "\n",
      "\n",
      "___________________20___________________\n",
      "\n",
      "Predict labels:  ['0', '0', '0', '0', 'C', 'C-cont', 'C-cont', 'C-cont', '0', 'M', '0', '0', '0', '0', '0', '0', '0', '0', '0', '0', '0', '0', '0', '0', '0', '0', '0', '0', '0', '0', 'Q', 'Q', 'Q', 'Q', 'Q', '0', '0', '0']\n",
      "Actual labels:  ['0', '0', '0', '0', '0', 'C', 'C-cont', 'C-cont', 'C-cont', '0', 'M', '0', '0', '0', '0', '0', '0', '0', '0', '0', '0', '0', '0', '0', '0', '0', '0', '0', '0', '0', '0', 'Q', 'Q', 'Q', 'Q', 'Q', '0', '0', '0', '0']\n",
      "\n",
      "\n",
      "___________________21___________________\n",
      "\n",
      "Predict labels:  ['M', '0', '0', '0', '0', '0', '0', '0', '0', '0', '0', '0', '0', '0', '0', '0', '0', '0', '0', 'C', 'C', '0', '0', '0', 'M', '0', '0', '0', '0', 'C', 'C-cont', 'C-cont', 'C-cont', '0', '0', '0', '0', '0', '0', '0', '0', '0', '0', '0', '0', '0', '0', '0', '0', '0', '0', '0', '0', '0', '0', '0', '0', '0']\n",
      "Actual labels:  ['M', 'M', '0', '0', '0', '0', '0', '0', '0', '0', '0', '0', '0', '0', '0', '0', '0', '0', '0', '0', 'C', 'C', '0', '0', '0', 'M', '0', '0', '0', '0', 'C', 'C-cont', 'C-cont', 'C-cont', '0', '0', '0', '0', '0', '0', '0', '0', '0', '0', '0', '0', '0', '0', '0', '0', '0', '0', '0', '0', '0', '0', '0', '0', '0', '0']\n",
      "\n",
      "\n",
      "___________________22___________________\n",
      "\n",
      "Predict labels:  ['0', '0', 'C', 'C-cont', 'C-cont', 'C-cont', '0', '0', 'C', 'C-cont', 'C-cont', 'C-cont', '0', '0', '0', '0', '0', '0', '0', '0', '0', '0', '0', '0', '0', '0', '0', '0', '0', '0', '0', '0', '0', '0', '0', '0', '0', '0', '0', '0', '0', '0', '0', '0', '0', '0', '0', '0', '0', '0', '0', '0', '0', '0', '0', '0', '0', '0', '0', '0', '0', '0', 'Q', 'Q', 'C', 'C', 'C', 'C', 'C', 'C', 'C', 'C', 'C', 'C', 'C', '0', '0', '0', '0', '0', 'Q', 'Q-cont', 'Q-cont', 'Q-cont', 'Q-cont', 'Q-cont', 'Q-cont', 'Q-cont', 'Q-cont', '0', '0', '0', 'Q', 'Q', 'Q', 'Q-cont', 'Q-cont', 'Q-cont', 'Q-cont', 'Q-cont', '0', '0', '0', '0', '0', '0', '0', '0', '0', '0', '0', '0', '0', '0', '0', '0', '0', '0']\n",
      "Actual labels:  ['0', '0', '0', 'C', 'C-cont', 'C-cont', 'C-cont', '0', '0', 'C', 'C-cont', 'C-cont', 'C-cont', '0', '0', '0', '0', '0', '0', '0', '0', '0', '0', '0', '0', '0', '0', '0', '0', '0', '0', '0', '0', '0', '0', '0', '0', '0', '0', '0', '0', '0', '0', '0', '0', '0', '0', '0', '0', '0', '0', '0', '0', '0', '0', '0', '0', '0', '0', '0', '0', '0', '0', 'Q', 'Q', 'C', 'C', 'C', 'C', 'C', 'C', 'C', 'C', 'C', 'C', 'C', '0', '0', '0', '0', '0', 'Q', 'Q-cont', 'Q-cont', 'Q-cont', 'Q-cont', 'Q-cont', 'Q-cont', 'Q-cont', 'Q-cont', '0', '0', '0', 'Q', 'Q', 'Q', 'Q-cont', 'Q-cont', 'Q-cont', 'Q-cont', 'Q-cont', '0', '0', '0', '0', '0', '0', '0', '0', '0', '0', '0', '0', '0', '0', '0', '0', '0', '0', '0']\n",
      "\n",
      "\n",
      "___________________23___________________\n",
      "\n",
      "Predict labels:  ['M', '0', '0', '0', 'M', '0', '0', '0', '0', '0', '0', '0', '0', '0', '0', '0', '0', '0', '0', 'A', 'A', 'A-cont', 'A-cont', 'A-cont', 'A-cont', '0', 'A', 'A', '0', '0', '0', '0', '0', 'A', 'A', 'A-cont', 'A-cont', 'A-cont', 'A-cont', '0', '0', '0', '0', '0', '0', '0', '0', '0', '0', '0', '0', 'C', 'C', 'C', 'C', 'C', 'C', 'C', '0', '0', '0', '0', '0', '0', '0', '0', '0', '0', '0', '0', '0', '0', '0', '0', '0', '0', '0', 'Q', 'Q', 'Q']\n",
      "Actual labels:  ['A', 'A', '0', '0', '0', 'M', '0', '0', '0', '0', '0', '0', '0', '0', '0', '0', '0', '0', '0', '0', 'A', 'A', 'A-cont', 'A-cont', 'A-cont', 'A-cont', '0', 'A', 'A', '0', '0', '0', '0', '0', 'A', 'A', 'A-cont', 'A-cont', 'A-cont', 'A-cont', '0', '0', '0', '0', '0', '0', '0', '0', '0', '0', '0', '0', 'C', 'C', 'C', 'C', 'C', 'C', 'C', '0', '0', '0', '0', '0', '0', '0', '0', '0', '0', '0', '0', '0', '0', '0', '0', '0', '0', '0', 'Q', 'Q', 'Q', '0']\n",
      "\n",
      "\n",
      "___________________24___________________\n",
      "\n",
      "Predict labels:  ['0', '0', '0', '0', '0', '0', 'M', '0', 'M', '0', 'M', '0', '0', '0', '0', '0', '0', '0', '0', '0', '0', '0', '0', '0', '0', '0', '0', '0', '0', '0', 'Q', 'Q', 'Q', '0', '0', '0', '0', '0', '0', '0', '0', '0']\n",
      "Actual labels:  ['0', '0', '0', '0', '0', '0', '0', 'M', '0', 'M', '0', 'M', '0', '0', '0', '0', '0', '0', '0', '0', '0', '0', '0', '0', '0', '0', '0', '0', '0', '0', '0', 'Q', 'Q', 'Q', '0', '0', '0', '0', '0', '0', '0', '0', '0', '0']\n",
      "\n",
      "\n",
      "___________________25___________________\n",
      "\n",
      "Predict labels:  ['0', '0', 'C', 'C', '0', '0', '0', 'C', 'C', '0', '0', '0', '0', '0', '0', '0', '0', '0', '0', '0', '0', '0', '0', '0', '0', '0', '0', '0', '0', '0', 'C', 'C', '0', '0', '0', '0', '0', '0', '0', 'Q', 'Q', 'Q-cont', 'Q-cont']\n",
      "Actual labels:  ['0', '0', '0', 'C', 'C', '0', '0', '0', 'C', 'C', '0', '0', '0', '0', '0', '0', '0', '0', '0', '0', '0', '0', '0', '0', '0', '0', '0', '0', '0', '0', '0', 'C', 'C', '0', '0', '0', '0', '0', '0', '0', 'Q', 'Q', 'Q-cont', 'Q-cont', '0']\n",
      "\n",
      "\n"
     ]
    },
    {
     "name": "stdout",
     "output_type": "stream",
     "text": [
      "___________________26___________________\n",
      "\n",
      "Predict labels:  ['0', '0', '0', '0', '0', '0', '0', '0', '0', '0', '0', '0', '0', '0', '0', '0', '0', '0', '0', '0', '0', '0', '0', '0', '0', '0', '0', '0', 'C', 'C', 'C', '0', 'C', 'C', 'C', 'C', '0', '0', '0', '0', '0', '0', '0', '0', '0', '0', 'C', 'C', '0', 'C', 'C', 'C', '0', 'M', 'M', '0', 'C', 'C', 'C', '0', 'C', 'C', 'C', '0', '0']\n",
      "Actual labels:  ['0', '0', '0', '0', '0', '0', '0', '0', '0', '0', '0', '0', '0', '0', '0', '0', '0', '0', '0', '0', '0', '0', '0', '0', '0', '0', '0', '0', '0', 'C', 'C', 'C', '0', 'C', 'C', 'C', 'C', '0', '0', '0', '0', '0', '0', '0', '0', '0', '0', 'C', 'C', '0', 'C', 'C', 'C', '0', 'M', 'M-cont', '0', 'C', 'C', 'C', '0', 'C', 'C', 'C', '0', '0', '0']\n",
      "\n",
      "\n",
      "___________________27___________________\n",
      "\n",
      "Predict labels:  ['0', '0', '0', '0', '0', '0', '0', '0', '0', '0', '0', '0', '0', '0', '0', '0', '0', '0', '0', '0', '0', '0', '0', '0', '0', '0', 'M', '0', 'M', '0', 'M', '0', 'M', '0', 'M', 'M', '0', 'M', '0', 'M', 'M', '0', 'M', '0', 'M', '0', 'M', 'M', '0', 'M', 'M', '0', 'M', 'M', '0', '0', 'M', '0', '0', '0', '0', '0', '0', '0', '0', '0', '0', '0', 'R', 'R', 'R', '0', '0', '0', '0', '0', '0', '0', '0', '0', '0', '0', '0', '0', '0', '0', 'Q', 'Q-cont', 'Q-cont', '0', '0', '0', '0', 'Q', 'Q', 'Q-cont', 'Q-cont', '0', '0', '0', '0', '0', '0', '0', '0', '0', '0', '0', '0', '0', '0', '0', '0', '0', '0', '0', '0', '0', '0', '0', 'Q', 'Q-cont']\n",
      "Actual labels:  ['0', '0', '0', '0', '0', '0', '0', '0', '0', '0', '0', '0', '0', '0', '0', '0', '0', '0', '0', '0', '0', '0', '0', '0', '0', '0', '0', 'M', '0', 'M', '0', 'M', '0', 'M', '0', 'M', 'M', '0', 'M', '0', 'M', 'M', '0', 'M', '0', 'M', '0', 'M', 'M', '0', 'M', 'M', '0', 'M', 'M', '0', '0', 'M', '0', '0', '0', '0', '0', '0', '0', '0', '0', '0', '0', 'R', 'R', 'R', '0', '0', '0', '0', '0', '0', '0', '0', '0', '0', '0', '0', '0', '0', '0', 'Q', 'Q-cont', 'Q-cont', '0', '0', '0', '0', 'Q', 'Q', 'Q-cont', 'Q-cont', '0', '0', '0', '0', '0', '0', '0', '0', '0', '0', '0', '0', '0', '0', '0', '0', '0', '0', '0', '0', '0', '0', '0', 'Q', 'Q-cont', '0']\n",
      "\n",
      "\n",
      "___________________28___________________\n",
      "\n",
      "Predict labels:  ['0', '0', '0', '0', '0', '0', '0', '0', '0', '0', '0', '0', 'C', 'C-cont', 'C-cont', 'C-cont', '0', '0', 'A', 'A', 'A', 'A', 'A-cont', '0', '0', '0', '0', '0', '0', '0', '0', '0', '0', 'Q', 'Q', 'Q-cont', 'Q-cont', 'Q-cont', '0', '0', 'C', 'C', 'C', '0', '0', '0', '0', '0', '0', '0', 'Q', 'Q', 'Q-cont', 'Q-cont', 'Q-cont', '0', '0', '0', '0', '0', '0', '0', '0', '0', 'Q', 'Q', 'Q-cont', 'Q-cont', 'Q-cont', '0', '0', '0', '0', '0', '0', '0', '0', '0', 'Q', 'Q-cont', 'Q-cont', 'Q-cont']\n",
      "Actual labels:  ['0', '0', '0', '0', '0', '0', '0', '0', '0', '0', '0', '0', '0', 'C', 'C-cont', 'C-cont', 'C-cont', '0', '0', 'A', 'A', 'A', 'A', 'A-cont', '0', '0', '0', '0', '0', '0', '0', '0', '0', '0', 'C', 'C', 'C-cont', 'C-cont', 'C-cont', '0', '0', 'C', 'C', 'C', '0', '0', '0', '0', '0', '0', '0', 'Q', 'Q', 'Q-cont', 'Q-cont', 'Q-cont', '0', '0', '0', '0', '0', '0', '0', '0', '0', 'Q', 'Q', 'Q-cont', 'Q-cont', 'Q-cont', '0', '0', '0', '0', '0', '0', '0', '0', '0', 'Q', 'Q-cont', 'Q-cont', 'Q-cont', '0']\n",
      "\n",
      "\n",
      "___________________29___________________\n",
      "\n",
      "Predict labels:  ['0', '0', '0', '0', '0', '0', '0', '0', '0', '0', '0', '0', '0', '0', '0', '0', '0', '0', '0', '0', '0', 'Q', 'Q-cont', 'Q-cont', 'Q-cont', '0', '0', '0', '0', '0', '0', '0', '0', 'Q', 'Q-cont', 'Q-cont', 'Q-cont', '0', '0', '0', '0', '0', '0', '0', '0', '0', '0', '0', '0', '0', '0', '0', '0', '0', '0', '0']\n",
      "Actual labels:  ['0', '0', '0', '0', '0', '0', '0', '0', '0', '0', '0', '0', '0', '0', '0', '0', '0', '0', '0', '0', '0', '0', 'Q', 'Q-cont', 'Q-cont', 'Q-cont', '0', '0', '0', '0', '0', '0', '0', '0', 'Q', 'Q-cont', 'Q-cont', 'Q-cont', '0', '0', '0', '0', '0', '0', '0', '0', '0', '0', '0', '0', '0', '0', '0', '0', '0', '0', '0', '0']\n",
      "\n",
      "\n",
      "___________________30___________________\n",
      "\n",
      "Predict labels:  ['0', '0', '0', '0', '0', '0', '0', '0', '0', '0', '0', 'M', '0', '0', '0', '0', '0', '0', 'Q', 'Q-cont', 'M', '0', '0', '0', '0', '0', '0', '0', '0', '0', '0', 'C', 'C', '0', 'C', 'C', 'C', '0', '0', 'C', 'C', 'C', '0', '0', '0', '0', '0', '0', '0', '0', '0', 'T', 'T-cont', '0', 'Q', 'Q-cont', 'Q-cont', 'Q-cont', 'Q-cont', 'Q-cont', '0', 'Q', 'Q', 'Q', 'Q-cont', 'Q-cont', 'Q-cont', 'Q-cont', '0', 'Q', 'Q', 'Q', 'Q', 'Q', '0', '0', 'Q', 'Q', '0', '0', '0', 'C', 'C-cont', 'C-cont', 'C-cont']\n",
      "Actual labels:  ['0', '0', '0', '0', '0', '0', '0', '0', '0', '0', '0', '0', 'M', '0', '0', '0', '0', '0', '0', 'Q', 'Q-cont', 'M', '0', '0', '0', '0', '0', '0', '0', '0', '0', '0', 'C', 'C', '0', 'C', 'C', 'C', '0', '0', 'C', 'C', 'C', '0', '0', '0', '0', '0', '0', '0', '0', '0', 'T', 'T-cont', '0', 'Q', 'Q-cont', 'Q-cont', 'Q-cont', 'Q-cont', 'Q-cont', '0', 'Q', 'Q', 'Q', 'Q-cont', 'Q-cont', 'Q-cont', 'Q-cont', '0', 'Q', 'Q', 'Q', 'Q', 'Q', '0', '0', 'Q', 'Q', '0', '0', '0', 'C', 'C-cont', 'C-cont', 'C-cont', '0']\n",
      "\n",
      "\n",
      "___________________31___________________\n",
      "\n",
      "Predict labels:  ['0', '0', '0', '0', 'C', 'C', 'C', '0', '0', '0', '0', '0', '0', '0', 'Q', 'Q', 'M', '0', '0', '0', '0', 'C', 'C', 'C', '0', 'C', 'C', '0', '0', '0', '0', 'Q', 'Q-cont', 'Q-cont', 'Q-cont', 'M', '0', '0', '0', '0', '0', '0', '0', '0', 'C', 'C', 'C', '0', '0', '0', '0', '0', '0', '0', '0', '0', '0', '0', '0', '0']\n",
      "Actual labels:  ['0', '0', '0', '0', '0', 'C', 'C', 'C', '0', '0', '0', '0', '0', '0', '0', 'Q', 'Q', 'M', '0', '0', '0', '0', 'C', 'C', 'C', '0', 'C', 'C', '0', '0', '0', '0', 'Q', 'Q-cont', 'Q-cont', 'Q-cont', 'M', '0', '0', '0', '0', '0', '0', '0', '0', 'C', 'C', 'C', '0', '0', '0', '0', '0', '0', '0', '0', '0', '0', '0', '0', '0', '0']\n",
      "\n",
      "\n",
      "___________________32___________________\n",
      "\n",
      "Predict labels:  ['0', '0', '0', '0', 'Q', 'Q-cont', 'Q-cont', '0', '0', '0', '0', '0', '0', '0', 'Q', 'Q', 'Q', 'Q-cont', 'Q-cont', 'Q-cont', 'Q-cont', '0', 'Q', 'Q-cont', 'Q-cont', '0', '0', '0', '0', '0', '0', '0', 'T', 'T-cont', '0', '0', '0', '0', '0', '0', '0', '0', 'Q', 'Q-cont', 'Q-cont', 'Q-cont', '0', '0', '0', '0', '0', '0', '0', '0', '0', '0', '0', '0', '0', '0', '0', '0', '0', 'Q', 'Q-cont', '0', '0', '0', '0', '0', '0', '0', '0', '0', '0', '0', '0', '0', '0', '0', 'A', 'A', '0', '0', '0', '0', '0', '0', '0', 'Q', 'Q-cont', '0', '0', '0', '0', '0', '0', '0', '0', '0', '0', '0', '0', '0', '0', '0', '0', '0', '0', '0', '0', '0', '0', '0', '0']\n",
      "Actual labels:  ['0', '0', '0', '0', '0', 'Q', 'Q-cont', 'Q-cont', '0', '0', '0', '0', '0', '0', '0', 'Q', 'Q', 'Q', 'Q-cont', 'Q-cont', 'Q-cont', 'Q-cont', '0', 'Q', 'Q-cont', 'Q-cont', '0', '0', '0', '0', '0', '0', '0', 'T', 'T-cont', '0', '0', '0', '0', '0', '0', '0', '0', 'Q', 'Q-cont', 'Q-cont', 'Q-cont', '0', '0', '0', '0', '0', '0', '0', '0', '0', '0', '0', '0', '0', '0', '0', '0', '0', 'Q', 'Q-cont', '0', '0', '0', '0', '0', '0', '0', '0', '0', '0', '0', '0', '0', '0', '0', 'A', 'A', '0', '0', '0', '0', '0', '0', '0', 'Q', 'Q-cont', '0', '0', '0', '0', '0', '0', '0', '0', '0', '0', '0', '0', '0', '0', '0', '0', '0', '0', '0', '0', '0', '0', '0', '0', '0']\n",
      "\n",
      "\n",
      "___________________33___________________\n",
      "\n",
      "Predict labels:  ['0', '0', '0', '0', '0', '0', 'M', '0', '0', '0', '0', 'Q', 'Q-cont', 'Q-cont', 'Q-cont', '0', '0', 'C', 'C-cont', 'C-cont', 'C-cont', '0', '0', '0', '0', 'Q', 'Q-cont', 'Q-cont', 'Q-cont', '0', '0', '0', '0', '0', 'C', 'C-cont', '0', '0', '0', 'T', 'T-cont', '0', 'Q', 'Q', 'Q', 'Q', 'Q', '0', 'C', 'C', 'C', '0', '0', '0', '0', '0', 'Q', 'Q', '0', '0', '0', 'C', 'C-cont', 'C-cont', 'C-cont', 'C-cont', '0', '0', 'M', '0', '0', 'Q', 'Q']\n",
      "Actual labels:  ['0', '0', '0', '0', '0', '0', '0', 'M', '0', '0', '0', '0', 'Q', 'Q-cont', 'Q-cont', 'Q-cont', '0', '0', 'C', 'C-cont', 'C-cont', 'C-cont', '0', '0', '0', '0', 'Q', 'Q-cont', 'Q-cont', 'Q-cont', '0', '0', '0', '0', '0', 'C', 'C-cont', '0', '0', '0', 'T', 'T-cont', '0', 'Q', 'Q', 'Q', 'Q', 'Q', '0', 'C', 'C', 'C', '0', '0', '0', '0', '0', 'Q', 'Q', '0', '0', '0', 'C', 'C-cont', 'C-cont', 'C-cont', 'C-cont', '0', '0', 'M', '0', '0', 'Q', 'Q', '0']\n",
      "\n",
      "\n",
      "___________________34___________________\n",
      "\n",
      "Predict labels:  ['0', '0', '0', '0', '0', '0', '0', '0', '0', 'M', '0', '0', '0', '0', '0', 'T', 'T-cont', '0', 'Q', 'Q', '0', '0', '0', '0', '0', 'Q', 'Q', 'Q', 'Q', '0', '0', '0', '0', 'T', 'T-cont', '0', '0', '0', 'T', 'T-cont', '0', '0', '0', '0', '0']\n",
      "Actual labels:  ['0', '0', '0', '0', '0', '0', '0', '0', '0', '0', 'M', '0', '0', '0', '0', '0', 'T', 'T-cont', '0', 'Q', 'Q', '0', '0', '0', '0', '0', 'Q', 'Q', 'Q', 'Q', '0', '0', '0', '0', 'T', 'T-cont', '0', '0', '0', 'T', 'T-cont', '0', '0', '0', '0', '0', '0']\n",
      "\n",
      "\n",
      "___________________35___________________\n",
      "\n",
      "Predict labels:  ['M', '0', '0', '0', 'Q', 'Q-cont', 'Q-cont', 'Q-cont', '0', '0', 'Q', 'Q', 'Q', 'Q-cont', 'Q-cont', 'Q-cont', 'Q-cont', 'Q-cont', 'Q-cont', 'Q-cont', 'Q-cont', 'Q-cont', '0', '0', '0', '0', '0', '0', 'Q', 'Q-cont', '0', '0', 'C', 'C-cont', 'C-cont', 'C-cont', '0', '0', '0', 'Q', 'Q', 'Q', 'Q-cont', 'Q-cont', 'Q-cont', 'Q-cont', 'Q-cont', '0', 'M', '0', '0']\n",
      "Actual labels:  ['0', 'M', '0', '0', '0', 'Q', 'Q-cont', 'Q-cont', 'Q-cont', '0', '0', 'Q', 'Q', 'Q', 'Q-cont', 'Q-cont', 'Q-cont', 'Q-cont', 'Q-cont', 'Q-cont', 'Q-cont', 'Q-cont', 'Q-cont', '0', '0', '0', '0', '0', '0', 'Q', 'Q-cont', '0', '0', 'C', 'C-cont', 'C-cont', 'C-cont', '0', '0', '0', 'Q', 'Q', 'Q', 'Q-cont', 'Q-cont', 'Q-cont', 'Q-cont', 'Q-cont', '0', 'M', '0', '0', '0']\n",
      "\n",
      "\n",
      "___________________36___________________\n",
      "\n",
      "Predict labels:  ['0', '0', '0', '0', '0', '0', '0', '0', '0', '0', '0', '0', '0', 'M', '0', '0', '0', '0', '0', '0', 'Q', 'Q-cont', 'Q-cont', 'Q-cont', '0', '0', '0', '0', '0', '0', '0', '0', '0', '0', '0', '0', '0', '0', '0', '0']\n",
      "Actual labels:  ['0', '0', '0', '0', '0', '0', '0', '0', '0', '0', '0', '0', '0', '0', 'M', '0', '0', '0', '0', '0', '0', 'Q', 'Q-cont', 'Q-cont', 'Q-cont', '0', '0', '0', '0', '0', '0', '0', '0', '0', '0', '0', '0', '0', '0', '0', '0', '0']\n",
      "\n",
      "\n",
      "___________________37___________________\n",
      "\n",
      "Predict labels:  ['0', '0', '0', '0', '0', '0', '0', '0', '0', '0', '0', '0', '0', '0', '0', '0', '0', 'M', '0', 'M', 'M', '0', 'M', '0', 'M', '0', 'M', '0', 'M', '0', 'M', '0', 'M', '0', 'M', '0', '0', 'M', '0', '0', '0', '0', '0', 'Q', 'Q-cont', '0', '0', '0', '0', '0', '0', '0', '0', 'Q', 'Q', 'Q', '0', '0', '0', '0', '0', '0', '0', '0', 'Q', 'Q-cont', '0', '0', 'Q', 'Q-cont', 'M', '0', '0', '0', '0', '0', '0', '0', '0', 'Q', 'Q-cont', '0', '0', '0']\n",
      "Actual labels:  ['0', '0', '0', '0', '0', '0', '0', '0', '0', '0', '0', '0', '0', '0', '0', '0', '0', '0', 'M', '0', 'M', 'M', '0', 'M', '0', 'M', '0', 'M', '0', 'M', '0', 'M', 'M', 'M', '0', 'M', '0', '0', 'M', '0', '0', '0', '0', '0', 'Q', 'Q-cont', '0', '0', '0', '0', '0', '0', '0', '0', 'Q', 'Q', 'Q', '0', '0', '0', '0', '0', '0', '0', '0', 'Q', 'Q-cont', 'Q-cont', 'Q-cont', 'Q-cont', 'Q-cont', 'M', '0', '0', '0', '0', '0', '0', '0', '0', 'Q', 'Q-cont', '0', '0', '0', '0']\n",
      "\n",
      "\n",
      "___________________38___________________\n",
      "\n",
      "Predict labels:  ['0', '0', '0', '0', 'Q', 'Q', 'Q', 'Q', 'Q', '0', 'Q', 'Q', 'Q', 'Q-cont', 'Q-cont', 'Q-cont', 'Q-cont', 'Q-cont', '0', '0', '0', '0', '0', 'T', 'T-cont', '0', '0', 'Q', '0', 'Q-cont', 'Q-cont', 'Q-cont', 'Q-cont', 'Q-cont', '0', '0', '0', '0', '0', '0', '0', '0', '0', '0', '0', '0', '0', 'Q', 'Q-cont', '0', '0', '0', '0', '0', '0', '0', '0', '0', '0', '0', '0', '0', '0', 'M']\n",
      "Actual labels:  ['0', '0', '0', '0', '0', 'Q', 'Q', 'Q', 'Q', 'Q', '0', 'Q', 'Q', 'Q', 'Q-cont', 'Q-cont', 'Q-cont', 'Q-cont', 'Q-cont', '0', '0', '0', '0', '0', 'T', 'T-cont', '0', '0', 'Q', 'Q-cont', 'Q-cont', 'Q-cont', 'Q-cont', 'Q-cont', 'Q-cont', '0', '0', '0', '0', '0', '0', '0', '0', '0', '0', '0', '0', '0', 'Q', 'Q-cont', '0', '0', '0', '0', '0', '0', '0', '0', '0', '0', '0', '0', '0', '0', 'M', '0']\n",
      "\n",
      "\n",
      "___________________39___________________\n",
      "\n",
      "Predict labels:  ['0', '0', '0', '0', '0', '0', '0', 'Q', 'Q', 'M', '0', '0', 'A', 'A', 'A-cont', '0', 'C', 'C-cont', 'C-cont', 'C-cont', '0', '0', '0', '0', 'Q', 'Q', 'Q', 'Q-cont', 'Q-cont', 'Q-cont', 'Q-cont', '0', '0', '0', 'T', 'T-cont', '0', 'C', 'C-cont', 'C-cont', 'C-cont', '0', 'Q', 'Q', '0', '0', 'Q', 'Q', 'Q', 'Q', 'Q', '0', 'Q', 'Q-cont']\n",
      "Actual labels:  ['0', '0', '0', '0', '0', '0', '0', '0', 'Q', 'Q', 'M', '0', '0', 'A', 'A', 'A-cont', '0', 'C', 'C-cont', 'C-cont', 'C-cont', '0', '0', '0', '0', 'Q', 'Q', 'Q', 'Q-cont', 'Q-cont', 'Q-cont', 'Q-cont', '0', '0', '0', 'T', 'T-cont', '0', 'C', 'C-cont', 'C-cont', 'C-cont', '0', 'Q', 'Q', '0', '0', 'Q', 'Q', 'Q', 'Q', 'Q', '0', 'Q', 'Q-cont', '0']\n",
      "\n",
      "\n",
      "___________________40___________________\n",
      "\n",
      "Predict labels:  ['0', '0', '0', '0', 'C', 'C-cont', 'C-cont', 'C-cont', '0', 'M', '0', '0', '0', '0', '0', '0', '0', 'M', '0', '0', '0', '0', '0', '0', '0', '0', '0', 'Q', 'Q-cont', 'Q-cont', 'C', 'C-cont', 'C-cont', 'C-cont', 'C-cont', '0', 'C', 'C', 'C', '0', 'M', 'M', '0', '0', '0', '0', '0', '0', '0', '0', '0', '0', '0', '0', '0', '0', '0', '0', 'C', 'C-cont', 'C-cont', 'C-cont', '0', '0']\n",
      "Actual labels:  ['0', '0', '0', '0', '0', 'C', 'C-cont', 'C-cont', 'C-cont', '0', 'M', '0', '0', '0', '0', '0', '0', '0', 'M', '0', '0', '0', '0', '0', '0', '0', '0', '0', 'Q', 'Q-cont', 'Q-cont', 'C', 'C-cont', 'C-cont', 'C-cont', 'C-cont', '0', 'C', 'C', 'C', '0', 'M', 'M', '0', '0', '0', '0', '0', '0', '0', '0', '0', '0', '0', '0', '0', '0', '0', '0', 'C', 'C-cont', 'C-cont', 'C-cont', '0', '0', '0']\n",
      "\n",
      "\n",
      "___________________41___________________\n",
      "\n",
      "Predict labels:  ['0', '0', '0', '0', '0', '0', '0', '0', '0', '0', '0', '0', '0', 'C', 'C-cont', 'C-cont', 'C-cont', '0', 'M', '0', '0', 'Q', 'Q-cont', 'Q-cont', 'Q-cont']\n",
      "Actual labels:  ['0', '0', '0', '0', '0', '0', '0', '0', '0', '0', '0', '0', '0', '0', 'C', 'C-cont', 'C-cont', 'C-cont', '0', 'M', '0', '0', 'Q', 'Q-cont', 'Q-cont', 'Q-cont', '0']\n",
      "\n",
      "\n",
      "___________________42___________________\n",
      "\n",
      "Predict labels:  ['0', '0', '0', '0', '0', '0', '0', '0', 'M', '0', '0', '0', '0', '0', '0', '0', '0', '0', '0', '0', '0', '0', '0', '0', '0', '0', '0', '0', 'A', 'A', 'A', '0', '0', '0', '0', 'Q', 'Q', 'Q-cont', 'Q-cont', 'Q-cont', '0', 'M', '0', '0', 'M', '0', 'Q', 'Q', 'Q-cont', 'Q-cont', 'Q-cont', '0', '0', '0']\n",
      "Actual labels:  ['0', '0', '0', '0', '0', '0', '0', '0', '0', 'M', '0', '0', '0', '0', '0', '0', '0', '0', '0', '0', '0', '0', '0', '0', '0', '0', '0', '0', '0', 'A', 'A', 'A', '0', '0', '0', '0', 'Q', 'Q', 'Q-cont', 'Q-cont', 'Q-cont', '0', 'M', '0', '0', 'M', '0', 'Q', 'Q', 'Q-cont', 'Q-cont', 'Q-cont', '0', '0', '0', '0']\n",
      "\n",
      "\n",
      "___________________43___________________\n",
      "\n",
      "Predict labels:  ['0', '0', '0', 'C', 'C', 'C', '0', '0', '0', '0', '0', '0', '0', '0', '0', '0', '0', '0', '0', '0', 'C', 'C', 'Q-cont', 'Q-cont', 'Q-cont', 'Q-cont', 'Q-cont', 'Q-cont', '0', 'M', '0', '0', 'Q', 'Q', 'Q-cont', 'Q-cont', 'Q-cont', 'Q-cont', 'Q-cont', 'Q-cont', '0', '0', '0', '0', '0', '0', '0', '0', '0', '0', '0', '0', '0', '0', 'Q', 'Q', 'Q-cont', 'Q-cont', 'Q-cont', '0', '0', '0', '0', 'M', 'M', 'M-cont', '0', '0', '0', '0', 'M', '0']\n",
      "Actual labels:  ['0', '0', '0', '0', 'C', 'C', 'C', '0', '0', '0', '0', '0', '0', '0', '0', '0', '0', '0', '0', '0', '0', 'C', 'C', 'C-cont', 'C-cont', 'C-cont', 'C-cont', 'C-cont', 'C-cont', '0', 'M', '0', '0', 'Q', 'Q', 'Q-cont', 'Q-cont', 'Q-cont', 'Q-cont', 'Q-cont', 'Q-cont', '0', '0', '0', '0', '0', '0', '0', '0', '0', '0', '0', '0', '0', '0', 'Q', 'Q', 'Q-cont', 'Q-cont', 'Q-cont', '0', '0', '0', '0', 'M', 'M', 'M-cont', '0', '0', '0', '0', 'M', '0', '0']\n",
      "\n",
      "\n",
      "___________________44___________________\n",
      "\n",
      "Predict labels:  ['0', '0', '0', '0', '0', '0', 'M', '0', '0', '0', 'Q', 'Q', 'C', 'C-cont', 'C-cont', 'C-cont', 'C-cont', '0', 'C', 'C', 'C', '0', '0', '0', '0', '0', '0', 'Q', 'Q-cont', '0', '0', 'A', 'A', '0', 'A', 'A', 'A', 'A', '0', 'A', 'A', 'A', '0', 'A', 'A', 'A', 'A', '0', '0', 'A', 'A', '0', '0', '0', '0', '0', '0', '0', 'C', 'C', '0', '0', '0', '0', 'A', 'A', '0', 'A', 'A', 'A', 'A', '0', '0', 'A', 'A', 'A']\n",
      "Actual labels:  ['0', '0', '0', '0', '0', '0', '0', 'M', '0', '0', '0', 'Q', 'Q', 'C', 'C-cont', 'C-cont', 'C-cont', 'C-cont', '0', 'C', 'C', 'C', '0', '0', '0', '0', '0', '0', 'Q', 'Q-cont', '0', '0', 'A', 'A', '0', 'A', 'A', 'A', 'A', '0', 'A', 'A', 'A', '0', 'A', 'A', 'A', 'A', '0', '0', 'A', 'A', '0', '0', '0', '0', '0', '0', '0', 'C', 'C', '0', '0', '0', '0', 'A', 'A', '0', 'A', 'A', 'A', 'A', '0', '0', 'A', 'A', 'A', '0']\n",
      "\n",
      "\n",
      "___________________45___________________\n",
      "\n",
      "Predict labels:  ['0', '0', '0', '0', '0', '0', '0', '0', '0', '0', '0', '0', 'Q', 'Q', 'Q', '0', 'T', 'T-cont', '0', 'Q', 'Q-cont', '0', '0', '0', '0', '0', '0', '0', '0', '0', '0', 'C', 'C', '0', '0', '0', 'A', 'A', 'A', 'A', '0', '0', '0', '0', '0', '0', '0', '0', '0', '0', '0', '0', '0', 'M', '0', 'Q', 'Q', '0']\n",
      "Actual labels:  ['0', '0', '0', '0', '0', '0', '0', '0', '0', '0', '0', '0', '0', 'Q', 'Q', 'Q', '0', 'T', 'T-cont', '0', 'Q', 'Q-cont', '0', '0', '0', '0', '0', '0', '0', '0', '0', '0', 'C', 'C', '0', '0', '0', 'A', 'A', 'A', 'A', '0', '0', '0', '0', '0', '0', '0', '0', '0', '0', '0', '0', '0', 'M', '0', 'Q', 'Q', '0', '0']\n",
      "\n",
      "\n",
      "___________________46___________________\n",
      "\n",
      "Predict labels:  ['0', '0', '0', 'C', 'C', '0', 'A', 'A', 'A', 'A', '0', '0', '0', '0', '0', 'M', '0', '0', '0', '0', 'Q', 'Q', 'C', 'C-cont', 'C-cont', 'C-cont', '0', '0', '0', '0', '0', '0', '0', '0', '0', '0', '0', 'T', 'T-cont', '0', '0', '0', 'T', 'T-cont', '0', '0', '0', '0', '0', '0', 'Q', 'Q', 'Q', '0', '0', '0', '0', '0', '0', '0', '0', '0', '0', 'Q', 'Q-cont', 'C', 'C', '0', 'Q', 'Q-cont', 'A', 'A', 'A', 'A', '0', '0', '0', '0', '0', '0', 'Q', 'Q', '0', '0']\n",
      "Actual labels:  ['0', '0', '0', '0', 'C', 'C', '0', 'A', 'A', 'A', 'A', '0', '0', '0', '0', '0', 'M', '0', '0', '0', '0', 'Q', 'Q', 'C', 'C-cont', 'C-cont', 'C-cont', '0', '0', '0', '0', '0', '0', '0', '0', '0', '0', '0', 'T', 'T-cont', '0', '0', '0', 'T', 'T-cont', '0', '0', '0', '0', '0', '0', 'Q', 'Q', 'Q', '0', '0', '0', '0', '0', '0', '0', '0', '0', '0', 'Q', 'Q-cont', 'C', 'C', '0', 'Q', 'Q-cont', 'A', 'A', 'A', 'A', '0', '0', '0', '0', '0', '0', 'Q', 'Q', '0', '0', '0']\n",
      "\n",
      "\n",
      "___________________47___________________\n",
      "\n",
      "Predict labels:  ['0', '0', 'M', '0', '0', '0', '0', '0', '0', '0', '0', '0', '0', '0', '0', '0', '0', '0', '0', '0', '0', '0', '0', '0', '0', 'M', '0', '0', '0', '0', 'C', 'C-cont', 'C-cont', 'C-cont', '0', '0', '0', '0', '0', '0', '0', 'Q', 'Q', 'C', 'C-cont', 'C-cont', 'C-cont', '0', '0', '0', 'T', 'T-cont', '0', '0', '0', 'T', 'T-cont', '0', 'Q', 'Q', 'Q', 'Q', 'Q', '0', '0', '0', '0', '0', '0', '0', '0', '0', '0', '0', '0', '0', '0', 'Q', 'Q', 'Q', 'Q-cont', 'Q-cont', 'Q-cont', 'Q-cont', '0', '0', '0', 'M', '0', '0', '0', 'Q', 'Q', '0', '0', '0', '0', '0', '0', '0', '0', '0', '0', '0', '0', '0', '0', '0', '0', '0', '0', '0', '0', '0', 'Q', 'Q', 'Q', '0', '0']\n",
      "Actual labels:  ['0', '0', '0', 'M', '0', '0', '0', '0', '0', '0', '0', '0', '0', '0', '0', '0', '0', '0', '0', '0', '0', '0', '0', '0', '0', '0', 'M', '0', '0', '0', '0', 'C', 'C-cont', 'C-cont', 'C-cont', '0', '0', '0', '0', '0', '0', '0', 'Q', 'Q', 'C', 'C-cont', 'C-cont', 'C-cont', '0', '0', '0', 'T', 'T-cont', '0', '0', '0', 'T', 'T-cont', '0', 'Q', 'Q', 'Q', 'Q', 'Q', '0', '0', '0', '0', '0', '0', '0', '0', '0', '0', '0', '0', '0', '0', 'Q', 'Q', 'Q', 'Q-cont', 'Q-cont', 'Q-cont', 'Q-cont', '0', '0', '0', 'M', '0', '0', '0', 'Q', 'Q', '0', '0', '0', '0', '0', '0', '0', '0', '0', '0', '0', '0', '0', '0', '0', '0', '0', '0', '0', '0', '0', 'Q', 'Q', 'Q', '0', '0', '0']\n",
      "\n",
      "\n",
      "___________________48___________________\n",
      "\n",
      "Predict labels:  ['0', '0', '0', '0', '0', '0', '0', 'Q', 'Q', 'M', '0', '0', '0', '0', 'C', 'C-cont', 'C-cont', 'C-cont', '0', '0', '0', '0', '0', '0', 'Q', 'Q-cont', 'C', 'C', '0', 'Q', 'Q-cont', 'A', 'A', 'A', 'A', '0', 'Q', 'Q', 'Q', 'Q-cont', 'Q-cont', 'Q-cont', 'Q-cont', '0', '0', '0', 'T', 'T-cont', '0', '0', 'Q', 'Q', 'Q', 'Q']\n",
      "Actual labels:  ['0', '0', '0', '0', '0', '0', '0', '0', 'Q', 'Q', 'M', '0', '0', '0', '0', 'C', 'C-cont', 'C-cont', 'C-cont', '0', '0', '0', '0', '0', '0', 'Q', 'Q-cont', 'C', 'C', '0', 'Q', 'Q-cont', 'A', 'A', 'A', 'A', '0', 'Q', 'Q', 'Q', 'Q-cont', 'Q-cont', 'Q-cont', 'Q-cont', '0', '0', '0', 'T', 'T-cont', '0', 'Q', 'Q-cont', 'Q-cont', 'Q-cont', 'Q-cont', 'Q-cont']\n",
      "\n",
      "\n",
      "___________________49___________________\n",
      "\n",
      "Predict labels:  ['0', '0', '0', '0', '0', 'C', 'C', 'C', 'C', 'C', 'C', 'C', 'C', '0', '0', '0', '0', '0', 'A', 'A', 'A', 'A', 'A', 'A', 'A', 'A', 'A', 'A', 'A-cont', 'A-cont', 'A-cont', 'A-cont', 'A-cont', '0', 'A', 'A', 'A', '0', '0', '0', '0', '0', '0', '0', '0', 'C', 'C', 'C-cont', 'C-cont', '0', 'Q', 'Q', 'Q', 'Q-cont', '0', '0', 'Q', 'Q', 'Q', '0', 'Q', 'Q', 'Q', 'Q', 'Q', '0', 'C', 'C', 'C', '0', '0', '0', '0', '0', '0', '0', '0', '0', '0', '0', '0', '0', '0', '0', '0', '0', '0', '0', '0', '0', 'C', 'C', 'C-cont', 'C-cont', '0', '0', '0', '0', '0', '0', '0', '0', '0', '0', '0', '0', '0', '0', '0', '0', '0', '0', 'A', 'A', 'A', 'A', 'A', 'A', 'A', 'A', 'A', 'A', 'A', 'A', 'A', 'A', 'A', 'A', '0', 'A', 'A', 'A', 'A', 'A', 'A', 'A', 'A', 'A', 'A', 'A', 'A', 'A', 'A', '0', '0', 'A', 'A', 'A', 'A', 'A', 'A', 'A', 'A', 'A', 'A', 'A', 'A', 'A', 'A', 'A', 'A', 'A', 'A-cont', '0', '0', '0', '0', '0', '0', '0', '0', '0', '0', '0', '0', '0', '0', '0', '0']\n",
      "Actual labels:  ['0', '0', '0', '0', '0', '0', 'C', 'C', 'C', 'C', 'C', 'C', 'C', 'C', '0', '0', '0', '0', '0', 'A', 'A', 'A', 'A', 'A', 'A', 'A', 'A', 'A', 'A', 'A-cont', 'A-cont', 'A-cont', 'A-cont', 'A-cont', '0', 'A', 'A', 'A', '0', '0', '0', '0', '0', '0', '0', '0', 'C', 'C', 'C-cont', 'C-cont', '0', 'Q', 'Q', 'Q', 'Q-cont', '0', '0', 'Q', 'Q', 'Q', '0', 'Q', 'Q', 'Q', 'Q', 'Q', '0', 'C', 'C', 'C', '0', '0', '0', '0', '0', '0', '0', '0', '0', '0', '0', '0', '0', '0', '0', '0', '0', '0', '0', '0', '0', 'C', 'C', 'C-cont', 'C-cont', '0', '0', '0', '0', '0', '0', '0', '0', '0', '0', '0', '0', '0', '0', '0', '0', '0', '0', 'A', 'A', 'A', 'A', 'A', 'A', 'A', 'A', 'A', 'A', 'A', 'A', 'A', 'A', 'A', 'A', '0', 'A', 'A', 'A', 'A', 'A', 'A', 'A', 'A', 'A', 'A', 'A', 'A', 'A', 'A', '0', '0', 'A', 'A', 'A', 'A', 'A', 'A', 'A', 'A', 'A', 'A', 'A', 'A', 'A', 'A', 'A', 'A', 'A', 'A', '0', '0', '0', '0', '0', '0', '0', '0', '0', '0', '0', '0', '0', '0', '0', '0', '0']\n",
      "\n",
      "\n",
      "___________________50___________________\n",
      "\n",
      "Predict labels:  ['0', '0', '0', '0', '0', '0', '0', '0', '0', '0', '0', 'A', 'A', 'A', 'A', 'A-cont', 'A-cont', 'A-cont', 'A-cont', 'A-cont', 'A-cont', 'A-cont', 'A-cont', 'A-cont', 'A-cont', 'A-cont', 'A-cont', 'A-cont', 'A-cont', 'A-cont', 'A-cont', 'A-cont', 'A-cont', 'A-cont', 'A-cont', 'A-cont', 'A-cont', 'A-cont', 'A-cont', 'A-cont', 'A-cont', 'A-cont', 'A-cont', '0', 'C', 'C', 'C-cont', 'C-cont', 'C-cont', 'C-cont', 'C-cont', 'C-cont', 'C-cont', 'C-cont', 'C-cont', 'C-cont', '0', '0', '0', '0', '0', '0', '0', '0', '0', '0', '0', '0', '0', '0', 'C', '0', '0', '0', '0', '0', '0', '0', '0', '0', '0', '0', '0', '0', '0', '0', '0', 'M', 'M', 'M', 'M', '0', 'M', 'M', 'M', 'M', '0', 'M', 'M', 'M', 'M', '0', '0', 'M', 'M', 'M', 'M', 'M', '0', 'A', 'A', 'A', 'A-cont', 'A-cont', 'A-cont', 'A-cont', '0', '0', '0', '0', '0', '0', '0', '0', '0', '0', '0', '0', '0', '0', '0', '0', '0', '0', '0', '0', '0', '0', 'M', 'M', 'M', 'M', '0', 'M', 'M', 'M', 'M']\n",
      "Actual labels:  ['0', '0', '0', '0', '0', '0', '0', '0', '0', '0', '0', '0', 'A', 'A', 'A', 'A', 'A-cont', 'A-cont', 'A-cont', 'A-cont', 'A-cont', 'A-cont', 'A-cont', 'A-cont', 'A-cont', 'A-cont', 'A-cont', 'A-cont', 'A-cont', 'A-cont', 'A-cont', 'A-cont', 'A-cont', 'A-cont', 'A-cont', 'A-cont', 'A-cont', 'A-cont', 'A-cont', 'A-cont', 'A-cont', 'A-cont', 'A-cont', 'A-cont', '0', 'C', 'C', 'C-cont', 'C-cont', 'C-cont', 'C-cont', 'C-cont', 'C-cont', 'C-cont', 'C-cont', 'C-cont', 'C-cont', '0', '0', '0', '0', '0', '0', '0', '0', '0', '0', '0', '0', '0', '0', 'C', '0', '0', '0', '0', '0', '0', '0', '0', '0', '0', '0', '0', '0', '0', '0', '0', 'M', 'M', 'M', 'M', '0', 'M', 'M', 'M', 'M', '0', 'M', 'M', 'M', 'M', '0', '0', 'M', 'M', 'M', 'M', 'M', '0', 'A', 'A', 'A', 'A-cont', 'A-cont', 'A-cont', 'A-cont', '0', '0', '0', '0', '0', '0', '0', '0', '0', '0', '0', '0', '0', '0', '0', '0', '0', '0', '0', '0', '0', '0', 'M', 'M', 'M', 'M', '0', 'M', 'M', 'M', 'M', '0']\n",
      "\n",
      "\n",
      "___________________51___________________\n",
      "\n",
      "Predict labels:  ['0', '0', 'A', 'A', 'A', 'A', 'A', 'A', 'A', 'A', 'A', 'A', 'A', 'A', 'A', 'A', 'A', 'A', 'A', 'A', 'A', 'A', 'A', 'A-cont', 'A-cont', 'A-cont', 'A-cont', 'A-cont', 'A-cont', 'A-cont', 'A-cont', 'A-cont', 'A-cont', 'A-cont', 'A-cont', 'A-cont', 'A-cont', 'A-cont', 'A-cont', 'A-cont', 'A-cont', 'A-cont', 'A-cont', '0', '0', '0', '0', '0', '0', '0', '0', '0', '0', '0', '0', '0', '0', '0', '0', '0', '0', '0', '0', '0', '0', '0', '0', 'Q', 'Q-cont', 'Q-cont', 'Q-cont', 'Q-cont', '0', '0', '0', '0', '0', '0', '0', '0', '0', '0', 'Q', 'Q-cont', 'Q-cont', 'Q-cont', 'Q-cont', 'Q-cont', 'Q-cont', 'Q-cont', 'Q-cont', 'Q-cont', 'Q-cont', '0', '0', '0', '0', '0', '0', 'Q', 'Q', 'Q-cont', 'Q-cont', 'Q-cont', 'Q-cont', 'Q-cont', 'Q-cont', 'Q-cont', '0', '0', '0', '0', '0', '0', 'A', 'A', 'A-cont', '0', '0', '0', '0', '0', 'A', 'A', 'A-cont', '0', '0', '0', '0', '0', '0', '0', '0', 'A', 'A', 'A-cont', 'A-cont', '0', '0', '0', 'Q', 'Q', 'Q', 'Q']\n",
      "Actual labels:  ['0', '0', '0', 'A', 'A', 'A', 'A', 'A', 'A', 'A', 'A', 'A', 'A', 'A', 'A', 'A', 'A', 'A', 'A', 'A', 'A', 'A', 'A', 'A', 'A-cont', 'A-cont', 'A-cont', 'A-cont', 'A-cont', 'A-cont', 'A-cont', 'A-cont', 'A-cont', 'A-cont', 'A-cont', 'A-cont', 'A-cont', 'A-cont', 'A-cont', 'A-cont', 'A-cont', 'A-cont', 'A-cont', 'A-cont', '0', '0', '0', '0', '0', '0', '0', '0', '0', '0', '0', '0', '0', '0', '0', '0', '0', '0', '0', '0', '0', '0', '0', '0', 'Q', 'Q-cont', 'Q-cont', 'Q-cont', 'Q-cont', '0', '0', '0', '0', '0', '0', '0', '0', '0', '0', 'Q', 'Q-cont', 'Q-cont', 'Q-cont', 'Q-cont', 'Q-cont', 'Q-cont', 'Q-cont', 'Q-cont', 'Q-cont', 'Q-cont', '0', '0', '0', '0', '0', '0', 'Q', 'Q', 'Q-cont', 'Q-cont', 'Q-cont', 'Q-cont', 'Q-cont', 'Q-cont', 'Q-cont', '0', '0', '0', '0', '0', '0', 'A', 'A', 'A-cont', '0', '0', '0', '0', '0', 'A', 'A', 'A-cont', '0', '0', '0', '0', '0', '0', '0', '0', '0', '0', '0', '0', '0', '0', '0', 'Q', 'Q', 'Q', 'Q', '0']\n",
      "\n",
      "\n",
      "___________________52___________________\n",
      "\n",
      "Predict labels:  ['0', '0', '0', '0', '0', '0', '0', '0', '0', '0', '0', '0', '0', '0', '0', '0', '0', '0', '0', '0', '0', '0', '0', '0', '0', '0', '0', '0', '0', '0', '0', '0', '0', '0', '0', 'Q', 'Q', 'Q', '0', '0', '0', '0', '0', '0', '0', '0', '0', '0', '0', '0', '0', '0', '0', 'A', 'A', 'A', 'A', 'A', 'A', 'A', 'A', 'A', 'A', 'A', 'A', 'A', 'A', 'A', 'A', 'A', 'A', 'A', 'A', 'A', 'A', 'A', 'A', 'A', 'A', 'A', 'A', 'A', 'A', 'A', 'A', 'A', 'A', 'A', 'A', 'A', '0', '0', '0', '0', '0', '0', '0', '0', '0', '0', '0', '0', 'A', 'A', 'A', 'A', 'A', 'A', 'A', 'A', 'A', 'A', 'A', 'A', 'A', 'A', 'A', 'A', 'A', 'A', 'A', 'A', 'A', 'A', 'A', 'A', 'A', 'A', 'A', 'A', 'A', 'A']\n",
      "Actual labels:  ['0', '0', '0', '0', '0', '0', '0', '0', '0', '0', '0', '0', '0', '0', '0', '0', '0', '0', '0', '0', '0', '0', '0', '0', '0', '0', '0', '0', '0', '0', '0', '0', '0', '0', '0', '0', 'Q', 'Q', 'Q', '0', '0', '0', '0', '0', '0', '0', '0', '0', '0', '0', '0', '0', '0', '0', 'A', 'A', 'A', 'A', 'A', 'A', 'A', 'A', 'A', 'A', 'A', 'A', 'A', 'A', 'A', 'A', 'A', 'A', 'A', 'A', 'A', 'A-cont', 'A-cont', 'A-cont', 'A-cont', 'A-cont', 'A-cont', 'A-cont', 'A-cont', 'A-cont', 'A-cont', 'A-cont', 'A-cont', 'A-cont', 'A-cont', 'A-cont', 'A-cont', '0', '0', '0', '0', '0', '0', '0', '0', '0', '0', '0', '0', 'A', 'A', 'A', 'A', 'A', 'A', 'A', 'A', 'A', 'A', 'A', 'A', 'A', 'A', 'A', 'A', 'A', 'A', 'A', 'A', 'A', 'A', 'A', 'A', 'A', 'A', 'A', 'A', 'A', 'A', '0']\n",
      "\n",
      "\n",
      "___________________53___________________\n",
      "\n",
      "Predict labels:  ['0', '0', 'M', 'M', 'M', 'M', 'M', '0', 'M', 'M', 'M', 'M', 'M', '0', 'M', 'M', 'M', 'M', '0', 'M', 'M', 'M', 'M', 'M', '0', '0', 'M', 'M', 'M', 'M', '0', 'C', 'C', '0', '0', 'A', 'A', 'A', 'A', 'A', 'A', 'A', 'A', 'A', 'A', 'A', 'A', 'A', 'A', 'A', 'A', 'A', 'A-cont', 'A-cont', 'A-cont', 'A-cont', '0', 'C', 'C', 'C', '0', '0', '0', '0', '0', '0', '0', '0', '0', 'M', 'M-cont', '0', '0', '0', '0', '0', '0', 'A', 'A', 'A-cont', '0', '0', '0', '0', '0', '0', '0', '0', '0', '0', '0', '0', '0', '0', '0', '0', '0', '0', '0', '0', '0', '0', '0', '0', '0', '0', '0', '0', '0', 'A', 'A', 'A', 'A', 'A', 'A', '0', '0', '0', '0', '0', '0', '0', '0', '0', '0', 'Q', 'Q', 'Q-cont', '0', 'A', 'A', 'A', 'A', 'A', 'A']\n",
      "Actual labels:  ['0', '0', '0', 'M', 'M', 'M', 'M', 'M', '0', 'M', 'M', 'M', 'M', 'M', '0', 'M', 'M', 'M', 'M', '0', 'M', 'M', 'M', 'M', 'M', '0', '0', 'M', 'M', 'M', 'M', '0', 'C', 'C', '0', '0', 'A', 'A', 'A', 'A', 'A', 'A', 'A', 'A', 'A', 'A', 'A', 'A', 'A', 'A', 'A', 'A', 'A', 'A-cont', 'A-cont', 'A-cont', 'A-cont', '0', 'C', 'C', 'C', '0', '0', '0', '0', '0', '0', '0', '0', '0', 'M', 'M-cont', '0', '0', '0', '0', '0', '0', 'A', 'A', 'A-cont', '0', '0', '0', '0', '0', '0', '0', '0', '0', '0', '0', '0', '0', '0', '0', '0', '0', '0', '0', '0', '0', '0', '0', '0', '0', '0', '0', '0', '0', 'A', 'A', 'A', 'A', 'A', 'A', '0', '0', '0', '0', '0', '0', '0', '0', '0', '0', 'Q', 'Q', 'Q-cont', '0', 'A', 'A', 'A', 'A', 'A', 'A', '0']\n",
      "\n",
      "\n"
     ]
    },
    {
     "name": "stdout",
     "output_type": "stream",
     "text": [
      "___________________54___________________\n",
      "\n",
      "Predict labels:  ['0', 'M', 'M', 'M', 'M', 'M', '0', '0', '0', '0', 'A', 'A', '0', '0', '0', '0', '0', 'A', 'A', 'A-cont', '0', '0', 'Q', 'Q', 'Q', 'Q', 'Q', 'Q-cont', '0', '0', '0', '0', 'M', 'M', 'M', 'M', '0', 'M', 'M', 'M', 'M', '0', '0', '0', 'M', 'M', 'M', '0', '0', '0', '0', '0', 'A', 'A', 'A-cont', '0', '0', 'Q', 'Q-cont', '0', '0', '0', '0', '0', '0', '0', '0', '0', '0', '0', '0', '0', 'A', 'A', 'A-cont', '0', '0', '0', '0', '0', 'Q', 'Q-cont', 'A', 'A', 'A']\n",
      "Actual labels:  ['0', '0', 'M', 'M', 'M', 'M', 'M', '0', '0', '0', '0', 'A', 'A', '0', '0', '0', '0', '0', 'A', 'A', 'A-cont', '0', '0', 'Q', 'Q', 'Q', 'Q', 'Q', 'Q-cont', '0', '0', '0', '0', 'M', 'M', 'M', 'M', '0', 'M', 'M', 'M', 'M', '0', '0', '0', 'M', 'M', 'M', '0', '0', '0', '0', '0', 'A', 'A', 'A-cont', '0', '0', 'Q', 'Q-cont', '0', '0', '0', '0', '0', '0', '0', '0', '0', '0', '0', '0', '0', 'A', 'A', 'A-cont', '0', '0', '0', '0', '0', 'Q', 'Q-cont', 'A', 'A', 'A', '0']\n",
      "\n",
      "\n",
      "___________________55___________________\n",
      "\n",
      "Predict labels:  ['0', '0', '0', '0', 'M', 'M', 'M', 'M', 'M', '0', 'M', 'M', 'M', 'M', 'M', '0', 'M', 'M', 'M', 'M', '0', 'M', 'M', 'M', 'M', 'M', '0', '0', 'M', 'M', 'M', 'M', '0', 'A', 'A', '0', '0', '0', '0', 'C', 'C', 'C', 'C', '0', '0', '0', '0', '0', '0', '0', '0', '0', '0', '0', '0', '0', '0', '0', '0', '0', '0', '0', '0', '0', '0', '0', '0', 'M', 'M', 'M', 'M', 'M', '0', '0']\n",
      "Actual labels:  ['0', '0', '0', '0', '0', 'M', 'M', 'M', 'M', 'M', '0', 'M', 'M', 'M', 'M', 'M', '0', 'M', 'M', 'M', 'M', '0', 'M', 'M', 'M', 'M', 'M', '0', '0', 'M', 'M', 'M', 'M', '0', 'A', 'A', '0', '0', '0', '0', 'C', 'C', 'C', 'C', '0', '0', '0', '0', '0', '0', '0', '0', '0', '0', '0', '0', '0', '0', '0', '0', '0', '0', '0', '0', '0', '0', '0', '0', 'M', 'M', 'M', 'M', 'M', '0', '0', '0']\n",
      "\n",
      "\n",
      "___________________56___________________\n",
      "\n",
      "Predict labels:  ['0', '0', '0', '0', 'M', 'M', '0', 'M', 'M', 'M', '0', '0', 'C', 'C', '0', '0', '0', '0', '0', '0', '0', '0', '0', '0', '0', '0', 'C', '0', '0', 'C', 'A', 'A-cont', 'A-cont', 'A', 'A', 'A', 'A', 'A', 'A', 'A', 'A', 'A', 'A-cont', 'A-cont', 'A-cont', 'A', 'A-cont', 'A-cont', 'A-cont', '0', '0', 'C', 'C', 'C', '0', 'C', 'A', 'A-cont', 'A-cont', '0', '0', '0', '0', '0', '0', '0', 'A', 'A', 'A', '0', '0', '0', '0', '0', '0', '0', '0', '0', '0', '0', '0', '0', '0', '0', '0', 'M', 'M', 'M', '0', '0', '0', '0', '0', '0', '0', '0', '0', 'M', 'M', 'M', '0', '0', '0', 'C', 'C', '0', '0', '0', '0', '0', 'A', 'A', 'A']\n",
      "Actual labels:  ['0', '0', '0', '0', '0', 'M', 'M', '0', 'M', 'M', 'M', '0', '0', 'C', 'C', '0', '0', '0', '0', '0', 'A', 'A-cont', 'A-cont', 'A-cont', '0', '0', '0', 'A', 'A', 'A', 'A-cont', 'A-cont', 'A-cont', 'A-cont', 'A-cont', 'A-cont', 'A-cont', 'A-cont', 'A-cont', 'A-cont', 'A-cont', 'A-cont', 'A-cont', 'A-cont', 'A-cont', 'A-cont', 'A-cont', 'A-cont', 'A-cont', 'A-cont', '0', '0', 'C', 'C', 'C', '0', 'A', 'A', 'A-cont', 'A-cont', '0', '0', '0', '0', '0', '0', '0', 'A', 'A', 'A', '0', '0', '0', '0', '0', '0', '0', '0', '0', '0', '0', '0', '0', '0', '0', '0', 'M', 'M', 'M', '0', '0', '0', '0', '0', '0', '0', '0', '0', 'M', 'M', 'M', '0', '0', 'C', 'C', 'C', 'C', 'C', 'C-cont', 'C-cont', '0', 'A', 'A', 'A', '0']\n",
      "\n",
      "\n",
      "___________________57___________________\n",
      "\n",
      "Predict labels:  ['0', '0', '0', '0', 'C', 'C', '0', '0', '0', 'Q', 'Q-cont', 'Q-cont', 'Q-cont', 'Q-cont', 'Q-cont', 'Q-cont', 'Q-cont', '0', '0', '0', '0', 'Q', 'Q', 'Q', 'Q-cont', 'A', 'A', 'A', 'A', 'A', 'A', 'A', 'A', 'A', 'A', 'A', 'A', '0', 'Q', 'Q', 'Q', 'Q-cont', 'A', 'A', 'A', '0', 'C', 'C', 'C-cont', 'C-cont', '0', 'C', 'C', 'C', '0', '0', '0', '0', '0', 'M', 'M', 'M', '0', 'Q', '0', '0', '0', '0', '0', '0', 'M', 'M', '0', 'M', 'M', 'M', '0', '0', '0', '0', '0', '0', '0', 'Q']\n",
      "Actual labels:  ['0', '0', '0', '0', '0', 'C', 'C', '0', '0', '0', 'Q', 'Q-cont', 'Q-cont', 'Q-cont', 'Q-cont', 'Q-cont', 'Q-cont', 'Q-cont', '0', '0', '0', '0', 'Q', 'Q', 'Q', 'Q-cont', 'A', 'A', 'A', 'A', 'A', 'A', 'A', 'A', 'A', 'A', 'A', 'A', '0', 'Q', 'Q', 'Q', 'Q-cont', 'A', 'A', 'A', '0', 'C', 'C', 'C-cont', 'C-cont', '0', 'C', 'C', 'C', '0', '0', '0', '0', '0', 'M', 'M', 'M', '0', 'Q', '0', '0', '0', '0', '0', '0', 'M', 'M', '0', 'M', 'M', 'M', '0', '0', '0', '0', '0', '0', '0', 'Q', '0']\n",
      "\n",
      "\n",
      "___________________58___________________\n",
      "\n",
      "Predict labels:  ['0', '0', '0', 'A', 'A', 'A', '0', 'A', 'A', '0', '0', 'A', 'A', 'A-cont', '0', '0', '0', '0', '0', '0', '0', '0', 'M', 'M', 'M', '0', '0', '0', '0', '0', '0', '0', '0', '0', '0', '0', '0', '0', '0', '0', '0', '0', '0', '0', '0', '0', '0', '0', '0', '0', '0', '0', '0', '0', '0', 'M', 'M', 'M', '0', '0', '0', '0', '0', '0', '0', '0', '0', 'M', 'M', 'M', '0', '0', '0', '0', 'Q', 'Q', 'Q', 'Q', '0', '0', '0', '0', '0', 'M', 'M', 'M', '0', '0', '0', '0', 'Q', 'Q', 'Q', 'Q']\n",
      "Actual labels:  ['0', '0', '0', '0', 'A', 'A', 'A', '0', 'A', 'A', '0', '0', 'A', 'A', 'A-cont', '0', '0', '0', '0', '0', '0', '0', '0', 'M', 'M', 'M', '0', '0', '0', '0', '0', '0', '0', '0', '0', '0', '0', '0', '0', '0', '0', '0', '0', '0', '0', '0', '0', '0', '0', '0', '0', '0', '0', '0', '0', '0', 'M', 'M', 'M', '0', '0', '0', '0', '0', '0', '0', '0', '0', 'M', 'M', 'M', '0', '0', '0', '0', 'Q', 'Q', 'Q', 'Q', '0', '0', '0', '0', '0', 'M', 'M', 'M', '0', '0', '0', '0', 'Q', 'Q', 'Q', 'Q', '0']\n",
      "\n",
      "\n",
      "___________________59___________________\n",
      "\n",
      "Predict labels:  ['0', '0', '0', '0', '0', '0', '0', '0', '0', '0', '0', '0', 'A', 'A', 'A', 'A', 'A', 'A', 'A', 'A', 'A', 'A', 'A', 'A', 'A-cont', 'A-cont', 'A-cont', 'A-cont', 'A-cont', 'A-cont', 'A-cont', '0', 'A', 'A', 'A', 'A', 'A-cont', 'A-cont', 'A-cont', 'A-cont', 'A-cont', 'A-cont', 'A-cont', '0', 'A', 'A', 'A', '0', '0', 'A', 'A', 'A', 'A', 'A', 'A', 'A', 'A', 'A', 'A', 'A', 'A-cont', 'A-cont', 'A-cont', 'A-cont', 'A-cont']\n",
      "Actual labels:  ['0', '0', '0', '0', '0', '0', '0', '0', '0', '0', '0', '0', '0', 'A', 'A', 'A', 'A', 'A', 'A', 'A', 'A', 'A', 'A', 'A', 'A', 'A-cont', 'A-cont', 'A-cont', 'A-cont', 'A-cont', 'A-cont', 'A-cont', '0', 'A', 'A', 'A', 'A', 'A-cont', 'A-cont', 'A-cont', 'A-cont', 'A-cont', 'A-cont', 'A-cont', '0', 'A', 'A', 'A', '0', '0', 'A', 'A', 'A', 'A', 'A', 'A', 'A', 'A', 'A', 'A', 'A', 'A-cont', 'A-cont', 'A-cont', 'A-cont', 'A-cont', '0']\n",
      "\n",
      "\n",
      "___________________60___________________\n",
      "\n",
      "Predict labels:  ['A', 'A', 'A', 'A', 'A', 'A', 'A', 'A', 'A-cont', 'A-cont', '0', 'A', 'A', 'A', '0', '0', '0', '0', '0', 'C', 'C', 'C', 'C', 'C', 'C-cont', '0', '0', '0', '0', '0', '0', '0', '0', '0', '0', '0', '0', '0', '0', '0', '0', '0', '0', '0', '0', '0', '0', '0', '0', '0', '0', '0', '0', '0', 'A', 'A', 'A', 'A', 'A', '0', '0', '0', '0', '0', '0', '0', '0', '0', '0', '0', '0', '0', '0', 'A', 'A', 'A', '0', '0', '0', '0', '0', '0', '0', '0', '0', '0', '0', 'A', 'A', 'A', 'A', 'A', '0', 'A', 'A', 'A', '0', '0', '0', '0', '0', '0', '0', '0', '0', '0']\n",
      "Actual labels:  ['A', 'A', 'A', 'A', 'A', 'A', 'A', 'A', 'A', 'A-cont', 'A-cont', '0', 'A', 'A', 'A', '0', '0', '0', '0', '0', 'C', 'C', 'C', 'C', 'C', 'C-cont', '0', '0', '0', '0', '0', '0', '0', '0', '0', '0', '0', '0', '0', '0', '0', '0', '0', '0', '0', '0', '0', '0', '0', '0', '0', '0', '0', '0', '0', 'A', 'A', 'A', 'A', 'A', '0', '0', '0', '0', '0', '0', '0', '0', '0', '0', '0', '0', '0', '0', 'A', 'A', 'A', '0', '0', '0', '0', '0', '0', '0', '0', '0', '0', '0', 'A', 'A', 'A', 'A', 'A', '0', 'A', 'A', 'A', '0', '0', '0', '0', '0', '0', '0', '0', '0', '0', '0']\n",
      "\n",
      "\n",
      "___________________61___________________\n",
      "\n",
      "Predict labels:  ['0', '0', '0', 'A', 'A', 'A-cont', 'A-cont', 'A-cont', 'A-cont', 'A-cont', 'A-cont', '0', 'C', 'C', 'C', 'C-cont', 'C-cont', 'A-cont', 'A-cont', '0', 'C', 'C', 'C-cont', '0', '0', '0', '0', '0', '0', '0', '0', '0', '0', '0', '0', '0', '0', '0', '0', '0', '0', '0', '0', '0', '0', '0', '0', '0', '0', '0', '0', '0', '0', '0', '0', '0', '0', '0', '0', '0', '0']\n",
      "Actual labels:  ['0', '0', '0', '0', 'A', 'A', 'A-cont', 'A-cont', 'A-cont', 'A-cont', 'A-cont', 'A-cont', '0', 'C', 'C', 'C', 'C-cont', 'C-cont', 'C-cont', 'C-cont', '0', 'C', 'C', 'C-cont', '0', '0', '0', '0', '0', '0', '0', '0', '0', '0', '0', '0', '0', '0', '0', '0', '0', '0', '0', '0', '0', '0', '0', '0', '0', '0', '0', '0', '0', '0', '0', '0', '0', '0', '0', '0', '0', '0', '0']\n",
      "\n",
      "\n",
      "___________________62___________________\n",
      "\n",
      "Predict labels:  ['0', '0', '0', '0', '0', '0', '0', '0', 'Q', 'Q-cont', '0', '0', '0', '0', '0', '0', '0', '0', '0', '0', '0', '0', 'Q', 'Q', 'Q', 'C', 'C', 'C', '0', '0', '0', '0', 'Q', 'Q-cont', 'Q-cont', 'Q-cont', 'Q-cont', '0', 'T', 'T-cont', '0', '0', '0', '0', '0', '0', '0', '0', '0', '0', '0', '0', '0', '0', '0', '0', '0', '0', '0', '0', '0', '0', '0', '0', 'Q', 'Q-cont', '0', 'T', 'T-cont', '0', '0', '0', '0', '0', 'M', 'M', 'M', '0', 'M', 'M', 'M', '0', '0', '0', '0', '0', '0', '0', '0', '0', '0', '0', '0', '0', '0', '0', '0', '0', '0', '0', '0', '0', '0', 'Q', 'Q']\n",
      "Actual labels:  ['0', '0', '0', '0', '0', '0', '0', '0', '0', 'Q', 'Q-cont', '0', '0', '0', '0', '0', '0', '0', '0', '0', '0', '0', '0', 'Q', 'Q', 'Q', 'C', 'C', 'C', '0', '0', '0', '0', 'Q', 'Q-cont', 'Q-cont', 'Q-cont', 'Q-cont', '0', 'T', 'T-cont', '0', '0', '0', '0', '0', '0', '0', '0', '0', '0', '0', '0', '0', '0', '0', '0', '0', '0', '0', '0', '0', '0', '0', '0', 'Q', 'Q-cont', '0', 'T', 'T-cont', '0', '0', '0', '0', '0', 'M', 'M', 'M', '0', 'M', 'M', 'M', '0', '0', '0', '0', '0', '0', '0', '0', '0', '0', '0', '0', '0', '0', '0', '0', '0', '0', '0', '0', '0', '0', 'Q', 'Q', '0']\n",
      "\n",
      "\n",
      "___________________63___________________\n",
      "\n",
      "Predict labels:  ['0', '0', '0', 'M', 'M', 'M', '0', 'M', 'M', '0', '0', '0', '0', '0', '0', '0', '0', '0', '0', '0', '0', '0', '0', '0', '0', '0', '0', '0', '0', '0', '0', '0', '0', '0', '0', '0', '0', '0', 'Q', 'Q', 'Q', 'Q', '0', '0', '0', '0', '0', '0', 'Q', 'Q', '0', '0', '0', '0', 'A', 'A', 'A', 'A', 'A', 'A', 'A', 'A', 'A', 'A', 'A', 'A', '0', '0', '0', '0', '0', '0', '0', '0', '0', '0', '0', '0', '0', '0', '0', '0', '0', '0', '0', '0', '0', '0', '0', '0', '0', 'Q', 'Q-cont']\n",
      "Actual labels:  ['0', '0', '0', '0', 'M', 'M', 'M', '0', 'M', 'M', '0', '0', '0', '0', '0', '0', '0', '0', '0', '0', '0', '0', '0', '0', '0', '0', '0', '0', '0', '0', '0', '0', '0', '0', '0', '0', '0', '0', '0', 'Q', 'Q', 'Q', 'Q', '0', '0', '0', '0', '0', '0', 'Q', 'Q', '0', '0', '0', '0', 'A', 'A', 'A', 'A', 'A', 'A', 'A', 'A', 'A', 'A', 'A', 'A', '0', '0', '0', '0', '0', '0', '0', '0', '0', '0', '0', '0', '0', '0', '0', '0', '0', '0', '0', '0', '0', '0', '0', '0', '0', 'Q', 'Q-cont', '0']\n",
      "\n",
      "\n",
      "___________________64___________________\n",
      "\n",
      "Predict labels:  ['0', '0', '0', '0', '0', '0', '0', '0', '0', '0', '0', '0', '0', '0', '0', '0', '0', 'Q', 'Q-cont', 'A', 'A', 'A', 'A', '0', 'Q', 'Q-cont', 'A', 'A', '0', '0', '0', '0', '0', '0', '0', '0', '0', '0', '0', '0', '0', '0', '0', '0', '0', '0', '0', '0', '0', '0', '0', '0', '0', '0', '0', '0', '0', '0']\n",
      "Actual labels:  ['0', '0', '0', '0', '0', '0', '0', '0', '0', '0', '0', '0', '0', '0', '0', '0', '0', '0', 'Q', 'Q-cont', 'A', 'A', 'A', 'A', '0', 'Q', 'Q-cont', 'A', 'A', '0', '0', '0', '0', '0', '0', '0', '0', '0', '0', '0', '0', '0', '0', '0', '0', '0', '0', '0', '0', '0', '0', '0', '0', '0', '0', '0', '0', '0', '0', '0']\n",
      "\n",
      "\n",
      "___________________65___________________\n",
      "\n",
      "Predict labels:  ['0', '0', '0', '0', '0', '0', '0', '0', '0', '0', '0', '0', '0', '0', '0', '0', '0', '0', '0', '0', '0', '0', '0', '0', '0', '0', '0', '0', '0', '0', '0', '0', '0', '0', '0', '0', '0', '0', '0', 'Q', 'Q-cont', '0', '0', '0', '0', '0', '0', '0', 'M', 'M', 'M', 'M-cont', 'M-cont', '0', '0', '0', '0', '0', '0', '0', '0', '0', '0', '0', '0', '0', '0', '0', '0', '0', 'Q', 'Q-cont', 'Q-cont', 'Q-cont', '0', '0', '0', '0', '0', '0', '0', '0', '0', '0', '0', '0', '0', 'Q', 'Q-cont', '0', 'A', 'A', 'A', 'A', '0', 'A', 'A', 'A', 'A', '0', '0', '0', '0', '0']\n",
      "Actual labels:  ['0', '0', '0', '0', '0', '0', '0', '0', '0', '0', '0', '0', '0', '0', '0', '0', '0', '0', '0', '0', '0', '0', '0', '0', '0', '0', '0', '0', '0', '0', '0', '0', '0', '0', '0', '0', '0', '0', '0', '0', 'Q', 'Q-cont', '0', '0', '0', '0', '0', '0', '0', 'M', 'M', 'M', 'M-cont', 'M-cont', '0', '0', '0', '0', '0', '0', '0', '0', '0', '0', '0', '0', '0', '0', '0', '0', '0', 'Q', 'Q-cont', 'Q-cont', 'Q-cont', '0', '0', '0', '0', '0', '0', '0', '0', '0', '0', '0', '0', '0', 'Q', 'Q-cont', '0', 'A', 'A', 'A', 'A', '0', 'A', 'A', 'A', 'A', '0', '0', '0', '0', '0', '0']\n",
      "\n",
      "\n",
      "___________________66___________________\n",
      "\n",
      "Predict labels:  ['0', '0', '0', '0', '0', '0', '0', '0', '0', '0', 'T', 'T-cont', '0', 'Q', 'Q', 'Q', '0', '0', '0', '0', '0', '0', '0', '0', '0', '0', '0', '0', '0', '0', '0', 'C', 'C', 'C', '0', '0', '0', 'Q', 'Q-cont', '0', '0', 'A', 'A', 'A-cont', 'A-cont', '0', '0', '0', '0', '0', '0', '0', '0', '0', '0', '0', '0', '0', '0', '0', 'A', 'A', 'A', 'A', 'A', 'A', 'A', 'A', 'A-cont', 'A-cont', 'A-cont', 'A-cont', 'A-cont', '0', 'A', 'A', 'A', 'A', 'A', 'A', 'A', 'A', 'A', '0', 'A', 'A', 'A', 'A', 'A', 'A', 'A', 'A', 'A', 'A', '0', '0', 'A', 'A', 'A', 'A', 'A', 'A', 'A', 'A', 'A', 'A', 'A', 'A', '0', 'A', 'A', 'A', 'A', 'A', 'A', 'A', 'A']\n",
      "Actual labels:  ['0', '0', '0', '0', '0', '0', '0', '0', '0', '0', '0', 'T', 'T-cont', '0', 'Q', 'Q', 'Q', '0', '0', '0', '0', '0', '0', '0', '0', '0', '0', '0', '0', '0', '0', '0', 'C', 'C', 'C', '0', '0', '0', 'Q', 'Q-cont', '0', '0', 'A', 'A', 'A-cont', 'A-cont', '0', '0', '0', '0', '0', '0', '0', '0', '0', '0', '0', '0', '0', '0', '0', 'A', 'A', 'A', 'A', 'A', 'A', 'A', 'A', 'A-cont', 'A-cont', 'A-cont', 'A-cont', 'A-cont', '0', 'A', 'A', 'A', 'A', 'A', 'A', 'A', 'A', 'A', '0', 'A', 'A', 'A', 'A', 'A', 'A', 'A', 'A', 'A', 'A', '0', '0', 'A', 'A', 'A', 'A', 'A', 'A', 'A', 'A', 'A', 'A', 'A', 'A', '0', 'A', 'A', 'A', 'A', 'A', 'A', 'A', 'A', '0']\n",
      "\n",
      "\n",
      "___________________67___________________\n",
      "\n",
      "Predict labels:  ['T', 'T-cont', '0', '0', '0', '0', '0', '0', '0', '0', '0', '0', '0', '0', '0', '0', '0', '0', '0', 'C', 'C', 'C', 'C-cont', 'C-cont', '0', '0', '0', '0', '0', '0', '0', '0', '0', '0', '0', '0', '0', '0', '0', '0', '0', '0', '0', '0', '0', '0', '0', 'Q', 'Q', 'Q', 'Q-cont', 'A', 'A', 'A', 'A', 'A', '0', 'Q', 'Q', 'Q', 'Q-cont', 'A', 'A', 'A', '0', 'C', 'C', 'C', '0', '0', '0', '0', '0', '0', '0', '0', '0', '0', '0', '0', 'Q', 'Q-cont', 'Q-cont', 'Q-cont', 'Q-cont', 'Q-cont', 'Q-cont', '0', '0', '0', '0', '0', 'T', 'T-cont']\n",
      "Actual labels:  ['0', 'T', 'T-cont', '0', '0', '0', '0', '0', '0', '0', '0', '0', '0', '0', '0', '0', '0', '0', '0', '0', 'C', 'C', 'C', 'C-cont', 'C-cont', '0', '0', '0', '0', '0', '0', '0', '0', '0', '0', '0', '0', '0', '0', '0', '0', '0', '0', '0', '0', '0', '0', '0', 'Q', 'Q', 'Q', 'Q-cont', 'A', 'A', 'A', 'A', 'A', '0', 'Q', 'Q', 'Q', 'Q-cont', 'A', 'A', 'A', '0', 'C', 'C', 'C', '0', '0', '0', '0', '0', '0', '0', '0', '0', '0', '0', '0', 'Q', 'Q-cont', 'Q-cont', 'Q-cont', 'Q-cont', 'Q-cont', 'Q-cont', '0', '0', '0', '0', '0', 'T', 'T-cont', '0']\n",
      "\n",
      "\n",
      "___________________68___________________\n",
      "\n",
      "Predict labels:  ['0', '0', '0', '0', '0', '0', '0', '0', '0', '0', 'M', 'M', 'M', '0', '0', '0', '0', '0', '0', '0', '0', 'Q', 'Q', 'Q', 'Q-cont', 'A', 'A', 'A', '0', '0', 'Q', 'Q-cont', 'Q-cont', 'Q-cont', 'Q-cont', 'Q-cont', 'Q-cont', '0', '0', '0', '0', 'A', 'A', 'A-cont', '0', '0', '0', '0', '0', '0', '0', '0', '0', '0', '0', '0', '0', '0', '0', 'M', 'M', 'M', '0', '0', '0', '0', '0', '0', '0', '0', '0', '0']\n",
      "Actual labels:  ['0', '0', '0', '0', '0', '0', '0', '0', '0', '0', '0', 'M', 'M', 'M', '0', '0', '0', '0', '0', '0', '0', '0', 'Q', 'Q', 'Q', 'Q-cont', 'A', 'A', 'A', '0', '0', 'Q', 'Q-cont', 'Q-cont', 'Q-cont', 'Q-cont', 'Q-cont', 'Q-cont', '0', '0', '0', '0', 'A', 'A', 'A-cont', '0', '0', '0', '0', '0', '0', '0', '0', '0', '0', '0', '0', '0', '0', '0', 'M', 'M', 'M', '0', '0', '0', '0', '0', '0', '0', '0', '0', '0', '0']\n",
      "\n",
      "\n",
      "___________________69___________________\n",
      "\n",
      "Predict labels:  ['0', '0', '0', 'Q', 'Q-cont', '0', '0', '0', '0', '0', '0', '0', '0', '0', '0', '0', '0', '0', '0', '0', '0', '0', '0', '0', '0', '0', '0', '0', '0', '0', '0', '0', '0', '0', '0', '0', '0', '0', '0', '0', 'M', 'M', '0', 'M', 'M', 'M', '0', '0', '0', '0', '0', '0', '0', '0', '0', '0', 'Q', 'Q-cont', 'Q-cont', '0', '0', '0', '0', '0', '0', '0', '0', '0', 'Q', 'Q-cont', 'Q-cont', 'Q-cont', 'Q-cont']\n",
      "Actual labels:  ['0', '0', '0', '0', 'Q', 'Q-cont', '0', '0', '0', '0', '0', '0', '0', '0', '0', '0', '0', '0', '0', '0', '0', '0', '0', '0', '0', '0', '0', '0', '0', '0', '0', '0', '0', '0', '0', '0', '0', '0', '0', '0', '0', 'M', 'M', '0', 'M', 'M', 'M', '0', '0', '0', '0', '0', '0', '0', '0', '0', '0', 'Q', 'Q-cont', 'Q-cont', '0', '0', '0', '0', '0', '0', '0', '0', '0', 'Q', 'Q-cont', 'Q-cont', 'Q-cont', 'Q-cont', '0']\n",
      "\n",
      "\n",
      "___________________70___________________\n",
      "\n",
      "Predict labels:  ['0', '0', '0', '0', 'M', 'M', '0', 'M', 'M', 'M', '0', '0', '0', '0', '0', '0', '0', '0', '0', '0', '0', 'Q', 'Q-cont', '0', '0', '0', '0', '0', '0', '0', 'M', 'M', 'M', '0', 'M', 'M', 'M', 'M-cont', 'M-cont', '0', '0', '0', '0', '0', 'M', '0', 'M', '0', 'Q', 'Q-cont', 'Q-cont', '0', '0', '0', '0', '0', '0', '0', '0', '0', '0', '0', '0', '0', '0', '0', '0', '0', 'Q', 'Q-cont', '0', 'A', 'A', 'A', 'A', '0', 'A', 'A', 'A', 'A', '0', '0', '0', '0', '0']\n",
      "Actual labels:  ['0', '0', '0', '0', '0', 'M', 'M', '0', 'M', 'M', 'M', '0', '0', '0', '0', '0', '0', '0', '0', '0', '0', '0', 'Q', 'Q-cont', '0', '0', '0', '0', '0', '0', '0', 'M', 'M', 'M', '0', 'M', 'M', 'M', 'M-cont', 'M-cont', '0', '0', '0', '0', '0', 'M', '0', 'M', '0', 'Q', 'Q-cont', 'Q-cont', '0', '0', '0', '0', '0', '0', '0', '0', '0', '0', '0', '0', '0', '0', '0', '0', '0', 'Q', 'Q-cont', '0', 'A', 'A', 'A', 'A', '0', 'A', 'A', 'A', 'A', '0', '0', '0', '0', '0', '0']\n",
      "\n",
      "\n",
      "___________________71___________________\n",
      "\n",
      "Predict labels:  ['0', '0', '0', '0', '0', '0', '0', '0', '0', '0', 'T', 'T-cont', '0', '0', '0', '0', 'Q', 'Q', 'Q', 'Q', '0', '0', '0', '0', '0', 'T', 'T-cont', '0', '0', '0', '0', 'Q', 'Q', 'Q', 'Q', '0', '0', '0', '0', '0', '0', '0', '0', '0', '0', '0', '0', '0', '0', '0', '0', 'C', 'C', 'C', '0', '0', '0', '0', 'Q', 'Q-cont', '0', 'C', 'C-cont', '0', '0']\n",
      "Actual labels:  ['0', '0', '0', '0', '0', '0', '0', '0', '0', '0', '0', 'T', 'T-cont', '0', '0', '0', '0', 'Q', 'Q', 'Q', 'Q', '0', '0', '0', '0', '0', 'T', 'T-cont', '0', '0', '0', '0', 'Q', 'Q', 'Q', 'Q', '0', '0', '0', '0', '0', '0', '0', '0', '0', '0', '0', '0', '0', '0', '0', '0', 'C', 'C', 'C', '0', '0', '0', '0', 'Q', 'Q-cont', '0', 'C', 'C-cont', '0', '0', '0']\n",
      "\n",
      "\n",
      "___________________72___________________\n",
      "\n",
      "Predict labels:  ['0', '0', '0', '0', 'T', 'T-cont', '0', '0', '0', '0', '0', '0', 'C', 'C', 'C', 'C-cont', 'C-cont', '0', '0', '0', '0', '0', '0', '0', '0', '0', '0', '0', '0', '0', '0', '0', '0', 'M', 'M', 'M', '0', '0', '0', '0', '0', '0', '0', '0', 'Q', 'Q', 'Q', 'Q-cont', 'A', 'A', 'A', 'A', 'A', '0', 'Q', 'Q', 'Q', 'Q-cont', 'A', 'A', 'A', '0', 'C', 'C', 'C', '0', '0', '0', '0', '0', '0', 'Q', 'Q-cont', 'Q-cont', 'Q-cont', 'Q-cont', 'Q-cont', 'Q-cont', '0', '0', '0', '0', '0', 'T', 'T-cont']\n",
      "Actual labels:  ['0', '0', '0', '0', '0', 'T', 'T-cont', '0', '0', '0', '0', '0', '0', 'C', 'C', 'C', 'C-cont', 'C-cont', '0', '0', '0', '0', '0', '0', '0', '0', '0', '0', '0', '0', '0', '0', '0', '0', 'M', 'M', 'M', '0', '0', '0', '0', '0', '0', '0', '0', 'Q', 'Q', 'Q', 'Q-cont', 'A', 'A', 'A', 'A', 'A', '0', 'Q', 'Q', 'Q', 'Q-cont', 'A', 'A', 'A', '0', 'C', 'C', 'C', '0', '0', '0', '0', '0', '0', 'Q', 'Q-cont', 'Q-cont', 'Q-cont', 'Q-cont', 'Q-cont', 'Q-cont', '0', '0', '0', '0', '0', 'T', 'T-cont', '0']\n",
      "\n",
      "\n",
      "___________________73___________________\n",
      "\n",
      "Predict labels:  ['0', '0', '0', '0', '0', '0', '0', '0', '0', '0', 'M', 'M', 'M', '0', '0', '0', '0', '0', '0', '0', '0', 'Q', 'Q', 'Q', 'Q-cont', 'A', 'A', 'A', '0', '0', 'Q', 'Q-cont', 'Q-cont', 'Q-cont', 'Q-cont', 'Q-cont', 'Q-cont', '0', '0', '0', 'A', 'A', 'A-cont', '0', '0', '0', '0', '0', '0', '0', '0', '0', '0', '0', '0', '0', '0', '0', 'M', 'M', 'M', '0', '0', '0', '0', '0', '0', '0', '0', '0', '0', '0', '0', '0', 'M', 'M', 'M', 'M', 'M', '0', '0', '0', '0', '0', '0', '0', 'C', 'C', 'C', '0', '0', '0', '0', '0', '0', '0', '0', '0', '0', '0', '0', '0', '0', '0', '0', '0', '0', '0', '0', 'Q', 'Q', '0', '0', '0', '0', '0', '0', '0', '0', '0', '0', '0', '0', '0', 'Q', 'Q', '0', '0', '0', '0', 'M', 'M', 'M', 'M', 'M', '0', '0', '0', '0', '0', '0', '0', '0', '0', '0', '0']\n",
      "Actual labels:  ['0', '0', '0', '0', '0', '0', '0', '0', '0', '0', '0', 'M', 'M', 'M', '0', '0', '0', '0', '0', '0', '0', '0', 'Q', 'Q', 'Q', 'Q-cont', 'A', 'A', 'A', '0', '0', 'Q', 'Q-cont', 'Q-cont', 'Q-cont', 'Q-cont', 'Q-cont', 'Q-cont', '0', '0', '0', 'A', 'A', 'A-cont', '0', '0', '0', '0', '0', '0', '0', '0', '0', '0', '0', '0', '0', '0', '0', 'M', 'M', 'M', '0', '0', '0', '0', '0', '0', '0', '0', '0', '0', '0', '0', '0', 'M', 'M', 'M', 'M', 'M', '0', '0', '0', '0', '0', '0', '0', 'C', 'C', 'C', '0', '0', '0', '0', '0', '0', '0', '0', '0', '0', '0', '0', '0', '0', '0', '0', '0', '0', '0', '0', 'Q', 'Q', '0', '0', '0', '0', '0', '0', '0', '0', '0', '0', '0', '0', '0', 'Q', 'Q', '0', '0', '0', '0', 'M', 'M', 'M', 'M', 'M', '0', '0', '0', '0', '0', '0', '0', '0', '0', '0', '0', '0']\n",
      "\n",
      "\n",
      "___________________74___________________\n",
      "\n",
      "Predict labels:  ['0', '0', '0', '0', '0', '0', '0', 'C', 'C-cont', 'C-cont', 'C-cont', '0', '0', '0', '0', 'M', 'M', 'M', '0', '0', '0', '0', '0', '0', '0', '0', '0', '0', '0', '0', '0', '0', '0', '0', '0', '0', '0', '0', '0', '0', '0', '0', '0', '0', '0', '0', '0', '0', '0', 'C', 'C', 'C', 'C-cont', 'C-cont', 'C-cont', 'C-cont', '0', '0', '0', '0', '0', '0', '0', '0', '0', 'A', 'A', 'A', 'A', 'A', 'A', 'A', 'A', 'A', 'A', 'A', 'A', '0', 'Q', 'Q', 'Q', 'Q-cont', 'Q-cont', 'Q-cont', 'Q-cont', '0', 'Q', 'Q', 'Q', 'Q-cont', 'Q-cont', 'Q-cont', 'Q-cont', '0', '0', '0', '0', '0', '0', '0', '0', 'C', 'C', 'C', 'C-cont', '0', '0', '0', '0', '0']\n",
      "Actual labels:  ['0', '0', '0', '0', '0', '0', '0', '0', 'C', 'C-cont', 'C-cont', 'C-cont', '0', '0', '0', '0', 'M', 'M', 'M', '0', '0', '0', '0', '0', '0', '0', '0', '0', '0', '0', '0', '0', '0', '0', '0', '0', '0', '0', '0', '0', '0', '0', '0', '0', '0', '0', '0', '0', '0', '0', 'C', 'C', 'C', 'C-cont', 'C-cont', 'C-cont', 'C-cont', '0', '0', '0', '0', '0', '0', '0', '0', '0', 'A', 'A', 'A', 'A', 'A', 'A', 'A', 'A', 'A', 'A', 'A', 'A', '0', 'Q', 'Q', 'Q', 'Q-cont', 'Q-cont', 'Q-cont', 'Q-cont', '0', 'Q', 'Q', 'Q', 'Q-cont', 'Q-cont', 'Q-cont', 'Q-cont', '0', '0', '0', '0', '0', '0', '0', '0', 'C', 'C', 'C', 'C-cont', '0', '0', '0', '0', '0', '0']\n",
      "\n",
      "\n",
      "___________________75___________________\n",
      "\n",
      "Predict labels:  ['A', 'A', 'A', '0', '0', '0', 'C', 'C', 'C', 'C-cont', '0', '0', 'M', 'M', 'M-cont', 'M-cont', '0', '0', '0', '0', '0', '0', '0', '0', '0', '0', '0', '0', '0', '0', '0', '0', '0', '0', '0', '0', '0', '0', '0', '0', '0', 'A', 'A', 'A', 'A', 'A', 'A', 'A', 'A', 'A', 'A', 'A', 'A', '0', '0', 'C-cont', '0', 'A', 'A', 'A', '0', '0', '0', '0', '0', '0', '0', '0']\n",
      "Actual labels:  ['0', 'A', 'A', 'A', '0', '0', '0', 'C', 'C', 'C', 'C-cont', '0', '0', 'M', 'M', 'M-cont', 'M-cont', '0', '0', '0', '0', '0', '0', '0', '0', '0', '0', '0', '0', '0', '0', '0', '0', '0', '0', '0', '0', '0', '0', '0', '0', '0', 'A', 'A', 'A', 'A', 'A', 'A', 'A', 'A', 'A', 'A', 'A', 'A', '0', '0', 'C', '0', 'A', 'A', 'A', '0', '0', '0', '0', '0', '0', '0', '0', '0']\n",
      "\n",
      "\n",
      "___________________76___________________\n",
      "\n",
      "Predict labels:  ['0', '0', '0', 'A', 'A', 'A', '0', 'C', 'C', 'C', '0', '0', '0', '0', '0', '0', '0', '0', '0', '0', '0', 'M', 'M', 'M', '0', '0', '0', '0', '0', '0', '0', '0', '0', '0', '0', '0', '0', '0', '0', '0', '0', '0', '0', '0', '0', '0', '0', 'Q', 'Q', 'Q', 'Q', 'Q', '0', '0', 'A', 'A', 'A', '0', '0', '0', 'A', 'A', 'A', 'A', 'A', '0', '0', '0', '0', '0', '0', '0', '0', '0', '0', '0', '0', '0', '0', '0', 'A', 'A', 'A', 'A', 'A', 'A', 'A', 'A', 'A', 'A', 'A', 'A', 'A', 'A', 'A', 'A', 'A', '0', '0']\n",
      "Actual labels:  ['0', '0', '0', '0', 'A', 'A', 'A', '0', 'C', 'C', 'C', '0', '0', '0', '0', '0', '0', '0', '0', '0', '0', '0', 'M', 'M', 'M', '0', '0', '0', '0', '0', '0', '0', '0', '0', '0', '0', '0', '0', '0', '0', '0', '0', '0', '0', '0', '0', '0', '0', 'Q', 'Q', 'Q', 'Q', 'Q', '0', '0', 'A', 'A', 'A', '0', '0', '0', 'A', 'A', 'A', 'A', 'A', '0', '0', '0', '0', '0', '0', '0', '0', '0', '0', '0', '0', '0', '0', '0', 'A', 'A', 'A', 'A', 'A', 'A', 'A', 'A', 'A', 'A', 'A', 'A', 'A', 'A', 'A', 'A', 'A', '0', '0', '0']\n",
      "\n",
      "\n",
      "___________________77___________________\n",
      "\n",
      "Predict labels:  ['0', '0', '0', '0', '0', '0', '0', '0', '0', '0', '0', '0', '0', '0', '0', '0', '0', '0', '0', '0', '0', '0', '0', '0', 'A', 'A', 'A', 'A', 'A', 'M', 'M', 'M', '0', 'Q', 'Q', 'Q', 'Q-cont', 'Q-cont', 'Q-cont', 'Q-cont', 'Q-cont', '0', '0', '0', '0', '0', '0', 'Q', 'Q', 'Q', 'Q-cont', 'Q-cont', 'Q-cont', 'Q-cont', 'Q-cont', '0', '0', 'A', 'A', 'A', 'A', 'A', 'A', 'A', 'A', 'A', 'A', 'A', '0', 'M', 'M', 'M', '0', '0', '0', '0', '0', '0', '0', '0', '0', '0', '0', '0', '0', '0', '0', '0', '0', '0', '0', '0', '0', '0', '0', 'M', 'M', 'M', '0', 'A', 'A', 'A', 'A', 'A', '0', '0', 'A', 'A', '0', 'A', 'A', 'A', '0', '0', 'C', '0']\n",
      "Actual labels:  ['0', '0', '0', '0', '0', '0', '0', '0', '0', '0', '0', '0', '0', '0', '0', '0', '0', '0', '0', '0', '0', '0', '0', '0', '0', 'A', 'A', 'A', 'A', 'A', 'M', 'M', 'M', '0', 'Q', 'Q', 'Q', 'Q-cont', 'Q-cont', 'Q-cont', 'Q-cont', 'Q-cont', '0', '0', '0', '0', '0', '0', 'Q', 'Q', 'Q', 'Q-cont', 'Q-cont', 'Q-cont', 'Q-cont', 'Q-cont', '0', '0', 'A', 'A', 'A', 'A', 'A', 'A', 'A', 'A', 'A', 'A', 'A', '0', 'M', 'M', 'M', '0', '0', '0', '0', '0', '0', '0', '0', '0', '0', '0', '0', '0', '0', '0', '0', '0', '0', '0', '0', '0', '0', '0', 'M', 'M', 'M', '0', 'A', 'A', 'A', 'A', 'A', '0', '0', 'A', 'A', '0', 'A', 'A', 'A', '0', '0', 'C', '0', '0']\n",
      "\n",
      "\n",
      "___________________78___________________\n",
      "\n",
      "Predict labels:  ['0', '0', '0', '0', '0', '0', '0', 'M', 'M', 'M', '0', '0', '0', '0', 'A', 'A', 'A', 'C-cont', '0', 'A', 'A', 'A', '0', '0', '0', 'Q', 'Q-cont', 'Q-cont', '0', '0', '0', '0', '0', '0', '0', '0', '0', '0', '0', '0', 'M', 'M', 'M', '0', '0', 'Q', '0', '0', '0', '0', '0', '0', '0', '0', '0', '0', '0', '0', '0', '0', '0', '0', '0', '0', '0', '0', '0', '0', '0', '0', '0', '0']\n",
      "Actual labels:  ['0', '0', '0', '0', '0', '0', '0', '0', 'M', 'M', 'M', '0', '0', '0', '0', 'A', 'A', 'A', '0', '0', 'A', 'A', 'A', '0', '0', '0', 'Q', 'Q-cont', 'Q-cont', '0', '0', '0', '0', '0', '0', '0', '0', '0', '0', '0', '0', 'M', 'M', 'M', '0', '0', '0', '0', '0', '0', '0', '0', '0', '0', '0', '0', '0', '0', '0', 'C', 'C', 'C', '0', '0', '0', '0', '0', '0', '0', '0', '0', '0', '0', '0']\n",
      "\n",
      "\n",
      "___________________79___________________\n",
      "\n",
      "Predict labels:  ['0', '0', '0', '0', '0', '0', '0', '0', '0', '0', 'A', 'A', 'A', 'A', 'A', 'A', 'A', 'A', 'A', 'A', 'A', 'A', '0', '0', '0', '0', '0', '0', 'M', 'M', 'M', '0', '0', '0', '0', '0', '0', '0', '0', '0', '0', '0', 'A', 'A', 'A', 'A', 'A', 'A', 'A', 'A', 'A', 'A', 'A', '0', '0', '0', '0', '0', '0', '0', '0', 'C', 'C', 'C', 'C', '0', '0', 'M', 'M', 'M', '0', '0', '0', 'C', 'C', 'C', '0']\n",
      "Actual labels:  ['0', '0', '0', '0', '0', '0', '0', '0', '0', '0', '0', 'A', 'A', 'A', 'A', 'A', 'A', 'A', 'A', 'A', 'A', 'A', 'A', '0', '0', '0', '0', '0', '0', 'M', 'M', 'M', '0', '0', '0', '0', '0', '0', '0', '0', '0', '0', '0', 'A', 'A', 'A', 'A', 'A', 'A', 'A', 'A', 'A', 'A', 'A', '0', '0', '0', '0', '0', '0', '0', '0', 'C', 'C', 'C', 'C', '0', '0', 'M', 'M', 'M', '0', '0', '0', 'C', 'C', 'C', '0', '0']\n",
      "\n",
      "\n",
      "___________________80___________________\n",
      "\n",
      "Predict labels:  ['0', '0', '0', '0', '0', '0', '0', '0', '0', '0', '0', '0', 'A', 'A', '0', '0', '0', '0', '0', '0', '0', '0', '0', '0', '0', '0', '0', 'M', 'M', 'M', '0', '0', '0', '0', '0', '0', '0', '0', '0', '0', '0', '0', '0', 'A', 'A', 'A', '0', '0', '0', '0', '0', '0', '0', '0', 'A', 'A', 'A', '0', '0', '0', '0', '0', '0', '0', '0']\n",
      "Actual labels:  ['0', '0', '0', '0', '0', '0', '0', '0', '0', '0', '0', '0', '0', 'A', 'A', '0', '0', '0', '0', '0', '0', '0', '0', '0', '0', '0', '0', '0', 'M', 'M', 'M', '0', '0', '0', '0', '0', '0', '0', '0', '0', '0', '0', '0', '0', 'A', 'A', 'A', '0', '0', '0', '0', '0', '0', '0', '0', 'A', 'A', 'A', '0', '0', '0', '0', '0', '0', '0', '0', '0']\n",
      "\n",
      "\n"
     ]
    },
    {
     "name": "stdout",
     "output_type": "stream",
     "text": [
      "___________________81___________________\n",
      "\n",
      "Predict labels:  ['0', '0', '0', '0', '0', 'M', 'M', 'M', '0', 'M', 'M', 'M', '0', '0', '0', '0', '0', '0', 'A', 'A', 'A', 'A', 'A', '0', '0', '0', '0', '0', '0', '0', '0', '0', '0', '0', '0', '0', '0', '0', '0', '0', '0', '0', '0', '0', '0', '0', 'Q', 'Q-cont', 'Q-cont', '0', 'M', '0', 'M', '0', '0', '0', '0', 'Q', '0', '0', 'C', 'C', 'C', '0', 'A', 'A', 'A-cont', 'A-cont', '0', '0', '0', '0', '0', '0', '0', '0', '0', '0', '0', '0', '0', '0', 'M', 'M', 'M', '0', '0', '0', '0', '0', '0', '0', '0', 'M', 'M', 'M', '0', 'A', 'A', 'A', 'A-cont', 'A-cont', 'A-cont', '0', '0', '0', '0', 'A', 'A', 'A-cont', '0']\n",
      "Actual labels:  ['0', '0', '0', '0', '0', '0', 'M', 'M', 'M', '0', 'M', 'M', 'M', '0', '0', '0', '0', '0', '0', 'A', 'A', 'A', 'A', 'A', '0', '0', '0', '0', '0', '0', '0', '0', '0', '0', '0', '0', '0', '0', '0', '0', '0', '0', '0', '0', '0', '0', '0', 'Q', 'Q-cont', 'Q-cont', '0', 'M', '0', 'M', '0', '0', '0', '0', 'Q', '0', '0', 'C', 'C', 'C', '0', 'A', 'A', 'A-cont', 'A-cont', '0', '0', '0', '0', '0', '0', '0', '0', '0', '0', '0', '0', '0', '0', 'M', 'M', 'M', '0', '0', '0', '0', '0', '0', '0', '0', 'M', 'M', 'M', '0', 'A', 'A', 'A', 'A-cont', 'A-cont', 'A-cont', '0', '0', '0', '0', 'A', 'A', 'A-cont', '0', '0']\n",
      "\n",
      "\n",
      "___________________82___________________\n",
      "\n",
      "Predict labels:  ['0', '0', '0', '0', '0', '0', '0', '0', '0', '0', '0', '0', '0', '0', '0', '0', '0', '0', '0', '0', '0', '0', '0', '0', 'M', 'M', 'M', '0', 'M', 'M', '0', 'C', '0']\n",
      "Actual labels:  ['0', '0', '0', '0', '0', '0', '0', '0', '0', '0', '0', '0', '0', '0', '0', '0', '0', '0', '0', '0', '0', '0', '0', '0', '0', 'M', 'M', 'M', '0', 'M', 'M', '0', 'C', '0', '0']\n",
      "\n",
      "\n",
      "___________________83___________________\n",
      "\n",
      "Predict labels:  ['0', '0', '0', '0', '0', '0', '0', '0', '0', '0', '0', 'M', 'M', 'M', '0', '0', '0', '0', '0', '0', '0', '0', '0', '0', '0', '0', 'M', 'M', 'M', '0', '0', '0', '0', '0', '0', '0', 'Q', 'Q', 'Q', 'Q-cont', '0', '0', '0', '0', '0', '0', 'A', 'A', 'A', '0', 'A', 'A', '0', '0', 'A', 'A', 'A', 'A', '0', '0', '0', '0', '0', '0', '0', '0', '0', '0', '0', '0', '0', 'Q']\n",
      "Actual labels:  ['0', '0', '0', '0', '0', '0', '0', '0', '0', '0', '0', '0', 'M', 'M', 'M', '0', '0', '0', '0', '0', '0', '0', '0', '0', '0', '0', '0', 'M', 'M', 'M', '0', '0', '0', '0', '0', '0', '0', 'Q', 'Q', 'Q', 'Q-cont', '0', '0', '0', '0', '0', '0', 'A', 'A', 'A', '0', 'A', 'A', '0', '0', 'A', 'A', 'A', 'A', '0', '0', '0', '0', '0', '0', '0', '0', '0', '0', '0', '0', '0', 'Q', '0']\n",
      "\n",
      "\n",
      "___________________84___________________\n",
      "\n",
      "Predict labels:  ['0', '0', '0', '0', '0', 'M', 'M', 'M', '0', '0', '0', '0', '0', '0', '0', '0', '0', '0', '0', '0', '0', '0', '0', '0', '0', '0', '0', '0', 'M', 'M', 'M', '0', '0', '0', '0', 'Q', 'Q', 'Q', 'Q-cont', 'A', 'A', 'A', 'A', 'A', '0', 'Q', 'Q', 'Q', 'Q-cont', 'A', 'A', 'A', '0', 'C', 'C', 'C', '0', '0', '0', '0', '0', 'Q', 'Q', 'Q', 'Q-cont', 'A', 'A', 'A', '0', 'A', 'A', '0', '0', 'A', 'A', 'A', 'A', '0', '0', '0', '0', '0', '0', '0', '0', '0', '0', '0', '0', '0', '0', '0', '0', '0', 'T', 'T-cont', 'T-cont', 'T-cont', 'T-cont', 'T-cont', '0', '0', '0', '0', '0', '0', '0', '0', 'A', 'A', 'A-cont', '0', '0', '0', '0']\n",
      "Actual labels:  ['0', '0', '0', '0', '0', '0', 'M', 'M', 'M', '0', '0', '0', '0', '0', '0', '0', '0', '0', '0', '0', '0', '0', '0', '0', '0', '0', '0', '0', '0', 'M', 'M', 'M', '0', '0', '0', '0', 'Q', 'Q', 'Q', 'Q-cont', 'A', 'A', 'A', 'A', 'A', '0', 'Q', 'Q', 'Q', 'Q-cont', 'A', 'A', 'A', '0', 'C', 'C', 'C', '0', '0', '0', '0', '0', 'Q', 'Q', 'Q', 'Q-cont', 'A', 'A', 'A', '0', 'A', 'A', '0', '0', 'A', 'A', 'A', 'A', '0', '0', '0', '0', '0', '0', '0', '0', '0', '0', '0', '0', '0', '0', '0', '0', '0', 'T', 'T-cont', 'T-cont', 'T-cont', 'T-cont', 'T-cont', '0', '0', '0', '0', '0', '0', '0', '0', 'A', 'A', 'A-cont', '0', '0', '0', '0', '0']\n",
      "\n",
      "\n",
      "___________________85___________________\n",
      "\n",
      "Predict labels:  ['0', '0', '0', '0', '0', '0', '0', '0', '0', '0', '0', '0', '0', '0', '0', '0', '0', '0', '0', '0', '0', '0', '0', 'M', 'M', 'M', '0', '0', 'Q', 'Q', 'Q', 'Q', '0', '0', '0', '0', '0', '0', '0', '0', '0', 'A', 'A', 'A-cont', 'A-cont', '0', 'A', 'A-cont', 'A-cont', 'A-cont', 'A-cont', '0', '0', '0', '0', 'A', 'A-cont', 'A-cont', '0', '0', '0', '0', '0', '0', '0', '0', '0', 'A', 'A-cont', 'A-cont', '0', '0', 'C', 'C', 'C-cont', '0', '0', '0', '0', '0', '0', '0', '0', '0']\n",
      "Actual labels:  ['0', '0', '0', '0', '0', '0', '0', '0', '0', '0', '0', '0', '0', '0', '0', '0', '0', '0', '0', '0', '0', '0', '0', '0', 'M', 'M', 'M', '0', '0', 'Q', 'Q', 'Q', 'Q', '0', '0', '0', '0', '0', '0', '0', '0', '0', 'A', 'A', 'A-cont', 'A-cont', '0', 'A', 'A-cont', 'A-cont', 'A-cont', 'A-cont', '0', '0', '0', '0', 'A', 'A-cont', 'A-cont', '0', '0', '0', '0', '0', '0', '0', '0', '0', 'A', 'A-cont', 'A-cont', '0', '0', 'C', 'C', 'C-cont', '0', '0', '0', '0', '0', '0', '0', '0', '0', '0']\n",
      "\n",
      "\n",
      "___________________86___________________\n",
      "\n",
      "Predict labels:  ['0', '0', '0', '0', '0', '0', 'A', 'A', 'A', 'A', 'A', 'A', 'A-cont', '0', 'A', 'A', 'A', '0', '0', 'A', 'A', 'A', 'A-cont', 'A-cont', 'A-cont', 'A-cont', 'A-cont', '0', 'A', 'A', 'A', 'A', 'A', 'A', 'A-cont', 'A-cont', 'A-cont', 'A-cont', 'A-cont', 'A-cont', '0', 'M', 'M', 'M', 'M-cont', 'M-cont', '0', '0', '0', '0', 'A', 'A', 'A', 'A', 'A', 'A', 'A-cont', '0', '0', '0', '0', '0', 'A', 'A', 'A-cont', 'A-cont', 'A-cont', 'A-cont', 'A-cont', 'A-cont', 'A-cont', '0', '0', '0', '0', '0', '0', '0', 'Q', 'Q', 'Q', '0', '0', '0', '0', 'A', 'A', '0', 'A', 'A', 'A', 'A', 'A', 'A', 'A-cont', '0', '0', 'A', 'A', '0', 'A', 'A', 'A', '0', 'C', 'C', 'C', 'C', '0', '0', '0', '0', '0', '0', '0', '0', '0', '0', '0', '0', '0', '0', '0', '0', '0', '0', '0', '0', '0', 'M', 'M', 'M', 'M-cont', 'M-cont', '0', 'M', 'M', '0', '0', '0', '0', '0', '0', '0', '0', '0', '0', '0', '0', '0', 'A', 'A', 'A', 'A', 'A', 'A', 'A-cont', '0', '0', '0', '0', '0', '0', 'A', 'A', 'A-cont', '0', '0', '0', '0', '0', '0', '0']\n",
      "Actual labels:  ['0', '0', '0', '0', '0', '0', '0', 'A', 'A', 'A', 'A', 'A', 'A', 'A-cont', '0', 'A', 'A', 'A', '0', '0', 'A', 'A', 'A', 'A-cont', 'A-cont', 'A-cont', 'A-cont', 'A-cont', '0', 'A', 'A', 'A', 'A', 'A', 'A', 'A-cont', 'A-cont', 'A-cont', 'A-cont', 'A-cont', 'A-cont', '0', 'M', 'M', 'M', 'M-cont', 'M-cont', '0', '0', '0', '0', 'A', 'A', 'A', 'A', 'A', 'A', 'A-cont', '0', '0', '0', '0', '0', 'A', 'A', 'A-cont', 'A-cont', 'A-cont', 'A-cont', 'A-cont', 'A-cont', 'A-cont', '0', '0', '0', '0', '0', '0', '0', 'Q', 'Q', 'Q', '0', 'Q', '0', '0', 'A', 'A', '0', 'A', 'A', 'A', 'A', 'A', 'A', 'A-cont', '0', '0', 'A', 'A', '0', 'A', 'A', 'A', '0', 'C', 'C', 'C', 'C', '0', '0', '0', '0', '0', '0', '0', '0', '0', '0', '0', '0', '0', '0', '0', '0', '0', '0', '0', '0', '0', 'M', 'M', 'M', 'M-cont', 'M-cont', '0', 'M', 'M', '0', '0', '0', '0', '0', '0', '0', '0', '0', '0', '0', '0', '0', 'A', 'A', 'A', 'A', 'A', 'A', 'A-cont', '0', '0', '0', '0', '0', '0', 'A', 'A', 'A-cont', '0', '0', '0', '0', '0', '0', '0', '0']\n",
      "\n",
      "\n",
      "___________________87___________________\n",
      "\n",
      "Predict labels:  ['0', '0', '0', '0', '0', '0', '0', 'A', 'A', 'A', 'A', '0', 'A', 'A', 'A', '0', '0', 'M', 'M', 'M', '0', '0', '0', '0', '0', '0', '0', '0', '0', '0', '0', '0', '0', '0', '0', '0', '0', '0', '0', '0', '0', '0', '0', '0', '0', '0', '0', '0', '0', '0', '0', '0', '0', '0', '0', '0', '0', '0', '0', '0', '0', '0', '0', '0', '0', '0', '0', '0', '0', '0', '0', '0', '0', '0', '0', '0', '0', '0', '0', '0', '0', '0', '0', '0', '0', '0', '0', '0', '0', '0', '0', '0']\n",
      "Actual labels:  ['0', '0', '0', '0', '0', '0', '0', '0', 'A', 'A', 'A', 'A', '0', 'A', 'A', 'A', '0', '0', 'M', 'M', 'M', '0', '0', '0', '0', '0', '0', '0', '0', '0', '0', '0', '0', '0', '0', '0', '0', '0', '0', '0', '0', '0', '0', '0', '0', '0', '0', '0', '0', '0', '0', '0', '0', '0', '0', '0', '0', '0', '0', '0', '0', '0', '0', '0', '0', '0', '0', '0', '0', '0', '0', '0', '0', '0', '0', '0', '0', '0', '0', '0', '0', '0', '0', '0', '0', '0', '0', '0', '0', '0', '0', '0', '0', '0']\n",
      "\n",
      "\n",
      "___________________88___________________\n",
      "\n",
      "Predict labels:  ['0', '0', '0', '0', 'M', 'M', 'M', 'M-cont', 'M-cont', '0', '0', '0', '0', '0', '0', '0', '0', '0', '0', '0', 'M', 'M', 'M', '0', '0', '0', '0', 'A', 'A', '0', 'A', 'A', 'A', 'A', 'A', 'A', 'A-cont', '0', '0', '0', '0', 'M', 'M', 'M', '0', '0', 'Q', 'Q', 'Q', 'Q-cont', 'Q-cont', 'Q-cont', '0', '0', '0', '0', '0', 'A', 'A', 'A', 'A', 'A', 'A', 'A-cont', '0', '0', '0', '0', '0', '0', '0', '0', '0', '0', '0', '0', 'C', 'C', 'C', '0', '0', 'M', 'M-cont', '0', '0', '0', '0']\n",
      "Actual labels:  ['0', '0', '0', '0', '0', 'M', 'M', 'M', 'M-cont', 'M-cont', '0', '0', '0', '0', '0', '0', '0', '0', '0', '0', '0', 'M', 'M', 'M', '0', '0', '0', '0', 'A', 'A', '0', 'A', 'A', 'A', 'A', 'A', 'A', 'A-cont', '0', '0', '0', '0', 'M', 'M', 'M', '0', '0', 'Q', 'Q', 'Q', 'Q-cont', 'Q-cont', 'Q-cont', '0', '0', '0', '0', '0', 'A', 'A', 'A', 'A', 'A', 'A', 'A-cont', '0', '0', '0', '0', '0', '0', '0', '0', '0', '0', '0', '0', 'C', 'C', 'C', '0', '0', 'M', 'M-cont', '0', '0', '0', '0', '0']\n",
      "\n",
      "\n",
      "___________________89___________________\n",
      "\n",
      "Predict labels:  ['0', '0', '0', '0', '0', '0', '0', '0', '0', '0', 'C', 'C', 'C', 'C', '0', '0', '0', '0', '0', '0', '0', '0', '0', '0', '0', '0', '0', '0', '0', '0', '0', '0', '0', '0', '0', '0', '0', '0', '0', '0', '0', '0', '0', '0', '0', 'C', 'C', 'C', '0', '0', '0', '0', '0', 'C', 'C', 'C', 'C', '0', '0', 'T', 'T-cont', '0', '0', '0', '0', 'C', 'C-cont', '0', '0', '0', '0', '0', 'A', 'A', '0', 'A', 'A', 'A', 'A', 'A', 'A', 'A-cont', '0', '0', '0', '0', '0', '0']\n",
      "Actual labels:  ['0', '0', '0', '0', '0', '0', '0', '0', '0', '0', '0', 'C', 'C', 'C', 'C', '0', '0', '0', '0', '0', '0', '0', '0', '0', '0', '0', '0', '0', '0', '0', '0', '0', '0', '0', '0', '0', '0', '0', '0', '0', '0', '0', '0', '0', '0', '0', 'C', 'C', 'C', '0', '0', '0', '0', '0', 'C', 'C', 'C', 'C', '0', '0', '0', '0', '0', '0', '0', '0', 'C', 'C-cont', '0', '0', '0', '0', '0', 'A', 'A', '0', 'A', 'A', 'A', 'A', 'A', 'A', 'A-cont', '0', '0', '0', '0', '0', '0', '0']\n",
      "\n",
      "\n",
      "___________________90___________________\n",
      "\n",
      "Predict labels:  ['A', 'A', 'A-cont', '0', '0', '0', '0', '0', '0', 'C', '0', '0', '0', '0', '0', '0', '0', '0', '0', '0', '0', 'Q', 'Q', 'Q', 'Q', '0', 'C', 'C', 'C', 'C-cont', '0', '0', '0', '0', '0', '0', '0', '0', 'A', 'A', 'A', 'A', 'A', 'A', 'A-cont', '0', 'A', 'A', 'A', '0', '0', '0', 'A', 'A', 'A', 'A', 'A', 'A', 'A-cont', 'A-cont', '0', '0', '0', '0', '0', '0', '0']\n",
      "Actual labels:  ['A', 'A', 'A', 'A-cont', '0', '0', '0', '0', '0', '0', 'C', '0', '0', '0', '0', '0', '0', '0', '0', '0', '0', '0', 'Q', 'Q', 'Q', 'Q', '0', 'C', 'C', 'C', 'C-cont', '0', '0', '0', '0', '0', '0', '0', '0', 'A', 'A', 'A', 'A', 'A', 'A', 'A-cont', '0', 'A', 'A', 'A', '0', '0', '0', 'A', 'A', 'A', 'A', 'A', 'A', 'A-cont', 'A-cont', '0', '0', '0', '0', '0', '0', '0', '0']\n",
      "\n",
      "\n",
      "___________________91___________________\n",
      "\n",
      "Predict labels:  ['0', '0', '0', '0', '0', '0', '0', '0', '0', '0', '0', '0', '0', '0', '0', '0', '0', '0', 'A', 'A', 'A', 'A', 'A', 'A', 'A', '0', '0', 'Q', 'Q', 'Q', '0', '0', '0', '0', '0', '0', '0', '0', '0', '0', '0', '0', '0', '0', '0', '0', 'M', 'M', 'M', 'M-cont', 'M-cont', '0', '0', '0', '0', '0', '0', '0', '0', '0', '0', '0', '0', '0', '0', '0', '0', '0', '0', '0', '0', '0', '0', '0', '0', '0']\n",
      "Actual labels:  ['0', '0', '0', '0', '0', '0', '0', '0', '0', '0', '0', '0', '0', '0', '0', '0', '0', '0', '0', 'A', 'A', 'A', 'A', 'A', 'A', 'A', '0', '0', 'Q', 'Q', 'Q', '0', '0', '0', '0', '0', '0', '0', '0', '0', '0', '0', '0', '0', '0', '0', '0', 'M', 'M', 'M', 'M-cont', 'M-cont', '0', '0', '0', '0', '0', '0', '0', '0', '0', '0', '0', '0', '0', '0', '0', '0', '0', '0', '0', '0', '0', '0', '0', '0', '0', '0']\n",
      "\n",
      "\n",
      "___________________92___________________\n",
      "\n",
      "Predict labels:  ['0', '0', '0', '0', '0', '0', '0', '0', '0', '0', '0', '0', '0', '0', '0', '0', '0', '0', '0', 'A', 'A', 'A', 'A', 'A', 'A', 'A', 'A', 'A', 'A', 'A', 'A', 'A', 'A', 'A', '0', 'A', 'A', 'A', 'A', 'A', 'A', 'A', 'A', 'A', 'A', 'A', 'A', 'A', 'A', 'A', 'A', '0', '0', 'A', 'A', 'A', 'A', 'A', 'A', '0', '0', '0', '0', '0', '0', '0', '0', '0', '0', '0', 'A', 'A', 'A', 'A', 'A', 'A', 'A', '0', '0', '0', '0', '0', '0', '0', '0', '0', '0', '0', '0', '0', '0', 'A', 'A', 'A', '0', 'A', 'A', 'A', '0', '0', '0', '0', '0', '0', '0', '0', '0', '0', '0', '0', '0', '0', '0', '0', '0', '0', '0', '0', '0', '0', '0', '0', '0']\n",
      "Actual labels:  ['0', '0', '0', '0', '0', '0', '0', '0', '0', '0', '0', '0', '0', '0', '0', '0', '0', '0', '0', '0', 'A', 'A', 'A', 'A', 'A', 'A', 'A', 'A', 'A', 'A', 'A', 'A', 'A', 'A', 'A', '0', 'A', 'A', 'A', 'A', 'A', 'A', 'A', 'A', 'A', 'A', 'A', 'A', 'A', 'A', 'A', 'A', '0', '0', 'A', 'A', 'A', 'A', 'A', 'A', '0', '0', '0', '0', '0', '0', '0', '0', '0', '0', '0', 'A', 'A', 'A', 'A', 'A', 'A', 'A', '0', '0', '0', '0', '0', '0', '0', '0', '0', '0', '0', '0', '0', '0', 'A', 'A', 'A', '0', 'A', 'A', 'A', '0', '0', '0', '0', '0', '0', '0', '0', '0', '0', '0', '0', '0', '0', '0', '0', '0', '0', '0', '0', '0', '0', '0', '0', '0', '0']\n",
      "\n",
      "\n",
      "___________________93___________________\n",
      "\n",
      "Predict labels:  ['0', '0', '0', '0', '0', '0', '0', '0', '0', '0', '0', '0', '0', '0', '0', '0', '0', '0', '0', '0', '0', '0', '0', '0', '0', '0', 'A', 'A', 'A', 'A', '0', '0', '0', '0', '0', '0', '0', '0', '0', '0', '0', '0', '0', '0', '0', '0', '0', '0', '0', '0', '0', '0', '0', '0', '0', '0', '0', '0', '0', '0', '0', '0', '0', '0', '0', '0', '0', '0', '0', '0', '0', '0', '0', '0', '0', '0', '0', '0', '0', 'A', 'A', 'A', '0', '0', '0', '0', '0', '0', '0', 'A', 'A', 'A', 'A']\n",
      "Actual labels:  ['0', '0', '0', '0', '0', '0', '0', '0', '0', '0', '0', '0', '0', '0', '0', '0', '0', '0', '0', '0', '0', '0', '0', '0', '0', '0', '0', 'A', 'A', 'A', 'A', '0', '0', '0', '0', '0', '0', '0', '0', '0', '0', '0', '0', '0', '0', '0', '0', '0', '0', '0', '0', '0', '0', '0', '0', '0', '0', '0', '0', '0', '0', '0', '0', '0', '0', '0', '0', '0', '0', '0', '0', '0', '0', '0', '0', '0', '0', '0', '0', '0', 'A', 'A', 'A', '0', '0', '0', '0', '0', '0', '0', 'A', 'A', 'A', 'A', '0']\n",
      "\n",
      "\n",
      "___________________94___________________\n",
      "\n",
      "Predict labels:  ['0', '0', '0', '0', '0', '0', '0', '0', '0', '0', '0', '0', '0', '0', '0', '0', '0', '0', '0', '0', '0', '0', '0', '0', '0', '0', '0', '0', '0', '0', 'A', 'A', 'A', 'A', 'A', '0', 'A', 'A', 'A', 'A', 'A', 'A', 'A', '0', '0', '0', '0', '0', '0', '0', '0', '0', '0', '0', '0', '0', '0', '0', '0', '0', '0', '0', '0', '0', '0', '0', '0', '0', '0', '0', '0', '0', '0', '0', '0', '0', '0', '0', '0', '0', '0', '0', '0', '0', '0']\n",
      "Actual labels:  ['0', '0', '0', '0', '0', '0', '0', '0', '0', '0', '0', '0', '0', '0', '0', '0', '0', '0', '0', '0', '0', '0', '0', '0', '0', '0', '0', '0', '0', '0', '0', 'A', 'A', 'A', 'A', 'A', '0', 'A', 'A', 'A', 'A', 'A', 'A', 'A', '0', '0', '0', '0', '0', '0', '0', '0', '0', '0', '0', '0', '0', '0', '0', '0', '0', '0', '0', '0', '0', '0', '0', '0', '0', '0', '0', '0', '0', '0', '0', '0', '0', '0', '0', '0', '0', '0', '0', '0', '0', '0', '0']\n",
      "\n",
      "\n",
      "Variation 0\n",
      "of 0\n",
      "the 0\n",
      "extractants 0\n",
      "influences 0\n",
      "the 0\n",
      "isotope 0\n",
      "separation 0\n",
      "not 0\n",
      "so 0\n",
      "strongly 0\n",
      "as 0\n",
      "the 0\n",
      "kind 0\n",
      "of 0\n",
      "the 0\n",
      "extractable 0\n",
      "substance 0\n",
      "does. 0\n",
      "The 0\n",
      "isotope 0\n",
      "separation 0\n",
      "factors 0\n",
      "in 0\n",
      "the 0\n",
      "HBF4TBP 0\n",
      "and 0\n",
      "HBF4–TAPO 0\n",
      "systems 0\n",
      "are 0\n",
      "close A\n",
      "and A\n",
      "coincide A\n",
      "within A\n",
      "the A\n",
      "uncertainty. 0\n",
      "The A\n",
      "kind A\n",
      "of A\n",
      "the A\n",
      "extractant A\n",
      "influences A\n",
      "to A\n",
      "a 0\n",
      "greater 0\n",
      "extent 0\n",
      "the 0\n",
      "degree 0\n",
      "of 0\n",
      "extraction 0\n",
      "of 0\n",
      "the 0\n",
      "acid 0\n",
      "from 0\n",
      "the 0\n",
      "aqueous 0\n",
      "phase 0\n",
      "into 0\n",
      "the 0\n",
      "organic 0\n",
      "phase 0\n",
      "than 0\n",
      "the 0\n",
      "isotope 0\n",
      "effects. 0\n",
      "___________________95___________________\n",
      "\n",
      "Predict labels:  ['0', '0', '0', '0', '0', '0', '0', '0', '0', 'A', 'A', 'A', 'A', 'A', 'A', 'A', '0', '0', '0', '0', '0', '0', '0', '0', '0', '0', '0', 'A', 'A', 'A', '0', '0', '0', '0', '0', '0', 'Q', 'Q', 'Q', 'Q-cont', 'Q-cont', '0', '0', 'C', 'C', 'C', 'C', '0', '0', '0', '0', '0', '0', '0', '0', '0', 'A', 'A', '0', '0', 'Q', 'Q', 'Q', 'Q-cont', 'Q-cont', '0', '0', 'C', 'C', 'C', 'C']\n",
      "Actual labels:  ['0', '0', '0', '0', '0', '0', '0', '0', '0', '0', 'A', 'A', 'A', 'A', 'A', 'A', 'A', '0', '0', '0', '0', '0', '0', '0', '0', '0', '0', '0', 'A', 'A', 'A', '0', '0', '0', '0', '0', '0', 'Q', 'Q', 'Q', 'Q-cont', 'Q-cont', '0', '0', 'C', 'C', 'C', 'C', '0', '0', '0', '0', '0', '0', '0', '0', '0', 'A', 'A', '0', '0', 'Q', 'Q', 'Q', 'Q-cont', 'Q-cont', '0', '0', 'C', 'C', 'C', 'C', '0']\n",
      "\n",
      "\n",
      "___________________96___________________\n",
      "\n",
      "Predict labels:  ['0', '0', '0', '0', 'A', 'A', 'A', '0', '0', '0', '0', '0', '0', '0', '0', '0', '0', '0', '0', '0', '0', '0', '0', '0', '0', '0', '0', '0', '0', '0', '0', 'A', 'A', 'A', '0', 'M', 'M', '0', '0', '0', '0', '0', '0', '0', '0', '0', '0', '0', '0', '0', '0', 'A', 'A', 'A', 'A', '0', '0', '0', 'M', 'M', '0', '0', '0', '0', '0', '0']\n",
      "Actual labels:  ['0', '0', '0', '0', '0', 'A', 'A', 'A', '0', '0', '0', '0', '0', '0', '0', '0', '0', '0', '0', '0', '0', '0', '0', '0', '0', '0', '0', '0', '0', '0', '0', '0', 'A', 'A', 'A', '0', 'M', 'M', '0', '0', '0', '0', '0', '0', '0', '0', '0', '0', '0', '0', '0', '0', 'A', 'A', 'A', 'A', '0', '0', '0', 'M', 'M', '0', '0', '0', '0', '0', '0', '0']\n",
      "\n",
      "\n",
      "___________________97___________________\n",
      "\n",
      "Predict labels:  ['0', '0', '0', '0', '0', '0', '0', '0', '0', '0', '0', '0', '0', '0', '0', 'A', 'A', 'A', 'A', 'A', 'A', 'A', '0', '0', '0', '0', '0', '0', '0', 'M', 'M', 'M', 'M-cont', 'M-cont', '0', '0', '0', '0', '0', '0', '0', '0', '0', '0', '0', '0', '0', '0', '0', '0', '0', '0', '0', '0', '0', '0', '0', '0', '0', '0', '0', '0', '0', '0', '0', '0', '0', '0']\n",
      "Actual labels:  ['0', '0', '0', '0', '0', '0', '0', '0', '0', '0', '0', '0', '0', '0', '0', '0', 'A', 'A', 'A', 'A', 'A', 'A', 'A', '0', '0', '0', '0', '0', '0', '0', 'M', 'M', 'M', 'M-cont', 'M-cont', '0', '0', '0', '0', '0', '0', '0', '0', '0', '0', '0', '0', '0', '0', '0', '0', '0', '0', '0', '0', '0', '0', '0', '0', '0', '0', '0', '0', '0', '0', '0', '0', '0', '0', '0']\n",
      "\n",
      "\n",
      "___________________98___________________\n",
      "\n",
      "Predict labels:  ['0', '0', '0', '0', '0', '0', '0', '0', '0', '0', '0', '0', '0', '0', '0', '0', '0', '0', '0', '0', '0', '0', '0', '0', '0', '0', '0', '0', '0', '0', '0', '0', '0', '0', '0', '0', '0', '0', '0', '0', '0', '0', '0', '0', '0', '0', 'C', 'C', 'C', 'C', 'C', 'C', 'C', '0', 'A', 'A', 'A', 'A', 'A', 'A', 'A-cont', '0', 'A', 'A', 'A', '0', '0', 'A', 'A', 'A', 'A', 'A', 'A', 'A', 'A', 'A', 'A', 'A', 'A', 'A', 'A', 'A', 'A', 'A', 'A', 'A', 'A', 'A', 'A', 'A', 'A-cont', '0', 'A', 'A', 'A', '0', '0', '0', '0', '0', '0', '0', '0', '0', '0', '0', 'A', 'A', 'A', '0', '0', '0', '0', '0', '0', '0', 'A', 'A', 'A', '0', 'M', 'M', 'M', 'M', 'M-cont', '0', '0']\n",
      "Actual labels:  ['0', '0', '0', '0', '0', '0', '0', '0', '0', '0', '0', '0', '0', '0', '0', '0', '0', '0', '0', '0', '0', '0', '0', '0', '0', '0', '0', '0', '0', '0', '0', '0', '0', '0', '0', '0', '0', '0', '0', '0', '0', '0', '0', '0', '0', '0', '0', 'C', 'C', 'C', 'C', 'C', 'C', 'C', '0', 'A', 'A', 'A', 'A', 'A', 'A', 'A-cont', '0', 'A', 'A', 'A', '0', '0', 'A', 'A', 'A', 'A', 'A', 'A', 'A', 'A', 'A', 'A', 'A', 'A', 'A', 'A', 'A', 'A', 'A', 'A', 'A', 'A', 'A', 'A', 'A', 'A-cont', '0', 'A', 'A', 'A', '0', '0', '0', '0', '0', '0', '0', '0', '0', '0', '0', 'A', 'A', 'A', '0', '0', '0', '0', '0', '0', '0', 'A', 'A', 'A', '0', 'M', 'M', 'M', 'M', 'M-cont', '0', '0', '0']\n",
      "\n",
      "\n",
      "___________________99___________________\n",
      "\n",
      "Predict labels:  ['0', '0', '0', '0', '0', 'A', 'A', 'A', 'A', 'A', 'A', 'A-cont', '0', 'A', 'A', 'A', '0', 'A', 'A', 'A', 'A', 'A', 'A', 'A', 'A', 'A', 'A', 'A', 'A', 'A', 'A', 'A', 'A', 'A', 'A', 'A', 'A', 'A', 'A', 'A', 'A-cont', '0', 'A', 'A', 'A', '0', '0', '0', '0', '0', '0', '0', '0', 'C', 'C', 'C', 'C', 'C', 'C', 'C', 'C', 'C', 'C', 'C', 'C', '0', '0', '0', '0', '0', '0']\n",
      "Actual labels:  ['0', '0', '0', '0', '0', '0', 'A', 'A', 'A', 'A', 'A', 'A', 'A-cont', '0', 'A', 'A', 'A', '0', 'A', 'A', 'A', 'A', 'A', 'A', 'A', 'A', 'A', 'A', 'A', 'A', 'A', 'A', 'A', 'A', 'A', 'A', 'A', 'A', 'A', 'A', 'A', 'A-cont', '0', 'A', 'A', 'A', '0', '0', '0', '0', '0', '0', '0', '0', 'C', 'C', 'C', 'C', 'C', 'C', 'C', 'C', 'C', 'C', 'C', 'C', '0', '0', '0', '0', '0', '0', '0']\n",
      "\n",
      "\n",
      "___________________100___________________\n",
      "\n",
      "Predict labels:  ['0', '0', '0', '0', '0', '0', '0', '0', '0', '0', '0', '0', '0', '0', '0', '0', '0', '0', '0', '0', '0', '0', '0', '0', '0', '0', '0', '0', '0', '0', '0', '0', '0', '0', '0', '0', '0', '0', '0', '0', '0', 'Q', 'Q', 'Q', 'Q-cont', '0', '0', '0', '0', '0', '0', '0', '0', 'Q', 'Q', 'Q', 'Q-cont', 'Q-cont', 'Q-cont', '0', 'Q', 'Q-cont', 'Q-cont', 'Q-cont', '0']\n",
      "Actual labels:  ['0', '0', '0', '0', '0', '0', '0', '0', '0', '0', '0', '0', '0', '0', '0', '0', '0', '0', '0', '0', '0', '0', '0', '0', '0', '0', '0', '0', '0', '0', '0', '0', '0', '0', '0', '0', '0', '0', '0', '0', '0', '0', 'Q', 'Q', 'Q', 'Q-cont', '0', '0', '0', '0', '0', '0', '0', '0', 'Q', 'Q', 'Q', 'Q-cont', 'Q-cont', 'Q-cont', '0', 'Q', 'Q-cont', 'Q-cont', 'Q-cont', '0', '0']\n",
      "\n",
      "\n",
      "___________________101___________________\n",
      "\n",
      "Predict labels:  ['0', '0', '0', 'Q', 'Q', 'Q', 'Q-cont', 'Q-cont', 'C', 'C', 'C', 'C', 'C', 'C', 'C', '0', 'C', 'C', 'C', 'C', '0', '0', '0', '0', '0', '0', '0', '0', '0', '0', '0', '0', '0', '0', '0', '0', '0', '0', '0', '0', 'Q', 'Q', 'Q', 'Q-cont', 'Q-cont', '0', '0', 'A', 'A', 'A', '0', 'A', 'A', 'A', '0', 'C', 'C', 'C', 'C', 'C', '0', '0', '0']\n",
      "Actual labels:  ['0', '0', '0', '0', 'Q', 'Q', 'Q', 'Q-cont', 'Q-cont', 'C', 'C', 'C', 'C', 'C', 'C', 'C', '0', 'C', 'C', 'C', 'C', '0', '0', '0', '0', '0', '0', '0', '0', '0', '0', '0', '0', '0', '0', '0', '0', '0', '0', '0', '0', 'Q', 'Q', 'Q', 'Q-cont', 'Q-cont', '0', '0', 'A', 'A', 'A', '0', 'A', 'A', 'A', '0', 'C', 'C', 'C', 'C', 'C', '0', '0', '0', '0']\n",
      "\n",
      "\n",
      "___________________102___________________\n",
      "\n",
      "Predict labels:  ['0', '0', '0', '0', 'Q', 'Q', 'Q', 'Q', '0', '0', 'Q', 'Q', 'Q', 'Q', 'Q', '0', '0', '0', '0', '0', 'M', 'M', 'M', '0', '0', '0', '0', '0', '0', '0', '0', '0', '0', '0', '0', 'T', 'T-cont', '0', '0', '0', '0', '0', '0', 'M', 'M', 'M', '0', '0', '0', '0', '0', '0', '0', '0', '0', '0', '0', '0', '0', '0', '0', '0', '0', '0', '0']\n",
      "Actual labels:  ['0', '0', '0', '0', '0', 'Q', 'Q', 'Q', 'Q', '0', '0', 'Q', 'Q', 'Q', 'Q', 'Q', '0', '0', '0', '0', '0', 'M', 'M', 'M', '0', '0', '0', '0', '0', '0', '0', '0', '0', '0', '0', '0', 'T', 'T-cont', '0', '0', '0', '0', '0', '0', 'M', 'M', 'M', '0', '0', '0', '0', '0', '0', '0', '0', '0', '0', '0', '0', '0', '0', '0', '0', '0', '0', '0', '0']\n",
      "\n",
      "\n",
      "___________________103___________________\n",
      "\n",
      "Predict labels:  ['0', '0', '0', '0', '0', '0', '0', '0', '0', '0', '0', '0', 'C', 'C', 'C', '0', '0', '0', '0', '0', '0', '0', '0', '0', '0', '0', '0', '0', '0', '0', '0', '0', '0', '0', '0', '0', '0', '0', '0', '0', '0', '0', '0', '0', '0', '0', '0', '0', '0', '0', 'C', 'C', 'C-cont']\n",
      "Actual labels:  ['0', '0', '0', '0', '0', '0', '0', '0', '0', '0', '0', '0', '0', 'C', 'C', 'C', '0', '0', '0', '0', '0', '0', '0', '0', '0', '0', '0', '0', '0', '0', '0', '0', '0', '0', '0', '0', '0', '0', '0', '0', '0', '0', '0', '0', '0', '0', '0', '0', '0', '0', '0', 'C', 'C', 'C-cont', '0']\n",
      "\n",
      "\n",
      "___________________104___________________\n",
      "\n",
      "Predict labels:  ['0', '0', '0', '0', '0', '0', '0', '0', '0', '0', '0', '0', '0', '0', '0', '0', 'Q', 'Q', 'Q', 'Q', 'Q', '0', '0', '0', '0', '0', '0', '0', 'C', 'C', 'C', 'C', 'C', '0', '0', '0', '0', '0', '0', '0', '0', '0', '0', '0', '0', '0', '0', '0', 'Q', 'Q-cont', 'Q-cont', 'Q-cont', 'Q-cont', '0', '0', 'C', 'C', 'C', 'C-cont', 'C-cont', '0', '0', '0', '0', '0', '0', '0', '0', '0', '0', '0', '0', '0', '0', 'Q', 'Q', 'Q', '0', '0', '0', '0', '0', '0', '0', '0', '0', '0', '0', '0', '0', '0', '0', '0', '0', '0', 'T', 'T-cont', 'T-cont', 'T-cont']\n",
      "Actual labels:  ['0', '0', '0', '0', '0', '0', '0', '0', '0', '0', '0', '0', '0', '0', '0', '0', '0', 'Q', 'Q', 'Q', 'Q', 'Q', '0', '0', '0', '0', '0', '0', '0', 'C', 'C', 'C', 'C', 'C', '0', '0', '0', '0', '0', '0', '0', '0', '0', '0', '0', '0', '0', '0', '0', 'Q', 'Q-cont', 'Q-cont', 'Q-cont', 'Q-cont', '0', '0', 'C', 'C', 'C', 'C-cont', 'C-cont', '0', '0', '0', '0', '0', '0', '0', '0', '0', '0', '0', '0', '0', '0', 'Q', 'Q', 'Q', '0', '0', '0', '0', '0', '0', '0', '0', '0', '0', '0', '0', '0', '0', '0', '0', '0', '0', 'T', 'T-cont', 'T-cont', 'T-cont', '0']\n",
      "\n",
      "\n",
      "___________________105___________________\n",
      "\n",
      "Predict labels:  ['0', '0', '0', '0', 'Q', 'Q', 'Q', 'Q-cont', 'Q-cont', 'Q-cont', '0', '0', '0', '0', '0', '0', '0', '0', '0', '0', '0', 'Q', 'Q', 'Q', 'Q-cont', 'Q-cont', 'A', 'A', 'A', '0', 'C', 'C', 'C', 'C', 'C', '0', 'Q', 'Q', 'Q', 'Q-cont', 'Q-cont', '0', '0', '0', 'C', 'C', 'C', 'C', 'C', 'C', 'C', '0', '0', '0', '0', '0', '0', 'T', 'T-cont', '0', '0', '0', '0', '0', '0', '0', '0', '0', 'T', 'T-cont', '0', '0', '0', '0', '0', '0', '0', '0', '0', '0', '0', '0', '0', '0', '0', '0', 'A', 'A', 'A', '0', '0', 'Q', 'Q', 'Q-cont', 'Q-cont', 'Q-cont', '0', '0', '0', '0', '0', '0', '0', '0', '0', '0', '0', '0', '0', '0', '0', '0', '0', '0', '0', '0', '0', '0', '0', '0', '0', '0', '0', '0', '0', '0', '0', '0', 'A', 'A', 'A', '0', '0', '0', '0', '0', 'C', 'C', 'C', 'C', 'M-cont', '0', '0', 'Q', 'Q', 'Q-cont', 'Q-cont', 'Q-cont']\n",
      "Actual labels:  ['0', '0', '0', '0', '0', 'Q', 'Q', 'Q', 'Q-cont', 'Q-cont', 'Q-cont', '0', '0', '0', '0', '0', '0', '0', '0', '0', '0', '0', 'Q', 'Q', 'Q', 'Q-cont', 'Q-cont', 'A', 'A', 'A', '0', 'C', 'C', 'C', 'C', 'C', '0', 'Q', 'Q', 'Q', 'Q-cont', 'Q-cont', '0', '0', '0', 'C', 'C', 'C', 'C', 'C', 'C', 'C', '0', '0', '0', '0', '0', '0', 'T', 'T-cont', '0', '0', '0', '0', '0', '0', '0', '0', '0', 'T', 'T-cont', '0', '0', '0', '0', '0', '0', '0', '0', '0', '0', '0', '0', '0', '0', '0', '0', 'A', 'A', 'A', '0', '0', 'Q', 'Q', 'Q-cont', 'Q-cont', 'Q-cont', '0', '0', '0', '0', '0', '0', '0', '0', '0', '0', '0', '0', '0', '0', '0', '0', '0', '0', '0', '0', '0', '0', '0', '0', '0', '0', '0', '0', '0', '0', '0', '0', 'A', 'A', 'A', '0', '0', '0', '0', '0', 'M', 'M', 'M', 'M', 'M-cont', '0', '0', 'Q', 'Q', 'Q-cont', 'Q-cont', 'Q-cont', '0']\n",
      "\n",
      "\n",
      "___________________106___________________\n",
      "\n",
      "Predict labels:  ['0', '0', '0', '0', '0', '0', '0', 'A', 'A', 'A', '0', '0', '0', '0', '0', '0', '0', '0', '0', '0', '0', '0', '0', '0', '0', '0', '0', '0', '0', '0', '0', '0', 'M', 'M', 'M', '0', '0', '0', '0', '0', '0', '0', '0', '0', '0', '0', 'Q', 'Q', 'Q', 'Q', 'Q-cont', 'Q-cont', 'Q-cont', '0', '0', '0', '0', '0', '0', '0', '0', '0', '0', '0', '0', '0', '0', '0', '0', '0', '0', 'A', 'A', 'A', '0', '0', 'Q', 'Q', 'Q-cont', 'Q-cont', 'Q-cont', '0', '0', '0', '0', '0', '0', '0', '0', '0', '0', '0', '0', '0', '0', '0', '0', '0', '0', '0', '0', '0', '0', 'Q', 'Q', 'Q-cont', 'Q-cont', 'Q-cont', '0', '0', '0', '0', '0', '0', '0', '0', '0', '0', '0', '0', '0', '0', '0', '0', '0', '0', '0', '0', '0', 'C', 'C', 'C', 'C', 'C-cont']\n",
      "Actual labels:  ['0', '0', '0', '0', '0', '0', '0', '0', 'A', 'A', 'A', '0', '0', '0', '0', '0', '0', '0', '0', '0', '0', '0', '0', '0', '0', '0', '0', '0', '0', '0', '0', '0', '0', 'M', 'M', 'M', '0', '0', '0', '0', '0', '0', '0', '0', '0', '0', '0', 'Q', 'Q', 'Q', 'Q', 'Q-cont', 'Q-cont', 'Q-cont', '0', '0', '0', '0', '0', '0', '0', '0', '0', '0', '0', '0', '0', '0', '0', '0', '0', '0', 'A', 'A', 'A', '0', '0', 'Q', 'Q', 'Q-cont', 'Q-cont', 'Q-cont', '0', '0', '0', '0', '0', '0', '0', '0', '0', '0', '0', '0', '0', '0', '0', '0', '0', '0', '0', '0', '0', '0', 'Q', 'Q', 'Q-cont', 'Q-cont', 'Q-cont', '0', '0', '0', '0', '0', '0', '0', '0', '0', '0', '0', '0', '0', '0', '0', '0', '0', '0', '0', '0', '0', 'M', 'M', 'M', 'M', 'M-cont', '0']\n",
      "\n",
      "\n",
      "___________________107___________________\n",
      "\n",
      "Predict labels:  ['0', '0', '0', '0', '0', 'Q', 'Q', 'Q', 'Q', 'Q', 'Q-cont', 'Q-cont', 'Q-cont', '0', '0', '0', '0', '0', '0', '0', '0', '0', '0', '0', '0', '0', '0', '0', '0', '0', '0', 'A', '0', '0', '0', '0', '0', '0', '0', '0', '0', '0', 'Q', 'Q', 'Q-cont', 'Q-cont', 'Q-cont', '0', '0', '0', '0', '0', '0', '0', '0', '0', '0', '0', 'M', 'M', 'M', 'M', 'M-cont', '0', '0', '0', '0', '0', '0', '0', '0', '0', '0', '0', '0', '0', '0', 'Q', 'Q', 'Q-cont', 'Q-cont', 'Q-cont', '0', '0', '0', '0', '0', '0', '0', 'A', 'A', 'A', '0', '0', '0', 'M', 'M', 'M', 'M', 'M-cont', '0', 'A', 'A', 'A', 'A', 'A', 'A-cont']\n",
      "Actual labels:  ['0', '0', '0', '0', '0', '0', 'Q', 'Q', 'Q', 'Q', 'Q', 'Q-cont', 'Q-cont', 'Q-cont', '0', '0', '0', '0', '0', '0', '0', '0', '0', '0', '0', '0', '0', '0', '0', '0', '0', '0', 'C', '0', '0', '0', '0', '0', '0', '0', '0', '0', '0', 'Q', 'Q', 'Q-cont', 'Q-cont', 'Q-cont', '0', '0', '0', '0', '0', '0', '0', '0', '0', '0', '0', 'M', 'M', 'M', 'M', 'M-cont', '0', '0', '0', '0', '0', '0', '0', '0', '0', '0', '0', '0', '0', '0', 'Q', 'Q', 'Q-cont', 'Q-cont', 'Q-cont', '0', '0', '0', '0', '0', '0', '0', 'A', 'A', 'A', '0', '0', '0', 'M', 'M', 'M', 'M', 'M-cont', '0', 'A', 'A', 'A', 'A', 'A', 'A-cont', '0']\n",
      "\n",
      "\n"
     ]
    },
    {
     "name": "stdout",
     "output_type": "stream",
     "text": [
      "___________________108___________________\n",
      "\n",
      "Predict labels:  ['0', '0', '0', '0', '0', 'A', 'A', 'A', 'A', '0', 'A', 'A', 'A', 'A', '0', '0', '0', '0', 'A', 'A', 'A', 'A', '0', '0', '0', '0', '0', '0', '0', '0', '0', '0', '0', 'Q', 'Q', 'Q', 'Q-cont', 'A', 'A', 'A-cont', '0', '0', '0', '0', 'M', 'M', 'M', 'M', 'M', 'M', 'M', '0', '0', '0', '0', '0', '0', '0', '0', '0', '0', '0', '0', '0', '0', 'M', 'M', '0', 'M', 'M', '0', '0', 'M', 'M', 'M', 'M', 'M', '0', '0', '0', '0', '0', '0', '0', '0', '0', 'M', 'M', 'M', '0', '0']\n",
      "Actual labels:  ['0', '0', '0', '0', '0', '0', 'A', 'A', 'A', 'A', '0', 'A', 'A', 'A', 'A', '0', '0', '0', '0', 'A', 'A', 'A', 'A', '0', '0', '0', '0', '0', '0', '0', '0', '0', '0', '0', 'Q', 'Q', 'Q', 'Q-cont', 'A', 'A', 'A-cont', '0', '0', '0', '0', 'M', 'M', 'M', 'M', 'M', 'M', 'M', '0', '0', '0', '0', '0', '0', '0', '0', '0', '0', '0', '0', '0', '0', 'M', 'M', '0', 'M', 'M', '0', '0', 'M', 'M', 'M', 'M', 'M', '0', '0', '0', '0', '0', '0', '0', '0', '0', 'M', 'M', 'M', '0', '0', '0']\n",
      "\n",
      "\n",
      "___________________109___________________\n",
      "\n",
      "Predict labels:  ['0', '0', '0', '0', 'Q', 'Q', '0', 'M', 'M', '0', '0', 'M', 'M', 'M', 'M', '0', '0', '0', '0', '0', '0', '0', '0', '0', '0', '0', '0', '0', '0', '0', '0', '0', '0', 'C', 'C', 'C-cont', 'C-cont', '0', '0', '0', '0', '0', 'Q', 'Q-cont', '0', '0', '0', '0', '0', '0', '0', '0', '0', '0', '0', '0', '0', 'Q', 'Q', '0', '0', 'A', 'A', 'A', 'A-cont', '0', '0', '0', '0', '0', '0', '0', '0', '0', '0', '0', 'M', 'M', '0', 'M', '0', '0', '0', 'Q', 'Q', 'Q', 'Q', '0', '0', '0', '0', '0', 'M', '0', '0', 'Q', 'Q', 'Q', '0', '0', 'M', 'M', '0', 'M', '0', '0', 'Q', '0', '0', '0', '0', '0', '0', 'M', '0', 'M', 'M', '0', 'M', '0', '0', 'Q', '0', '0', '0', '0', '0', '0', '0', '0', '0', 'M', 'M', '0', 'C', 'C', '0', '0', '0', '0', '0', '0', '0', '0', '0', '0']\n",
      "Actual labels:  ['0', '0', '0', '0', '0', 'Q', 'Q', '0', 'M', 'M', '0', '0', 'M', 'M', 'M', 'M', '0', '0', '0', '0', '0', '0', '0', '0', '0', '0', '0', '0', '0', '0', '0', '0', '0', '0', 'C', 'C', 'C-cont', 'C-cont', '0', '0', '0', '0', '0', 'Q', 'Q-cont', '0', '0', '0', '0', '0', '0', '0', '0', '0', '0', '0', '0', '0', 'Q', 'Q', '0', '0', 'A', 'A', 'A', 'A-cont', '0', '0', '0', '0', '0', '0', '0', '0', '0', '0', '0', 'M', 'M', '0', 'M', '0', '0', '0', 'Q', 'Q', 'Q', 'Q', '0', '0', '0', '0', '0', 'M', '0', '0', 'Q', 'Q', 'Q', '0', '0', 'M', 'M', '0', 'M', '0', '0', 'Q', '0', '0', '0', '0', '0', '0', 'M', '0', 'M', 'M', '0', 'M', '0', '0', 'Q', '0', '0', '0', '0', '0', '0', '0', '0', '0', 'M', 'M', '0', '0', '0', '0', '0', '0', '0', '0', '0', '0', '0', '0', '0', '0']\n",
      "\n",
      "\n",
      "___________________110___________________\n",
      "\n",
      "Predict labels:  ['0', '0', '0', '0', '0', '0', '0', '0', '0', 'A', 'A', '0', '0', 'A', 'A', '0', 'C', 'C', 'C', 'C-cont', 'C-cont', 'C-cont', 'C-cont', '0', '0', '0', '0', '0', '0', '0', '0', '0', '0', '0', '0', '0', '0', '0', '0', '0', '0', '0', '0', '0', 'C', 'C', 'C', 'C', 'C', 'C', 'C', 'C', 'C-cont', 'C-cont', 'C-cont', '0', '0', '0', '0', '0', '0', '0', 'A', 'A', '0', '0', '0', '0', '0', '0', 'Q', 'Q-cont', 'Q-cont', 'Q-cont', '0', '0', '0', '0', '0', '0', 'Q', 'Q', 'Q', 'Q', 'Q', 'Q', 'Q', 'Q-cont', '0', '0', '0', '0', '0', '0', '0', '0', '0', '0', '0', '0', 'C', '0', '0', '0', 'C', 'C', 'C', 'C-cont', 'C-cont', 'C-cont', 'C-cont', '0', '0', '0', '0', '0', '0', '0', '0', '0', '0', '0', '0', '0', 'Q', 'Q-cont', 'Q-cont']\n",
      "Actual labels:  ['0', '0', '0', '0', '0', '0', '0', '0', '0', '0', 'A', 'A', '0', '0', 'C', 'C', '0', 'C', 'C', 'C', 'C-cont', 'C-cont', 'C-cont', 'C-cont', '0', '0', '0', '0', '0', '0', '0', '0', '0', '0', '0', '0', '0', '0', '0', '0', '0', '0', '0', '0', '0', 'C', 'C', 'C', 'C', 'C', 'C', 'C', 'C', 'C-cont', 'C-cont', 'C-cont', '0', '0', '0', '0', '0', '0', '0', 'A', 'A', '0', '0', '0', '0', '0', '0', 'Q', 'Q-cont', 'Q-cont', 'Q-cont', '0', '0', '0', '0', '0', '0', 'Q', 'Q', 'Q', 'Q', 'Q', 'Q', 'Q', 'Q-cont', '0', '0', '0', '0', '0', '0', '0', '0', '0', '0', '0', '0', 'C', '0', '0', '0', 'C', 'C', 'C', 'C-cont', 'C-cont', 'C-cont', 'C-cont', '0', '0', '0', '0', '0', '0', '0', '0', '0', '0', '0', '0', '0', 'Q', 'Q-cont', 'Q-cont', '0']\n",
      "\n",
      "\n",
      "___________________111___________________\n",
      "\n",
      "Predict labels:  ['0', '0', '0', '0', '0', '0', '0', '0', '0', '0', '0', '0', '0', 'Q', 'Q-cont', 'A', 'A', 'A-cont', '0', '0', 'T', 'T-cont', '0', '0', '0', '0', '0', '0', '0', '0', '0', '0', '0', '0', '0', '0', '0', '0', '0', '0', 'Q', 'Q', 'Q', '0', '0', 'T', 'T-cont', 'T-cont', '0', '0', '0', '0', '0', '0', '0', '0', '0', '0', '0', '0', '0', '0', '0', '0', '0', '0', '0', '0', '0', '0', '0', '0', '0', '0', '0']\n",
      "Actual labels:  ['0', '0', '0', '0', '0', '0', '0', '0', '0', '0', '0', '0', '0', '0', 'Q', 'Q-cont', 'A', 'A', 'A-cont', '0', '0', 'T', 'T-cont', '0', '0', '0', '0', '0', '0', '0', '0', '0', '0', '0', '0', '0', '0', '0', '0', '0', '0', 'Q', 'Q', 'Q', '0', '0', 'T', 'T-cont', 'T-cont', '0', '0', '0', '0', '0', '0', '0', '0', '0', '0', '0', '0', '0', '0', '0', '0', '0', '0', '0', '0', '0', '0', '0', '0', '0', '0', '0', '0']\n",
      "\n",
      "\n",
      "___________________112___________________\n",
      "\n",
      "Predict labels:  ['0', '0', '0', '0', '0', '0', '0', '0', 'Q', 'Q-cont', 'A', 'A', '0', '0', '0', '0', '0', '0', '0', '0', '0', '0', 'Q', 'Q', 'Q', 'Q-cont', 'Q-cont', 'Q-cont', 'Q-cont', 'Q-cont', '0', '0', '0', '0', '0', '0', '0', '0', '0', '0', '0', 'M', 'M', '0', '0', '0', 'Q', 'Q', 'Q', 'Q-cont', 'A', '0', '0', '0', '0', '0', '0', 'Q', 'Q', 'Q', 'Q-cont', 'Q-cont', 'Q-cont', 'Q-cont', 'Q-cont', '0', '0', '0', '0', '0', 'Q', 'Q-cont', 'Q-cont', 'Q-cont', '0', '0', '0', '0', '0', '0', '0', '0', '0', '0', '0', '0', '0', '0', '0', '0', '0', '0', '0', 'C', 'C', 'C', 'C', '0', '0', '0', '0', '0', '0', '0', '0', '0', '0', '0', '0', '0', '0', '0', 'T', 'T', 'T', 'T-cont']\n",
      "Actual labels:  ['0', '0', '0', '0', '0', '0', '0', '0', '0', 'Q', 'Q-cont', 'A', 'A', '0', '0', '0', '0', '0', '0', '0', '0', '0', '0', 'Q', 'Q', 'Q', 'Q-cont', 'Q-cont', 'Q-cont', 'Q-cont', 'Q-cont', '0', '0', '0', '0', '0', '0', '0', '0', '0', '0', '0', 'M', 'M', '0', '0', '0', 'Q', 'Q', 'Q', 'Q-cont', 'A', '0', '0', '0', '0', '0', '0', 'Q', 'Q', 'Q', 'Q-cont', 'Q-cont', 'Q-cont', 'Q-cont', 'Q-cont', '0', '0', '0', '0', '0', 'Q', 'Q-cont', 'Q-cont', 'Q-cont', '0', '0', '0', '0', '0', '0', '0', '0', '0', '0', '0', '0', '0', '0', '0', '0', '0', '0', '0', 'C', 'C', 'C', 'C', '0', '0', '0', '0', '0', '0', '0', '0', '0', '0', '0', '0', '0', '0', '0', 'T', 'T', 'T', 'T-cont', '0']\n",
      "\n",
      "\n",
      "___________________113___________________\n",
      "\n",
      "Predict labels:  ['M', 'M', 'M', '0', 'M', 'M', '0', '0', '0', '0', '0', '0', '0', '0', '0', '0', '0', 'Q', 'Q-cont', 'Q-cont', 'Q-cont', 'Q-cont', 'Q-cont', 'Q-cont', 'M', 'M', 'M', '0', 'Q', 'Q', 'Q', 'Q-cont', 'Q-cont', 'Q-cont', 'Q-cont', 'C', 'C', 'C', 'C-cont', 'C-cont', '0', 'Q', 'Q', 'Q', 'Q', 'Q', 'Q', 'Q', 'Q-cont', 'A', 'A', 'A-cont', '0', '0', '0', '0', '0', '0', '0', 'M', 'M', 'M', '0', 'M', 'M', '0', '0', '0', '0', '0', '0', '0', '0', '0', '0', '0', '0', 'Q', 'Q-cont', 'Q-cont', 'Q-cont', 'Q-cont', 'Q-cont']\n",
      "Actual labels:  ['0', 'M', 'M', 'M', '0', 'M', 'M', '0', '0', '0', '0', '0', '0', '0', '0', '0', '0', '0', 'M', 'M', 'M', 'M-cont', 'M-cont', 'M-cont', 'M-cont', 'M', 'M', 'M', '0', 'Q', 'Q', 'Q', 'Q-cont', 'Q-cont', 'Q-cont', 'Q-cont', 'C', 'C', 'C', 'C-cont', 'C-cont', '0', 'Q', 'Q', 'Q', 'Q', 'Q', 'Q', 'Q', 'Q-cont', 'A', 'A', 'A-cont', '0', '0', '0', '0', '0', '0', '0', 'M', 'M', 'M', '0', 'M', 'M', '0', '0', '0', '0', '0', '0', '0', '0', '0', '0', '0', '0', 'Q', 'Q-cont', 'Q-cont', 'Q-cont', 'Q-cont', 'Q-cont', 'Q-cont']\n",
      "\n",
      "\n",
      "___________________114___________________\n",
      "\n",
      "Predict labels:  ['0', '0', '0', '0', '0', '0', '0', '0', '0', '0', '0', '0', '0', '0', '0', '0', '0', 'Q', 'Q', 'Q', 'Q-cont', 'Q-cont', 'C', 'C', 'C', 'C-cont', 'C-cont', 'C-cont', 'C-cont', 'C-cont', '0', '0', '0', '0', '0', '0', '0', '0', '0', '0', '0', '0', '0', '0', '0', '0', 'Q', 'Q', 'Q', 'Q', 'Q', 'Q', 'Q', 'Q-cont', 'A', 'A', '0', '0', 'M', 'M', '0', '0', '0', '0', 'Q', 'Q-cont', 'A', 'A', '0', '0', '0', '0', '0', '0', '0', '0', '0', 'Q', 'Q', 'Q', 'Q-cont', 'Q-cont', 'Q-cont', 'Q-cont', 'Q-cont', '0', '0', '0', '0', '0', 'Q', 'Q-cont', 'Q-cont', 'Q-cont', '0', '0', '0', '0', '0', '0', '0', '0', '0', '0', '0', '0', '0', '0', 'A', '0', '0', '0']\n",
      "Actual labels:  ['0', '0', '0', '0', '0', '0', '0', '0', '0', '0', '0', '0', '0', '0', '0', '0', '0', '0', 'Q', 'Q', 'Q', 'Q-cont', 'Q-cont', 'C', 'C', 'C', 'C-cont', 'C-cont', 'C-cont', 'C-cont', 'C-cont', '0', '0', '0', '0', '0', '0', '0', '0', '0', '0', '0', '0', '0', '0', '0', '0', 'Q', 'Q', 'Q', 'Q', 'Q', 'Q', 'Q', 'Q-cont', 'A', 'A', '0', '0', 'M', 'M', '0', '0', '0', '0', 'Q', 'Q-cont', 'A', 'A', '0', '0', '0', '0', '0', '0', '0', '0', '0', 'Q', 'Q', 'Q', 'Q-cont', 'Q-cont', 'Q-cont', 'Q-cont', 'Q-cont', '0', '0', '0', '0', '0', 'Q', 'Q-cont', 'Q-cont', 'Q-cont', '0', '0', '0', '0', '0', '0', '0', '0', '0', '0', '0', '0', '0', '0', 'R', '0', '0', '0', '0']\n",
      "\n",
      "\n",
      "___________________115___________________\n",
      "\n",
      "Predict labels:  ['0', '0', '0', '0', '0', '0', 'A', 'A', 'A', 'A-cont', '0', 'C-cont', 'C-cont', '0', '0', '0', '0', 'C', '0', '0', '0', 'Q', 'Q', 'Q', 'Q-cont', 'Q-cont', 'C', 'C', 'C', 'C-cont', 'C-cont', 'C-cont', 'C-cont', '0', '0', '0', '0', '0', '0', '0', '0', '0', '0', '0', 'Q', 'Q-cont', 'A', 'A', '0', '0', 'M', 'M', '0', '0', '0', '0', 'Q', 'Q', 'Q', 'Q-cont', 'A', 'A', '0', '0', '0', '0', '0', '0', '0', '0', '0', 'Q', 'Q', 'Q', 'Q-cont', 'Q-cont', 'Q-cont', 'Q-cont', 'Q-cont', '0', '0', '0', '0', '0', 'Q', 'Q-cont', 'Q-cont', 'Q-cont', '0', '0', '0', '0', '0', '0', '0', '0', '0', '0', '0', '0', '0', '0', 'A', '0', '0', '0', '0', '0', '0', 'T', 'T-cont', '0', '0', '0', '0', '0', '0', '0', '0', '0', '0']\n",
      "Actual labels:  ['0', '0', '0', '0', '0', '0', '0', 'A', 'A', 'A', 'A-cont', '0', '0', '0', '0', '0', '0', '0', 'C', '0', '0', '0', 'Q', 'Q', 'Q', 'Q-cont', 'Q-cont', 'C', 'C', 'C', 'C-cont', 'C-cont', 'C-cont', 'C-cont', '0', '0', '0', '0', '0', '0', '0', '0', '0', '0', '0', 'Q', 'Q-cont', 'A', 'A', '0', '0', 'M', 'M', '0', '0', '0', '0', 'Q', 'Q', 'Q', 'Q-cont', 'A', 'A', '0', '0', '0', '0', '0', '0', '0', '0', '0', 'Q', 'Q', 'Q', 'Q-cont', 'Q-cont', 'Q-cont', 'Q-cont', 'Q-cont', '0', '0', '0', '0', '0', 'Q', 'Q-cont', 'Q-cont', 'Q-cont', '0', '0', '0', '0', '0', '0', '0', '0', '0', '0', '0', '0', '0', '0', 'R', '0', '0', '0', '0', '0', '0', 'T', 'T-cont', '0', '0', '0', '0', '0', '0', '0', '0', '0', '0', '0']\n",
      "\n",
      "\n",
      "___________________116___________________\n",
      "\n",
      "Predict labels:  ['0', '0', '0', '0', '0', '0', '0', '0', '0', '0', '0', '0', '0', '0', '0', '0', '0', '0', '0', '0', '0', '0', '0', '0', '0', '0', '0', '0', '0', '0', '0', '0', '0', '0', '0', '0', '0', '0', '0', '0', '0', '0', '0', '0', '0', '0', '0', '0', '0', '0', '0', 'M', 'M', 'M', '0', 'M', 'M', '0', '0', '0', '0', '0', '0', '0', '0', '0', '0', '0', '0', '0', '0', '0', '0', '0', '0', '0', '0', '0', '0', '0', '0', '0', '0', '0']\n",
      "Actual labels:  ['0', '0', '0', '0', '0', '0', '0', '0', '0', '0', '0', '0', '0', '0', '0', '0', '0', '0', '0', '0', '0', '0', '0', '0', '0', '0', '0', '0', '0', '0', '0', '0', '0', '0', '0', '0', '0', '0', '0', '0', '0', '0', '0', '0', '0', '0', '0', '0', '0', '0', '0', '0', 'M', 'M', 'M', '0', 'M', 'M', '0', '0', '0', '0', '0', '0', '0', '0', '0', '0', '0', '0', '0', '0', '0', '0', '0', '0', '0', '0', '0', '0', '0', '0', '0', '0', '0', '0']\n",
      "\n",
      "\n",
      "___________________117___________________\n",
      "\n",
      "Predict labels:  ['0', '0', '0', '0', '0', '0', '0', '0', '0', '0', '0', '0', '0', '0', '0', '0', '0', 'M', 'M', '0', '0', '0', '0', '0', 'C', 'C', 'C', 'C-cont', 'C-cont', 'C-cont', 'C-cont', '0', '0', '0', '0', '0', '0', '0', '0', 'M', 'M', 'M', '0', 'Q', 'Q', 'Q', 'Q-cont', 'A', 'A', '0', '0', '0', '0', '0', '0', '0', 'M', 'M', '0', '0', 'M', 'M', 'M', '0', '0', '0', '0', '0', '0', '0', '0', '0', '0', '0']\n",
      "Actual labels:  ['0', '0', '0', '0', '0', '0', '0', '0', '0', '0', '0', '0', '0', '0', '0', '0', '0', '0', 'M', 'M', '0', '0', '0', '0', '0', 'C', 'C', 'C', 'C-cont', 'C-cont', 'C-cont', 'C-cont', '0', '0', '0', '0', '0', '0', '0', '0', 'M', 'M', 'M', '0', 'Q', 'Q', 'Q', 'Q-cont', 'A', 'A', '0', '0', '0', '0', '0', '0', '0', 'M', 'M', '0', '0', 'M', 'M', 'M', '0', '0', '0', '0', '0', '0', '0', '0', '0', '0', '0', '0']\n",
      "\n",
      "\n",
      "___________________118___________________\n",
      "\n",
      "Predict labels:  ['0', '0', '0', '0', '0', '0', '0', '0', 'M', 'M', 'M', '0', 'M', 'M', 'M', '0', 'M', 'M', '0', 'M', 'M', 'M', '0', 'M', '0', '0', 'M', '0', '0', '0', 'Q', '0', '0', '0', '0', '0', 'M', '0', 'M', 'M', 'M', 'M', 'M-cont', '0', 'Q', '0', 'Q', '0', '0', '0', '0', '0', '0', '0', '0', '0', '0', '0', '0', '0', '0', 'M', '0', 'M', '0', '0', 'M', '0', 'Q', 'Q', 'Q-cont', 'Q-cont', 'Q-cont', 'Q-cont', 'Q-cont', 'Q-cont', 'Q-cont', 'Q-cont']\n",
      "Actual labels:  ['0', '0', '0', '0', '0', '0', '0', '0', '0', 'M', 'M', 'M', '0', 'M', 'M', 'M', '0', 'M', 'M', '0', 'M', 'M', 'M', '0', 'M', '0', '0', 'M', '0', '0', '0', 'Q', '0', '0', '0', '0', '0', 'M', '0', 'M', 'M', 'M', 'M', 'M-cont', '0', 'Q', '0', 'Q', '0', '0', '0', '0', '0', '0', '0', '0', '0', '0', '0', '0', '0', '0', 'M', '0', 'M', '0', '0', 'M', '0', 'Q', 'Q', 'Q-cont', 'Q-cont', 'Q-cont', 'Q-cont', 'Q-cont', 'Q-cont', 'Q-cont', 'Q-cont', '0']\n",
      "\n",
      "\n",
      "___________________119___________________\n",
      "\n",
      "Predict labels:  ['0', '0', '0', '0', '0', '0', '0', '0', '0', '0', 'M', 'M', 'M', '0', 'M', 'M', '0', '0', '0', '0', '0', '0', '0', '0', '0', '0', '0', '0', '0', 'M', 'M', '0', 'M', 'M', 'M', '0', '0', '0', '0', '0', '0', 'C', 'C-cont', 'C-cont', 'C-cont', 'C-cont', 'C-cont', 'C-cont', 'C-cont', '0', '0', '0', '0', '0', '0', '0', '0', '0', 'R', '0', '0', '0', '0', '0', '0', '0', '0', '0', '0', '0', '0', '0', 'T', 'T', 'T', 'T-cont']\n",
      "Actual labels:  ['0', '0', '0', '0', '0', '0', '0', '0', '0', '0', '0', 'M', 'M', 'M', '0', 'M', 'M', '0', '0', '0', '0', '0', '0', '0', '0', '0', '0', '0', '0', '0', 'M', 'M', '0', 'M', 'M', 'M', '0', '0', '0', '0', '0', '0', 'C', 'C-cont', 'C-cont', 'C-cont', 'C-cont', 'C-cont', 'C-cont', 'C-cont', '0', '0', '0', '0', '0', '0', '0', '0', '0', 'R', '0', '0', '0', '0', '0', '0', '0', '0', '0', '0', '0', '0', '0', 'T', 'T', 'T', 'T-cont', '0']\n",
      "\n",
      "\n",
      "___________________120___________________\n",
      "\n",
      "Predict labels:  ['0', '0', '0', '0', '0', '0', '0', 'Q', 'Q', 'Q', 'Q-cont', 'A', 'A', 'A', '0', '0', '0', '0', '0', '0', '0', '0', '0', 'M', 'M', 'M', '0', 'M', 'M', '0', '0', '0', 'R', '0', '0', '0', '0', '0', '0', '0', '0', '0', '0', '0', '0', '0', '0', '0', '0', '0', 'Q', 'Q', '0', '0', '0', '0']\n",
      "Actual labels:  ['0', '0', '0', '0', '0', '0', '0', '0', 'Q', 'Q', 'Q', 'Q-cont', 'A', 'A', 'A', '0', '0', '0', '0', '0', '0', '0', '0', '0', 'M', 'M', 'M', '0', 'M', 'M', '0', '0', '0', 'R', '0', '0', '0', '0', '0', '0', '0', '0', '0', '0', '0', '0', '0', '0', '0', '0', '0', 'Q', 'Q', '0', '0', '0', '0', '0']\n",
      "\n",
      "\n",
      "___________________121___________________\n",
      "\n",
      "Predict labels:  ['0', '0', '0', '0', 'A', 'A', 'A-cont', '0', '0', '0', '0', '0', '0', '0', '0', '0', '0', '0', '0', '0', '0', '0', '0', '0', '0', '0', '0', '0', 'Q', 'Q', 'Q', 'Q', 'Q', 'Q', 'Q', 'Q-cont', 'A', 'A', 'A', '0', '0', '0', '0', '0', '0', '0', '0', '0', '0', 'Q', 'Q', 'Q', 'Q', '0', '0', '0', '0', '0', '0', 'Q', 'Q', 'Q', 'Q', 'Q', 'Q', 'Q']\n",
      "Actual labels:  ['0', '0', '0', '0', '0', 'A', 'A', 'A-cont', '0', '0', '0', '0', '0', '0', '0', '0', '0', '0', '0', '0', '0', '0', '0', '0', '0', '0', '0', '0', '0', 'Q', 'Q', 'Q', 'Q', 'Q', 'Q', 'Q', 'Q-cont', 'A', 'A', 'A', '0', '0', '0', '0', '0', '0', '0', '0', '0', '0', 'Q', 'Q', 'Q', 'Q', '0', '0', '0', '0', '0', '0', 'Q', 'Q', 'Q', 'Q', 'Q', 'Q', 'Q', '0']\n",
      "\n",
      "\n",
      "___________________122___________________\n",
      "\n",
      "Predict labels:  ['0', '0', '0', '0', '0', '0', '0', '0', '0', '0', 'M', 'M', 'M', 'M', 'M', 'M', '0', '0', '0', '0', '0', '0', '0', '0', '0', 'M', 'M', 'M', '0', '0', '0', '0', '0', '0', '0', '0', 'M', 'M', '0', '0', '0', '0', '0', '0', '0', '0', '0', '0', '0', '0', '0', '0', '0', '0', '0', '0', 'Q', 'Q', 'Q', 'Q', 'Q', 'Q', 'Q', 'Q-cont', 'A', 'A', '0', '0', '0', '0', '0', '0', '0', '0', 'M', 'M', 'M', '0']\n",
      "Actual labels:  ['0', '0', '0', '0', '0', '0', '0', '0', '0', '0', '0', 'M', 'M', 'M', 'M', 'M', 'M', '0', '0', '0', '0', '0', '0', '0', '0', '0', 'M', 'M', 'M', '0', '0', '0', '0', '0', '0', '0', '0', 'M', 'M', '0', '0', '0', '0', '0', '0', '0', '0', '0', '0', '0', '0', '0', '0', '0', '0', '0', '0', 'Q', 'Q', 'Q', 'Q', 'Q', 'Q', 'Q', 'Q-cont', 'A', 'A', '0', '0', '0', '0', '0', '0', '0', '0', 'M', 'M', 'M', '0', '0']\n",
      "\n",
      "\n",
      "___________________123___________________\n",
      "\n",
      "Predict labels:  ['0', '0', '0', '0', '0', '0', '0', '0', 'C', 'C', 'C', 'A-cont', '0', '0', '0', '0', '0', '0', '0', '0', '0', '0', '0', '0', '0', '0', '0', '0', '0', '0', '0', '0', '0', '0', '0', '0', '0', 'Q', 'Q', 'Q', 'Q', 'Q', 'Q', 'Q', 'Q-cont', 'C', 'C', 'C', '0', '0', '0', '0', '0', '0', '0', '0', '0', '0', '0', '0', '0', '0', '0', '0', '0', '0', '0', '0', '0', '0', '0', '0', '0', '0', '0', 'T', 'T-cont', '0', '0', '0', 'Q', 'Q', 'Q', 'Q', '0', '0', '0', '0', '0', '0', '0', '0', '0', '0', '0', '0', '0', '0', '0', '0', '0', '0', '0', '0', '0', '0', '0']\n",
      "Actual labels:  ['0', '0', '0', '0', '0', '0', '0', '0', '0', 'C', 'C', 'C', 'C-cont', '0', '0', '0', '0', '0', '0', '0', '0', '0', '0', '0', '0', '0', '0', '0', '0', '0', '0', '0', '0', '0', '0', '0', '0', '0', 'Q', 'Q', 'Q', 'Q', 'Q', 'Q', 'Q', 'Q-cont', 'C', 'C', 'C', '0', '0', '0', '0', '0', '0', '0', '0', '0', '0', '0', '0', '0', '0', '0', '0', '0', '0', '0', '0', '0', '0', '0', '0', '0', '0', '0', 'T', 'T-cont', '0', '0', '0', 'Q', 'Q', 'Q', 'Q', '0', '0', '0', '0', '0', '0', '0', '0', '0', '0', '0', '0', '0', '0', '0', '0', '0', '0', '0', '0', '0', '0', '0', '0']\n",
      "\n",
      "\n",
      "___________________124___________________\n",
      "\n",
      "Predict labels:  ['0', '0', '0', '0', '0', '0', '0', '0', '0', 'M', 'M', '0', 'M', 'M', 'M', '0', '0', '0', '0', '0', '0', '0', '0', '0', '0', '0', '0', '0', '0', '0', '0', 'A', 'A', 'A', 'A-cont', '0', '0', '0', '0', '0', '0', '0', '0', '0', '0', '0', 'C', 'C', '0', '0', '0', '0', 'C', 'C', 'C', 'C-cont', 'C-cont', 'C-cont', 'C-cont']\n",
      "Actual labels:  ['0', '0', '0', '0', '0', '0', '0', '0', '0', '0', 'M', 'M', '0', 'M', 'M', 'M', '0', '0', '0', '0', '0', '0', '0', '0', '0', '0', '0', '0', '0', '0', '0', '0', 'A', 'A', 'A', 'A-cont', '0', '0', '0', '0', '0', '0', '0', '0', '0', '0', '0', 'A', 'A', '0', '0', '0', '0', 'C', 'C', 'C', 'C-cont', 'C-cont', 'C-cont', 'C-cont', '0']\n",
      "\n",
      "\n",
      "___________________125___________________\n",
      "\n",
      "Predict labels:  ['0', '0', '0', '0', '0', '0', '0', '0', '0', '0', '0', '0', 'M', 'M', '0', 'M', '0', '0', '0', '0', '0', 'A', 'A', 'A', 'A-cont', '0', '0', '0', '0', '0', '0', '0', '0', '0', '0', 'Q', 'Q', 'Q', 'Q-cont', '0', '0', '0', '0', 'M', 'M', '0', 'M', '0', '0', '0', '0', '0', '0', '0', '0', '0', '0', '0', '0', '0', '0', '0']\n",
      "Actual labels:  ['0', '0', '0', '0', '0', '0', '0', '0', '0', '0', '0', '0', '0', 'M', 'M', '0', 'M', '0', '0', '0', '0', '0', 'A', 'A', 'A', 'A-cont', '0', '0', '0', '0', '0', '0', '0', '0', '0', '0', 'Q', 'Q', 'Q', 'Q-cont', '0', '0', '0', '0', 'M', 'M', '0', 'M', '0', '0', '0', '0', '0', '0', '0', '0', '0', '0', '0', '0', '0', '0', '0', '0']\n",
      "\n",
      "\n",
      "___________________126___________________\n",
      "\n",
      "Predict labels:  ['0', '0', '0', '0', '0', '0', '0', 'A', 'A', 'A', 'A-cont', '0', '0', '0', '0', '0', 'M', 'M', 'M', '0', 'M', 'M', '0', '0', '0', '0', '0', 'C', 'C', 'C-cont', 'C-cont', 'C-cont', 'C-cont', 'C-cont', '0', '0', 'Q', 'Q', 'Q', 'Q-cont', 'A', 'A', 'A', '0', '0', '0', '0', 'Q', 'Q', 'Q', 'Q-cont', 'A', 'A', '0', '0', '0', '0', '0', 'Q', 'Q-cont', 'A', 'A', '0', 'M', 'M', '0', '0', '0', '0', '0', '0', '0', '0', '0', '0', '0', '0', '0', '0', '0', '0', 'C', '0', '0', '0', 'Q', 'Q', 'Q', 'Q-cont', 'Q-cont', 'C', 'C', 'C', 'C-cont', 'C-cont', 'C-cont', 'C-cont', '0', '0']\n",
      "Actual labels:  ['0', '0', '0', '0', '0', '0', '0', '0', 'A', 'A', 'A', 'A-cont', '0', '0', '0', '0', '0', 'M', 'M', 'M', '0', 'M', 'M', '0', '0', '0', '0', '0', 'C', 'C', 'C-cont', 'C-cont', 'C-cont', 'C-cont', 'C-cont', '0', '0', 'Q', 'Q', 'Q', 'Q-cont', 'A', 'A', 'A', '0', '0', '0', '0', 'Q', 'Q', 'Q', 'Q-cont', 'A', 'A', '0', '0', '0', '0', '0', 'Q', 'Q-cont', 'A', 'A', '0', 'M', 'M', '0', '0', '0', '0', '0', '0', '0', '0', '0', '0', '0', '0', '0', '0', '0', '0', 'C', '0', '0', '0', 'Q', 'Q', 'Q', 'Q-cont', 'Q-cont', 'C', 'C', 'C', 'C-cont', 'C-cont', 'C-cont', 'C-cont', '0', '0', '0']\n",
      "\n",
      "\n",
      "___________________127___________________\n",
      "\n",
      "Predict labels:  ['0', '0', '0', '0', '0', '0', '0', 'Q', 'Q-cont', 'A', 'A', '0', '0', 'M', 'M', '0', '0', '0', '0', '0', '0', 'Q', 'Q', 'Q', 'Q-cont', 'A', 'A', '0', '0', '0', '0', '0', '0', '0', '0', 'Q', 'Q', 'Q', 'Q-cont', 'Q-cont', 'Q-cont', 'Q-cont', 'Q-cont', '0', '0', '0', '0', '0', 'Q', 'Q-cont', 'Q-cont', 'Q-cont', '0', '0', '0', '0', '0', '0', '0', '0', '0', '0', '0', '0', 'A', 'A-cont', '0', '0', '0', '0', '0', '0', '0', '0', '0', '0', '0', '0', '0', '0', '0', '0', '0', 'Q', 'Q', 'Q', 'Q-cont', 'A', 'A', '0', '0', '0', '0', '0', '0', 'C', 'C', 'C', 'C-cont', 'C-cont', 'C-cont', 'C-cont', '0', '0']\n",
      "Actual labels:  ['0', '0', '0', '0', '0', '0', '0', '0', 'Q', 'Q-cont', 'A', 'A', '0', '0', 'M', 'M', '0', '0', '0', '0', '0', '0', 'A', 'A', 'A', 'A-cont', 'M', 'M', '0', '0', '0', '0', '0', '0', '0', '0', 'Q', 'Q', 'Q', 'Q-cont', 'Q-cont', 'Q-cont', 'Q-cont', 'Q-cont', '0', '0', '0', '0', '0', 'Q', 'Q-cont', 'Q-cont', 'Q-cont', '0', '0', '0', '0', '0', '0', '0', '0', '0', '0', '0', '0', 'R', 'R-cont', '0', '0', '0', '0', '0', '0', '0', '0', '0', '0', '0', '0', '0', '0', '0', '0', '0', 'Q', 'Q', 'Q', 'Q-cont', 'A', 'A', '0', '0', '0', '0', '0', '0', 'C', 'C', 'C', 'C-cont', 'C-cont', 'C-cont', 'C-cont', '0', '0', '0']\n",
      "\n",
      "\n",
      "___________________128___________________\n",
      "\n",
      "Predict labels:  ['0', '0', '0', '0', '0', '0', '0', 'A', 'A', 'A', 'A-cont', '0', '0', '0', '0', '0', '0', '0', '0', '0', '0', 'C', 'C', 'C', 'C-cont', 'C-cont', 'C-cont', 'C-cont', '0', '0', '0', '0', 'M', 'M', '0', '0', '0', '0', '0', '0', '0', '0', '0', '0', '0', 'T', 'T-cont', '0', '0', '0', '0', '0', '0', '0', '0', '0', '0', '0', '0', '0', '0', '0', 'M', 'M', 'M', '0', '0', 'M', 'M', '0', '0', '0', '0', '0', '0', '0', '0', 'Q', 'Q', 'Q', 'Q']\n",
      "Actual labels:  ['0', '0', '0', '0', '0', '0', '0', '0', 'A', 'A', 'A', 'A-cont', '0', '0', '0', '0', '0', '0', '0', '0', '0', '0', 'C', 'C', 'C', 'C-cont', 'C-cont', 'C-cont', 'C-cont', '0', '0', '0', '0', 'M', 'M', '0', '0', '0', '0', '0', '0', '0', '0', '0', '0', '0', 'T', 'T-cont', '0', '0', '0', '0', '0', '0', '0', '0', '0', '0', '0', '0', '0', '0', '0', 'M', 'M', 'M', '0', '0', 'M', 'M', '0', '0', '0', '0', '0', '0', '0', '0', 'Q', 'Q', 'Q', 'Q', '0']\n",
      "\n",
      "\n",
      "___________________129___________________\n",
      "\n",
      "Predict labels:  ['0', '0', '0', '0', 'M', 'M', 'M', 'M', '0', 'M', 'M', 'M', 'M', '0', 'M', 'M', 'M', 'M', '0', 'M', 'M', 'M', 'M', 'M', '0', 'M', 'M', 'M', 'M', 'M', '0', 'M', 'M', 'M', 'M', '0', 'M', 'M', 'M', 'M', '0', 'M-cont', 'M-cont', 'M-cont', 'M-cont', 'M-cont', 'M-cont', '0', 'M', 'M', 'M', 'M', '0', '0', 'M', '0', '0', '0', '0', '0', '0', 'A', 'A', 'A', 'A', 'A', 'A', 'A', 'A', 'A', 'C', 'C', '0', '0', '0', '0', '0', '0', '0', 'M', 'M', 'M', '0', '0', '0', '0', '0', 'M', 'M', 'M', 'M', 'M', '0', '0', 'M', 'M', 'M', '0', '0']\n",
      "Actual labels:  ['0', '0', '0', '0', '0', 'M', 'M', 'M', 'M', '0', 'M', 'M', 'M', 'M', '0', 'M', 'M', 'M', 'M', '0', 'M', 'M', 'M', 'M', 'M', '0', 'M', 'M', 'M', 'M', 'M', '0', 'M', 'M', 'M', 'M', '0', 'M', 'M', 'M', 'M', '0', 'M', 'M-cont', 'M-cont', 'M-cont', 'M-cont', 'M-cont', '0', 'M', 'M', 'M', 'M', '0', '0', 'M', '0', '0', '0', '0', '0', '0', 'A', 'A', 'A', 'A', 'A', 'A', 'A', 'A', 'A', 'C', 'C', '0', '0', '0', '0', '0', '0', '0', 'M', 'M', 'M', '0', '0', '0', '0', '0', 'M', 'M', 'M', 'M', 'M', '0', '0', 'M', 'M', 'M', '0', '0', '0']\n",
      "\n",
      "\n",
      "___________________130___________________\n",
      "\n",
      "Predict labels:  ['0', '0', '0', '0', '0', '0', '0', '0', 'C', 'C', 'C', 'C', 'C', 'C', '0', 'C', 'C', 'C', 'C', '0', 'C', 'C', 'C', 'C', 'C', 'C', '0', 'C', 'C', 'C', 'C', '0', 'C', 'C', 'C', 'C', 'C', 'C', 'C', '0', 'C', 'C', 'C', 'C', '0', 'C', 'C', 'C', 'C', 'C', 'C', '0', 'C', 'C', 'C', 'C', '0', 'C', 'C', 'C', 'C', 'C', 'C', 'C', '0', 'C', 'C', 'C', 'C', '0', 'C', 'C', 'C', 'C', 'C', 'C', 'C', '0', 'C', 'C', 'C', 'C', '0', 'C', 'C', 'C', 'C', 'C', '0', 'C', 'C', 'C', 'C', 'C', '0', 'C', 'C', 'C', 'C', '0', 'C', 'C', 'C', 'C', '0', 'C', 'C', 'C', 'C', 'C', 'C', 'C', '0', 'C', 'C', 'C', 'C', 'C', '0', '0', 'A', 'A', 'A', '0', '0', '0', 'C', 'C', 'C', '0', '0', 'C', 'C', 'C', 'C', '0', 'C', 'C', 'C', 'C', 'C', '0', '0', 'C', 'C', 'C', 'C', 'C']\n",
      "Actual labels:  ['0', '0', '0', '0', '0', '0', '0', '0', '0', 'C', 'C', 'C', 'C', 'C', 'C', '0', 'C', 'C', 'C', 'C', '0', 'C', 'C', 'C', 'C', 'C', 'C', '0', 'C', 'C', 'C', 'C', '0', 'C', 'C', 'C', 'C', 'C', 'C', 'C', '0', 'C', 'C', 'C', 'C', '0', 'C', 'C', 'C', 'C', 'C', 'C', '0', 'C', 'C', 'C', 'C', '0', 'C', 'C', 'C', 'C', 'C', 'C', 'C', '0', 'C', 'C', 'C', 'C', '0', 'C', 'C', 'C', 'C', 'C', 'C', 'C', '0', 'C', 'C', 'C', 'C', '0', 'C', 'C', 'C', 'C', 'C', '0', 'C', 'C', 'C', 'C', 'C', '0', 'C', 'C', 'C', 'C', '0', 'C', 'C', 'C', 'C', '0', 'C', 'C', 'C', 'C', 'C', 'C', 'C', '0', 'C', 'C', 'C', 'C', 'C', '0', '0', 'A', 'A', 'A', '0', '0', '0', '0', '0', '0', '0', '0', 'C', 'C', 'C', 'C', '0', 'C', 'C', 'C', 'C', 'C', '0', '0', 'C', 'C', 'C', 'C', 'C', '0']\n",
      "\n",
      "\n",
      "___________________131___________________\n",
      "\n",
      "Predict labels:  ['0', '0', '0', '0', '0', 'A', 'A', 'A', 'C', 'C', '0', '0', '0', '0', '0', '0', '0', '0', '0', '0', '0', '0', '0', '0', '0', '0', '0', '0', '0', 'Q', 'Q', '0', '0', '0', '0', '0', 'Q', 'Q', '0', 'M', 'M', 'M', 'M', 'M', 'M', 'M', 'M', '0', '0', '0', '0', '0', '0', '0', '0', '0', '0', '0', '0', '0', '0', '0', '0', '0', 'Q', 'Q', '0', '0', '0', '0', '0', '0', 'C', 'C', 'C', '0', '0', '0', '0', '0', '0', '0']\n",
      "Actual labels:  ['0', '0', '0', '0', '0', '0', 'A', 'A', 'A', 'C', 'C', '0', '0', '0', '0', '0', '0', '0', '0', '0', '0', '0', '0', '0', '0', '0', '0', '0', '0', '0', 'Q', 'Q', '0', '0', '0', '0', '0', 'Q', 'Q', '0', 'M', 'M', 'M', 'M', 'M', 'M', 'M', 'M', '0', '0', '0', '0', '0', '0', '0', '0', '0', '0', '0', '0', '0', '0', '0', '0', '0', 'Q', 'Q', '0', '0', '0', '0', '0', '0', 'C', 'C', 'C', '0', '0', '0', '0', '0', '0', '0', '0']\n",
      "\n",
      "\n",
      "___________________132___________________\n",
      "\n",
      "Predict labels:  ['M', 'M', 'M', 'M', '0', '0', '0', '0', '0', '0', '0', '0', '0', '0', '0', '0', '0', 'A', 'A', 'A-cont', '0', '0', 'Q', 'Q', 'Q', 'Q-cont', 'Q-cont', 'Q-cont', 'M', 'M', '0', '0', '0', '0', '0', 'C', 'C', 'C', 'C', 'C', '0', 'Q', 'Q-cont', 'Q-cont', 'A', 'A', 'A', '0', '0', '0', '0', '0', '0', '0', '0', '0', '0', '0', '0', 'C', 'C', '0', '0', '0', '0', '0', '0', '0', '0', '0', '0', '0', 'Q', 'Q', 'Q', 'Q-cont', 'Q-cont', 'C', 'C', 'C', 'C', '0', '0', '0', '0', '0', '0']\n",
      "Actual labels:  ['0', 'M', 'M', 'M', 'M', '0', '0', '0', '0', '0', '0', '0', '0', '0', '0', '0', '0', '0', 'A', 'A', 'A-cont', '0', '0', 'Q', 'Q', 'Q', 'Q-cont', 'Q-cont', 'Q-cont', 'M', 'M', '0', '0', '0', '0', '0', 'C', 'C', 'C', 'C', 'C', '0', 'Q', 'Q-cont', 'Q-cont', 'A', 'A', 'A', '0', '0', '0', '0', '0', '0', '0', '0', '0', '0', '0', '0', 'C', 'C', '0', '0', '0', '0', '0', '0', '0', '0', '0', '0', '0', 'Q', 'Q', 'Q', 'Q-cont', 'Q-cont', 'C', 'C', 'C', 'C', '0', '0', '0', '0', '0', '0', '0']\n",
      "\n",
      "\n",
      "___________________133___________________\n",
      "\n",
      "Predict labels:  ['0', '0', '0', 'M', 'M', '0', '0', '0', 'A', 'A', 'A-cont', 'A-cont', 'A', 'A', 'A', 'A-cont', '0', '0', '0', '0', '0', '0', '0', 'A', 'A', 'A', 'A', '0', '0', '0', '0', '0', '0', '0', '0', 'A', 'A', 'A', 'A', 'A', 'C', 'C', '0']\n",
      "Actual labels:  ['0', '0', '0', '0', 'M', 'M', '0', '0', '0', 'A', 'A', 'A-cont', 'M', 'M', 'M', 'M', 'M', '0', '0', '0', '0', '0', '0', '0', 'C', 'C', 'C', 'C', '0', '0', '0', '0', '0', '0', '0', '0', 'M', 'M', 'M', 'M', 'M', 'C', 'C', '0', '0']\n",
      "\n",
      "\n",
      "___________________134___________________\n",
      "\n",
      "Predict labels:  ['0', '0', '0', 'M', '0', 'M', 'M', 'M', 'M', '0', '0', 'M', '0', 'M', 'M', '0', '0', '0', '0', '0', '0', '0', '0', '0', '0', '0', '0', '0', '0', '0', '0', '0', '0', '0', '0', '0', '0', '0', '0', '0', '0', '0', '0', '0', '0', '0', '0', 'Q', 'Q', 'Q', 'Q', 'Q', 'C', '0', '0', '0', '0', '0', '0', '0', 'Q', 'Q-cont']\n",
      "Actual labels:  ['0', '0', '0', '0', 'M', '0', 'M', 'M', 'M', 'M', '0', '0', 'M', '0', 'M', 'M', '0', '0', '0', '0', '0', '0', '0', '0', '0', '0', '0', '0', '0', '0', '0', '0', '0', '0', '0', '0', '0', '0', '0', '0', '0', '0', '0', '0', '0', '0', '0', '0', 'Q', 'Q', 'Q', 'Q', 'Q', 'C', '0', '0', '0', '0', '0', '0', '0', 'Q', 'Q-cont', '0']\n",
      "\n",
      "\n"
     ]
    },
    {
     "name": "stdout",
     "output_type": "stream",
     "text": [
      "___________________135___________________\n",
      "\n",
      "Predict labels:  ['M', '0', '0', '0', '0', '0', '0', '0', '0', '0', '0', '0', '0', '0', '0', '0', '0', '0', '0', '0', '0', '0', '0', '0', '0', '0', 'R', 'R', 'R', 'R', 'R', 'R', 'R', 'R', 'R', '0', '0', '0', '0', '0', '0', '0', '0', '0', 'M', '0', '0', '0', '0', '0', '0', '0', '0', '0', '0', '0', '0', '0', 'M', 'M', '0', 'Q', 'Q', 'Q-cont', 'Q-cont', 'Q-cont', 'Q-cont', 'Q-cont', 'Q-cont', 'Q-cont', 'Q-cont', '0', 'Q', 'Q-cont', 'Q-cont', 'Q-cont', 'Q-cont', '0', '0', 'M', 'M', '0', '0', 'M', 'M', 'M', 'M', 'M', '0', '0', '0', '0', '0', '0', 'R', 'R', 'R', 'R', 'R', '0', '0', '0', '0', '0', 'Q', 'Q', 'Q', 'Q', 'Q', '0', '0', '0', '0', '0', '0', '0', '0', '0', '0', '0', '0', '0', '0', '0', '0', '0', '0', '0', '0', '0', 'M', 'M', 'M', 'M', '0', '0', '0', '0', '0', '0', '0', 'R', 'R', 'R', 'R', '0', '0', '0', '0', '0', '0', '0', '0', '0', '0', '0', '0', 'R', 'R', 'R', 'R', '0', '0', '0', '0', '0', '0', '0', '0', '0', '0', '0', 'R', 'R', 'R', 'R', '0']\n",
      "Actual labels:  ['0', 'M', '0', '0', '0', '0', '0', '0', '0', '0', '0', '0', '0', '0', '0', '0', '0', '0', '0', '0', '0', '0', '0', '0', '0', '0', '0', 'R', 'R', 'R', 'R', 'R', 'R', 'R', 'R', 'R', '0', '0', '0', '0', '0', '0', '0', '0', '0', 'M', '0', '0', '0', '0', '0', '0', '0', '0', '0', '0', '0', '0', '0', 'M', 'M', '0', 'Q', 'Q', 'Q-cont', 'Q-cont', 'Q-cont', 'Q-cont', 'Q-cont', 'Q-cont', 'Q-cont', 'Q-cont', '0', 'Q', 'Q-cont', 'Q-cont', 'Q-cont', 'Q-cont', '0', '0', 'M', 'M', '0', '0', 'M', 'M', 'M', 'M', 'M', '0', '0', '0', '0', '0', '0', 'R', 'R', 'R', 'R', 'R', '0', '0', '0', '0', '0', 'Q', 'Q', 'Q', 'Q', 'Q', '0', '0', '0', '0', '0', '0', '0', '0', '0', '0', '0', '0', '0', '0', '0', '0', '0', '0', '0', '0', '0', 'M', 'M', 'M', 'M', '0', '0', '0', '0', '0', '0', '0', 'A', 'A', 'A', 'A', '0', '0', '0', '0', '0', '0', '0', '0', '0', '0', '0', '0', 'R', 'R', 'R', 'R', '0', '0', '0', '0', '0', '0', '0', '0', '0', '0', '0', 'R', 'R', 'R', 'R', '0', '0']\n",
      "\n",
      "\n",
      "___________________136___________________\n",
      "\n",
      "Predict labels:  ['0', '0', 'M', '0', 'M', 'M-cont', 'M-cont', '0', 'M', 'M', '0', 'M', 'M', 'M', '0', '0', 'M', 'M', '0', '0', '0', '0', '0', '0', '0', '0', '0', '0', '0', '0', '0', '0', '0', '0', '0', '0', '0', '0', '0', '0', '0', '0', '0', '0', '0', '0', '0', '0', '0', '0', '0', '0', '0', '0', '0', '0', '0', '0', '0', '0', '0']\n",
      "Actual labels:  ['0', '0', '0', 'M', '0', 'M', 'M-cont', 'M-cont', '0', 'M', 'M', '0', 'M', 'M', 'M', '0', '0', 'M', 'M', '0', '0', '0', '0', '0', '0', '0', '0', '0', '0', '0', '0', '0', '0', '0', '0', '0', '0', '0', '0', '0', '0', '0', '0', '0', '0', '0', '0', '0', '0', '0', '0', '0', '0', '0', '0', '0', '0', '0', '0', '0', '0', '0', '0']\n",
      "\n",
      "\n",
      "___________________137___________________\n",
      "\n",
      "Predict labels:  ['0', '0', '0', 'C', 'C', '0', '0', 'C', 'C', 'C', 'C-cont', 'C-cont', '0', '0', 'M', 'M', 'M', 'M', '0', 'M', 'M', 'M', 'M', '0', 'M', 'M', 'M', 'M', '0', 'M', 'M', 'M', 'M', 'M', '0', 'M', 'M', 'M', 'M', 'M', '0', '0', 'M', 'M', 'M', 'M', '0', 'C', 'C', '0', '0', '0', '0', 'Q', 'Q', 'Q', '0', '0', '0', '0', '0', '0', '0', '0', 'Q', 'Q-cont', 'Q-cont', 'Q-cont', 'Q-cont', 'Q-cont', 'Q-cont', 'Q-cont', '0', '0', '0', '0', '0', '0', 'T', 'T-cont']\n",
      "Actual labels:  ['0', '0', '0', '0', 'C', 'C', '0', '0', 'C', 'C', 'C', 'C-cont', 'C-cont', '0', '0', 'M', 'M', 'M', 'M', '0', 'M', 'M', 'M', 'M', '0', 'M', 'M', 'M', 'M', '0', 'M', 'M', 'M', 'M', 'M', '0', 'M', 'M', 'M', 'M', 'M', '0', '0', 'M', 'M', 'M', 'M', '0', 'C', 'C', '0', '0', '0', '0', 'Q', 'Q', 'Q', '0', '0', '0', '0', '0', '0', '0', '0', 'Q', 'Q-cont', 'Q-cont', 'Q-cont', 'Q-cont', 'Q-cont', 'Q-cont', 'Q-cont', '0', '0', '0', '0', '0', '0', 'T', 'T-cont', '0']\n",
      "\n",
      "\n",
      "___________________138___________________\n",
      "\n",
      "Predict labels:  ['0', '0', '0', '0', '0', '0', '0', '0', '0', '0', '0', 'C', 'C', '0', '0', '0', '0', '0', '0', '0', '0', '0', '0', '0', '0', '0', '0', '0', 'M', 'M', 'M', 'M', '0', '0', '0', '0', '0', '0', '0', '0', '0', '0', '0', 'C', 'C', '0', '0', '0', '0', 'M', 'M', 'M', 'M', '0', 'M', 'M', '0', '0', '0', '0', 'C', 'C', '0', '0', 'M', 'M', 'M', 'M', '0', '0', '0', '0', '0', '0', 'C', 'C', '0', '0', '0', '0', '0', '0', '0', '0', '0', '0', '0', '0', '0', '0', '0', '0', 'Q', 'Q-cont', 'Q-cont', 'Q-cont', 'Q-cont', '0', '0', '0', '0', 'C', 'C', 'C', 'C-cont', 'C-cont', 'C-cont', 'C-cont', '0', '0', '0', '0', '0', '0', '0', '0', '0', '0', '0', '0', '0', '0', '0', '0', '0', '0', '0', '0', '0', 'Q', 'Q', 'Q-cont', 'Q-cont', 'Q-cont', 'Q-cont', 'Q-cont', '0', 'M', 'M', 'M', 'M', '0', '0', '0', '0', '0', '0', 'A', 'A', 'A', 'A', 'C-cont', '0', '0', '0', '0', '0', '0', '0', 'M', 'M', '0', '0', '0', 'C', 'C', '0', '0', '0', 'M', 'M', 'M']\n",
      "Actual labels:  ['0', '0', '0', '0', '0', '0', '0', '0', '0', '0', '0', '0', 'C', 'C', '0', '0', '0', '0', '0', '0', '0', '0', '0', '0', '0', '0', '0', '0', '0', 'M', 'M', 'M', 'M', '0', '0', '0', '0', '0', '0', '0', '0', '0', '0', '0', 'C', 'C', '0', '0', '0', '0', 'M', 'M', 'M', 'M', '0', 'M', 'M', '0', '0', '0', '0', 'C', 'C', '0', '0', 'M', 'M', 'M', 'M', '0', '0', '0', '0', '0', '0', 'C', 'C', '0', '0', '0', '0', '0', '0', '0', '0', '0', '0', '0', '0', '0', '0', '0', '0', 'Q', 'Q-cont', 'Q-cont', 'Q-cont', 'Q-cont', '0', '0', '0', '0', 'C', 'C', 'C', 'C-cont', 'C-cont', 'C-cont', 'C-cont', '0', '0', '0', '0', '0', '0', '0', '0', '0', '0', '0', '0', '0', '0', '0', '0', '0', '0', '0', '0', '0', 'Q', 'Q-cont', 'Q-cont', 'Q-cont', 'Q-cont', 'Q-cont', 'Q-cont', '0', 'M', 'M', 'M', 'M', '0', '0', '0', '0', '0', '0', 'M', 'M', 'M', 'M', '0', '0', 'C', 'C', 'C', 'C', '0', '0', 'M', 'M', '0', '0', '0', '0', '0', '0', '0', '0', 'M', 'M', 'M', '0']\n",
      "\n",
      "\n",
      "___________________139___________________\n",
      "\n",
      "Predict labels:  ['M', 'M', 'M', '0', '0', 'C', 'C', '0', '0', 'C', 'C', 'C', '0', '0', '0', '0', '0', '0', '0', '0', '0', '0', '0', '0', '0', 'M', 'M', 'M', 'M', '0', 'M', 'M', 'M', 'M', '0', '0', '0', '0', '0', '0', '0', '0', '0', '0', '0', '0', '0', '0', '0', '0', '0', 'M', 'M', 'M', 'M', '0', 'M', 'M', '0', '0', '0', 'M', 'M', 'M', 'M', 'M', 'M', 'M', '0', 'M', 'M', '0', '0', '0', '0', '0', '0', '0', '0', 'A', 'A', 'A', 'A', '0', '0', 'A', 'A', 'A', 'C', 'C', '0', 'C', 'C', 'C', '0', 'Q', 'Q', 'Q', '0', '0', '0', 'M', 'M', 'M', 'M', 'M', 'M', 'M', '0', 'M', 'M', 'M', 'M', '0', '0', 'Q', 'Q', 'Q']\n",
      "Actual labels:  ['0', 'M', 'M', 'M', '0', '0', 'C', 'C', '0', '0', 'C', 'C', 'C', '0', '0', '0', '0', '0', '0', '0', '0', '0', '0', '0', '0', '0', 'M', 'M', 'M', 'M', '0', 'M', 'M', 'M', 'M', '0', '0', '0', '0', '0', '0', '0', '0', '0', '0', '0', '0', '0', '0', '0', '0', '0', 'M', 'M', 'M', 'M', '0', 'M', 'M', '0', '0', '0', 'M', 'M', 'M', 'M', 'M', 'M', 'M', '0', 'M', 'M', '0', '0', '0', '0', '0', '0', '0', '0', 'A', 'A', 'A', 'A', '0', '0', 'A', 'A', 'A', 'C', 'C', '0', 'C', 'C', 'C', '0', 'Q', 'Q', 'Q', '0', '0', '0', 'M', 'M', 'M', 'M', 'M', 'M', 'M', '0', 'M', 'M', 'M', 'M', '0', '0', 'Q', 'Q', 'Q', '0']\n",
      "\n",
      "\n",
      "___________________140___________________\n",
      "\n",
      "Predict labels:  ['0', '0', '0', '0', '0', '0', '0', '0', '0', '0', 'M', 'M', 'M', 'M', '0', '0', '0', '0', '0', '0', '0', '0', '0', '0', '0', '0', '0', '0', '0', '0', '0', '0', '0', '0', '0', '0', '0', '0', '0', 'M', 'M', 'M', 'M', '0', 'M', 'M', 'M', 'M', '0', 'M', 'M', 'M', 'M', '0', 'M', 'M', '0', '0', '0', '0', '0', 'M', 'M', 'M', 'M', '0', '0', '0', '0', '0', '0', '0', '0', '0', '0', '0', '0', '0', '0', '0', '0', '0', '0', '0', '0', 'M', 'M', 'M', 'M', '0', '0', '0', '0', '0', 'M', 'M', 'M', 'M', '0', 'M', 'M', 'M', 'M', '0', 'M', 'M', 'M', 'M', '0', 'M', 'M', '0', '0', '0', '0', '0', '0', '0', '0', '0', '0', 'M', '0', '0', '0', '0', '0', '0', 'M', 'M', 'M', '0', '0', '0', 'M', 'M', 'M', 'M', 'M', '0', '0', '0', '0', '0', '0']\n",
      "Actual labels:  ['0', '0', '0', '0', '0', '0', '0', '0', '0', '0', '0', 'M', 'M', 'M', 'M', '0', '0', '0', '0', '0', '0', '0', '0', '0', '0', '0', '0', '0', '0', '0', '0', '0', '0', '0', '0', '0', '0', '0', '0', '0', 'M', 'M', 'M', 'M', '0', 'M', 'M', 'M', 'M', '0', 'M', 'M', 'M', 'M', '0', 'M', 'M', '0', '0', '0', '0', '0', 'M', 'M', 'M', 'M', '0', '0', '0', '0', '0', '0', '0', '0', '0', '0', '0', '0', '0', '0', '0', '0', '0', '0', '0', '0', 'M', 'M', 'M', 'M', '0', '0', '0', '0', '0', 'M', 'M', 'M', 'M', '0', 'M', 'M', 'M', 'M', '0', 'M', 'M', 'M', 'M', '0', 'M', 'M', '0', '0', '0', '0', '0', '0', '0', '0', '0', '0', 'M', '0', '0', '0', '0', '0', '0', 'M', 'M', 'M', '0', '0', '0', 'M', 'M', 'M', 'M', 'M', '0', '0', '0', '0', '0', '0', '0']\n",
      "\n",
      "\n",
      "___________________141___________________\n",
      "\n",
      "Predict labels:  ['0', '0', 'M', 'M', 'M', '0', '0', '0', '0', '0', 'C', 'C', 'C', 'C', 'C', '0', '0', '0', '0', 'C', 'C-cont', 'C-cont', '0', 'C', 'C', 'C', 'C', 'C', 'C-cont', 'C-cont', '0', '0', '0', '0', 'M', 'M', '0', '0', '0', '0', '0', '0', '0', '0', '0', '0', 'C', 'C', 'C', '0', '0', 'C', 'C', 'C', '0', '0', '0', '0', '0', '0', '0', '0', '0', '0', '0', '0', '0', '0', '0', '0', '0', '0', '0', '0', '0', '0', '0', '0', '0', '0', '0', '0', '0', 'M', 'M', 'M', 'M', '0', '0', '0', '0', 'M', 'M', 'M', 'M', '0', 'M', 'M', '0', '0', '0', '0', '0', '0', '0', '0', '0', '0', '0', '0', '0', '0', '0', '0', '0', '0', '0', '0', '0', '0', '0', '0', '0', '0', '0', '0', '0', '0', '0', '0', '0', '0', '0', '0', 'M', 'M', 'M', 'M', '0', 'M', 'M', '0', '0', '0', '0', '0', '0', '0', '0', '0', 'A', 'A', '0']\n",
      "Actual labels:  ['0', '0', '0', 'M', 'M', 'M', '0', '0', '0', '0', '0', 'C', 'C', 'C', 'C', 'C', '0', '0', '0', '0', 'C', 'C-cont', 'C-cont', '0', '0', 'C', 'C', 'C', 'C', 'C-cont', 'C-cont', '0', '0', '0', '0', 'M', 'M', '0', '0', '0', '0', '0', '0', '0', '0', '0', '0', 'C', 'C', 'C', '0', '0', 'C', 'C', 'C', '0', '0', '0', '0', '0', '0', '0', '0', '0', '0', '0', '0', '0', '0', '0', '0', '0', '0', '0', '0', '0', '0', '0', '0', '0', '0', '0', '0', '0', 'M', 'M', 'M', 'M', '0', '0', '0', '0', 'M', 'M', 'M', 'M', '0', 'M', 'M', '0', '0', '0', '0', '0', '0', '0', '0', '0', '0', '0', '0', '0', '0', '0', '0', '0', '0', '0', '0', '0', '0', '0', '0', '0', '0', '0', '0', '0', '0', '0', '0', '0', '0', '0', '0', 'M', 'M', 'M', 'M', '0', 'M', 'M', '0', '0', '0', '0', '0', '0', '0', '0', '0', 'A', 'A', '0', '0']\n",
      "\n",
      "\n",
      "___________________142___________________\n",
      "\n",
      "Predict labels:  ['M', 'M', 'M', 'M', '0', '0', '0', '0', '0', '0', '0', '0', '0', 'C', 'C', '0', '0', '0', '0', '0', '0', '0', '0', '0', '0', '0', '0', '0', '0', '0', '0', '0', '0', '0', '0', '0', 'C', 'C', '0', '0', 'C', 'C', 'C', 'C', 'C', 'C', 'C', '0', '0', '0', '0', '0', '0', '0', '0', 'Q', 'Q-cont', 'Q-cont', 'Q-cont', 'Q-cont', 'Q-cont', 'Q-cont', 'Q-cont', 'Q-cont', '0', '0', '0', '0', 'M', 'M', 'M', 'M', 'M', '0', '0', '0', '0', 'C', 'C', 'C', 'C', '0', '0', '0', 'C', 'C', 'C', 'C-cont', 'C-cont', '0', '0', '0', '0', '0', '0', '0', '0', '0', '0', '0', 'M', 'M', '0', '0', '0', '0', 'M', 'M', 'M', 'M', '0', 'M', 'M', 'M', 'M', '0', '0', 'M', 'M', 'M', 'M', 'M', '0', '0', '0', '0', '0', '0', '0', '0', '0', '0', 'M', 'M', 'M', 'M', '0', '0', '0', '0', '0', '0', '0', '0', '0']\n",
      "Actual labels:  ['M', 'M', 'M', 'M', 'M', '0', '0', '0', '0', '0', '0', '0', '0', '0', 'C', 'C', '0', '0', '0', '0', '0', '0', '0', '0', '0', '0', '0', '0', '0', '0', '0', '0', '0', '0', '0', '0', '0', 'C', 'C', '0', '0', 'C', 'C', 'C', 'C', 'C', 'C', 'C', '0', '0', '0', '0', '0', '0', '0', '0', 'Q', 'Q-cont', 'Q-cont', 'Q-cont', 'Q-cont', 'Q-cont', 'Q-cont', 'Q-cont', 'Q-cont', '0', '0', '0', '0', 'M', 'M', 'M', 'M', 'M', '0', '0', '0', '0', 'C', 'C', 'C', 'C', '0', '0', '0', 'C', 'C', 'C', 'C-cont', 'C-cont', '0', '0', '0', '0', '0', '0', '0', '0', '0', '0', '0', 'M', 'M', '0', '0', '0', '0', 'M', 'M', 'M', 'M', '0', 'M', 'M', 'M', 'M', '0', '0', 'M', 'M', 'M', 'M', 'M', '0', '0', '0', '0', '0', '0', '0', '0', '0', '0', 'M', 'M', 'M', 'M', '0', '0', '0', '0', '0', '0', '0', '0', '0', '0']\n",
      "\n",
      "\n",
      "___________________143___________________\n",
      "\n",
      "Predict labels:  ['M', '0', 'M', '0', '0', '0', '0', '0', '0', '0', '0', '0', '0', '0', '0', '0', '0', '0', '0', '0', 'M', 'M', 'M', 'M', '0', 'M', 'M', 'M', 'M', '0', '0', '0', '0', 'C', 'C', '0', '0', '0', '0', 'C', 'C', '0', '0', '0', '0', '0', '0', 'C', 'C', 'C', 'C', 'C', 'C', '0', '0', '0', '0', '0', 'C', 'C', 'C', 'C', 'C', 'C', 'C', 'C', 'C', '0', '0', '0', '0', '0', '0', '0', 'M', 'M', 'M', 'M', '0', 'M', 'M', 'M', 'M', 'C', 'C', '0', '0', '0', '0', '0', '0', '0', '0', '0', '0', 'A', 'A', 'A', 'C', 'C', '0', '0', 'M', 'M', 'M', 'M', '0', 'M', 'M', 'M', 'M', '0', '0', '0', '0', '0', '0', '0', '0']\n",
      "Actual labels:  ['0', 'M', '0', 'M', '0', '0', '0', '0', '0', '0', '0', '0', '0', '0', '0', '0', '0', '0', '0', '0', '0', 'M', 'M', 'M', 'M', '0', 'M', 'M', 'M', 'M', '0', '0', '0', '0', 'C', 'C', '0', '0', '0', '0', 'C', 'C', '0', '0', '0', '0', '0', '0', 'C', 'C', 'C', 'C', 'C', 'C', '0', '0', '0', '0', '0', 'C', 'C', 'C', 'C', 'C', 'C', 'C', 'C', 'C', '0', '0', '0', '0', '0', '0', '0', 'M', 'M', 'M', 'M', '0', 'M', 'M', 'M', 'M', 'C', 'C', '0', '0', '0', '0', '0', '0', '0', '0', '0', '0', 'A', 'A', 'A', 'C', 'C', '0', '0', 'M', 'M', 'M', 'M', '0', 'M', 'M', 'M', 'M', '0', '0', '0', '0', '0', '0', '0', '0', '0']\n",
      "\n",
      "\n",
      "___________________144___________________\n",
      "\n",
      "Predict labels:  ['0', '0', '0', 'C', 'C', '0', '0', '0', '0', '0', '0', 'M', 'M', 'M', 'M', '0', '0', '0', '0', '0', '0', '0', '0', '0', '0', 'C', 'C', '0', '0', '0', '0', '0', 'M', 'M', 'M', 'M', '0', '0', '0', '0', '0', '0', '0', '0', '0', 'M', 'M', 'M', 'M', '0', 'M', 'M', 'M', 'M', '0', '0', '0', '0', '0', '0', '0', 'C', 'C', '0', '0', '0', '0', '0', '0', '0', '0', '0', 'M', 'M', 'M', 'M', '0', 'M', 'M', 'M', 'M', '0', '0', '0', 'C', 'C-cont', 'C-cont', '0', '0', '0', '0', '0', '0', '0', '0', 'Q', 'Q', 'Q', 'Q', 'Q', 'Q', 'Q', 'Q-cont', 'Q-cont', '0', 'M', 'M', 'M', 'M', 'M', 'M', 'M', '0', 'M', 'M', 'M', 'M', '0', 'Q', 'Q', 'Q', 'Q', 'Q', 'Q', 'Q', '0', '0', 'A', 'A', 'A', 'C', 'C', '0', '0', '0', 'C', 'C', 'C', '0', '0', 'Q', 'Q', 'Q', 'Q-cont', 'Q-cont', '0', '0']\n",
      "Actual labels:  ['0', '0', '0', '0', 'C', 'C', '0', '0', '0', '0', '0', '0', 'M', 'M', 'M', 'M', '0', '0', '0', '0', '0', '0', '0', '0', '0', '0', 'C', 'C', '0', '0', '0', '0', '0', 'M', 'M', 'M', 'M', '0', '0', '0', '0', '0', '0', '0', '0', '0', 'M', 'M', 'M', 'M', '0', 'M', 'M', 'M', 'M', '0', '0', '0', '0', '0', '0', '0', 'C', 'C', '0', '0', '0', '0', '0', '0', '0', '0', '0', 'M', 'M', 'M', 'M', '0', 'M', 'M', 'M', 'M', '0', '0', '0', 'C', 'C-cont', 'C-cont', '0', '0', '0', '0', '0', '0', '0', '0', 'Q', 'Q', 'Q', 'Q', 'Q', 'Q', 'Q', 'Q-cont', 'Q-cont', '0', 'M', 'M', 'M', 'M', 'M', 'M', 'M', '0', 'M', 'M', 'M', 'M', '0', 'Q', 'Q', 'Q', 'Q', 'Q', 'Q', 'Q', '0', '0', 'A', 'A', 'A', 'C', 'C', '0', '0', '0', 'C', 'C', 'C', '0', '0', 'Q', 'Q', 'Q', 'Q-cont', 'Q-cont', '0', '0', '0']\n",
      "\n",
      "\n",
      "___________________145___________________\n",
      "\n",
      "Predict labels:  ['M', '0', '0', 'C', 'C', 'C', '0', '0', '0', '0', 'M', 'M', 'M', 'M', '0', 'M', 'M', 'M', 'M', '0', '0', 'M', 'M', 'M', 'M', '0', '0', '0', '0', '0', '0', '0', '0', '0', 'M', 'M', 'M', 'M', '0', '0', '0', '0', '0', '0', 'M', 'M', 'M', 'M', '0', 'M', 'M', 'M', 'M', '0', '0', '0', '0', '0', '0', '0', '0', '0', '0', '0', '0', '0', '0', '0', '0', '0', 'M', '0', '0', '0', '0', '0', '0', '0', '0', '0', '0', '0', '0', '0']\n",
      "Actual labels:  ['0', 'M', '0', '0', 'C', 'C', 'C', '0', '0', '0', '0', 'M', 'M', 'M', 'M', '0', 'M', 'M', 'M', 'M', '0', '0', 'M', 'M', 'M', 'M', '0', '0', '0', '0', '0', '0', '0', '0', '0', 'M', 'M', 'M', 'M', '0', '0', '0', '0', '0', '0', 'M', 'M', 'M', 'M', '0', 'M', 'M', 'M', 'M', '0', '0', '0', '0', '0', '0', '0', '0', '0', '0', '0', '0', '0', '0', '0', '0', '0', 'M', '0', '0', '0', '0', '0', '0', '0', '0', '0', '0', '0', '0', '0', '0']\n",
      "\n",
      "\n",
      "___________________146___________________\n",
      "\n",
      "Predict labels:  ['0', '0', 'M', 'M', 'M', 'M', '0', 'M', 'M', '0', '0', '0', '0', '0', '0', '0', '0', '0', '0', '0', '0', '0', '0', '0', '0', '0', '0', '0', '0', '0', '0', '0', '0', '0', '0']\n",
      "Actual labels:  ['0', '0', '0', 'M', 'M', 'M', 'M', '0', 'M', 'M', '0', '0', '0', '0', '0', '0', '0', '0', '0', '0', '0', '0', '0', '0', '0', '0', '0', '0', '0', '0', '0', '0', '0', '0', '0', '0', '0']\n",
      "\n",
      "\n",
      "___________________147___________________\n",
      "\n",
      "Predict labels:  ['0', '0', '0', '0', '0', '0', '0', '0', '0', '0', '0', '0', '0', 'C', 'C', 'C', '0', '0', '0', '0', '0', '0', '0', '0', '0', '0', '0', '0', '0', 'C', 'C', '0', '0', '0', '0', '0', '0', '0', '0', '0', '0', '0', '0', '0', '0', '0', '0', '0', '0', '0', '0']\n",
      "Actual labels:  ['0', '0', '0', '0', '0', '0', '0', '0', '0', '0', '0', '0', '0', '0', 'C', 'C', 'C', '0', '0', '0', '0', '0', '0', '0', '0', '0', '0', '0', '0', '0', 'C', 'C', '0', '0', '0', '0', '0', '0', '0', '0', '0', '0', '0', '0', '0', '0', '0', '0', '0', '0', '0', '0', '0']\n",
      "\n",
      "\n",
      "___________________148___________________\n",
      "\n",
      "Predict labels:  ['A', 'A', 'A', 'A', '0', '0', 'Q', 'Q', 'Q', 'Q-cont', 'Q-cont', 'Q-cont', 'Q-cont', 'Q-cont', 'Q-cont', '0', 'M', 'M', 'M', 'M', 'M', 'M', 'M', 'M', '0', 'M', 'M', 'M', 'M', '0', 'Q', 'Q', 'Q', '0', '0', '0', 'C', 'C', '0', '0', '0', '0', '0', 'Q', 'Q', 'Q', 'Q-cont', 'Q-cont', '0', '0', 'M', 'M', 'M', 'M', '0', 'M', 'M', 'M', 'M', '0', '0', '0', '0', '0', 'M', 'M', 'M', 'M', 'M', 'M', 'M', 'M', '0', 'M', 'M', 'M', 'M', '0', '0', 'Q', 'Q', 'Q', 'Q', '0', '0', '0', '0', '0', 'M', 'M', 'M', 'M', 'M', 'M', 'M', 'M', '0', 'M', 'M', 'M', 'M', '0', '0', '0', '0', '0', '0', '0', 'Q', 'Q', 'Q', '0', '0', '0', '0', 'C', 'C', '0', '0', '0', '0', '0', '0', '0', '0', '0']\n",
      "Actual labels:  ['0', 'A', 'A', 'A', 'A', '0', '0', 'Q', 'Q', 'Q', 'Q-cont', 'Q-cont', 'Q-cont', 'Q-cont', 'Q-cont', 'Q-cont', '0', 'M', 'M', 'M', 'M', 'M', 'M', 'M', 'M', '0', 'M', 'M', 'M', 'M', '0', 'Q', 'Q', 'Q', '0', '0', '0', 'C', 'C', '0', '0', '0', '0', '0', 'Q', 'Q', 'Q', 'Q-cont', 'Q-cont', '0', '0', 'M', 'M', 'M', 'M', '0', 'M', 'M', 'M', 'M', '0', '0', '0', '0', '0', 'M', 'M', 'M', 'M', 'M', 'M', 'M', 'M', '0', 'M', 'M', 'M', 'M', '0', '0', 'Q', 'Q', 'Q', 'Q', '0', '0', '0', '0', '0', 'M', 'M', 'M', 'M', 'M', 'M', 'M', 'M', '0', 'M', 'M', 'M', 'M', '0', '0', '0', '0', '0', '0', '0', 'Q', 'Q', 'Q', '0', '0', '0', '0', 'C', 'C', '0', '0', '0', '0', '0', '0', '0', '0', '0', '0']\n",
      "\n",
      "\n",
      "___________________149___________________\n",
      "\n",
      "Predict labels:  ['0', 'A', 'A', 'A', 'A', '0', '0', '0', 'Q', 'Q', 'Q', 'Q-cont', 'Q-cont', 'Q-cont', 'Q-cont', 'Q-cont', 'Q-cont', '0', '0', '0', '0', '0', '0', '0', '0', '0', '0', '0', '0', 'M', 'M', 'M', 'M', '0', 'M', 'M', 'M', 'M', 'M', 'M', 'M', '0', 'M', 'M', 'M', 'M', '0', 'M', 'M', 'M', 'M', '0', 'M', 'M', 'M', 'M', '0', 'M', 'M', 'M', 'M', 'M', 'M', 'M', '0', '0', 'M', 'M', 'M', 'M', '0', 'M', 'M', 'M', 'M', 'M', 'M', 'M', '0', '0', '0', '0', '0', 'Q', 'Q', 'Q', 'Q-cont', 'Q-cont', '0', '0', 'A', 'A', 'A', 'C', 'C', '0', 'C', 'C', 'C', '0', 'Q', 'Q', 'Q', 'Q-cont', 'Q-cont', '0', '0', '0', '0', '0', '0', '0', '0', '0', '0', 'M', 'M', 'M', 'M', 'M', '0', 'M', 'M', 'M', 'M', 'M', 'M', 'M', '0', '0', 'M', 'M', 'M', 'M', 'M', '0', '0', '0', '0', '0', '0', '0', '0', '0', '0', '0', '0', '0', '0', '0', '0', '0', '0', '0', '0', 'M', 'M', 'M', 'M', 'M', '0', 'M', 'M', 'M', 'M', 'M', 'M', '0', '0', 'M', 'M', '0', '0', '0', '0', '0']\n",
      "Actual labels:  ['0', '0', 'A', 'A', 'A', 'A', '0', '0', '0', 'Q', 'Q', 'Q', 'Q-cont', 'Q-cont', 'Q-cont', 'Q-cont', 'Q-cont', 'Q-cont', '0', '0', '0', '0', '0', '0', '0', '0', '0', '0', '0', '0', 'M', 'M', 'M', 'M', '0', 'M', 'M', 'M', 'M', 'M', 'M', 'M', '0', 'M', 'M', 'M', 'M', '0', 'M', 'M', 'M', 'M', '0', 'M', 'M', 'M', 'M', '0', 'M', 'M', 'M', 'M', 'M', 'M', 'M', '0', '0', 'M', 'M', 'M', 'M', '0', 'M', 'M', 'M', 'M', 'M', 'M', 'M', '0', '0', '0', '0', '0', 'Q', 'Q', 'Q', 'Q-cont', 'Q-cont', '0', '0', 'A', 'A', 'A', 'C', 'C', '0', 'C', 'C', 'C', '0', 'Q', 'Q', 'Q', 'Q-cont', 'Q-cont', '0', '0', '0', '0', '0', '0', '0', '0', '0', '0', 'M', 'M', 'M', 'M', 'M', '0', 'M', 'M', 'M', 'M', 'M', 'M', 'M', '0', '0', 'M', 'M', 'M', 'M', 'M', '0', '0', '0', '0', '0', '0', '0', '0', '0', '0', '0', '0', '0', '0', '0', '0', '0', '0', '0', '0', 'M', 'M', 'M', 'M', 'M', '0', 'M', 'M', 'M', 'M', 'M', 'M', '0', '0', 'M', 'M', '0', '0', '0', '0', '0', '0']\n",
      "\n",
      "\n",
      "___________________150___________________\n",
      "\n",
      "Predict labels:  ['0', '0', '0', '0', '0', '0', '0', '0', '0', 'M', 'M', 'M', 'M', '0', 'M', 'M', 'M', 'M', '0', 'M', 'M', 'M', 'M', 'M', 'M', 'M', '0', 'M', 'M', 'M', 'M', '0', 'M', 'M', 'M', 'M', '0', 'M', 'M', 'M', 'M', 'M', '0', 'M', 'M', 'M', 'M', '0', 'M', 'M', 'M', 'M', '0', '0', 'M', 'M', '0', 'C', 'C', '0', '0', 'A', 'A', 'A', 'C', 'C', '0', '0', '0', '0', '0', '0', '0', '0', '0', '0', '0', '0', '0', '0', '0', '0', '0', '0', '0', '0', '0', '0', '0', '0', '0', '0', '0', '0', '0', '0', '0', '0', '0', '0', '0', '0', '0', '0', 'M', 'M', 'M', '0', 'M', 'M', 'M', '0', '0', '0', '0', '0', '0', '0', '0', '0', 'M', 'M', 'M', '0', '0', '0']\n",
      "Actual labels:  ['0', '0', '0', '0', '0', '0', '0', '0', '0', '0', 'M', 'M', 'M', 'M', '0', 'M', 'M', 'M', 'M', '0', 'M', 'M', 'M', 'M', 'M', 'M', 'M', '0', 'M', 'M', 'M', 'M', '0', 'M', 'M', 'M', 'M', '0', 'M', 'M', 'M', 'M', 'M', '0', 'M', 'M', 'M', 'M', '0', 'M', 'M', 'M', 'M', '0', '0', 'M', 'M', '0', 'C', 'C', '0', '0', 'A', 'A', 'A', 'C', 'C', '0', '0', '0', '0', '0', '0', '0', '0', '0', '0', '0', '0', '0', '0', '0', '0', '0', '0', '0', '0', '0', '0', '0', '0', '0', '0', '0', '0', '0', '0', '0', '0', '0', '0', '0', '0', '0', '0', 'M', 'M', 'M', '0', 'M', 'M', 'M', '0', '0', '0', '0', '0', '0', '0', '0', '0', 'M', 'M', 'M', '0', '0', '0', '0']\n",
      "\n",
      "\n",
      "___________________151___________________\n",
      "\n",
      "Predict labels:  ['0', '0', '0', '0', '0', 'C', 'C', '0', 'T', 'T', 'T-cont', 'T', 'T-cont', 'T-cont', '0', '0', 'M', 'M', '0', 'T', 'T', 'T-cont', 'T', 'T-cont', 'T-cont', '0', '0', '0', '0', '0', '0', '0', '0', '0', '0', '0', '0', '0', '0', '0', '0', '0', '0', '0', '0', '0', '0', '0', '0', '0', '0', '0', 'C', 'C', 'C', 'C', '0', 'C', 'C', 'C', 'C', '0', '0', '0', '0', '0', '0', '0', '0', '0', '0', '0', '0', '0', '0', '0', '0', '0', '0', '0', '0', '0', '0', '0', '0', '0', '0', '0', '0', '0', '0', '0', '0', '0', '0', '0', '0']\n",
      "Actual labels:  ['0', '0', '0', '0', '0', '0', 'C', 'C', '0', 'T', 'T', 'T', 'T', 'T-cont', 'T-cont', '0', '0', 'M', 'M', '0', 'T', 'T', 'T', 'T', 'T-cont', 'T-cont', '0', '0', '0', '0', '0', '0', '0', '0', '0', '0', 'R', 'R', '0', '0', '0', '0', '0', '0', '0', '0', '0', '0', '0', '0', '0', '0', '0', 'C', 'C', 'C', 'C', '0', 'M', 'M', 'M', 'M', '0', '0', '0', '0', '0', '0', '0', '0', '0', '0', '0', '0', '0', '0', '0', '0', '0', '0', '0', '0', '0', '0', '0', '0', '0', '0', '0', '0', '0', '0', '0', '0', '0', '0', '0', '0', '0']\n",
      "\n",
      "\n",
      "___________________152___________________\n",
      "\n",
      "Predict labels:  ['R', 'R', '0', '0', '0', '0', '0', '0', '0', '0', '0', '0', '0', '0', '0', '0', '0', '0', '0', '0', '0', '0', '0', '0', 'R', 'R', 'R', '0', '0', '0', '0', '0', '0', '0', '0', '0', '0', '0', '0', '0', '0', '0', '0', '0', '0', '0', '0', '0', '0', '0', '0', '0', '0', '0', '0', '0', '0', '0', '0', '0', '0', '0', '0', '0', '0', '0', '0', '0', '0', '0', '0', '0', '0', '0', '0', '0', '0', '0', '0', '0', '0', '0', '0', '0', '0', '0', '0', '0', '0', '0', '0', '0', '0', '0', '0', '0', '0', '0', '0', '0', '0', '0', '0', '0', '0', '0', '0', '0', '0', '0', '0', '0', '0', '0', '0', '0', 'R', 'R', '0', '0', '0', '0', 'C', 'C', '0', 'C', 'C', '0', 'C', 'C', '0', 'C', 'C', '0', '0', '0', '0', '0', '0']\n",
      "Actual labels:  ['R', 'R', 'R', '0', '0', '0', '0', '0', '0', '0', '0', '0', '0', '0', '0', '0', '0', '0', '0', '0', '0', '0', '0', '0', '0', 'R', 'R', 'R', '0', '0', '0', '0', '0', '0', '0', '0', '0', '0', '0', '0', '0', '0', '0', '0', '0', '0', '0', '0', '0', '0', '0', '0', '0', '0', '0', '0', '0', '0', '0', '0', '0', '0', '0', '0', '0', '0', '0', '0', '0', '0', '0', '0', '0', '0', '0', '0', '0', '0', '0', '0', '0', '0', '0', '0', '0', '0', '0', '0', '0', '0', '0', '0', '0', '0', '0', '0', '0', '0', '0', '0', '0', '0', '0', '0', '0', '0', '0', '0', '0', '0', '0', '0', '0', '0', '0', '0', '0', 'R', 'R', '0', '0', '0', '0', 'C', 'C', '0', 'C', 'C', '0', 'C', 'C', '0', 'C', 'C', '0', 'M', 'M-cont', 'M-cont', '0', '0', '0']\n",
      "\n",
      "\n",
      "___________________153___________________\n",
      "\n",
      "Predict labels:  ['0', '0', '0', '0', '0', '0', '0', '0', '0', '0', '0', '0', '0', '0', '0', '0', '0', '0', '0', '0', '0', '0', '0', '0', '0', '0', '0', '0', '0', '0', '0', '0', '0', '0', '0', '0', '0', '0', '0', '0', '0', '0', '0', '0', '0', '0', '0', '0', '0', '0', '0', '0', '0', '0', '0', '0', '0', '0', '0', 'C', 'C', 'C', 'C', '0', 'T', 'T', 'T-cont', 'T', 'T-cont', 'T-cont', 'T-cont', 'T-cont', '0', '0', '0', '0', '0', '0', '0', '0', '0', '0', '0', '0', '0', '0', '0', '0', '0', '0', '0', '0', '0', '0', '0', '0', '0', '0', '0', '0', '0', '0', '0', '0', '0', '0', '0', 'Q', 'Q-cont', '0', '0', '0', '0', '0', '0', '0', '0', '0', '0', '0', '0', '0', '0', '0', '0', '0', '0', '0']\n",
      "Actual labels:  ['0', '0', '0', '0', '0', '0', '0', '0', '0', '0', '0', '0', '0', '0', '0', '0', '0', '0', '0', '0', '0', '0', '0', '0', '0', '0', '0', '0', '0', '0', '0', '0', '0', '0', '0', '0', '0', '0', '0', '0', '0', '0', '0', '0', '0', '0', '0', '0', '0', '0', '0', '0', '0', '0', '0', '0', '0', '0', '0', '0', 'C', 'C', 'C', 'C', '0', 'T', 'T', 'T', 'T', 'T-cont', 'T-cont', 'T-cont', 'T-cont', '0', '0', '0', '0', '0', '0', '0', '0', '0', '0', '0', '0', '0', '0', '0', '0', '0', '0', '0', '0', '0', '0', '0', '0', '0', '0', '0', '0', '0', '0', '0', '0', '0', '0', '0', 'Q', 'Q-cont', '0', '0', '0', '0', '0', '0', '0', '0', '0', '0', '0', '0', '0', '0', '0', '0', '0', '0', '0', '0']\n",
      "\n",
      "\n",
      "___________________154___________________\n",
      "\n",
      "Predict labels:  ['0', '0', '0', '0', '0', 'M', 'M', '0', '0', '0', 'M', 'M', 'M', '0', 'M', 'M', '0', '0', '0', '0', 'C', 'C', 'C', 'C', '0', '0', '0', '0', '0', 'M', '0', 'M', '0', 'M', '0', 'M', 'M', '0', 'M', '0', 'M', 'M', '0', '0', '0', '0', '0', '0', '0', '0', '0', 'C', 'C', 'C', 'C-cont', 'C-cont', 'C-cont', 'C-cont', '0', '0', '0', '0', '0', '0', '0', '0', '0', '0', '0', '0', '0', '0', 'M', 'M', 'M', '0', 'M', 'M', '0', '0', '0', '0', '0', '0', '0', '0', '0', '0', '0', '0', '0', '0', 'M', 'M', '0', '0', '0', 'M', 'M', 'M', '0', 'C', 'C', 'C', 'C-cont', 'C-cont', 'C-cont', 'C-cont', 'C-cont', 'C-cont', 'C-cont', 'C-cont', '0', '0', '0', '0', '0', '0', '0', 'M', 'M', '0', '0', '0', '0', '0', '0', '0', '0', 'C', 'C', 'C', 'C-cont', 'C-cont', 'C-cont', 'C-cont', '0', '0']\n",
      "Actual labels:  ['0', '0', '0', '0', '0', '0', 'M', 'M', '0', '0', '0', 'M', 'M', 'M', '0', 'M', 'M', '0', '0', '0', '0', 'C', 'C', 'C', 'C', '0', '0', '0', '0', '0', 'M', '0', 'M', '0', 'M', '0', 'M', 'M', '0', 'M', '0', 'M', 'M', '0', '0', '0', '0', '0', '0', '0', '0', '0', 'C', 'C', 'C', 'C-cont', 'C-cont', 'C-cont', 'C-cont', '0', '0', '0', '0', '0', '0', '0', '0', '0', '0', '0', '0', '0', '0', 'M', 'M', 'M', '0', 'M', 'M', '0', '0', '0', '0', '0', '0', '0', '0', '0', '0', '0', '0', '0', '0', 'M', 'M', '0', '0', '0', 'M', 'M', 'M', '0', 'C', 'C', 'C', 'C-cont', 'C-cont', 'C-cont', 'C-cont', 'C-cont', 'C-cont', 'C-cont', 'C-cont', '0', '0', '0', '0', '0', '0', '0', 'M', 'M', '0', '0', '0', '0', '0', '0', '0', '0', 'C', 'C', 'C', 'C-cont', 'C-cont', 'C-cont', 'C-cont', '0', '0', '0']\n",
      "\n",
      "\n",
      "___________________155___________________\n",
      "\n",
      "Predict labels:  ['0', 'M', 'M', '0', '0', '0', '0', '0', '0', '0', '0', '0', '0', '0', '0', '0', '0', '0', '0', '0', '0', '0', '0', 'M', 'M', 'M', '0', 'M', 'M', '0', '0', '0', '0', '0', '0', '0', '0', '0', 'M', 'M', '0', '0', '0', 'Q', 'Q-cont', 'A', 'A', 'A-cont', '0', '0', '0', '0', 'M', 'M', 'M', '0', '0', '0', '0', '0', '0', '0', '0', '0', '0', '0', '0', '0', '0', '0', '0', '0', '0', '0', '0', '0', '0', '0', '0', '0', '0', 'M', 'M']\n",
      "Actual labels:  ['0', '0', 'M', 'M', '0', '0', '0', '0', '0', '0', '0', '0', '0', '0', '0', '0', '0', '0', '0', '0', '0', '0', '0', '0', 'M', 'M', 'M', '0', 'M', 'M', '0', '0', '0', '0', '0', '0', '0', '0', '0', 'M', 'M', '0', '0', '0', 'Q', 'Q-cont', 'A', 'A', 'A-cont', '0', '0', '0', '0', 'M', 'M', 'M', '0', '0', '0', '0', '0', '0', '0', '0', '0', '0', '0', '0', '0', '0', '0', '0', '0', '0', '0', '0', '0', '0', '0', '0', '0', '0', 'M', 'M', '0']\n",
      "\n",
      "\n",
      "___________________156___________________\n",
      "\n",
      "Predict labels:  ['C', 'C', '0', '0', 'M', 'M', 'M', 'M', '0', '0', '0', '0', 'C', 'C', '0', '0', '0', '0', '0', 'C', 'C', 'C', 'C', 'C', 'C', 'C', 'C', 'C', 'C', 'C', 'C', '0', '0', 'C', 'C', 'C', 'C', 'C', 'C', 'C', 'C', 'C', 'C', 'C', 'C', '0', '0', '0', '0', '0', '0', '0', '0', '0', '0', '0', '0', '0', '0', '0', 'C', 'C', 'C', 'C', '0', 'M', 'M', 'M', 'M', 'M', '0', 'M', 'M', 'M', 'M', 'M', 'C', 'C', 'C', 'C-cont', 'C-cont', '0', '0', '0', '0', '0', 'M', 'M', '0', '0', '0', '0', 'C', 'C', '0', '0', 'C', 'C', 'C', 'C', '0', 'C', 'C', 'C', '0', '0', '0', '0', '0', '0', '0', '0', '0', '0', '0', '0', '0', '0', '0', '0', '0', '0', 'C', 'C', '0', '0', 'C', 'C', 'C', 'C', 'C', 'C', 'C', 'C', '0', '0', '0', 'C', 'C', 'C', 'C', 'C', 'C', '0', '0']\n",
      "Actual labels:  ['0', 'C', 'C', '0', '0', 'M', 'M', 'M', 'M', '0', '0', '0', '0', 'C', 'C', '0', '0', '0', '0', '0', 'C', 'C', 'C', 'C', 'C', 'C', 'C', 'C', 'C', 'C', 'C', 'C', '0', '0', 'C', 'C', 'C', 'C', 'C', 'C', 'C', 'C', 'C', 'C', 'C', 'C', '0', '0', '0', '0', '0', '0', '0', '0', '0', '0', '0', '0', '0', '0', '0', 'C', 'C', 'C', 'C', '0', 'M', 'M', 'M', 'M', 'M', '0', 'M', 'M', 'M', 'M', 'M', 'C', 'C', 'C', 'C-cont', 'C-cont', '0', '0', '0', '0', '0', 'M', 'M', '0', '0', '0', '0', 'C', 'C', '0', '0', 'C', 'C', 'C', 'C', '0', 'C', 'C', 'C', '0', '0', '0', '0', '0', '0', '0', '0', '0', '0', '0', '0', '0', '0', '0', '0', '0', '0', 'C', 'C', '0', '0', 'C', 'C', 'C', 'C', 'C', 'C', 'C', 'C', '0', '0', '0', 'C', 'C', 'C', 'C', 'C', 'C', '0', '0', '0']\n",
      "\n",
      "\n",
      "___________________157___________________\n",
      "\n",
      "Predict labels:  ['M', 'M', 'M', 'M', '0', 'M', 'M', 'M', 'M', 'M', '0', 'M', 'M', 'M', 'M', 'M', '0', '0', '0', '0', '0', 'C', 'C', 'C', '0', '0', 'A', 'A', 'A', 'C', 'C', '0', 'Q', 'Q', 'Q', '0', '0', '0', '0', '0', 'M', 'M', 'M', 'M', '0', 'M', 'M', 'M', 'M', '0', '0', '0', 'Q', '0', '0', '0', '0', 'M', 'M', 'M', 'M', 'M', '0', 'M', 'M', 'M', 'M', 'M', '0', 'M', 'M', 'M', 'M', 'M', '0', '0', '0', '0', 'C', 'C', '0', '0', '0', '0', '0', '0', '0', '0', '0', 'M', 'M', 'M', 'M', '0', '0', '0', '0', '0', '0', 'M', 'M', 'M', 'M']\n",
      "Actual labels:  ['0', 'M', 'M', 'M', 'M', '0', 'M', 'M', 'M', 'M', 'M', '0', 'M', 'M', 'M', 'M', 'M', '0', '0', '0', '0', '0', 'C', 'C', 'C', '0', '0', 'A', 'A', 'A', 'C', 'C', '0', 'Q', 'Q', 'Q', '0', '0', '0', '0', '0', 'M', 'M', 'M', 'M', '0', 'M', 'M', 'M', 'M', '0', '0', '0', 'Q', '0', '0', '0', '0', 'M', 'M', 'M', 'M', 'M', '0', 'M', 'M', 'M', 'M', 'M', '0', 'M', 'M', 'M', 'M', 'M', '0', '0', '0', '0', 'C', 'C', '0', '0', '0', '0', '0', '0', '0', '0', '0', 'M', 'M', 'M', 'M', '0', '0', '0', '0', '0', '0', 'M', 'M', 'M', 'M', '0']\n",
      "\n",
      "\n",
      "___________________158___________________\n",
      "\n",
      "Predict labels:  ['0', '0', '0', '0', '0', '0', '0', '0', '0', '0', '0', '0', '0', '0', '0', '0', '0', '0', '0', '0', '0', '0', '0', '0', '0', '0', '0', '0', '0', '0', '0', 'C', 'C', '0', '0', '0', '0', '0', '0', '0', '0', '0', '0', '0', '0', '0', '0', '0', '0', '0', '0', '0', '0', '0', '0', '0', '0', '0', '0', '0', '0', '0', '0', '0', '0', '0', '0', '0', 'C', 'C', '0', '0', '0', '0', '0', '0', '0', '0', '0', '0', '0', '0', '0', '0', '0', 'M', 'M', 'M', 'M', '0', 'M', 'M', 'M', 'M', '0', '0', '0', '0', '0', '0', '0', '0', '0', '0', '0', '0', '0', '0', '0']\n",
      "Actual labels:  ['0', '0', '0', '0', '0', '0', '0', '0', '0', '0', '0', '0', '0', '0', '0', '0', '0', '0', '0', '0', '0', '0', '0', '0', '0', '0', '0', '0', '0', '0', '0', '0', 'C', 'C', '0', '0', '0', '0', '0', '0', '0', '0', '0', '0', '0', '0', '0', '0', '0', '0', '0', '0', '0', '0', '0', '0', '0', '0', '0', '0', '0', '0', '0', '0', '0', '0', '0', '0', '0', 'C', 'C', '0', '0', '0', '0', '0', '0', '0', '0', '0', '0', '0', '0', '0', '0', '0', 'M', 'M', 'M', 'M', '0', 'M', 'M', 'M', 'M', '0', '0', '0', '0', '0', '0', '0', '0', '0', '0', '0', '0', '0', '0', '0', '0']\n",
      "\n",
      "\n",
      "___________________159___________________\n",
      "\n",
      "Predict labels:  ['0', '0', '0', '0', '0', '0', 'M', '0', 'M', '0', '0', 'C', 'C', '0', '0', '0', '0', '0', '0', '0', '0', '0', '0', '0', '0', '0', '0', '0', '0', '0', 'C', 'C', 'C', 'C-cont', 'C-cont', 'C-cont', '0', 'C', 'C', 'C', '0', '0', '0', '0', 'A', 'A', 'A', 'A', 'A', 'A', 'A', 'A', '0', 'A', 'A', '0', '0', 'A', 'A', 'A', 'A', 'A', 'A', 'A', 'A', 'A', '0', 'A', 'A', 'A', '0', 'C', 'C', '0', '0', '0', '0', '0', '0']\n",
      "Actual labels:  ['0', '0', '0', '0', '0', '0', '0', 'M', '0', 'M', '0', '0', 'C', 'C', '0', '0', '0', '0', '0', '0', '0', '0', '0', '0', '0', '0', '0', '0', '0', '0', '0', 'C', 'C', 'C', 'C-cont', 'C-cont', 'C-cont', '0', 'C', 'C', 'C', '0', '0', '0', '0', 'A', 'A', 'A', 'A', 'A', 'A', 'A', 'A', '0', 'A', 'A', '0', '0', 'A', 'A', 'A', 'A', 'A', 'A', 'A', 'A', 'A', '0', 'A', 'A', 'A', '0', 'C', 'C', '0', '0', '0', '0', '0', '0', '0']\n",
      "\n",
      "\n",
      "___________________160___________________\n",
      "\n",
      "Predict labels:  ['0', '0', '0', '0', '0', '0', '0', '0', '0', '0', '0', '0', '0', 'M', '0', 'M', '0', '0', '0', '0', '0', '0', '0', '0', '0', '0', '0', '0', '0', '0', '0', '0', '0', '0', '0', '0', '0', '0', '0', '0', '0', '0', '0', '0', '0', '0', '0', '0', '0', '0', '0', '0', '0', '0', '0', '0', '0', '0', '0', '0', '0', '0', 'C', 'C', '0', '0', '0', '0', '0', '0', '0', '0', '0', '0', '0', '0', '0', '0', '0', '0', '0', '0', '0', '0', '0']\n",
      "Actual labels:  ['0', '0', '0', '0', '0', '0', '0', '0', '0', '0', '0', '0', '0', '0', 'M', '0', 'M', '0', '0', '0', '0', '0', '0', '0', '0', '0', '0', '0', '0', '0', '0', '0', '0', '0', '0', '0', '0', '0', '0', '0', '0', '0', '0', '0', '0', '0', '0', '0', '0', '0', '0', '0', '0', '0', '0', '0', '0', '0', '0', '0', '0', '0', '0', 'C', 'C', '0', '0', '0', '0', '0', '0', '0', '0', '0', '0', '0', '0', '0', '0', '0', '0', '0', '0', '0', '0', '0', '0']\n",
      "\n",
      "\n"
     ]
    },
    {
     "name": "stdout",
     "output_type": "stream",
     "text": [
      "___________________161___________________\n",
      "\n",
      "Predict labels:  ['0', '0', '0', '0', '0', '0', '0', '0', '0', '0', '0', '0', '0', '0', '0', '0', '0', '0', '0', '0', '0', '0', '0', '0', '0', '0', '0', 'M', '0', '0', 'M', '0', 'M', '0', '0', '0', '0', '0', '0', '0', '0', '0', '0', '0', '0', '0', '0', '0', '0', '0', '0', '0', '0', '0', 'Q', 'Q', 'Q', '0', '0', '0', '0', '0', '0', '0', '0']\n",
      "Actual labels:  ['0', '0', '0', '0', '0', '0', '0', '0', '0', '0', '0', '0', '0', '0', '0', '0', '0', '0', '0', '0', '0', '0', '0', '0', '0', '0', '0', '0', 'M', '0', '0', 'M', '0', 'M', '0', '0', '0', '0', '0', '0', '0', '0', '0', '0', '0', '0', '0', '0', '0', '0', '0', '0', '0', '0', '0', 'Q', 'Q', 'Q', '0', '0', '0', '0', '0', '0', '0', '0', '0']\n",
      "\n",
      "\n",
      "94 0.9529411764705882\n"
     ]
    },
    {
     "data": {
      "text/plain": [
       "0.7892861188668224"
      ]
     },
     "execution_count": 32,
     "metadata": {},
     "output_type": "execute_result"
    }
   ],
   "source": [
    "\n",
    "print(acc(False, 94))\n",
    "acc(True, 94)\n"
   ]
  },
  {
   "cell_type": "code",
   "execution_count": 26,
   "metadata": {},
   "outputs": [
    {
     "name": "stdout",
     "output_type": "stream",
     "text": [
      "0.7892861188668224\n"
     ]
    }
   ],
   "source": [
    "print(acc(False, 112))"
   ]
  },
  {
   "cell_type": "code",
   "execution_count": 27,
   "metadata": {
    "colab": {
     "base_uri": "https://localhost:8080/"
    },
    "id": "0B82QAERQMpJ",
    "outputId": "9874451d-4769-408a-d83c-72cbca107e97"
   },
   "outputs": [
    {
     "ename": "EOFError",
     "evalue": "Ran out of input",
     "output_type": "error",
     "traceback": [
      "\u001b[0;31m---------------------------------------------------------------------------\u001b[0m",
      "\u001b[0;31mEOFError\u001b[0m                                  Traceback (most recent call last)",
      "Cell \u001b[0;32mIn[27], line 1\u001b[0m\n\u001b[0;32m----> 1\u001b[0m model \u001b[38;5;241m=\u001b[39m \u001b[43mtorch\u001b[49m\u001b[38;5;241;43m.\u001b[39;49m\u001b[43mload\u001b[49m\u001b[43m(\u001b[49m\u001b[38;5;124;43m\"\u001b[39;49m\u001b[38;5;124;43mtest.ck\u001b[39;49m\u001b[38;5;124;43m\"\u001b[39;49m\u001b[43m)\u001b[49m\n\u001b[1;32m      2\u001b[0m model\u001b[38;5;241m.\u001b[39meval()\n\u001b[1;32m      4\u001b[0m \u001b[38;5;28mprint\u001b[39m(acc(\u001b[38;5;28;01mFalse\u001b[39;00m))\n",
      "File \u001b[0;32m~/anaconda3/envs/torch/lib/python3.8/site-packages/torch/serialization.py:815\u001b[0m, in \u001b[0;36mload\u001b[0;34m(f, map_location, pickle_module, weights_only, **pickle_load_args)\u001b[0m\n\u001b[1;32m    813\u001b[0m     \u001b[38;5;28;01mexcept\u001b[39;00m \u001b[38;5;167;01mRuntimeError\u001b[39;00m \u001b[38;5;28;01mas\u001b[39;00m e:\n\u001b[1;32m    814\u001b[0m         \u001b[38;5;28;01mraise\u001b[39;00m pickle\u001b[38;5;241m.\u001b[39mUnpicklingError(UNSAFE_MESSAGE \u001b[38;5;241m+\u001b[39m \u001b[38;5;28mstr\u001b[39m(e)) \u001b[38;5;28;01mfrom\u001b[39;00m \u001b[38;5;28;01mNone\u001b[39;00m\n\u001b[0;32m--> 815\u001b[0m \u001b[38;5;28;01mreturn\u001b[39;00m \u001b[43m_legacy_load\u001b[49m\u001b[43m(\u001b[49m\u001b[43mopened_file\u001b[49m\u001b[43m,\u001b[49m\u001b[43m \u001b[49m\u001b[43mmap_location\u001b[49m\u001b[43m,\u001b[49m\u001b[43m \u001b[49m\u001b[43mpickle_module\u001b[49m\u001b[43m,\u001b[49m\u001b[43m \u001b[49m\u001b[38;5;241;43m*\u001b[39;49m\u001b[38;5;241;43m*\u001b[39;49m\u001b[43mpickle_load_args\u001b[49m\u001b[43m)\u001b[49m\n",
      "File \u001b[0;32m~/anaconda3/envs/torch/lib/python3.8/site-packages/torch/serialization.py:1033\u001b[0m, in \u001b[0;36m_legacy_load\u001b[0;34m(f, map_location, pickle_module, **pickle_load_args)\u001b[0m\n\u001b[1;32m   1027\u001b[0m \u001b[38;5;28;01mif\u001b[39;00m \u001b[38;5;129;01mnot\u001b[39;00m \u001b[38;5;28mhasattr\u001b[39m(f, \u001b[38;5;124m'\u001b[39m\u001b[38;5;124mreadinto\u001b[39m\u001b[38;5;124m'\u001b[39m) \u001b[38;5;129;01mand\u001b[39;00m (\u001b[38;5;241m3\u001b[39m, \u001b[38;5;241m8\u001b[39m, \u001b[38;5;241m0\u001b[39m) \u001b[38;5;241m<\u001b[39m\u001b[38;5;241m=\u001b[39m sys\u001b[38;5;241m.\u001b[39mversion_info \u001b[38;5;241m<\u001b[39m (\u001b[38;5;241m3\u001b[39m, \u001b[38;5;241m8\u001b[39m, \u001b[38;5;241m2\u001b[39m):\n\u001b[1;32m   1028\u001b[0m     \u001b[38;5;28;01mraise\u001b[39;00m \u001b[38;5;167;01mRuntimeError\u001b[39;00m(\n\u001b[1;32m   1029\u001b[0m         \u001b[38;5;124m\"\u001b[39m\u001b[38;5;124mtorch.load does not work with file-like objects that do not implement readinto on Python 3.8.0 and 3.8.1. \u001b[39m\u001b[38;5;124m\"\u001b[39m\n\u001b[1;32m   1030\u001b[0m         \u001b[38;5;124mf\u001b[39m\u001b[38;5;124m\"\u001b[39m\u001b[38;5;124mReceived object of type \u001b[39m\u001b[38;5;130;01m\\\"\u001b[39;00m\u001b[38;5;132;01m{\u001b[39;00m\u001b[38;5;28mtype\u001b[39m(f)\u001b[38;5;132;01m}\u001b[39;00m\u001b[38;5;130;01m\\\"\u001b[39;00m\u001b[38;5;124m. Please update to Python 3.8.2 or newer to restore this \u001b[39m\u001b[38;5;124m\"\u001b[39m\n\u001b[1;32m   1031\u001b[0m         \u001b[38;5;124m\"\u001b[39m\u001b[38;5;124mfunctionality.\u001b[39m\u001b[38;5;124m\"\u001b[39m)\n\u001b[0;32m-> 1033\u001b[0m magic_number \u001b[38;5;241m=\u001b[39m \u001b[43mpickle_module\u001b[49m\u001b[38;5;241;43m.\u001b[39;49m\u001b[43mload\u001b[49m\u001b[43m(\u001b[49m\u001b[43mf\u001b[49m\u001b[43m,\u001b[49m\u001b[43m \u001b[49m\u001b[38;5;241;43m*\u001b[39;49m\u001b[38;5;241;43m*\u001b[39;49m\u001b[43mpickle_load_args\u001b[49m\u001b[43m)\u001b[49m\n\u001b[1;32m   1034\u001b[0m \u001b[38;5;28;01mif\u001b[39;00m magic_number \u001b[38;5;241m!=\u001b[39m MAGIC_NUMBER:\n\u001b[1;32m   1035\u001b[0m     \u001b[38;5;28;01mraise\u001b[39;00m \u001b[38;5;167;01mRuntimeError\u001b[39;00m(\u001b[38;5;124m\"\u001b[39m\u001b[38;5;124mInvalid magic number; corrupt file?\u001b[39m\u001b[38;5;124m\"\u001b[39m)\n",
      "\u001b[0;31mEOFError\u001b[0m: Ran out of input"
     ]
    }
   ],
   "source": [
    "model = torch.load(\"test.ck\")\n",
    "model.eval()\n",
    "\n",
    "print(acc(False))\n",
    "print(acc(True))"
   ]
  },
  {
   "cell_type": "code",
   "execution_count": null,
   "metadata": {},
   "outputs": [],
   "source": []
  }
 ],
 "metadata": {
  "accelerator": "GPU",
  "colab": {
   "collapsed_sections": [
    "NZDhhU5ZP1oC",
    "ePokOkwMP9rm",
    "RitZN9B6RdGR",
    "oE4OVxV1LLH1",
    "fIlayjaxK1ac",
    "POhQTWIpJwlb",
    "cOYQWNFEJeHC"
   ],
   "name": "NER.ipynb",
   "provenance": []
  },
  "kernelspec": {
   "display_name": "Python 3 (ipykernel)",
   "language": "python",
   "name": "python3"
  },
  "language_info": {
   "codemirror_mode": {
    "name": "ipython",
    "version": 3
   },
   "file_extension": ".py",
   "mimetype": "text/x-python",
   "name": "python",
   "nbconvert_exporter": "python",
   "pygments_lexer": "ipython3",
   "version": "3.8.16"
  },
  "widgets": {
   "application/vnd.jupyter.widget-state+json": {
    "04bec66c474c43b2abf55df9493c1ad3": {
     "model_module": "@jupyter-widgets/controls",
     "model_name": "FloatProgressModel",
     "state": {
      "_dom_classes": [],
      "_model_module": "@jupyter-widgets/controls",
      "_model_module_version": "1.5.0",
      "_model_name": "FloatProgressModel",
      "_view_count": null,
      "_view_module": "@jupyter-widgets/controls",
      "_view_module_version": "1.5.0",
      "_view_name": "ProgressView",
      "bar_style": "success",
      "description": "Downloading: 100%",
      "description_tooltip": null,
      "layout": "IPY_MODEL_0aa2f68932aa46e08d79b503cdb066d5",
      "max": 440,
      "min": 0,
      "orientation": "horizontal",
      "style": "IPY_MODEL_153c7c4195394cd987cd27224c076792",
      "value": 440
     }
    },
    "0aa2f68932aa46e08d79b503cdb066d5": {
     "model_module": "@jupyter-widgets/base",
     "model_name": "LayoutModel",
     "state": {
      "_model_module": "@jupyter-widgets/base",
      "_model_module_version": "1.2.0",
      "_model_name": "LayoutModel",
      "_view_count": null,
      "_view_module": "@jupyter-widgets/base",
      "_view_module_version": "1.2.0",
      "_view_name": "LayoutView",
      "align_content": null,
      "align_items": null,
      "align_self": null,
      "border": null,
      "bottom": null,
      "display": null,
      "flex": null,
      "flex_flow": null,
      "grid_area": null,
      "grid_auto_columns": null,
      "grid_auto_flow": null,
      "grid_auto_rows": null,
      "grid_column": null,
      "grid_gap": null,
      "grid_row": null,
      "grid_template_areas": null,
      "grid_template_columns": null,
      "grid_template_rows": null,
      "height": null,
      "justify_content": null,
      "justify_items": null,
      "left": null,
      "margin": null,
      "max_height": null,
      "max_width": null,
      "min_height": null,
      "min_width": null,
      "object_fit": null,
      "object_position": null,
      "order": null,
      "overflow": null,
      "overflow_x": null,
      "overflow_y": null,
      "padding": null,
      "right": null,
      "top": null,
      "visibility": null,
      "width": null
     }
    },
    "0e77fed9e8004154922761880363a58f": {
     "model_module": "@jupyter-widgets/controls",
     "model_name": "ProgressStyleModel",
     "state": {
      "_model_module": "@jupyter-widgets/controls",
      "_model_module_version": "1.5.0",
      "_model_name": "ProgressStyleModel",
      "_view_count": null,
      "_view_module": "@jupyter-widgets/base",
      "_view_module_version": "1.2.0",
      "_view_name": "StyleView",
      "bar_color": null,
      "description_width": "initial"
     }
    },
    "153c7c4195394cd987cd27224c076792": {
     "model_module": "@jupyter-widgets/controls",
     "model_name": "ProgressStyleModel",
     "state": {
      "_model_module": "@jupyter-widgets/controls",
      "_model_module_version": "1.5.0",
      "_model_name": "ProgressStyleModel",
      "_view_count": null,
      "_view_module": "@jupyter-widgets/base",
      "_view_module_version": "1.2.0",
      "_view_name": "StyleView",
      "bar_color": null,
      "description_width": "initial"
     }
    },
    "185d34a6bb6b4439814040da0f2853dc": {
     "model_module": "@jupyter-widgets/controls",
     "model_name": "HBoxModel",
     "state": {
      "_dom_classes": [],
      "_model_module": "@jupyter-widgets/controls",
      "_model_module_version": "1.5.0",
      "_model_name": "HBoxModel",
      "_view_count": null,
      "_view_module": "@jupyter-widgets/controls",
      "_view_module_version": "1.5.0",
      "_view_name": "HBoxView",
      "box_style": "",
      "children": [
       "IPY_MODEL_04bec66c474c43b2abf55df9493c1ad3",
       "IPY_MODEL_28c5ada5e413494d875958479bce1bf8"
      ],
      "layout": "IPY_MODEL_c1cd492626094c28a241545b0fd13a58"
     }
    },
    "2042a2bd748246de8e33be4c188715ca": {
     "model_module": "@jupyter-widgets/controls",
     "model_name": "FloatProgressModel",
     "state": {
      "_dom_classes": [],
      "_model_module": "@jupyter-widgets/controls",
      "_model_module_version": "1.5.0",
      "_model_name": "FloatProgressModel",
      "_view_count": null,
      "_view_module": "@jupyter-widgets/controls",
      "_view_module_version": "1.5.0",
      "_view_name": "ProgressView",
      "bar_style": "success",
      "description": "Downloading: 100%",
      "description_tooltip": null,
      "layout": "IPY_MODEL_d1144a9b389f47df90b5c127031bfd3a",
      "max": 1198122,
      "min": 0,
      "orientation": "horizontal",
      "style": "IPY_MODEL_b14647f6aae14ecc8a519df754f03037",
      "value": 1198122
     }
    },
    "28c5ada5e413494d875958479bce1bf8": {
     "model_module": "@jupyter-widgets/controls",
     "model_name": "HTMLModel",
     "state": {
      "_dom_classes": [],
      "_model_module": "@jupyter-widgets/controls",
      "_model_module_version": "1.5.0",
      "_model_name": "HTMLModel",
      "_view_count": null,
      "_view_module": "@jupyter-widgets/controls",
      "_view_module_version": "1.5.0",
      "_view_name": "HTMLView",
      "description": "",
      "description_tooltip": null,
      "layout": "IPY_MODEL_a21058481d204b6a98739c21527b9b53",
      "placeholder": "​",
      "style": "IPY_MODEL_e8ccc221de014f9589d4c01db1576bee",
      "value": " 440/440 [00:00&lt;00:00, 734B/s]"
     }
    },
    "339741a64cde4ae781225b14a9c2cb76": {
     "model_module": "@jupyter-widgets/base",
     "model_name": "LayoutModel",
     "state": {
      "_model_module": "@jupyter-widgets/base",
      "_model_module_version": "1.2.0",
      "_model_name": "LayoutModel",
      "_view_count": null,
      "_view_module": "@jupyter-widgets/base",
      "_view_module_version": "1.2.0",
      "_view_name": "LayoutView",
      "align_content": null,
      "align_items": null,
      "align_self": null,
      "border": null,
      "bottom": null,
      "display": null,
      "flex": null,
      "flex_flow": null,
      "grid_area": null,
      "grid_auto_columns": null,
      "grid_auto_flow": null,
      "grid_auto_rows": null,
      "grid_column": null,
      "grid_gap": null,
      "grid_row": null,
      "grid_template_areas": null,
      "grid_template_columns": null,
      "grid_template_rows": null,
      "height": null,
      "justify_content": null,
      "justify_items": null,
      "left": null,
      "margin": null,
      "max_height": null,
      "max_width": null,
      "min_height": null,
      "min_width": null,
      "object_fit": null,
      "object_position": null,
      "order": null,
      "overflow": null,
      "overflow_x": null,
      "overflow_y": null,
      "padding": null,
      "right": null,
      "top": null,
      "visibility": null,
      "width": null
     }
    },
    "3a57498cc92f475289ed438778ad901a": {
     "model_module": "@jupyter-widgets/controls",
     "model_name": "HBoxModel",
     "state": {
      "_dom_classes": [],
      "_model_module": "@jupyter-widgets/controls",
      "_model_module_version": "1.5.0",
      "_model_name": "HBoxModel",
      "_view_count": null,
      "_view_module": "@jupyter-widgets/controls",
      "_view_module_version": "1.5.0",
      "_view_name": "HBoxView",
      "box_style": "",
      "children": [
       "IPY_MODEL_53b2be4adc4e42879082de9dc5e7e288",
       "IPY_MODEL_93df6238747f46a687b94eaa17a756f2"
      ],
      "layout": "IPY_MODEL_339741a64cde4ae781225b14a9c2cb76"
     }
    },
    "53b2be4adc4e42879082de9dc5e7e288": {
     "model_module": "@jupyter-widgets/controls",
     "model_name": "FloatProgressModel",
     "state": {
      "_dom_classes": [],
      "_model_module": "@jupyter-widgets/controls",
      "_model_module_version": "1.5.0",
      "_model_name": "FloatProgressModel",
      "_view_count": null,
      "_view_module": "@jupyter-widgets/controls",
      "_view_module_version": "1.5.0",
      "_view_name": "ProgressView",
      "bar_style": "success",
      "description": "Downloading: 100%",
      "description_tooltip": null,
      "layout": "IPY_MODEL_e51c5802ddc848b68a80aa74f8ac7c81",
      "max": 654226731,
      "min": 0,
      "orientation": "horizontal",
      "style": "IPY_MODEL_0e77fed9e8004154922761880363a58f",
      "value": 654226731
     }
    },
    "5cd5dba2aea04e8ab8f4d6571e1d8ad7": {
     "model_module": "@jupyter-widgets/controls",
     "model_name": "DescriptionStyleModel",
     "state": {
      "_model_module": "@jupyter-widgets/controls",
      "_model_module_version": "1.5.0",
      "_model_name": "DescriptionStyleModel",
      "_view_count": null,
      "_view_module": "@jupyter-widgets/base",
      "_view_module_version": "1.2.0",
      "_view_name": "StyleView",
      "description_width": ""
     }
    },
    "79e1052f1ce14de09b93b29f36fcdf26": {
     "model_module": "@jupyter-widgets/controls",
     "model_name": "HTMLModel",
     "state": {
      "_dom_classes": [],
      "_model_module": "@jupyter-widgets/controls",
      "_model_module_version": "1.5.0",
      "_model_name": "HTMLModel",
      "_view_count": null,
      "_view_module": "@jupyter-widgets/controls",
      "_view_module_version": "1.5.0",
      "_view_name": "HTMLView",
      "description": "",
      "description_tooltip": null,
      "layout": "IPY_MODEL_f8753b1167d24669982f270213629a70",
      "placeholder": "​",
      "style": "IPY_MODEL_5cd5dba2aea04e8ab8f4d6571e1d8ad7",
      "value": " 1.20M/1.20M [00:03&lt;00:00, 353kB/s]"
     }
    },
    "8c7006c2c348458d881cd0f82191e03c": {
     "model_module": "@jupyter-widgets/base",
     "model_name": "LayoutModel",
     "state": {
      "_model_module": "@jupyter-widgets/base",
      "_model_module_version": "1.2.0",
      "_model_name": "LayoutModel",
      "_view_count": null,
      "_view_module": "@jupyter-widgets/base",
      "_view_module_version": "1.2.0",
      "_view_name": "LayoutView",
      "align_content": null,
      "align_items": null,
      "align_self": null,
      "border": null,
      "bottom": null,
      "display": null,
      "flex": null,
      "flex_flow": null,
      "grid_area": null,
      "grid_auto_columns": null,
      "grid_auto_flow": null,
      "grid_auto_rows": null,
      "grid_column": null,
      "grid_gap": null,
      "grid_row": null,
      "grid_template_areas": null,
      "grid_template_columns": null,
      "grid_template_rows": null,
      "height": null,
      "justify_content": null,
      "justify_items": null,
      "left": null,
      "margin": null,
      "max_height": null,
      "max_width": null,
      "min_height": null,
      "min_width": null,
      "object_fit": null,
      "object_position": null,
      "order": null,
      "overflow": null,
      "overflow_x": null,
      "overflow_y": null,
      "padding": null,
      "right": null,
      "top": null,
      "visibility": null,
      "width": null
     }
    },
    "90bfea074fb74029988d843be156887d": {
     "model_module": "@jupyter-widgets/controls",
     "model_name": "HBoxModel",
     "state": {
      "_dom_classes": [],
      "_model_module": "@jupyter-widgets/controls",
      "_model_module_version": "1.5.0",
      "_model_name": "HBoxModel",
      "_view_count": null,
      "_view_module": "@jupyter-widgets/controls",
      "_view_module_version": "1.5.0",
      "_view_name": "HBoxView",
      "box_style": "",
      "children": [
       "IPY_MODEL_2042a2bd748246de8e33be4c188715ca",
       "IPY_MODEL_79e1052f1ce14de09b93b29f36fcdf26"
      ],
      "layout": "IPY_MODEL_a73c84059bc649f8b21c25f32662de32"
     }
    },
    "93df6238747f46a687b94eaa17a756f2": {
     "model_module": "@jupyter-widgets/controls",
     "model_name": "HTMLModel",
     "state": {
      "_dom_classes": [],
      "_model_module": "@jupyter-widgets/controls",
      "_model_module_version": "1.5.0",
      "_model_name": "HTMLModel",
      "_view_count": null,
      "_view_module": "@jupyter-widgets/controls",
      "_view_module_version": "1.5.0",
      "_view_name": "HTMLView",
      "description": "",
      "description_tooltip": null,
      "layout": "IPY_MODEL_8c7006c2c348458d881cd0f82191e03c",
      "placeholder": "​",
      "style": "IPY_MODEL_cf5ab30e45634ad8834f8ba8130e11ad",
      "value": " 654M/654M [00:19&lt;00:00, 34.4MB/s]"
     }
    },
    "a21058481d204b6a98739c21527b9b53": {
     "model_module": "@jupyter-widgets/base",
     "model_name": "LayoutModel",
     "state": {
      "_model_module": "@jupyter-widgets/base",
      "_model_module_version": "1.2.0",
      "_model_name": "LayoutModel",
      "_view_count": null,
      "_view_module": "@jupyter-widgets/base",
      "_view_module_version": "1.2.0",
      "_view_name": "LayoutView",
      "align_content": null,
      "align_items": null,
      "align_self": null,
      "border": null,
      "bottom": null,
      "display": null,
      "flex": null,
      "flex_flow": null,
      "grid_area": null,
      "grid_auto_columns": null,
      "grid_auto_flow": null,
      "grid_auto_rows": null,
      "grid_column": null,
      "grid_gap": null,
      "grid_row": null,
      "grid_template_areas": null,
      "grid_template_columns": null,
      "grid_template_rows": null,
      "height": null,
      "justify_content": null,
      "justify_items": null,
      "left": null,
      "margin": null,
      "max_height": null,
      "max_width": null,
      "min_height": null,
      "min_width": null,
      "object_fit": null,
      "object_position": null,
      "order": null,
      "overflow": null,
      "overflow_x": null,
      "overflow_y": null,
      "padding": null,
      "right": null,
      "top": null,
      "visibility": null,
      "width": null
     }
    },
    "a73c84059bc649f8b21c25f32662de32": {
     "model_module": "@jupyter-widgets/base",
     "model_name": "LayoutModel",
     "state": {
      "_model_module": "@jupyter-widgets/base",
      "_model_module_version": "1.2.0",
      "_model_name": "LayoutModel",
      "_view_count": null,
      "_view_module": "@jupyter-widgets/base",
      "_view_module_version": "1.2.0",
      "_view_name": "LayoutView",
      "align_content": null,
      "align_items": null,
      "align_self": null,
      "border": null,
      "bottom": null,
      "display": null,
      "flex": null,
      "flex_flow": null,
      "grid_area": null,
      "grid_auto_columns": null,
      "grid_auto_flow": null,
      "grid_auto_rows": null,
      "grid_column": null,
      "grid_gap": null,
      "grid_row": null,
      "grid_template_areas": null,
      "grid_template_columns": null,
      "grid_template_rows": null,
      "height": null,
      "justify_content": null,
      "justify_items": null,
      "left": null,
      "margin": null,
      "max_height": null,
      "max_width": null,
      "min_height": null,
      "min_width": null,
      "object_fit": null,
      "object_position": null,
      "order": null,
      "overflow": null,
      "overflow_x": null,
      "overflow_y": null,
      "padding": null,
      "right": null,
      "top": null,
      "visibility": null,
      "width": null
     }
    },
    "b14647f6aae14ecc8a519df754f03037": {
     "model_module": "@jupyter-widgets/controls",
     "model_name": "ProgressStyleModel",
     "state": {
      "_model_module": "@jupyter-widgets/controls",
      "_model_module_version": "1.5.0",
      "_model_name": "ProgressStyleModel",
      "_view_count": null,
      "_view_module": "@jupyter-widgets/base",
      "_view_module_version": "1.2.0",
      "_view_name": "StyleView",
      "bar_color": null,
      "description_width": "initial"
     }
    },
    "c1cd492626094c28a241545b0fd13a58": {
     "model_module": "@jupyter-widgets/base",
     "model_name": "LayoutModel",
     "state": {
      "_model_module": "@jupyter-widgets/base",
      "_model_module_version": "1.2.0",
      "_model_name": "LayoutModel",
      "_view_count": null,
      "_view_module": "@jupyter-widgets/base",
      "_view_module_version": "1.2.0",
      "_view_name": "LayoutView",
      "align_content": null,
      "align_items": null,
      "align_self": null,
      "border": null,
      "bottom": null,
      "display": null,
      "flex": null,
      "flex_flow": null,
      "grid_area": null,
      "grid_auto_columns": null,
      "grid_auto_flow": null,
      "grid_auto_rows": null,
      "grid_column": null,
      "grid_gap": null,
      "grid_row": null,
      "grid_template_areas": null,
      "grid_template_columns": null,
      "grid_template_rows": null,
      "height": null,
      "justify_content": null,
      "justify_items": null,
      "left": null,
      "margin": null,
      "max_height": null,
      "max_width": null,
      "min_height": null,
      "min_width": null,
      "object_fit": null,
      "object_position": null,
      "order": null,
      "overflow": null,
      "overflow_x": null,
      "overflow_y": null,
      "padding": null,
      "right": null,
      "top": null,
      "visibility": null,
      "width": null
     }
    },
    "cf5ab30e45634ad8834f8ba8130e11ad": {
     "model_module": "@jupyter-widgets/controls",
     "model_name": "DescriptionStyleModel",
     "state": {
      "_model_module": "@jupyter-widgets/controls",
      "_model_module_version": "1.5.0",
      "_model_name": "DescriptionStyleModel",
      "_view_count": null,
      "_view_module": "@jupyter-widgets/base",
      "_view_module_version": "1.2.0",
      "_view_name": "StyleView",
      "description_width": ""
     }
    },
    "d1144a9b389f47df90b5c127031bfd3a": {
     "model_module": "@jupyter-widgets/base",
     "model_name": "LayoutModel",
     "state": {
      "_model_module": "@jupyter-widgets/base",
      "_model_module_version": "1.2.0",
      "_model_name": "LayoutModel",
      "_view_count": null,
      "_view_module": "@jupyter-widgets/base",
      "_view_module_version": "1.2.0",
      "_view_name": "LayoutView",
      "align_content": null,
      "align_items": null,
      "align_self": null,
      "border": null,
      "bottom": null,
      "display": null,
      "flex": null,
      "flex_flow": null,
      "grid_area": null,
      "grid_auto_columns": null,
      "grid_auto_flow": null,
      "grid_auto_rows": null,
      "grid_column": null,
      "grid_gap": null,
      "grid_row": null,
      "grid_template_areas": null,
      "grid_template_columns": null,
      "grid_template_rows": null,
      "height": null,
      "justify_content": null,
      "justify_items": null,
      "left": null,
      "margin": null,
      "max_height": null,
      "max_width": null,
      "min_height": null,
      "min_width": null,
      "object_fit": null,
      "object_position": null,
      "order": null,
      "overflow": null,
      "overflow_x": null,
      "overflow_y": null,
      "padding": null,
      "right": null,
      "top": null,
      "visibility": null,
      "width": null
     }
    },
    "e51c5802ddc848b68a80aa74f8ac7c81": {
     "model_module": "@jupyter-widgets/base",
     "model_name": "LayoutModel",
     "state": {
      "_model_module": "@jupyter-widgets/base",
      "_model_module_version": "1.2.0",
      "_model_name": "LayoutModel",
      "_view_count": null,
      "_view_module": "@jupyter-widgets/base",
      "_view_module_version": "1.2.0",
      "_view_name": "LayoutView",
      "align_content": null,
      "align_items": null,
      "align_self": null,
      "border": null,
      "bottom": null,
      "display": null,
      "flex": null,
      "flex_flow": null,
      "grid_area": null,
      "grid_auto_columns": null,
      "grid_auto_flow": null,
      "grid_auto_rows": null,
      "grid_column": null,
      "grid_gap": null,
      "grid_row": null,
      "grid_template_areas": null,
      "grid_template_columns": null,
      "grid_template_rows": null,
      "height": null,
      "justify_content": null,
      "justify_items": null,
      "left": null,
      "margin": null,
      "max_height": null,
      "max_width": null,
      "min_height": null,
      "min_width": null,
      "object_fit": null,
      "object_position": null,
      "order": null,
      "overflow": null,
      "overflow_x": null,
      "overflow_y": null,
      "padding": null,
      "right": null,
      "top": null,
      "visibility": null,
      "width": null
     }
    },
    "e8ccc221de014f9589d4c01db1576bee": {
     "model_module": "@jupyter-widgets/controls",
     "model_name": "DescriptionStyleModel",
     "state": {
      "_model_module": "@jupyter-widgets/controls",
      "_model_module_version": "1.5.0",
      "_model_name": "DescriptionStyleModel",
      "_view_count": null,
      "_view_module": "@jupyter-widgets/base",
      "_view_module_version": "1.2.0",
      "_view_name": "StyleView",
      "description_width": ""
     }
    },
    "f8753b1167d24669982f270213629a70": {
     "model_module": "@jupyter-widgets/base",
     "model_name": "LayoutModel",
     "state": {
      "_model_module": "@jupyter-widgets/base",
      "_model_module_version": "1.2.0",
      "_model_name": "LayoutModel",
      "_view_count": null,
      "_view_module": "@jupyter-widgets/base",
      "_view_module_version": "1.2.0",
      "_view_name": "LayoutView",
      "align_content": null,
      "align_items": null,
      "align_self": null,
      "border": null,
      "bottom": null,
      "display": null,
      "flex": null,
      "flex_flow": null,
      "grid_area": null,
      "grid_auto_columns": null,
      "grid_auto_flow": null,
      "grid_auto_rows": null,
      "grid_column": null,
      "grid_gap": null,
      "grid_row": null,
      "grid_template_areas": null,
      "grid_template_columns": null,
      "grid_template_rows": null,
      "height": null,
      "justify_content": null,
      "justify_items": null,
      "left": null,
      "margin": null,
      "max_height": null,
      "max_width": null,
      "min_height": null,
      "min_width": null,
      "object_fit": null,
      "object_position": null,
      "order": null,
      "overflow": null,
      "overflow_x": null,
      "overflow_y": null,
      "padding": null,
      "right": null,
      "top": null,
      "visibility": null,
      "width": null
     }
    }
   }
  }
 },
 "nbformat": 4,
 "nbformat_minor": 1
}
